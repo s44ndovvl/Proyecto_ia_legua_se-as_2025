{
    "cells": [
        {
            "cell_type": "code",
            "execution_count": 1,
            "id": "9ab2bd25",
            "metadata": {},
            "outputs": [],
            "source": [
                "from ultralytics import YOLO\n",
                "import torch"
            ]
        },
        {
            "cell_type": "code",
            "execution_count": 2,
            "id": "ef77f615",
            "metadata": {},
            "outputs": [
                {
                    "data": {
                        "text/plain": [
                            "True"
                        ]
                    },
                    "execution_count": 2,
                    "metadata": {},
                    "output_type": "execute_result"
                }
            ],
            "source": [
                "torch.cuda.is_available()"
            ]
        },
        {
            "cell_type": "code",
            "execution_count": 3,
            "id": "068f3a19",
            "metadata": {},
            "outputs": [
                {
                    "name": "stdout",
                    "output_type": "stream",
                    "text": [
                        "Ultralytics 8.3.181  Python-3.13.2 torch-2.8.0+cu126 CUDA:0 (NVIDIA GeForce RTX 4060, 8188MiB)\n",
                        "\u001b[34m\u001b[1mengine\\trainer: \u001b[0magnostic_nms=False, amp=True, augment=False, auto_augment=randaugment, batch=16, bgr=0.0, box=7.5, cache=False, cfg=None, classes=None, close_mosaic=10, cls=0.5, conf=None, copy_paste=0.0, copy_paste_mode=flip, cos_lr=False, cutmix=0.0, data=dataset/data.yaml, degrees=0.0, deterministic=True, device=0, dfl=1.5, dnn=False, dropout=0.0, dynamic=False, embed=None, epochs=50, erasing=0.4, exist_ok=False, fliplr=0.5, flipud=0.0, format=torchscript, fraction=1.0, freeze=None, half=False, hsv_h=0.015, hsv_s=0.7, hsv_v=0.4, imgsz=416, int8=False, iou=0.7, keras=False, kobj=1.0, line_width=None, lr0=0.01, lrf=0.01, mask_ratio=4, max_det=300, mixup=0.0, mode=train, model=yolov8n.pt, momentum=0.937, mosaic=1.0, multi_scale=False, name=train2, nbs=64, nms=False, opset=None, optimize=False, optimizer=auto, overlap_mask=True, patience=100, perspective=0.0, plots=True, pose=12.0, pretrained=True, profile=False, project=None, rect=False, resume=False, retina_masks=False, save=True, save_conf=False, save_crop=False, save_dir=c:\\Users\\berna\\Documents\\Proyecto_ia_legua_se-as_2025\\runs\\detect\\train2, save_frames=False, save_json=False, save_period=-1, save_txt=False, scale=0.5, seed=0, shear=0.0, show=False, show_boxes=True, show_conf=True, show_labels=True, simplify=True, single_cls=False, source=None, split=val, stream_buffer=False, task=detect, time=None, tracker=botsort.yaml, translate=0.1, val=True, verbose=True, vid_stride=1, visualize=False, warmup_bias_lr=0.1, warmup_epochs=3.0, warmup_momentum=0.8, weight_decay=0.0005, workers=8, workspace=None\n",
                        "Overriding model.yaml nc=80 with nc=26\n",
                        "\n",
                        "                   from  n    params  module                                       arguments                     \n",
                        "  0                  -1  1       464  ultralytics.nn.modules.conv.Conv             [3, 16, 3, 2]                 \n",
                        "  1                  -1  1      4672  ultralytics.nn.modules.conv.Conv             [16, 32, 3, 2]                \n",
                        "  2                  -1  1      7360  ultralytics.nn.modules.block.C2f             [32, 32, 1, True]             \n",
                        "  3                  -1  1     18560  ultralytics.nn.modules.conv.Conv             [32, 64, 3, 2]                \n",
                        "  4                  -1  2     49664  ultralytics.nn.modules.block.C2f             [64, 64, 2, True]             \n",
                        "  5                  -1  1     73984  ultralytics.nn.modules.conv.Conv             [64, 128, 3, 2]               \n",
                        "  6                  -1  2    197632  ultralytics.nn.modules.block.C2f             [128, 128, 2, True]           \n",
                        "  7                  -1  1    295424  ultralytics.nn.modules.conv.Conv             [128, 256, 3, 2]              \n",
                        "  8                  -1  1    460288  ultralytics.nn.modules.block.C2f             [256, 256, 1, True]           \n",
                        "  9                  -1  1    164608  ultralytics.nn.modules.block.SPPF            [256, 256, 5]                 \n",
                        " 10                  -1  1         0  torch.nn.modules.upsampling.Upsample         [None, 2, 'nearest']          \n",
                        " 11             [-1, 6]  1         0  ultralytics.nn.modules.conv.Concat           [1]                           \n",
                        " 12                  -1  1    148224  ultralytics.nn.modules.block.C2f             [384, 128, 1]                 \n",
                        " 13                  -1  1         0  torch.nn.modules.upsampling.Upsample         [None, 2, 'nearest']          \n",
                        " 14             [-1, 4]  1         0  ultralytics.nn.modules.conv.Concat           [1]                           \n",
                        " 15                  -1  1     37248  ultralytics.nn.modules.block.C2f             [192, 64, 1]                  \n",
                        " 16                  -1  1     36992  ultralytics.nn.modules.conv.Conv             [64, 64, 3, 2]                \n",
                        " 17            [-1, 12]  1         0  ultralytics.nn.modules.conv.Concat           [1]                           \n",
                        " 18                  -1  1    123648  ultralytics.nn.modules.block.C2f             [192, 128, 1]                 \n",
                        " 19                  -1  1    147712  ultralytics.nn.modules.conv.Conv             [128, 128, 3, 2]              \n",
                        " 20             [-1, 9]  1         0  ultralytics.nn.modules.conv.Concat           [1]                           \n",
                        " 21                  -1  1    493056  ultralytics.nn.modules.block.C2f             [384, 256, 1]                 \n",
                        " 22        [15, 18, 21]  1    756382  ultralytics.nn.modules.head.Detect           [26, [64, 128, 256]]          \n",
                        "Model summary: 129 layers, 3,015,918 parameters, 3,015,902 gradients, 8.2 GFLOPs\n",
                        "\n",
                        "Transferred 319/355 items from pretrained weights\n",
                        "Freezing layer 'model.22.dfl.conv.weight'\n",
                        "\u001b[34m\u001b[1mAMP: \u001b[0mrunning Automatic Mixed Precision (AMP) checks...\n"
                    ]
                },
                {
                    "name": "stderr",
                    "output_type": "stream",
                    "text": [
                        "Downloading https://github.com/ultralytics/assets/releases/download/v8.3.0/yolo11n.pt to 'yolo11n.pt': 100%|██████████| 5.35M/5.35M [00:00<00:00, 93.3MB/s]\n"
                    ]
                },
                {
                    "name": "stdout",
                    "output_type": "stream",
                    "text": [
                        "\u001b[34m\u001b[1mAMP: \u001b[0mchecks passed \n",
                        "\u001b[34m\u001b[1mtrain: \u001b[0mFast image access  (ping: 0.10.0 ms, read: 205.163.4 MB/s, size: 25.6 KB)\n"
                    ]
                },
                {
                    "name": "stderr",
                    "output_type": "stream",
                    "text": [
                        "\u001b[34m\u001b[1mtrain: \u001b[0mScanning C:\\Users\\berna\\Documents\\Proyecto_ia_legua_se-as_2025\\dataset\\train\\labels.cache... 769 images, 1 backgrounds, 0 corrupt: 100%|██████████| 769/769 [00:00<?, ?it/s]\n"
                    ]
                },
                {
                    "name": "stdout",
                    "output_type": "stream",
                    "text": [
                        "\u001b[34m\u001b[1mval: \u001b[0mFast image access  (ping: 0.10.0 ms, read: 137.622.7 MB/s, size: 22.5 KB)\n"
                    ]
                },
                {
                    "name": "stderr",
                    "output_type": "stream",
                    "text": [
                        "\u001b[34m\u001b[1mval: \u001b[0mScanning C:\\Users\\berna\\Documents\\Proyecto_ia_legua_se-as_2025\\dataset\\valid\\labels.cache... 222 images, 0 backgrounds, 0 corrupt: 100%|██████████| 222/222 [00:00<?, ?it/s]\n"
                    ]
                },
                {
                    "name": "stdout",
                    "output_type": "stream",
                    "text": [
                        "Plotting labels to c:\\Users\\berna\\Documents\\Proyecto_ia_legua_se-as_2025\\runs\\detect\\train2\\labels.jpg... \n",
                        "\u001b[34m\u001b[1moptimizer:\u001b[0m 'optimizer=auto' found, ignoring 'lr0=0.01' and 'momentum=0.937' and determining best 'optimizer', 'lr0' and 'momentum' automatically... \n",
                        "\u001b[34m\u001b[1moptimizer:\u001b[0m AdamW(lr=0.000333, momentum=0.9) with parameter groups 57 weight(decay=0.0), 64 weight(decay=0.0005), 63 bias(decay=0.0)\n",
                        "Image sizes 416 train, 416 val\n",
                        "Using 8 dataloader workers\n",
                        "Logging results to \u001b[1mc:\\Users\\berna\\Documents\\Proyecto_ia_legua_se-as_2025\\runs\\detect\\train2\u001b[0m\n",
                        "Starting training for 50 epochs...\n",
                        "\n",
                        "      Epoch    GPU_mem   box_loss   cls_loss   dfl_loss  Instances       Size\n"
                    ]
                },
                {
                    "name": "stderr",
                    "output_type": "stream",
                    "text": [
                        "       1/50     0.934G      1.309      4.497      1.474          1        416: 100%|██████████| 49/49 [00:09<00:00,  5.17it/s]\n",
                        "                 Class     Images  Instances      Box(P          R      mAP50  mAP50-95): 100%|██████████| 7/7 [00:00<00:00,  7.91it/s]"
                    ]
                },
                {
                    "name": "stdout",
                    "output_type": "stream",
                    "text": [
                        "                   all        222        222     0.0515     0.0573     0.0488     0.0412\n"
                    ]
                },
                {
                    "name": "stderr",
                    "output_type": "stream",
                    "text": [
                        "\n"
                    ]
                },
                {
                    "name": "stdout",
                    "output_type": "stream",
                    "text": [
                        "\n",
                        "      Epoch    GPU_mem   box_loss   cls_loss   dfl_loss  Instances       Size\n"
                    ]
                },
                {
                    "name": "stderr",
                    "output_type": "stream",
                    "text": [
                        "       2/50      1.07G      1.112      3.718      1.274          1        416: 100%|██████████| 49/49 [00:05<00:00,  9.28it/s]\n",
                        "                 Class     Images  Instances      Box(P          R      mAP50  mAP50-95): 100%|██████████| 7/7 [00:01<00:00,  6.27it/s]"
                    ]
                },
                {
                    "name": "stdout",
                    "output_type": "stream",
                    "text": [
                        "                   all        222        222     0.0327      0.885      0.153       0.11\n"
                    ]
                },
                {
                    "name": "stderr",
                    "output_type": "stream",
                    "text": [
                        "\n"
                    ]
                },
                {
                    "name": "stdout",
                    "output_type": "stream",
                    "text": [
                        "\n",
                        "      Epoch    GPU_mem   box_loss   cls_loss   dfl_loss  Instances       Size\n"
                    ]
                },
                {
                    "name": "stderr",
                    "output_type": "stream",
                    "text": [
                        "       3/50      1.09G      1.133      3.115      1.277          1        416: 100%|██████████| 49/49 [00:05<00:00,  9.36it/s]\n",
                        "                 Class     Images  Instances      Box(P          R      mAP50  mAP50-95): 100%|██████████| 7/7 [00:01<00:00,  6.48it/s]"
                    ]
                },
                {
                    "name": "stdout",
                    "output_type": "stream",
                    "text": [
                        "                   all        222        222      0.492      0.494      0.361      0.274\n"
                    ]
                },
                {
                    "name": "stderr",
                    "output_type": "stream",
                    "text": [
                        "\n"
                    ]
                },
                {
                    "name": "stdout",
                    "output_type": "stream",
                    "text": [
                        "\n",
                        "      Epoch    GPU_mem   box_loss   cls_loss   dfl_loss  Instances       Size\n"
                    ]
                },
                {
                    "name": "stderr",
                    "output_type": "stream",
                    "text": [
                        "       4/50       1.1G      1.125      2.727      1.274          4        416: 100%|██████████| 49/49 [00:04<00:00, 10.29it/s]\n",
                        "                 Class     Images  Instances      Box(P          R      mAP50  mAP50-95): 100%|██████████| 7/7 [00:01<00:00,  6.04it/s]"
                    ]
                },
                {
                    "name": "stdout",
                    "output_type": "stream",
                    "text": [
                        "                   all        222        222      0.731      0.447       0.55      0.411\n"
                    ]
                },
                {
                    "name": "stderr",
                    "output_type": "stream",
                    "text": [
                        "\n"
                    ]
                },
                {
                    "name": "stdout",
                    "output_type": "stream",
                    "text": [
                        "\n",
                        "      Epoch    GPU_mem   box_loss   cls_loss   dfl_loss  Instances       Size\n"
                    ]
                },
                {
                    "name": "stderr",
                    "output_type": "stream",
                    "text": [
                        "       5/50       1.1G      1.102      2.431      1.277          2        416: 100%|██████████| 49/49 [00:05<00:00,  9.49it/s]\n",
                        "                 Class     Images  Instances      Box(P          R      mAP50  mAP50-95): 100%|██████████| 7/7 [00:01<00:00,  6.31it/s]"
                    ]
                },
                {
                    "name": "stdout",
                    "output_type": "stream",
                    "text": [
                        "                   all        222        222       0.63      0.553      0.662      0.504\n"
                    ]
                },
                {
                    "name": "stderr",
                    "output_type": "stream",
                    "text": [
                        "\n"
                    ]
                },
                {
                    "name": "stdout",
                    "output_type": "stream",
                    "text": [
                        "\n",
                        "      Epoch    GPU_mem   box_loss   cls_loss   dfl_loss  Instances       Size\n"
                    ]
                },
                {
                    "name": "stderr",
                    "output_type": "stream",
                    "text": [
                        "       6/50       1.1G      1.065      2.263      1.235          4        416: 100%|██████████| 49/49 [00:04<00:00, 10.27it/s]\n",
                        "                 Class     Images  Instances      Box(P          R      mAP50  mAP50-95): 100%|██████████| 7/7 [00:01<00:00,  6.50it/s]"
                    ]
                },
                {
                    "name": "stdout",
                    "output_type": "stream",
                    "text": [
                        "                   all        222        222      0.627      0.684      0.731      0.559\n"
                    ]
                },
                {
                    "name": "stderr",
                    "output_type": "stream",
                    "text": [
                        "\n"
                    ]
                },
                {
                    "name": "stdout",
                    "output_type": "stream",
                    "text": [
                        "\n",
                        "      Epoch    GPU_mem   box_loss   cls_loss   dfl_loss  Instances       Size\n"
                    ]
                },
                {
                    "name": "stderr",
                    "output_type": "stream",
                    "text": [
                        "       7/50       1.1G      1.011      2.055      1.207          2        416: 100%|██████████| 49/49 [00:04<00:00, 10.56it/s]\n",
                        "                 Class     Images  Instances      Box(P          R      mAP50  mAP50-95): 100%|██████████| 7/7 [00:01<00:00,  6.32it/s]"
                    ]
                },
                {
                    "name": "stdout",
                    "output_type": "stream",
                    "text": [
                        "                   all        222        222      0.632      0.738      0.762      0.597\n"
                    ]
                },
                {
                    "name": "stderr",
                    "output_type": "stream",
                    "text": [
                        "\n"
                    ]
                },
                {
                    "name": "stdout",
                    "output_type": "stream",
                    "text": [
                        "\n",
                        "      Epoch    GPU_mem   box_loss   cls_loss   dfl_loss  Instances       Size\n"
                    ]
                },
                {
                    "name": "stderr",
                    "output_type": "stream",
                    "text": [
                        "       8/50       1.1G      1.005      1.978      1.215          4        416: 100%|██████████| 49/49 [00:04<00:00, 10.47it/s]\n",
                        "                 Class     Images  Instances      Box(P          R      mAP50  mAP50-95): 100%|██████████| 7/7 [00:01<00:00,  6.77it/s]"
                    ]
                },
                {
                    "name": "stdout",
                    "output_type": "stream",
                    "text": [
                        "                   all        222        222      0.749      0.769      0.829      0.655\n"
                    ]
                },
                {
                    "name": "stderr",
                    "output_type": "stream",
                    "text": [
                        "\n"
                    ]
                },
                {
                    "name": "stdout",
                    "output_type": "stream",
                    "text": [
                        "\n",
                        "      Epoch    GPU_mem   box_loss   cls_loss   dfl_loss  Instances       Size\n"
                    ]
                },
                {
                    "name": "stderr",
                    "output_type": "stream",
                    "text": [
                        "       9/50       1.1G     0.9767      1.822      1.186          1        416: 100%|██████████| 49/49 [00:04<00:00, 11.03it/s]\n",
                        "                 Class     Images  Instances      Box(P          R      mAP50  mAP50-95): 100%|██████████| 7/7 [00:00<00:00,  7.06it/s]"
                    ]
                },
                {
                    "name": "stdout",
                    "output_type": "stream",
                    "text": [
                        "                   all        222        222      0.772      0.725      0.841      0.663\n"
                    ]
                },
                {
                    "name": "stderr",
                    "output_type": "stream",
                    "text": [
                        "\n"
                    ]
                },
                {
                    "name": "stdout",
                    "output_type": "stream",
                    "text": [
                        "\n",
                        "      Epoch    GPU_mem   box_loss   cls_loss   dfl_loss  Instances       Size\n"
                    ]
                },
                {
                    "name": "stderr",
                    "output_type": "stream",
                    "text": [
                        "      10/50       1.1G     0.9807      1.817       1.19          1        416: 100%|██████████| 49/49 [00:04<00:00, 10.90it/s]\n",
                        "                 Class     Images  Instances      Box(P          R      mAP50  mAP50-95): 100%|██████████| 7/7 [00:01<00:00,  6.19it/s]"
                    ]
                },
                {
                    "name": "stdout",
                    "output_type": "stream",
                    "text": [
                        "                   all        222        222      0.768      0.875      0.877      0.696\n"
                    ]
                },
                {
                    "name": "stderr",
                    "output_type": "stream",
                    "text": [
                        "\n"
                    ]
                },
                {
                    "name": "stdout",
                    "output_type": "stream",
                    "text": [
                        "\n",
                        "      Epoch    GPU_mem   box_loss   cls_loss   dfl_loss  Instances       Size\n"
                    ]
                },
                {
                    "name": "stderr",
                    "output_type": "stream",
                    "text": [
                        "      11/50       1.1G     0.9308      1.677      1.163          1        416: 100%|██████████| 49/49 [00:04<00:00, 10.11it/s]\n",
                        "                 Class     Images  Instances      Box(P          R      mAP50  mAP50-95): 100%|██████████| 7/7 [00:01<00:00,  5.98it/s]"
                    ]
                },
                {
                    "name": "stdout",
                    "output_type": "stream",
                    "text": [
                        "                   all        222        222      0.733      0.886      0.881      0.703\n"
                    ]
                },
                {
                    "name": "stderr",
                    "output_type": "stream",
                    "text": [
                        "\n"
                    ]
                },
                {
                    "name": "stdout",
                    "output_type": "stream",
                    "text": [
                        "\n",
                        "      Epoch    GPU_mem   box_loss   cls_loss   dfl_loss  Instances       Size\n"
                    ]
                },
                {
                    "name": "stderr",
                    "output_type": "stream",
                    "text": [
                        "      12/50       1.1G     0.9586      1.734      1.181          0        416: 100%|██████████| 49/49 [00:04<00:00, 10.51it/s]\n",
                        "                 Class     Images  Instances      Box(P          R      mAP50  mAP50-95): 100%|██████████| 7/7 [00:01<00:00,  6.56it/s]"
                    ]
                },
                {
                    "name": "stdout",
                    "output_type": "stream",
                    "text": [
                        "                   all        222        222      0.788      0.839      0.911      0.723\n"
                    ]
                },
                {
                    "name": "stderr",
                    "output_type": "stream",
                    "text": [
                        "\n"
                    ]
                },
                {
                    "name": "stdout",
                    "output_type": "stream",
                    "text": [
                        "\n",
                        "      Epoch    GPU_mem   box_loss   cls_loss   dfl_loss  Instances       Size\n"
                    ]
                },
                {
                    "name": "stderr",
                    "output_type": "stream",
                    "text": [
                        "      13/50      1.11G     0.9428      1.607      1.164          4        416: 100%|██████████| 49/49 [00:05<00:00,  9.36it/s]\n",
                        "                 Class     Images  Instances      Box(P          R      mAP50  mAP50-95): 100%|██████████| 7/7 [00:01<00:00,  6.07it/s]"
                    ]
                },
                {
                    "name": "stdout",
                    "output_type": "stream",
                    "text": [
                        "                   all        222        222      0.779      0.899      0.933      0.761\n"
                    ]
                },
                {
                    "name": "stderr",
                    "output_type": "stream",
                    "text": [
                        "\n"
                    ]
                },
                {
                    "name": "stdout",
                    "output_type": "stream",
                    "text": [
                        "\n",
                        "      Epoch    GPU_mem   box_loss   cls_loss   dfl_loss  Instances       Size\n"
                    ]
                },
                {
                    "name": "stderr",
                    "output_type": "stream",
                    "text": [
                        "      14/50      1.11G     0.9277      1.539      1.148          3        416: 100%|██████████| 49/49 [00:04<00:00, 10.57it/s]\n",
                        "                 Class     Images  Instances      Box(P          R      mAP50  mAP50-95): 100%|██████████| 7/7 [00:01<00:00,  6.23it/s]"
                    ]
                },
                {
                    "name": "stdout",
                    "output_type": "stream",
                    "text": [
                        "                   all        222        222      0.844      0.896      0.949      0.766\n"
                    ]
                },
                {
                    "name": "stderr",
                    "output_type": "stream",
                    "text": [
                        "\n"
                    ]
                },
                {
                    "name": "stdout",
                    "output_type": "stream",
                    "text": [
                        "\n",
                        "      Epoch    GPU_mem   box_loss   cls_loss   dfl_loss  Instances       Size\n"
                    ]
                },
                {
                    "name": "stderr",
                    "output_type": "stream",
                    "text": [
                        "      15/50      1.11G     0.9236      1.519      1.162          4        416: 100%|██████████| 49/49 [00:04<00:00, 11.08it/s]\n",
                        "                 Class     Images  Instances      Box(P          R      mAP50  mAP50-95): 100%|██████████| 7/7 [00:01<00:00,  6.01it/s]"
                    ]
                },
                {
                    "name": "stdout",
                    "output_type": "stream",
                    "text": [
                        "                   all        222        222      0.869       0.91      0.947      0.753\n"
                    ]
                },
                {
                    "name": "stderr",
                    "output_type": "stream",
                    "text": [
                        "\n"
                    ]
                },
                {
                    "name": "stdout",
                    "output_type": "stream",
                    "text": [
                        "\n",
                        "      Epoch    GPU_mem   box_loss   cls_loss   dfl_loss  Instances       Size\n"
                    ]
                },
                {
                    "name": "stderr",
                    "output_type": "stream",
                    "text": [
                        "      16/50      1.11G     0.9045      1.441      1.144          1        416: 100%|██████████| 49/49 [00:04<00:00, 10.22it/s]\n",
                        "                 Class     Images  Instances      Box(P          R      mAP50  mAP50-95): 100%|██████████| 7/7 [00:01<00:00,  5.94it/s]"
                    ]
                },
                {
                    "name": "stdout",
                    "output_type": "stream",
                    "text": [
                        "                   all        222        222      0.881      0.888      0.953      0.773\n"
                    ]
                },
                {
                    "name": "stderr",
                    "output_type": "stream",
                    "text": [
                        "\n"
                    ]
                },
                {
                    "name": "stdout",
                    "output_type": "stream",
                    "text": [
                        "\n",
                        "      Epoch    GPU_mem   box_loss   cls_loss   dfl_loss  Instances       Size\n"
                    ]
                },
                {
                    "name": "stderr",
                    "output_type": "stream",
                    "text": [
                        "      17/50      1.11G     0.9091       1.46      1.152          2        416: 100%|██████████| 49/49 [00:04<00:00, 10.29it/s]\n",
                        "                 Class     Images  Instances      Box(P          R      mAP50  mAP50-95): 100%|██████████| 7/7 [00:01<00:00,  6.62it/s]"
                    ]
                },
                {
                    "name": "stdout",
                    "output_type": "stream",
                    "text": [
                        "                   all        222        222      0.885      0.914      0.969      0.795\n"
                    ]
                },
                {
                    "name": "stderr",
                    "output_type": "stream",
                    "text": [
                        "\n"
                    ]
                },
                {
                    "name": "stdout",
                    "output_type": "stream",
                    "text": [
                        "\n",
                        "      Epoch    GPU_mem   box_loss   cls_loss   dfl_loss  Instances       Size\n"
                    ]
                },
                {
                    "name": "stderr",
                    "output_type": "stream",
                    "text": [
                        "      18/50      1.11G     0.8745      1.373      1.124          2        416: 100%|██████████| 49/49 [00:04<00:00, 10.21it/s]\n",
                        "                 Class     Images  Instances      Box(P          R      mAP50  mAP50-95): 100%|██████████| 7/7 [00:01<00:00,  6.42it/s]"
                    ]
                },
                {
                    "name": "stdout",
                    "output_type": "stream",
                    "text": [
                        "                   all        222        222      0.916      0.896      0.959      0.787\n"
                    ]
                },
                {
                    "name": "stderr",
                    "output_type": "stream",
                    "text": [
                        "\n"
                    ]
                },
                {
                    "name": "stdout",
                    "output_type": "stream",
                    "text": [
                        "\n",
                        "      Epoch    GPU_mem   box_loss   cls_loss   dfl_loss  Instances       Size\n"
                    ]
                },
                {
                    "name": "stderr",
                    "output_type": "stream",
                    "text": [
                        "      19/50      1.11G     0.8681      1.326      1.118          1        416: 100%|██████████| 49/49 [00:04<00:00, 10.13it/s]\n",
                        "                 Class     Images  Instances      Box(P          R      mAP50  mAP50-95): 100%|██████████| 7/7 [00:01<00:00,  6.48it/s]"
                    ]
                },
                {
                    "name": "stdout",
                    "output_type": "stream",
                    "text": [
                        "                   all        222        222      0.896      0.926       0.98      0.805\n"
                    ]
                },
                {
                    "name": "stderr",
                    "output_type": "stream",
                    "text": [
                        "\n"
                    ]
                },
                {
                    "name": "stdout",
                    "output_type": "stream",
                    "text": [
                        "\n",
                        "      Epoch    GPU_mem   box_loss   cls_loss   dfl_loss  Instances       Size\n"
                    ]
                },
                {
                    "name": "stderr",
                    "output_type": "stream",
                    "text": [
                        "      20/50      1.11G     0.8722      1.365      1.115          3        416: 100%|██████████| 49/49 [00:04<00:00, 10.53it/s]\n",
                        "                 Class     Images  Instances      Box(P          R      mAP50  mAP50-95): 100%|██████████| 7/7 [00:01<00:00,  6.42it/s]"
                    ]
                },
                {
                    "name": "stdout",
                    "output_type": "stream",
                    "text": [
                        "                   all        222        222      0.874       0.92      0.963      0.792\n"
                    ]
                },
                {
                    "name": "stderr",
                    "output_type": "stream",
                    "text": [
                        "\n"
                    ]
                },
                {
                    "name": "stdout",
                    "output_type": "stream",
                    "text": [
                        "\n",
                        "      Epoch    GPU_mem   box_loss   cls_loss   dfl_loss  Instances       Size\n"
                    ]
                },
                {
                    "name": "stderr",
                    "output_type": "stream",
                    "text": [
                        "      21/50      1.11G     0.8338      1.288      1.101          3        416: 100%|██████████| 49/49 [00:04<00:00, 10.18it/s]\n",
                        "                 Class     Images  Instances      Box(P          R      mAP50  mAP50-95): 100%|██████████| 7/7 [00:01<00:00,  6.04it/s]"
                    ]
                },
                {
                    "name": "stdout",
                    "output_type": "stream",
                    "text": [
                        "                   all        222        222      0.923       0.88      0.975      0.792\n"
                    ]
                },
                {
                    "name": "stderr",
                    "output_type": "stream",
                    "text": [
                        "\n"
                    ]
                },
                {
                    "name": "stdout",
                    "output_type": "stream",
                    "text": [
                        "\n",
                        "      Epoch    GPU_mem   box_loss   cls_loss   dfl_loss  Instances       Size\n"
                    ]
                },
                {
                    "name": "stderr",
                    "output_type": "stream",
                    "text": [
                        "      22/50      1.11G     0.8221      1.247      1.088          4        416: 100%|██████████| 49/49 [00:04<00:00, 10.08it/s]\n",
                        "                 Class     Images  Instances      Box(P          R      mAP50  mAP50-95): 100%|██████████| 7/7 [00:01<00:00,  6.82it/s]"
                    ]
                },
                {
                    "name": "stdout",
                    "output_type": "stream",
                    "text": [
                        "                   all        222        222      0.934      0.916      0.988      0.805\n"
                    ]
                },
                {
                    "name": "stderr",
                    "output_type": "stream",
                    "text": [
                        "\n"
                    ]
                },
                {
                    "name": "stdout",
                    "output_type": "stream",
                    "text": [
                        "\n",
                        "      Epoch    GPU_mem   box_loss   cls_loss   dfl_loss  Instances       Size\n"
                    ]
                },
                {
                    "name": "stderr",
                    "output_type": "stream",
                    "text": [
                        "      23/50      1.11G     0.8773      1.289      1.132          4        416: 100%|██████████| 49/49 [00:04<00:00, 10.20it/s]\n",
                        "                 Class     Images  Instances      Box(P          R      mAP50  mAP50-95): 100%|██████████| 7/7 [00:01<00:00,  6.34it/s]"
                    ]
                },
                {
                    "name": "stdout",
                    "output_type": "stream",
                    "text": [
                        "                   all        222        222      0.934      0.908      0.989      0.811\n"
                    ]
                },
                {
                    "name": "stderr",
                    "output_type": "stream",
                    "text": [
                        "\n"
                    ]
                },
                {
                    "name": "stdout",
                    "output_type": "stream",
                    "text": [
                        "\n",
                        "      Epoch    GPU_mem   box_loss   cls_loss   dfl_loss  Instances       Size\n"
                    ]
                },
                {
                    "name": "stderr",
                    "output_type": "stream",
                    "text": [
                        "      24/50      1.11G     0.8271      1.183      1.103          1        416: 100%|██████████| 49/49 [00:05<00:00,  9.27it/s]\n",
                        "                 Class     Images  Instances      Box(P          R      mAP50  mAP50-95): 100%|██████████| 7/7 [00:01<00:00,  6.17it/s]"
                    ]
                },
                {
                    "name": "stdout",
                    "output_type": "stream",
                    "text": [
                        "                   all        222        222      0.921      0.935      0.985      0.815\n"
                    ]
                },
                {
                    "name": "stderr",
                    "output_type": "stream",
                    "text": [
                        "\n"
                    ]
                },
                {
                    "name": "stdout",
                    "output_type": "stream",
                    "text": [
                        "\n",
                        "      Epoch    GPU_mem   box_loss   cls_loss   dfl_loss  Instances       Size\n"
                    ]
                },
                {
                    "name": "stderr",
                    "output_type": "stream",
                    "text": [
                        "      25/50      1.11G     0.7958      1.223       1.07          0        416: 100%|██████████| 49/49 [00:04<00:00, 10.11it/s]\n",
                        "                 Class     Images  Instances      Box(P          R      mAP50  mAP50-95): 100%|██████████| 7/7 [00:01<00:00,  6.33it/s]"
                    ]
                },
                {
                    "name": "stdout",
                    "output_type": "stream",
                    "text": [
                        "                   all        222        222      0.922      0.938      0.985      0.806\n"
                    ]
                },
                {
                    "name": "stderr",
                    "output_type": "stream",
                    "text": [
                        "\n"
                    ]
                },
                {
                    "name": "stdout",
                    "output_type": "stream",
                    "text": [
                        "\n",
                        "      Epoch    GPU_mem   box_loss   cls_loss   dfl_loss  Instances       Size\n"
                    ]
                },
                {
                    "name": "stderr",
                    "output_type": "stream",
                    "text": [
                        "      26/50      1.11G      0.817       1.19      1.099          3        416: 100%|██████████| 49/49 [00:04<00:00, 10.13it/s]\n",
                        "                 Class     Images  Instances      Box(P          R      mAP50  mAP50-95): 100%|██████████| 7/7 [00:01<00:00,  6.40it/s]"
                    ]
                },
                {
                    "name": "stdout",
                    "output_type": "stream",
                    "text": [
                        "                   all        222        222      0.903      0.971      0.985      0.816\n"
                    ]
                },
                {
                    "name": "stderr",
                    "output_type": "stream",
                    "text": [
                        "\n"
                    ]
                },
                {
                    "name": "stdout",
                    "output_type": "stream",
                    "text": [
                        "\n",
                        "      Epoch    GPU_mem   box_loss   cls_loss   dfl_loss  Instances       Size\n"
                    ]
                },
                {
                    "name": "stderr",
                    "output_type": "stream",
                    "text": [
                        "      27/50      1.11G     0.7891      1.117      1.083          4        416: 100%|██████████| 49/49 [00:05<00:00,  9.41it/s]\n",
                        "                 Class     Images  Instances      Box(P          R      mAP50  mAP50-95): 100%|██████████| 7/7 [00:01<00:00,  6.16it/s]"
                    ]
                },
                {
                    "name": "stdout",
                    "output_type": "stream",
                    "text": [
                        "                   all        222        222      0.948      0.943      0.981      0.807\n"
                    ]
                },
                {
                    "name": "stderr",
                    "output_type": "stream",
                    "text": [
                        "\n"
                    ]
                },
                {
                    "name": "stdout",
                    "output_type": "stream",
                    "text": [
                        "\n",
                        "      Epoch    GPU_mem   box_loss   cls_loss   dfl_loss  Instances       Size\n"
                    ]
                },
                {
                    "name": "stderr",
                    "output_type": "stream",
                    "text": [
                        "      28/50      1.11G     0.8076      1.123      1.097          2        416: 100%|██████████| 49/49 [00:04<00:00, 10.65it/s]\n",
                        "                 Class     Images  Instances      Box(P          R      mAP50  mAP50-95): 100%|██████████| 7/7 [00:01<00:00,  6.92it/s]"
                    ]
                },
                {
                    "name": "stdout",
                    "output_type": "stream",
                    "text": [
                        "                   all        222        222       0.92      0.944       0.98      0.803\n"
                    ]
                },
                {
                    "name": "stderr",
                    "output_type": "stream",
                    "text": [
                        "\n"
                    ]
                },
                {
                    "name": "stdout",
                    "output_type": "stream",
                    "text": [
                        "\n",
                        "      Epoch    GPU_mem   box_loss   cls_loss   dfl_loss  Instances       Size\n"
                    ]
                },
                {
                    "name": "stderr",
                    "output_type": "stream",
                    "text": [
                        "      29/50      1.11G     0.8041      1.115      1.104          4        416: 100%|██████████| 49/49 [00:04<00:00, 10.65it/s]\n",
                        "                 Class     Images  Instances      Box(P          R      mAP50  mAP50-95): 100%|██████████| 7/7 [00:01<00:00,  6.58it/s]"
                    ]
                },
                {
                    "name": "stdout",
                    "output_type": "stream",
                    "text": [
                        "                   all        222        222      0.944      0.933      0.986      0.818\n"
                    ]
                },
                {
                    "name": "stderr",
                    "output_type": "stream",
                    "text": [
                        "\n"
                    ]
                },
                {
                    "name": "stdout",
                    "output_type": "stream",
                    "text": [
                        "\n",
                        "      Epoch    GPU_mem   box_loss   cls_loss   dfl_loss  Instances       Size\n"
                    ]
                },
                {
                    "name": "stderr",
                    "output_type": "stream",
                    "text": [
                        "      30/50      1.11G     0.7905      1.141      1.099          2        416: 100%|██████████| 49/49 [00:04<00:00, 10.82it/s]\n",
                        "                 Class     Images  Instances      Box(P          R      mAP50  mAP50-95): 100%|██████████| 7/7 [00:00<00:00,  7.15it/s]"
                    ]
                },
                {
                    "name": "stdout",
                    "output_type": "stream",
                    "text": [
                        "                   all        222        222      0.932      0.954      0.989       0.81\n"
                    ]
                },
                {
                    "name": "stderr",
                    "output_type": "stream",
                    "text": [
                        "\n"
                    ]
                },
                {
                    "name": "stdout",
                    "output_type": "stream",
                    "text": [
                        "\n",
                        "      Epoch    GPU_mem   box_loss   cls_loss   dfl_loss  Instances       Size\n"
                    ]
                },
                {
                    "name": "stderr",
                    "output_type": "stream",
                    "text": [
                        "      31/50      1.11G     0.7979      1.136      1.085          2        416: 100%|██████████| 49/49 [00:04<00:00, 11.02it/s]\n",
                        "                 Class     Images  Instances      Box(P          R      mAP50  mAP50-95): 100%|██████████| 7/7 [00:00<00:00,  7.13it/s]"
                    ]
                },
                {
                    "name": "stdout",
                    "output_type": "stream",
                    "text": [
                        "                   all        222        222      0.932      0.952      0.987      0.818\n"
                    ]
                },
                {
                    "name": "stderr",
                    "output_type": "stream",
                    "text": [
                        "\n"
                    ]
                },
                {
                    "name": "stdout",
                    "output_type": "stream",
                    "text": [
                        "\n",
                        "      Epoch    GPU_mem   box_loss   cls_loss   dfl_loss  Instances       Size\n"
                    ]
                },
                {
                    "name": "stderr",
                    "output_type": "stream",
                    "text": [
                        "      32/50      1.11G     0.7711      1.037      1.067          1        416: 100%|██████████| 49/49 [00:04<00:00, 10.25it/s]\n",
                        "                 Class     Images  Instances      Box(P          R      mAP50  mAP50-95): 100%|██████████| 7/7 [00:01<00:00,  6.57it/s]"
                    ]
                },
                {
                    "name": "stdout",
                    "output_type": "stream",
                    "text": [
                        "                   all        222        222      0.959      0.945      0.986      0.823\n"
                    ]
                },
                {
                    "name": "stderr",
                    "output_type": "stream",
                    "text": [
                        "\n"
                    ]
                },
                {
                    "name": "stdout",
                    "output_type": "stream",
                    "text": [
                        "\n",
                        "      Epoch    GPU_mem   box_loss   cls_loss   dfl_loss  Instances       Size\n"
                    ]
                },
                {
                    "name": "stderr",
                    "output_type": "stream",
                    "text": [
                        "      33/50      1.11G     0.7675      1.051      1.079          3        416: 100%|██████████| 49/49 [00:04<00:00, 10.36it/s]\n",
                        "                 Class     Images  Instances      Box(P          R      mAP50  mAP50-95): 100%|██████████| 7/7 [00:00<00:00,  7.20it/s]"
                    ]
                },
                {
                    "name": "stdout",
                    "output_type": "stream",
                    "text": [
                        "                   all        222        222      0.954      0.959      0.988      0.818\n"
                    ]
                },
                {
                    "name": "stderr",
                    "output_type": "stream",
                    "text": [
                        "\n"
                    ]
                },
                {
                    "name": "stdout",
                    "output_type": "stream",
                    "text": [
                        "\n",
                        "      Epoch    GPU_mem   box_loss   cls_loss   dfl_loss  Instances       Size\n"
                    ]
                },
                {
                    "name": "stderr",
                    "output_type": "stream",
                    "text": [
                        "      34/50      1.11G     0.7318      1.073      1.053          1        416: 100%|██████████| 49/49 [00:04<00:00, 10.42it/s]\n",
                        "                 Class     Images  Instances      Box(P          R      mAP50  mAP50-95): 100%|██████████| 7/7 [00:01<00:00,  6.85it/s]"
                    ]
                },
                {
                    "name": "stdout",
                    "output_type": "stream",
                    "text": [
                        "                   all        222        222       0.94      0.953      0.984      0.815\n"
                    ]
                },
                {
                    "name": "stderr",
                    "output_type": "stream",
                    "text": [
                        "\n"
                    ]
                },
                {
                    "name": "stdout",
                    "output_type": "stream",
                    "text": [
                        "\n",
                        "      Epoch    GPU_mem   box_loss   cls_loss   dfl_loss  Instances       Size\n"
                    ]
                },
                {
                    "name": "stderr",
                    "output_type": "stream",
                    "text": [
                        "      35/50      1.11G     0.7566      1.067      1.068          2        416: 100%|██████████| 49/49 [00:04<00:00, 10.41it/s]\n",
                        "                 Class     Images  Instances      Box(P          R      mAP50  mAP50-95): 100%|██████████| 7/7 [00:01<00:00,  6.86it/s]"
                    ]
                },
                {
                    "name": "stdout",
                    "output_type": "stream",
                    "text": [
                        "                   all        222        222      0.948      0.958      0.985      0.813\n"
                    ]
                },
                {
                    "name": "stderr",
                    "output_type": "stream",
                    "text": [
                        "\n"
                    ]
                },
                {
                    "name": "stdout",
                    "output_type": "stream",
                    "text": [
                        "\n",
                        "      Epoch    GPU_mem   box_loss   cls_loss   dfl_loss  Instances       Size\n"
                    ]
                },
                {
                    "name": "stderr",
                    "output_type": "stream",
                    "text": [
                        "      36/50      1.11G     0.7376      1.017      1.056          1        416: 100%|██████████| 49/49 [00:04<00:00, 11.01it/s]\n",
                        "                 Class     Images  Instances      Box(P          R      mAP50  mAP50-95): 100%|██████████| 7/7 [00:01<00:00,  6.83it/s]"
                    ]
                },
                {
                    "name": "stdout",
                    "output_type": "stream",
                    "text": [
                        "                   all        222        222      0.934      0.952      0.979      0.808\n"
                    ]
                },
                {
                    "name": "stderr",
                    "output_type": "stream",
                    "text": [
                        "\n"
                    ]
                },
                {
                    "name": "stdout",
                    "output_type": "stream",
                    "text": [
                        "\n",
                        "      Epoch    GPU_mem   box_loss   cls_loss   dfl_loss  Instances       Size\n"
                    ]
                },
                {
                    "name": "stderr",
                    "output_type": "stream",
                    "text": [
                        "      37/50      1.11G     0.7601      1.007      1.061          4        416: 100%|██████████| 49/49 [00:04<00:00, 10.24it/s]\n",
                        "                 Class     Images  Instances      Box(P          R      mAP50  mAP50-95): 100%|██████████| 7/7 [00:01<00:00,  6.32it/s]"
                    ]
                },
                {
                    "name": "stdout",
                    "output_type": "stream",
                    "text": [
                        "                   all        222        222      0.956      0.951      0.989      0.821\n"
                    ]
                },
                {
                    "name": "stderr",
                    "output_type": "stream",
                    "text": [
                        "\n"
                    ]
                },
                {
                    "name": "stdout",
                    "output_type": "stream",
                    "text": [
                        "\n",
                        "      Epoch    GPU_mem   box_loss   cls_loss   dfl_loss  Instances       Size\n"
                    ]
                },
                {
                    "name": "stderr",
                    "output_type": "stream",
                    "text": [
                        "      38/50      1.11G     0.7254      1.067      1.037          0        416: 100%|██████████| 49/49 [00:05<00:00,  9.80it/s]\n",
                        "                 Class     Images  Instances      Box(P          R      mAP50  mAP50-95): 100%|██████████| 7/7 [00:01<00:00,  6.53it/s]"
                    ]
                },
                {
                    "name": "stdout",
                    "output_type": "stream",
                    "text": [
                        "                   all        222        222      0.948      0.961      0.988      0.821\n"
                    ]
                },
                {
                    "name": "stderr",
                    "output_type": "stream",
                    "text": [
                        "\n"
                    ]
                },
                {
                    "name": "stdout",
                    "output_type": "stream",
                    "text": [
                        "\n",
                        "      Epoch    GPU_mem   box_loss   cls_loss   dfl_loss  Instances       Size\n"
                    ]
                },
                {
                    "name": "stderr",
                    "output_type": "stream",
                    "text": [
                        "      39/50      1.11G     0.7104     0.9831      1.037          4        416: 100%|██████████| 49/49 [00:04<00:00,  9.89it/s]\n",
                        "                 Class     Images  Instances      Box(P          R      mAP50  mAP50-95): 100%|██████████| 7/7 [00:01<00:00,  6.64it/s]"
                    ]
                },
                {
                    "name": "stdout",
                    "output_type": "stream",
                    "text": [
                        "                   all        222        222      0.941      0.971      0.988      0.816\n"
                    ]
                },
                {
                    "name": "stderr",
                    "output_type": "stream",
                    "text": [
                        "\n"
                    ]
                },
                {
                    "name": "stdout",
                    "output_type": "stream",
                    "text": [
                        "\n",
                        "      Epoch    GPU_mem   box_loss   cls_loss   dfl_loss  Instances       Size\n"
                    ]
                },
                {
                    "name": "stderr",
                    "output_type": "stream",
                    "text": [
                        "      40/50      1.11G     0.7219      1.013      1.042          1        416: 100%|██████████| 49/49 [00:05<00:00,  9.78it/s]\n",
                        "                 Class     Images  Instances      Box(P          R      mAP50  mAP50-95): 100%|██████████| 7/7 [00:01<00:00,  6.23it/s]"
                    ]
                },
                {
                    "name": "stdout",
                    "output_type": "stream",
                    "text": [
                        "                   all        222        222      0.934      0.967      0.987      0.819\n"
                    ]
                },
                {
                    "name": "stderr",
                    "output_type": "stream",
                    "text": [
                        "\n"
                    ]
                },
                {
                    "name": "stdout",
                    "output_type": "stream",
                    "text": [
                        "Closing dataloader mosaic\n",
                        "\n",
                        "      Epoch    GPU_mem   box_loss   cls_loss   dfl_loss  Instances       Size\n"
                    ]
                },
                {
                    "name": "stderr",
                    "output_type": "stream",
                    "text": [
                        "      41/50      1.11G     0.5742     0.8212     0.9551          1        416: 100%|██████████| 49/49 [00:04<00:00, 10.07it/s]\n",
                        "                 Class     Images  Instances      Box(P          R      mAP50  mAP50-95): 100%|██████████| 7/7 [00:01<00:00,  6.97it/s]"
                    ]
                },
                {
                    "name": "stdout",
                    "output_type": "stream",
                    "text": [
                        "                   all        222        222      0.959      0.956      0.989      0.824\n"
                    ]
                },
                {
                    "name": "stderr",
                    "output_type": "stream",
                    "text": [
                        "\n"
                    ]
                },
                {
                    "name": "stdout",
                    "output_type": "stream",
                    "text": [
                        "\n",
                        "      Epoch    GPU_mem   box_loss   cls_loss   dfl_loss  Instances       Size\n"
                    ]
                },
                {
                    "name": "stderr",
                    "output_type": "stream",
                    "text": [
                        "      42/50      1.11G     0.5465     0.7994      0.947          1        416: 100%|██████████| 49/49 [00:04<00:00, 11.05it/s]\n",
                        "                 Class     Images  Instances      Box(P          R      mAP50  mAP50-95): 100%|██████████| 7/7 [00:01<00:00,  6.62it/s]"
                    ]
                },
                {
                    "name": "stdout",
                    "output_type": "stream",
                    "text": [
                        "                   all        222        222      0.959       0.94       0.99      0.823\n"
                    ]
                },
                {
                    "name": "stderr",
                    "output_type": "stream",
                    "text": [
                        "\n"
                    ]
                },
                {
                    "name": "stdout",
                    "output_type": "stream",
                    "text": [
                        "\n",
                        "      Epoch    GPU_mem   box_loss   cls_loss   dfl_loss  Instances       Size\n"
                    ]
                },
                {
                    "name": "stderr",
                    "output_type": "stream",
                    "text": [
                        "      43/50      1.11G     0.5539     0.7609     0.9611          1        416: 100%|██████████| 49/49 [00:04<00:00, 10.52it/s]\n",
                        "                 Class     Images  Instances      Box(P          R      mAP50  mAP50-95): 100%|██████████| 7/7 [00:01<00:00,  5.93it/s]"
                    ]
                },
                {
                    "name": "stdout",
                    "output_type": "stream",
                    "text": [
                        "                   all        222        222      0.975      0.968       0.99      0.819\n"
                    ]
                },
                {
                    "name": "stderr",
                    "output_type": "stream",
                    "text": [
                        "\n"
                    ]
                },
                {
                    "name": "stdout",
                    "output_type": "stream",
                    "text": [
                        "\n",
                        "      Epoch    GPU_mem   box_loss   cls_loss   dfl_loss  Instances       Size\n"
                    ]
                },
                {
                    "name": "stderr",
                    "output_type": "stream",
                    "text": [
                        "      44/50      1.11G     0.5318     0.7501     0.9443          1        416: 100%|██████████| 49/49 [00:04<00:00, 10.73it/s]\n",
                        "                 Class     Images  Instances      Box(P          R      mAP50  mAP50-95): 100%|██████████| 7/7 [00:01<00:00,  6.77it/s]"
                    ]
                },
                {
                    "name": "stdout",
                    "output_type": "stream",
                    "text": [
                        "                   all        222        222      0.952      0.973      0.991      0.825\n"
                    ]
                },
                {
                    "name": "stderr",
                    "output_type": "stream",
                    "text": [
                        "\n"
                    ]
                },
                {
                    "name": "stdout",
                    "output_type": "stream",
                    "text": [
                        "\n",
                        "      Epoch    GPU_mem   box_loss   cls_loss   dfl_loss  Instances       Size\n"
                    ]
                },
                {
                    "name": "stderr",
                    "output_type": "stream",
                    "text": [
                        "      45/50      1.11G     0.5389     0.7197     0.9331          1        416: 100%|██████████| 49/49 [00:04<00:00, 10.98it/s]\n",
                        "                 Class     Images  Instances      Box(P          R      mAP50  mAP50-95): 100%|██████████| 7/7 [00:01<00:00,  6.41it/s]"
                    ]
                },
                {
                    "name": "stdout",
                    "output_type": "stream",
                    "text": [
                        "                   all        222        222      0.948      0.966       0.99      0.831\n"
                    ]
                },
                {
                    "name": "stderr",
                    "output_type": "stream",
                    "text": [
                        "\n"
                    ]
                },
                {
                    "name": "stdout",
                    "output_type": "stream",
                    "text": [
                        "\n",
                        "      Epoch    GPU_mem   box_loss   cls_loss   dfl_loss  Instances       Size\n"
                    ]
                },
                {
                    "name": "stderr",
                    "output_type": "stream",
                    "text": [
                        "      46/50      1.11G      0.502     0.7156     0.9112          1        416: 100%|██████████| 49/49 [00:04<00:00, 10.10it/s]\n",
                        "                 Class     Images  Instances      Box(P          R      mAP50  mAP50-95): 100%|██████████| 7/7 [00:01<00:00,  6.82it/s]"
                    ]
                },
                {
                    "name": "stdout",
                    "output_type": "stream",
                    "text": [
                        "                   all        222        222       0.97      0.958      0.992      0.826\n"
                    ]
                },
                {
                    "name": "stderr",
                    "output_type": "stream",
                    "text": [
                        "\n"
                    ]
                },
                {
                    "name": "stdout",
                    "output_type": "stream",
                    "text": [
                        "\n",
                        "      Epoch    GPU_mem   box_loss   cls_loss   dfl_loss  Instances       Size\n"
                    ]
                },
                {
                    "name": "stderr",
                    "output_type": "stream",
                    "text": [
                        "      47/50      1.11G     0.4902     0.7124     0.9213          1        416: 100%|██████████| 49/49 [00:04<00:00, 10.39it/s]\n",
                        "                 Class     Images  Instances      Box(P          R      mAP50  mAP50-95): 100%|██████████| 7/7 [00:01<00:00,  6.70it/s]"
                    ]
                },
                {
                    "name": "stdout",
                    "output_type": "stream",
                    "text": [
                        "                   all        222        222      0.964      0.959      0.991      0.824\n"
                    ]
                },
                {
                    "name": "stderr",
                    "output_type": "stream",
                    "text": [
                        "\n"
                    ]
                },
                {
                    "name": "stdout",
                    "output_type": "stream",
                    "text": [
                        "\n",
                        "      Epoch    GPU_mem   box_loss   cls_loss   dfl_loss  Instances       Size\n"
                    ]
                },
                {
                    "name": "stderr",
                    "output_type": "stream",
                    "text": [
                        "      48/50      1.11G     0.5114     0.7208     0.9178          1        416: 100%|██████████| 49/49 [00:04<00:00, 10.15it/s]\n",
                        "                 Class     Images  Instances      Box(P          R      mAP50  mAP50-95): 100%|██████████| 7/7 [00:01<00:00,  6.22it/s]"
                    ]
                },
                {
                    "name": "stdout",
                    "output_type": "stream",
                    "text": [
                        "                   all        222        222      0.967       0.96      0.991      0.823\n"
                    ]
                },
                {
                    "name": "stderr",
                    "output_type": "stream",
                    "text": [
                        "\n"
                    ]
                },
                {
                    "name": "stdout",
                    "output_type": "stream",
                    "text": [
                        "\n",
                        "      Epoch    GPU_mem   box_loss   cls_loss   dfl_loss  Instances       Size\n"
                    ]
                },
                {
                    "name": "stderr",
                    "output_type": "stream",
                    "text": [
                        "      49/50      1.11G     0.5133     0.6911     0.9167          1        416: 100%|██████████| 49/49 [00:04<00:00,  9.93it/s]\n",
                        "                 Class     Images  Instances      Box(P          R      mAP50  mAP50-95): 100%|██████████| 7/7 [00:01<00:00,  6.54it/s]"
                    ]
                },
                {
                    "name": "stdout",
                    "output_type": "stream",
                    "text": [
                        "                   all        222        222      0.962      0.962      0.991       0.82\n"
                    ]
                },
                {
                    "name": "stderr",
                    "output_type": "stream",
                    "text": [
                        "\n"
                    ]
                },
                {
                    "name": "stdout",
                    "output_type": "stream",
                    "text": [
                        "\n",
                        "      Epoch    GPU_mem   box_loss   cls_loss   dfl_loss  Instances       Size\n"
                    ]
                },
                {
                    "name": "stderr",
                    "output_type": "stream",
                    "text": [
                        "      50/50      1.11G     0.4912      0.676     0.9116          1        416: 100%|██████████| 49/49 [00:04<00:00, 10.50it/s]\n",
                        "                 Class     Images  Instances      Box(P          R      mAP50  mAP50-95): 100%|██████████| 7/7 [00:01<00:00,  6.59it/s]"
                    ]
                },
                {
                    "name": "stdout",
                    "output_type": "stream",
                    "text": [
                        "                   all        222        222      0.959      0.964      0.991      0.826\n"
                    ]
                },
                {
                    "name": "stderr",
                    "output_type": "stream",
                    "text": [
                        "\n"
                    ]
                },
                {
                    "name": "stdout",
                    "output_type": "stream",
                    "text": [
                        "\n",
                        "50 epochs completed in 0.092 hours.\n",
                        "Optimizer stripped from c:\\Users\\berna\\Documents\\Proyecto_ia_legua_se-as_2025\\runs\\detect\\train2\\weights\\last.pt, 6.2MB\n",
                        "Optimizer stripped from c:\\Users\\berna\\Documents\\Proyecto_ia_legua_se-as_2025\\runs\\detect\\train2\\weights\\best.pt, 6.2MB\n",
                        "\n",
                        "Validating c:\\Users\\berna\\Documents\\Proyecto_ia_legua_se-as_2025\\runs\\detect\\train2\\weights\\best.pt...\n",
                        "Ultralytics 8.3.181  Python-3.13.2 torch-2.8.0+cu126 CUDA:0 (NVIDIA GeForce RTX 4060, 8188MiB)\n",
                        "Model summary (fused): 72 layers, 3,010,718 parameters, 0 gradients, 8.1 GFLOPs\n"
                    ]
                },
                {
                    "name": "stderr",
                    "output_type": "stream",
                    "text": [
                        "                 Class     Images  Instances      Box(P          R      mAP50  mAP50-95): 100%|██████████| 7/7 [00:01<00:00,  5.12it/s]\n"
                    ]
                },
                {
                    "name": "stdout",
                    "output_type": "stream",
                    "text": [
                        "                   all        222        222      0.949      0.966       0.99       0.83\n",
                        "                     A         17         17          1      0.994      0.995      0.874\n",
                        "                     B         12         12      0.979          1      0.995      0.878\n",
                        "                     C         16         16          1      0.958      0.995      0.812\n",
                        "                     D          5          5      0.955          1      0.995      0.826\n",
                        "                     E         12         12      0.993          1      0.995      0.791\n",
                        "                     F          5          5       0.95          1      0.995      0.945\n",
                        "                     G          9          9          1       0.85      0.995      0.745\n",
                        "                     H          5          5      0.948          1      0.995      0.839\n",
                        "                     I          5          5      0.922          1      0.995      0.841\n",
                        "                     J          5          5      0.808          1      0.995      0.852\n",
                        "                     K          5          5      0.954          1      0.995       0.84\n",
                        "                     L         12         12      0.905          1      0.995      0.886\n",
                        "                     M         11         11      0.916      0.989      0.988       0.69\n",
                        "                     N          9          9      0.973      0.889      0.975      0.723\n",
                        "                     O          8          8      0.927          1      0.995       0.86\n",
                        "                     P          5          5      0.949          1      0.995      0.753\n",
                        "                     Q         10         10      0.977          1      0.995      0.746\n",
                        "                     R         17         17      0.999          1      0.995       0.89\n",
                        "                     S          5          5      0.929          1      0.995      0.869\n",
                        "                     T          9          9      0.993          1      0.995      0.846\n",
                        "                     U          7          7      0.959          1      0.995      0.882\n",
                        "                     V          9          9          1      0.787      0.919      0.765\n",
                        "                     W          6          6      0.744          1      0.995      0.894\n",
                        "                     X          5          5          1      0.785      0.995      0.799\n",
                        "                     Y          7          7      0.936      0.857      0.978      0.866\n",
                        "                     Z          6          6      0.947          1      0.995      0.861\n",
                        "Speed: 0.2ms preprocess, 0.7ms inference, 0.0ms loss, 2.1ms postprocess per image\n",
                        "Results saved to \u001b[1mc:\\Users\\berna\\Documents\\Proyecto_ia_legua_se-as_2025\\runs\\detect\\train2\u001b[0m\n"
                    ]
                },
                {
                    "data": {
                        "text/plain": [
                            "ultralytics.utils.metrics.DetMetrics object with attributes:\n",
                            "\n",
                            "ap_class_index: array([ 0,  1,  2,  3,  4,  5,  6,  7,  8,  9, 10, 11, 12, 13, 14, 15, 16, 17, 18, 19, 20, 21, 22, 23, 24, 25])\n",
                            "box: ultralytics.utils.metrics.Metric object\n",
                            "confusion_matrix: <ultralytics.utils.metrics.ConfusionMatrix object at 0x000001C01E31E900>\n",
                            "curves: ['Precision-Recall(B)', 'F1-Confidence(B)', 'Precision-Confidence(B)', 'Recall-Confidence(B)']\n",
                            "curves_results: [[array([          0,    0.001001,    0.002002,    0.003003,    0.004004,    0.005005,    0.006006,    0.007007,    0.008008,    0.009009,     0.01001,    0.011011,    0.012012,    0.013013,    0.014014,    0.015015,    0.016016,    0.017017,    0.018018,    0.019019,     0.02002,    0.021021,    0.022022,    0.023023,\n",
                            "          0.024024,    0.025025,    0.026026,    0.027027,    0.028028,    0.029029,     0.03003,    0.031031,    0.032032,    0.033033,    0.034034,    0.035035,    0.036036,    0.037037,    0.038038,    0.039039,     0.04004,    0.041041,    0.042042,    0.043043,    0.044044,    0.045045,    0.046046,    0.047047,\n",
                            "          0.048048,    0.049049,     0.05005,    0.051051,    0.052052,    0.053053,    0.054054,    0.055055,    0.056056,    0.057057,    0.058058,    0.059059,     0.06006,    0.061061,    0.062062,    0.063063,    0.064064,    0.065065,    0.066066,    0.067067,    0.068068,    0.069069,     0.07007,    0.071071,\n",
                            "          0.072072,    0.073073,    0.074074,    0.075075,    0.076076,    0.077077,    0.078078,    0.079079,     0.08008,    0.081081,    0.082082,    0.083083,    0.084084,    0.085085,    0.086086,    0.087087,    0.088088,    0.089089,     0.09009,    0.091091,    0.092092,    0.093093,    0.094094,    0.095095,\n",
                            "          0.096096,    0.097097,    0.098098,    0.099099,      0.1001,      0.1011,      0.1021,      0.1031,      0.1041,     0.10511,     0.10611,     0.10711,     0.10811,     0.10911,     0.11011,     0.11111,     0.11211,     0.11311,     0.11411,     0.11512,     0.11612,     0.11712,     0.11812,     0.11912,\n",
                            "           0.12012,     0.12112,     0.12212,     0.12312,     0.12412,     0.12513,     0.12613,     0.12713,     0.12813,     0.12913,     0.13013,     0.13113,     0.13213,     0.13313,     0.13413,     0.13514,     0.13614,     0.13714,     0.13814,     0.13914,     0.14014,     0.14114,     0.14214,     0.14314,\n",
                            "           0.14414,     0.14515,     0.14615,     0.14715,     0.14815,     0.14915,     0.15015,     0.15115,     0.15215,     0.15315,     0.15415,     0.15516,     0.15616,     0.15716,     0.15816,     0.15916,     0.16016,     0.16116,     0.16216,     0.16316,     0.16416,     0.16517,     0.16617,     0.16717,\n",
                            "           0.16817,     0.16917,     0.17017,     0.17117,     0.17217,     0.17317,     0.17417,     0.17518,     0.17618,     0.17718,     0.17818,     0.17918,     0.18018,     0.18118,     0.18218,     0.18318,     0.18418,     0.18519,     0.18619,     0.18719,     0.18819,     0.18919,     0.19019,     0.19119,\n",
                            "           0.19219,     0.19319,     0.19419,      0.1952,      0.1962,      0.1972,      0.1982,      0.1992,      0.2002,      0.2012,      0.2022,      0.2032,      0.2042,     0.20521,     0.20621,     0.20721,     0.20821,     0.20921,     0.21021,     0.21121,     0.21221,     0.21321,     0.21421,     0.21522,\n",
                            "           0.21622,     0.21722,     0.21822,     0.21922,     0.22022,     0.22122,     0.22222,     0.22322,     0.22422,     0.22523,     0.22623,     0.22723,     0.22823,     0.22923,     0.23023,     0.23123,     0.23223,     0.23323,     0.23423,     0.23524,     0.23624,     0.23724,     0.23824,     0.23924,\n",
                            "           0.24024,     0.24124,     0.24224,     0.24324,     0.24424,     0.24525,     0.24625,     0.24725,     0.24825,     0.24925,     0.25025,     0.25125,     0.25225,     0.25325,     0.25425,     0.25526,     0.25626,     0.25726,     0.25826,     0.25926,     0.26026,     0.26126,     0.26226,     0.26326,\n",
                            "           0.26426,     0.26527,     0.26627,     0.26727,     0.26827,     0.26927,     0.27027,     0.27127,     0.27227,     0.27327,     0.27427,     0.27528,     0.27628,     0.27728,     0.27828,     0.27928,     0.28028,     0.28128,     0.28228,     0.28328,     0.28428,     0.28529,     0.28629,     0.28729,\n",
                            "           0.28829,     0.28929,     0.29029,     0.29129,     0.29229,     0.29329,     0.29429,      0.2953,      0.2963,      0.2973,      0.2983,      0.2993,      0.3003,      0.3013,      0.3023,      0.3033,      0.3043,     0.30531,     0.30631,     0.30731,     0.30831,     0.30931,     0.31031,     0.31131,\n",
                            "           0.31231,     0.31331,     0.31431,     0.31532,     0.31632,     0.31732,     0.31832,     0.31932,     0.32032,     0.32132,     0.32232,     0.32332,     0.32432,     0.32533,     0.32633,     0.32733,     0.32833,     0.32933,     0.33033,     0.33133,     0.33233,     0.33333,     0.33433,     0.33534,\n",
                            "           0.33634,     0.33734,     0.33834,     0.33934,     0.34034,     0.34134,     0.34234,     0.34334,     0.34434,     0.34535,     0.34635,     0.34735,     0.34835,     0.34935,     0.35035,     0.35135,     0.35235,     0.35335,     0.35435,     0.35536,     0.35636,     0.35736,     0.35836,     0.35936,\n",
                            "           0.36036,     0.36136,     0.36236,     0.36336,     0.36436,     0.36537,     0.36637,     0.36737,     0.36837,     0.36937,     0.37037,     0.37137,     0.37237,     0.37337,     0.37437,     0.37538,     0.37638,     0.37738,     0.37838,     0.37938,     0.38038,     0.38138,     0.38238,     0.38338,\n",
                            "           0.38438,     0.38539,     0.38639,     0.38739,     0.38839,     0.38939,     0.39039,     0.39139,     0.39239,     0.39339,     0.39439,      0.3954,      0.3964,      0.3974,      0.3984,      0.3994,      0.4004,      0.4014,      0.4024,      0.4034,      0.4044,     0.40541,     0.40641,     0.40741,\n",
                            "           0.40841,     0.40941,     0.41041,     0.41141,     0.41241,     0.41341,     0.41441,     0.41542,     0.41642,     0.41742,     0.41842,     0.41942,     0.42042,     0.42142,     0.42242,     0.42342,     0.42442,     0.42543,     0.42643,     0.42743,     0.42843,     0.42943,     0.43043,     0.43143,\n",
                            "           0.43243,     0.43343,     0.43443,     0.43544,     0.43644,     0.43744,     0.43844,     0.43944,     0.44044,     0.44144,     0.44244,     0.44344,     0.44444,     0.44545,     0.44645,     0.44745,     0.44845,     0.44945,     0.45045,     0.45145,     0.45245,     0.45345,     0.45445,     0.45546,\n",
                            "           0.45646,     0.45746,     0.45846,     0.45946,     0.46046,     0.46146,     0.46246,     0.46346,     0.46446,     0.46547,     0.46647,     0.46747,     0.46847,     0.46947,     0.47047,     0.47147,     0.47247,     0.47347,     0.47447,     0.47548,     0.47648,     0.47748,     0.47848,     0.47948,\n",
                            "           0.48048,     0.48148,     0.48248,     0.48348,     0.48448,     0.48549,     0.48649,     0.48749,     0.48849,     0.48949,     0.49049,     0.49149,     0.49249,     0.49349,     0.49449,      0.4955,      0.4965,      0.4975,      0.4985,      0.4995,      0.5005,      0.5015,      0.5025,      0.5035,\n",
                            "            0.5045,     0.50551,     0.50651,     0.50751,     0.50851,     0.50951,     0.51051,     0.51151,     0.51251,     0.51351,     0.51451,     0.51552,     0.51652,     0.51752,     0.51852,     0.51952,     0.52052,     0.52152,     0.52252,     0.52352,     0.52452,     0.52553,     0.52653,     0.52753,\n",
                            "           0.52853,     0.52953,     0.53053,     0.53153,     0.53253,     0.53353,     0.53453,     0.53554,     0.53654,     0.53754,     0.53854,     0.53954,     0.54054,     0.54154,     0.54254,     0.54354,     0.54454,     0.54555,     0.54655,     0.54755,     0.54855,     0.54955,     0.55055,     0.55155,\n",
                            "           0.55255,     0.55355,     0.55455,     0.55556,     0.55656,     0.55756,     0.55856,     0.55956,     0.56056,     0.56156,     0.56256,     0.56356,     0.56456,     0.56557,     0.56657,     0.56757,     0.56857,     0.56957,     0.57057,     0.57157,     0.57257,     0.57357,     0.57457,     0.57558,\n",
                            "           0.57658,     0.57758,     0.57858,     0.57958,     0.58058,     0.58158,     0.58258,     0.58358,     0.58458,     0.58559,     0.58659,     0.58759,     0.58859,     0.58959,     0.59059,     0.59159,     0.59259,     0.59359,     0.59459,      0.5956,      0.5966,      0.5976,      0.5986,      0.5996,\n",
                            "            0.6006,      0.6016,      0.6026,      0.6036,      0.6046,     0.60561,     0.60661,     0.60761,     0.60861,     0.60961,     0.61061,     0.61161,     0.61261,     0.61361,     0.61461,     0.61562,     0.61662,     0.61762,     0.61862,     0.61962,     0.62062,     0.62162,     0.62262,     0.62362,\n",
                            "           0.62462,     0.62563,     0.62663,     0.62763,     0.62863,     0.62963,     0.63063,     0.63163,     0.63263,     0.63363,     0.63463,     0.63564,     0.63664,     0.63764,     0.63864,     0.63964,     0.64064,     0.64164,     0.64264,     0.64364,     0.64464,     0.64565,     0.64665,     0.64765,\n",
                            "           0.64865,     0.64965,     0.65065,     0.65165,     0.65265,     0.65365,     0.65465,     0.65566,     0.65666,     0.65766,     0.65866,     0.65966,     0.66066,     0.66166,     0.66266,     0.66366,     0.66466,     0.66567,     0.66667,     0.66767,     0.66867,     0.66967,     0.67067,     0.67167,\n",
                            "           0.67267,     0.67367,     0.67467,     0.67568,     0.67668,     0.67768,     0.67868,     0.67968,     0.68068,     0.68168,     0.68268,     0.68368,     0.68468,     0.68569,     0.68669,     0.68769,     0.68869,     0.68969,     0.69069,     0.69169,     0.69269,     0.69369,     0.69469,      0.6957,\n",
                            "            0.6967,      0.6977,      0.6987,      0.6997,      0.7007,      0.7017,      0.7027,      0.7037,      0.7047,     0.70571,     0.70671,     0.70771,     0.70871,     0.70971,     0.71071,     0.71171,     0.71271,     0.71371,     0.71471,     0.71572,     0.71672,     0.71772,     0.71872,     0.71972,\n",
                            "           0.72072,     0.72172,     0.72272,     0.72372,     0.72472,     0.72573,     0.72673,     0.72773,     0.72873,     0.72973,     0.73073,     0.73173,     0.73273,     0.73373,     0.73473,     0.73574,     0.73674,     0.73774,     0.73874,     0.73974,     0.74074,     0.74174,     0.74274,     0.74374,\n",
                            "           0.74474,     0.74575,     0.74675,     0.74775,     0.74875,     0.74975,     0.75075,     0.75175,     0.75275,     0.75375,     0.75475,     0.75576,     0.75676,     0.75776,     0.75876,     0.75976,     0.76076,     0.76176,     0.76276,     0.76376,     0.76476,     0.76577,     0.76677,     0.76777,\n",
                            "           0.76877,     0.76977,     0.77077,     0.77177,     0.77277,     0.77377,     0.77477,     0.77578,     0.77678,     0.77778,     0.77878,     0.77978,     0.78078,     0.78178,     0.78278,     0.78378,     0.78478,     0.78579,     0.78679,     0.78779,     0.78879,     0.78979,     0.79079,     0.79179,\n",
                            "           0.79279,     0.79379,     0.79479,      0.7958,      0.7968,      0.7978,      0.7988,      0.7998,      0.8008,      0.8018,      0.8028,      0.8038,      0.8048,     0.80581,     0.80681,     0.80781,     0.80881,     0.80981,     0.81081,     0.81181,     0.81281,     0.81381,     0.81481,     0.81582,\n",
                            "           0.81682,     0.81782,     0.81882,     0.81982,     0.82082,     0.82182,     0.82282,     0.82382,     0.82482,     0.82583,     0.82683,     0.82783,     0.82883,     0.82983,     0.83083,     0.83183,     0.83283,     0.83383,     0.83483,     0.83584,     0.83684,     0.83784,     0.83884,     0.83984,\n",
                            "           0.84084,     0.84184,     0.84284,     0.84384,     0.84484,     0.84585,     0.84685,     0.84785,     0.84885,     0.84985,     0.85085,     0.85185,     0.85285,     0.85385,     0.85485,     0.85586,     0.85686,     0.85786,     0.85886,     0.85986,     0.86086,     0.86186,     0.86286,     0.86386,\n",
                            "           0.86486,     0.86587,     0.86687,     0.86787,     0.86887,     0.86987,     0.87087,     0.87187,     0.87287,     0.87387,     0.87487,     0.87588,     0.87688,     0.87788,     0.87888,     0.87988,     0.88088,     0.88188,     0.88288,     0.88388,     0.88488,     0.88589,     0.88689,     0.88789,\n",
                            "           0.88889,     0.88989,     0.89089,     0.89189,     0.89289,     0.89389,     0.89489,      0.8959,      0.8969,      0.8979,      0.8989,      0.8999,      0.9009,      0.9019,      0.9029,      0.9039,      0.9049,     0.90591,     0.90691,     0.90791,     0.90891,     0.90991,     0.91091,     0.91191,\n",
                            "           0.91291,     0.91391,     0.91491,     0.91592,     0.91692,     0.91792,     0.91892,     0.91992,     0.92092,     0.92192,     0.92292,     0.92392,     0.92492,     0.92593,     0.92693,     0.92793,     0.92893,     0.92993,     0.93093,     0.93193,     0.93293,     0.93393,     0.93493,     0.93594,\n",
                            "           0.93694,     0.93794,     0.93894,     0.93994,     0.94094,     0.94194,     0.94294,     0.94394,     0.94494,     0.94595,     0.94695,     0.94795,     0.94895,     0.94995,     0.95095,     0.95195,     0.95295,     0.95395,     0.95495,     0.95596,     0.95696,     0.95796,     0.95896,     0.95996,\n",
                            "           0.96096,     0.96196,     0.96296,     0.96396,     0.96496,     0.96597,     0.96697,     0.96797,     0.96897,     0.96997,     0.97097,     0.97197,     0.97297,     0.97397,     0.97497,     0.97598,     0.97698,     0.97798,     0.97898,     0.97998,     0.98098,     0.98198,     0.98298,     0.98398,\n",
                            "           0.98498,     0.98599,     0.98699,     0.98799,     0.98899,     0.98999,     0.99099,     0.99199,     0.99299,     0.99399,     0.99499,       0.996,       0.997,       0.998,       0.999,           1]), array([[          1,           1,           1, ...,           1,           1,           0],\n",
                            "       [          1,           1,           1, ...,           1,           1,           0],\n",
                            "       [          1,           1,           1, ...,           1,           1,           0],\n",
                            "       ...,\n",
                            "       [          1,           1,           1, ...,           1,           1,           0],\n",
                            "       [          1,           1,           1, ...,       0.875,       0.875,           0],\n",
                            "       [          1,           1,           1, ...,           1,           1,           0]], shape=(26, 1000)), 'Recall', 'Precision'], [array([          0,    0.001001,    0.002002,    0.003003,    0.004004,    0.005005,    0.006006,    0.007007,    0.008008,    0.009009,     0.01001,    0.011011,    0.012012,    0.013013,    0.014014,    0.015015,    0.016016,    0.017017,    0.018018,    0.019019,     0.02002,    0.021021,    0.022022,    0.023023,\n",
                            "          0.024024,    0.025025,    0.026026,    0.027027,    0.028028,    0.029029,     0.03003,    0.031031,    0.032032,    0.033033,    0.034034,    0.035035,    0.036036,    0.037037,    0.038038,    0.039039,     0.04004,    0.041041,    0.042042,    0.043043,    0.044044,    0.045045,    0.046046,    0.047047,\n",
                            "          0.048048,    0.049049,     0.05005,    0.051051,    0.052052,    0.053053,    0.054054,    0.055055,    0.056056,    0.057057,    0.058058,    0.059059,     0.06006,    0.061061,    0.062062,    0.063063,    0.064064,    0.065065,    0.066066,    0.067067,    0.068068,    0.069069,     0.07007,    0.071071,\n",
                            "          0.072072,    0.073073,    0.074074,    0.075075,    0.076076,    0.077077,    0.078078,    0.079079,     0.08008,    0.081081,    0.082082,    0.083083,    0.084084,    0.085085,    0.086086,    0.087087,    0.088088,    0.089089,     0.09009,    0.091091,    0.092092,    0.093093,    0.094094,    0.095095,\n",
                            "          0.096096,    0.097097,    0.098098,    0.099099,      0.1001,      0.1011,      0.1021,      0.1031,      0.1041,     0.10511,     0.10611,     0.10711,     0.10811,     0.10911,     0.11011,     0.11111,     0.11211,     0.11311,     0.11411,     0.11512,     0.11612,     0.11712,     0.11812,     0.11912,\n",
                            "           0.12012,     0.12112,     0.12212,     0.12312,     0.12412,     0.12513,     0.12613,     0.12713,     0.12813,     0.12913,     0.13013,     0.13113,     0.13213,     0.13313,     0.13413,     0.13514,     0.13614,     0.13714,     0.13814,     0.13914,     0.14014,     0.14114,     0.14214,     0.14314,\n",
                            "           0.14414,     0.14515,     0.14615,     0.14715,     0.14815,     0.14915,     0.15015,     0.15115,     0.15215,     0.15315,     0.15415,     0.15516,     0.15616,     0.15716,     0.15816,     0.15916,     0.16016,     0.16116,     0.16216,     0.16316,     0.16416,     0.16517,     0.16617,     0.16717,\n",
                            "           0.16817,     0.16917,     0.17017,     0.17117,     0.17217,     0.17317,     0.17417,     0.17518,     0.17618,     0.17718,     0.17818,     0.17918,     0.18018,     0.18118,     0.18218,     0.18318,     0.18418,     0.18519,     0.18619,     0.18719,     0.18819,     0.18919,     0.19019,     0.19119,\n",
                            "           0.19219,     0.19319,     0.19419,      0.1952,      0.1962,      0.1972,      0.1982,      0.1992,      0.2002,      0.2012,      0.2022,      0.2032,      0.2042,     0.20521,     0.20621,     0.20721,     0.20821,     0.20921,     0.21021,     0.21121,     0.21221,     0.21321,     0.21421,     0.21522,\n",
                            "           0.21622,     0.21722,     0.21822,     0.21922,     0.22022,     0.22122,     0.22222,     0.22322,     0.22422,     0.22523,     0.22623,     0.22723,     0.22823,     0.22923,     0.23023,     0.23123,     0.23223,     0.23323,     0.23423,     0.23524,     0.23624,     0.23724,     0.23824,     0.23924,\n",
                            "           0.24024,     0.24124,     0.24224,     0.24324,     0.24424,     0.24525,     0.24625,     0.24725,     0.24825,     0.24925,     0.25025,     0.25125,     0.25225,     0.25325,     0.25425,     0.25526,     0.25626,     0.25726,     0.25826,     0.25926,     0.26026,     0.26126,     0.26226,     0.26326,\n",
                            "           0.26426,     0.26527,     0.26627,     0.26727,     0.26827,     0.26927,     0.27027,     0.27127,     0.27227,     0.27327,     0.27427,     0.27528,     0.27628,     0.27728,     0.27828,     0.27928,     0.28028,     0.28128,     0.28228,     0.28328,     0.28428,     0.28529,     0.28629,     0.28729,\n",
                            "           0.28829,     0.28929,     0.29029,     0.29129,     0.29229,     0.29329,     0.29429,      0.2953,      0.2963,      0.2973,      0.2983,      0.2993,      0.3003,      0.3013,      0.3023,      0.3033,      0.3043,     0.30531,     0.30631,     0.30731,     0.30831,     0.30931,     0.31031,     0.31131,\n",
                            "           0.31231,     0.31331,     0.31431,     0.31532,     0.31632,     0.31732,     0.31832,     0.31932,     0.32032,     0.32132,     0.32232,     0.32332,     0.32432,     0.32533,     0.32633,     0.32733,     0.32833,     0.32933,     0.33033,     0.33133,     0.33233,     0.33333,     0.33433,     0.33534,\n",
                            "           0.33634,     0.33734,     0.33834,     0.33934,     0.34034,     0.34134,     0.34234,     0.34334,     0.34434,     0.34535,     0.34635,     0.34735,     0.34835,     0.34935,     0.35035,     0.35135,     0.35235,     0.35335,     0.35435,     0.35536,     0.35636,     0.35736,     0.35836,     0.35936,\n",
                            "           0.36036,     0.36136,     0.36236,     0.36336,     0.36436,     0.36537,     0.36637,     0.36737,     0.36837,     0.36937,     0.37037,     0.37137,     0.37237,     0.37337,     0.37437,     0.37538,     0.37638,     0.37738,     0.37838,     0.37938,     0.38038,     0.38138,     0.38238,     0.38338,\n",
                            "           0.38438,     0.38539,     0.38639,     0.38739,     0.38839,     0.38939,     0.39039,     0.39139,     0.39239,     0.39339,     0.39439,      0.3954,      0.3964,      0.3974,      0.3984,      0.3994,      0.4004,      0.4014,      0.4024,      0.4034,      0.4044,     0.40541,     0.40641,     0.40741,\n",
                            "           0.40841,     0.40941,     0.41041,     0.41141,     0.41241,     0.41341,     0.41441,     0.41542,     0.41642,     0.41742,     0.41842,     0.41942,     0.42042,     0.42142,     0.42242,     0.42342,     0.42442,     0.42543,     0.42643,     0.42743,     0.42843,     0.42943,     0.43043,     0.43143,\n",
                            "           0.43243,     0.43343,     0.43443,     0.43544,     0.43644,     0.43744,     0.43844,     0.43944,     0.44044,     0.44144,     0.44244,     0.44344,     0.44444,     0.44545,     0.44645,     0.44745,     0.44845,     0.44945,     0.45045,     0.45145,     0.45245,     0.45345,     0.45445,     0.45546,\n",
                            "           0.45646,     0.45746,     0.45846,     0.45946,     0.46046,     0.46146,     0.46246,     0.46346,     0.46446,     0.46547,     0.46647,     0.46747,     0.46847,     0.46947,     0.47047,     0.47147,     0.47247,     0.47347,     0.47447,     0.47548,     0.47648,     0.47748,     0.47848,     0.47948,\n",
                            "           0.48048,     0.48148,     0.48248,     0.48348,     0.48448,     0.48549,     0.48649,     0.48749,     0.48849,     0.48949,     0.49049,     0.49149,     0.49249,     0.49349,     0.49449,      0.4955,      0.4965,      0.4975,      0.4985,      0.4995,      0.5005,      0.5015,      0.5025,      0.5035,\n",
                            "            0.5045,     0.50551,     0.50651,     0.50751,     0.50851,     0.50951,     0.51051,     0.51151,     0.51251,     0.51351,     0.51451,     0.51552,     0.51652,     0.51752,     0.51852,     0.51952,     0.52052,     0.52152,     0.52252,     0.52352,     0.52452,     0.52553,     0.52653,     0.52753,\n",
                            "           0.52853,     0.52953,     0.53053,     0.53153,     0.53253,     0.53353,     0.53453,     0.53554,     0.53654,     0.53754,     0.53854,     0.53954,     0.54054,     0.54154,     0.54254,     0.54354,     0.54454,     0.54555,     0.54655,     0.54755,     0.54855,     0.54955,     0.55055,     0.55155,\n",
                            "           0.55255,     0.55355,     0.55455,     0.55556,     0.55656,     0.55756,     0.55856,     0.55956,     0.56056,     0.56156,     0.56256,     0.56356,     0.56456,     0.56557,     0.56657,     0.56757,     0.56857,     0.56957,     0.57057,     0.57157,     0.57257,     0.57357,     0.57457,     0.57558,\n",
                            "           0.57658,     0.57758,     0.57858,     0.57958,     0.58058,     0.58158,     0.58258,     0.58358,     0.58458,     0.58559,     0.58659,     0.58759,     0.58859,     0.58959,     0.59059,     0.59159,     0.59259,     0.59359,     0.59459,      0.5956,      0.5966,      0.5976,      0.5986,      0.5996,\n",
                            "            0.6006,      0.6016,      0.6026,      0.6036,      0.6046,     0.60561,     0.60661,     0.60761,     0.60861,     0.60961,     0.61061,     0.61161,     0.61261,     0.61361,     0.61461,     0.61562,     0.61662,     0.61762,     0.61862,     0.61962,     0.62062,     0.62162,     0.62262,     0.62362,\n",
                            "           0.62462,     0.62563,     0.62663,     0.62763,     0.62863,     0.62963,     0.63063,     0.63163,     0.63263,     0.63363,     0.63463,     0.63564,     0.63664,     0.63764,     0.63864,     0.63964,     0.64064,     0.64164,     0.64264,     0.64364,     0.64464,     0.64565,     0.64665,     0.64765,\n",
                            "           0.64865,     0.64965,     0.65065,     0.65165,     0.65265,     0.65365,     0.65465,     0.65566,     0.65666,     0.65766,     0.65866,     0.65966,     0.66066,     0.66166,     0.66266,     0.66366,     0.66466,     0.66567,     0.66667,     0.66767,     0.66867,     0.66967,     0.67067,     0.67167,\n",
                            "           0.67267,     0.67367,     0.67467,     0.67568,     0.67668,     0.67768,     0.67868,     0.67968,     0.68068,     0.68168,     0.68268,     0.68368,     0.68468,     0.68569,     0.68669,     0.68769,     0.68869,     0.68969,     0.69069,     0.69169,     0.69269,     0.69369,     0.69469,      0.6957,\n",
                            "            0.6967,      0.6977,      0.6987,      0.6997,      0.7007,      0.7017,      0.7027,      0.7037,      0.7047,     0.70571,     0.70671,     0.70771,     0.70871,     0.70971,     0.71071,     0.71171,     0.71271,     0.71371,     0.71471,     0.71572,     0.71672,     0.71772,     0.71872,     0.71972,\n",
                            "           0.72072,     0.72172,     0.72272,     0.72372,     0.72472,     0.72573,     0.72673,     0.72773,     0.72873,     0.72973,     0.73073,     0.73173,     0.73273,     0.73373,     0.73473,     0.73574,     0.73674,     0.73774,     0.73874,     0.73974,     0.74074,     0.74174,     0.74274,     0.74374,\n",
                            "           0.74474,     0.74575,     0.74675,     0.74775,     0.74875,     0.74975,     0.75075,     0.75175,     0.75275,     0.75375,     0.75475,     0.75576,     0.75676,     0.75776,     0.75876,     0.75976,     0.76076,     0.76176,     0.76276,     0.76376,     0.76476,     0.76577,     0.76677,     0.76777,\n",
                            "           0.76877,     0.76977,     0.77077,     0.77177,     0.77277,     0.77377,     0.77477,     0.77578,     0.77678,     0.77778,     0.77878,     0.77978,     0.78078,     0.78178,     0.78278,     0.78378,     0.78478,     0.78579,     0.78679,     0.78779,     0.78879,     0.78979,     0.79079,     0.79179,\n",
                            "           0.79279,     0.79379,     0.79479,      0.7958,      0.7968,      0.7978,      0.7988,      0.7998,      0.8008,      0.8018,      0.8028,      0.8038,      0.8048,     0.80581,     0.80681,     0.80781,     0.80881,     0.80981,     0.81081,     0.81181,     0.81281,     0.81381,     0.81481,     0.81582,\n",
                            "           0.81682,     0.81782,     0.81882,     0.81982,     0.82082,     0.82182,     0.82282,     0.82382,     0.82482,     0.82583,     0.82683,     0.82783,     0.82883,     0.82983,     0.83083,     0.83183,     0.83283,     0.83383,     0.83483,     0.83584,     0.83684,     0.83784,     0.83884,     0.83984,\n",
                            "           0.84084,     0.84184,     0.84284,     0.84384,     0.84484,     0.84585,     0.84685,     0.84785,     0.84885,     0.84985,     0.85085,     0.85185,     0.85285,     0.85385,     0.85485,     0.85586,     0.85686,     0.85786,     0.85886,     0.85986,     0.86086,     0.86186,     0.86286,     0.86386,\n",
                            "           0.86486,     0.86587,     0.86687,     0.86787,     0.86887,     0.86987,     0.87087,     0.87187,     0.87287,     0.87387,     0.87487,     0.87588,     0.87688,     0.87788,     0.87888,     0.87988,     0.88088,     0.88188,     0.88288,     0.88388,     0.88488,     0.88589,     0.88689,     0.88789,\n",
                            "           0.88889,     0.88989,     0.89089,     0.89189,     0.89289,     0.89389,     0.89489,      0.8959,      0.8969,      0.8979,      0.8989,      0.8999,      0.9009,      0.9019,      0.9029,      0.9039,      0.9049,     0.90591,     0.90691,     0.90791,     0.90891,     0.90991,     0.91091,     0.91191,\n",
                            "           0.91291,     0.91391,     0.91491,     0.91592,     0.91692,     0.91792,     0.91892,     0.91992,     0.92092,     0.92192,     0.92292,     0.92392,     0.92492,     0.92593,     0.92693,     0.92793,     0.92893,     0.92993,     0.93093,     0.93193,     0.93293,     0.93393,     0.93493,     0.93594,\n",
                            "           0.93694,     0.93794,     0.93894,     0.93994,     0.94094,     0.94194,     0.94294,     0.94394,     0.94494,     0.94595,     0.94695,     0.94795,     0.94895,     0.94995,     0.95095,     0.95195,     0.95295,     0.95395,     0.95495,     0.95596,     0.95696,     0.95796,     0.95896,     0.95996,\n",
                            "           0.96096,     0.96196,     0.96296,     0.96396,     0.96496,     0.96597,     0.96697,     0.96797,     0.96897,     0.96997,     0.97097,     0.97197,     0.97297,     0.97397,     0.97497,     0.97598,     0.97698,     0.97798,     0.97898,     0.97998,     0.98098,     0.98198,     0.98298,     0.98398,\n",
                            "           0.98498,     0.98599,     0.98699,     0.98799,     0.98899,     0.98999,     0.99099,     0.99199,     0.99299,     0.99399,     0.99499,       0.996,       0.997,       0.998,       0.999,           1]), array([[   0.026134,    0.026134,     0.14401, ...,           0,           0,           0],\n",
                            "       [   0.052402,    0.052402,     0.21222, ...,           0,           0,           0],\n",
                            "       [   0.033684,    0.033684,     0.23698, ...,           0,           0,           0],\n",
                            "       ...,\n",
                            "       [    0.10638,     0.10638,     0.20114, ...,           0,           0,           0],\n",
                            "       [   0.099291,    0.099291,     0.17496, ...,     0.45305,     0.25546,           0],\n",
                            "       [    0.27907,     0.27907,     0.46026, ...,     0.50933,           0,           0]], shape=(26, 1000)), 'Confidence', 'F1'], [array([          0,    0.001001,    0.002002,    0.003003,    0.004004,    0.005005,    0.006006,    0.007007,    0.008008,    0.009009,     0.01001,    0.011011,    0.012012,    0.013013,    0.014014,    0.015015,    0.016016,    0.017017,    0.018018,    0.019019,     0.02002,    0.021021,    0.022022,    0.023023,\n",
                            "          0.024024,    0.025025,    0.026026,    0.027027,    0.028028,    0.029029,     0.03003,    0.031031,    0.032032,    0.033033,    0.034034,    0.035035,    0.036036,    0.037037,    0.038038,    0.039039,     0.04004,    0.041041,    0.042042,    0.043043,    0.044044,    0.045045,    0.046046,    0.047047,\n",
                            "          0.048048,    0.049049,     0.05005,    0.051051,    0.052052,    0.053053,    0.054054,    0.055055,    0.056056,    0.057057,    0.058058,    0.059059,     0.06006,    0.061061,    0.062062,    0.063063,    0.064064,    0.065065,    0.066066,    0.067067,    0.068068,    0.069069,     0.07007,    0.071071,\n",
                            "          0.072072,    0.073073,    0.074074,    0.075075,    0.076076,    0.077077,    0.078078,    0.079079,     0.08008,    0.081081,    0.082082,    0.083083,    0.084084,    0.085085,    0.086086,    0.087087,    0.088088,    0.089089,     0.09009,    0.091091,    0.092092,    0.093093,    0.094094,    0.095095,\n",
                            "          0.096096,    0.097097,    0.098098,    0.099099,      0.1001,      0.1011,      0.1021,      0.1031,      0.1041,     0.10511,     0.10611,     0.10711,     0.10811,     0.10911,     0.11011,     0.11111,     0.11211,     0.11311,     0.11411,     0.11512,     0.11612,     0.11712,     0.11812,     0.11912,\n",
                            "           0.12012,     0.12112,     0.12212,     0.12312,     0.12412,     0.12513,     0.12613,     0.12713,     0.12813,     0.12913,     0.13013,     0.13113,     0.13213,     0.13313,     0.13413,     0.13514,     0.13614,     0.13714,     0.13814,     0.13914,     0.14014,     0.14114,     0.14214,     0.14314,\n",
                            "           0.14414,     0.14515,     0.14615,     0.14715,     0.14815,     0.14915,     0.15015,     0.15115,     0.15215,     0.15315,     0.15415,     0.15516,     0.15616,     0.15716,     0.15816,     0.15916,     0.16016,     0.16116,     0.16216,     0.16316,     0.16416,     0.16517,     0.16617,     0.16717,\n",
                            "           0.16817,     0.16917,     0.17017,     0.17117,     0.17217,     0.17317,     0.17417,     0.17518,     0.17618,     0.17718,     0.17818,     0.17918,     0.18018,     0.18118,     0.18218,     0.18318,     0.18418,     0.18519,     0.18619,     0.18719,     0.18819,     0.18919,     0.19019,     0.19119,\n",
                            "           0.19219,     0.19319,     0.19419,      0.1952,      0.1962,      0.1972,      0.1982,      0.1992,      0.2002,      0.2012,      0.2022,      0.2032,      0.2042,     0.20521,     0.20621,     0.20721,     0.20821,     0.20921,     0.21021,     0.21121,     0.21221,     0.21321,     0.21421,     0.21522,\n",
                            "           0.21622,     0.21722,     0.21822,     0.21922,     0.22022,     0.22122,     0.22222,     0.22322,     0.22422,     0.22523,     0.22623,     0.22723,     0.22823,     0.22923,     0.23023,     0.23123,     0.23223,     0.23323,     0.23423,     0.23524,     0.23624,     0.23724,     0.23824,     0.23924,\n",
                            "           0.24024,     0.24124,     0.24224,     0.24324,     0.24424,     0.24525,     0.24625,     0.24725,     0.24825,     0.24925,     0.25025,     0.25125,     0.25225,     0.25325,     0.25425,     0.25526,     0.25626,     0.25726,     0.25826,     0.25926,     0.26026,     0.26126,     0.26226,     0.26326,\n",
                            "           0.26426,     0.26527,     0.26627,     0.26727,     0.26827,     0.26927,     0.27027,     0.27127,     0.27227,     0.27327,     0.27427,     0.27528,     0.27628,     0.27728,     0.27828,     0.27928,     0.28028,     0.28128,     0.28228,     0.28328,     0.28428,     0.28529,     0.28629,     0.28729,\n",
                            "           0.28829,     0.28929,     0.29029,     0.29129,     0.29229,     0.29329,     0.29429,      0.2953,      0.2963,      0.2973,      0.2983,      0.2993,      0.3003,      0.3013,      0.3023,      0.3033,      0.3043,     0.30531,     0.30631,     0.30731,     0.30831,     0.30931,     0.31031,     0.31131,\n",
                            "           0.31231,     0.31331,     0.31431,     0.31532,     0.31632,     0.31732,     0.31832,     0.31932,     0.32032,     0.32132,     0.32232,     0.32332,     0.32432,     0.32533,     0.32633,     0.32733,     0.32833,     0.32933,     0.33033,     0.33133,     0.33233,     0.33333,     0.33433,     0.33534,\n",
                            "           0.33634,     0.33734,     0.33834,     0.33934,     0.34034,     0.34134,     0.34234,     0.34334,     0.34434,     0.34535,     0.34635,     0.34735,     0.34835,     0.34935,     0.35035,     0.35135,     0.35235,     0.35335,     0.35435,     0.35536,     0.35636,     0.35736,     0.35836,     0.35936,\n",
                            "           0.36036,     0.36136,     0.36236,     0.36336,     0.36436,     0.36537,     0.36637,     0.36737,     0.36837,     0.36937,     0.37037,     0.37137,     0.37237,     0.37337,     0.37437,     0.37538,     0.37638,     0.37738,     0.37838,     0.37938,     0.38038,     0.38138,     0.38238,     0.38338,\n",
                            "           0.38438,     0.38539,     0.38639,     0.38739,     0.38839,     0.38939,     0.39039,     0.39139,     0.39239,     0.39339,     0.39439,      0.3954,      0.3964,      0.3974,      0.3984,      0.3994,      0.4004,      0.4014,      0.4024,      0.4034,      0.4044,     0.40541,     0.40641,     0.40741,\n",
                            "           0.40841,     0.40941,     0.41041,     0.41141,     0.41241,     0.41341,     0.41441,     0.41542,     0.41642,     0.41742,     0.41842,     0.41942,     0.42042,     0.42142,     0.42242,     0.42342,     0.42442,     0.42543,     0.42643,     0.42743,     0.42843,     0.42943,     0.43043,     0.43143,\n",
                            "           0.43243,     0.43343,     0.43443,     0.43544,     0.43644,     0.43744,     0.43844,     0.43944,     0.44044,     0.44144,     0.44244,     0.44344,     0.44444,     0.44545,     0.44645,     0.44745,     0.44845,     0.44945,     0.45045,     0.45145,     0.45245,     0.45345,     0.45445,     0.45546,\n",
                            "           0.45646,     0.45746,     0.45846,     0.45946,     0.46046,     0.46146,     0.46246,     0.46346,     0.46446,     0.46547,     0.46647,     0.46747,     0.46847,     0.46947,     0.47047,     0.47147,     0.47247,     0.47347,     0.47447,     0.47548,     0.47648,     0.47748,     0.47848,     0.47948,\n",
                            "           0.48048,     0.48148,     0.48248,     0.48348,     0.48448,     0.48549,     0.48649,     0.48749,     0.48849,     0.48949,     0.49049,     0.49149,     0.49249,     0.49349,     0.49449,      0.4955,      0.4965,      0.4975,      0.4985,      0.4995,      0.5005,      0.5015,      0.5025,      0.5035,\n",
                            "            0.5045,     0.50551,     0.50651,     0.50751,     0.50851,     0.50951,     0.51051,     0.51151,     0.51251,     0.51351,     0.51451,     0.51552,     0.51652,     0.51752,     0.51852,     0.51952,     0.52052,     0.52152,     0.52252,     0.52352,     0.52452,     0.52553,     0.52653,     0.52753,\n",
                            "           0.52853,     0.52953,     0.53053,     0.53153,     0.53253,     0.53353,     0.53453,     0.53554,     0.53654,     0.53754,     0.53854,     0.53954,     0.54054,     0.54154,     0.54254,     0.54354,     0.54454,     0.54555,     0.54655,     0.54755,     0.54855,     0.54955,     0.55055,     0.55155,\n",
                            "           0.55255,     0.55355,     0.55455,     0.55556,     0.55656,     0.55756,     0.55856,     0.55956,     0.56056,     0.56156,     0.56256,     0.56356,     0.56456,     0.56557,     0.56657,     0.56757,     0.56857,     0.56957,     0.57057,     0.57157,     0.57257,     0.57357,     0.57457,     0.57558,\n",
                            "           0.57658,     0.57758,     0.57858,     0.57958,     0.58058,     0.58158,     0.58258,     0.58358,     0.58458,     0.58559,     0.58659,     0.58759,     0.58859,     0.58959,     0.59059,     0.59159,     0.59259,     0.59359,     0.59459,      0.5956,      0.5966,      0.5976,      0.5986,      0.5996,\n",
                            "            0.6006,      0.6016,      0.6026,      0.6036,      0.6046,     0.60561,     0.60661,     0.60761,     0.60861,     0.60961,     0.61061,     0.61161,     0.61261,     0.61361,     0.61461,     0.61562,     0.61662,     0.61762,     0.61862,     0.61962,     0.62062,     0.62162,     0.62262,     0.62362,\n",
                            "           0.62462,     0.62563,     0.62663,     0.62763,     0.62863,     0.62963,     0.63063,     0.63163,     0.63263,     0.63363,     0.63463,     0.63564,     0.63664,     0.63764,     0.63864,     0.63964,     0.64064,     0.64164,     0.64264,     0.64364,     0.64464,     0.64565,     0.64665,     0.64765,\n",
                            "           0.64865,     0.64965,     0.65065,     0.65165,     0.65265,     0.65365,     0.65465,     0.65566,     0.65666,     0.65766,     0.65866,     0.65966,     0.66066,     0.66166,     0.66266,     0.66366,     0.66466,     0.66567,     0.66667,     0.66767,     0.66867,     0.66967,     0.67067,     0.67167,\n",
                            "           0.67267,     0.67367,     0.67467,     0.67568,     0.67668,     0.67768,     0.67868,     0.67968,     0.68068,     0.68168,     0.68268,     0.68368,     0.68468,     0.68569,     0.68669,     0.68769,     0.68869,     0.68969,     0.69069,     0.69169,     0.69269,     0.69369,     0.69469,      0.6957,\n",
                            "            0.6967,      0.6977,      0.6987,      0.6997,      0.7007,      0.7017,      0.7027,      0.7037,      0.7047,     0.70571,     0.70671,     0.70771,     0.70871,     0.70971,     0.71071,     0.71171,     0.71271,     0.71371,     0.71471,     0.71572,     0.71672,     0.71772,     0.71872,     0.71972,\n",
                            "           0.72072,     0.72172,     0.72272,     0.72372,     0.72472,     0.72573,     0.72673,     0.72773,     0.72873,     0.72973,     0.73073,     0.73173,     0.73273,     0.73373,     0.73473,     0.73574,     0.73674,     0.73774,     0.73874,     0.73974,     0.74074,     0.74174,     0.74274,     0.74374,\n",
                            "           0.74474,     0.74575,     0.74675,     0.74775,     0.74875,     0.74975,     0.75075,     0.75175,     0.75275,     0.75375,     0.75475,     0.75576,     0.75676,     0.75776,     0.75876,     0.75976,     0.76076,     0.76176,     0.76276,     0.76376,     0.76476,     0.76577,     0.76677,     0.76777,\n",
                            "           0.76877,     0.76977,     0.77077,     0.77177,     0.77277,     0.77377,     0.77477,     0.77578,     0.77678,     0.77778,     0.77878,     0.77978,     0.78078,     0.78178,     0.78278,     0.78378,     0.78478,     0.78579,     0.78679,     0.78779,     0.78879,     0.78979,     0.79079,     0.79179,\n",
                            "           0.79279,     0.79379,     0.79479,      0.7958,      0.7968,      0.7978,      0.7988,      0.7998,      0.8008,      0.8018,      0.8028,      0.8038,      0.8048,     0.80581,     0.80681,     0.80781,     0.80881,     0.80981,     0.81081,     0.81181,     0.81281,     0.81381,     0.81481,     0.81582,\n",
                            "           0.81682,     0.81782,     0.81882,     0.81982,     0.82082,     0.82182,     0.82282,     0.82382,     0.82482,     0.82583,     0.82683,     0.82783,     0.82883,     0.82983,     0.83083,     0.83183,     0.83283,     0.83383,     0.83483,     0.83584,     0.83684,     0.83784,     0.83884,     0.83984,\n",
                            "           0.84084,     0.84184,     0.84284,     0.84384,     0.84484,     0.84585,     0.84685,     0.84785,     0.84885,     0.84985,     0.85085,     0.85185,     0.85285,     0.85385,     0.85485,     0.85586,     0.85686,     0.85786,     0.85886,     0.85986,     0.86086,     0.86186,     0.86286,     0.86386,\n",
                            "           0.86486,     0.86587,     0.86687,     0.86787,     0.86887,     0.86987,     0.87087,     0.87187,     0.87287,     0.87387,     0.87487,     0.87588,     0.87688,     0.87788,     0.87888,     0.87988,     0.88088,     0.88188,     0.88288,     0.88388,     0.88488,     0.88589,     0.88689,     0.88789,\n",
                            "           0.88889,     0.88989,     0.89089,     0.89189,     0.89289,     0.89389,     0.89489,      0.8959,      0.8969,      0.8979,      0.8989,      0.8999,      0.9009,      0.9019,      0.9029,      0.9039,      0.9049,     0.90591,     0.90691,     0.90791,     0.90891,     0.90991,     0.91091,     0.91191,\n",
                            "           0.91291,     0.91391,     0.91491,     0.91592,     0.91692,     0.91792,     0.91892,     0.91992,     0.92092,     0.92192,     0.92292,     0.92392,     0.92492,     0.92593,     0.92693,     0.92793,     0.92893,     0.92993,     0.93093,     0.93193,     0.93293,     0.93393,     0.93493,     0.93594,\n",
                            "           0.93694,     0.93794,     0.93894,     0.93994,     0.94094,     0.94194,     0.94294,     0.94394,     0.94494,     0.94595,     0.94695,     0.94795,     0.94895,     0.94995,     0.95095,     0.95195,     0.95295,     0.95395,     0.95495,     0.95596,     0.95696,     0.95796,     0.95896,     0.95996,\n",
                            "           0.96096,     0.96196,     0.96296,     0.96396,     0.96496,     0.96597,     0.96697,     0.96797,     0.96897,     0.96997,     0.97097,     0.97197,     0.97297,     0.97397,     0.97497,     0.97598,     0.97698,     0.97798,     0.97898,     0.97998,     0.98098,     0.98198,     0.98298,     0.98398,\n",
                            "           0.98498,     0.98599,     0.98699,     0.98799,     0.98899,     0.98999,     0.99099,     0.99199,     0.99299,     0.99399,     0.99499,       0.996,       0.997,       0.998,       0.999,           1]), array([[    0.01324,     0.01324,    0.077593, ...,           1,           1,           1],\n",
                            "       [   0.026906,    0.026906,      0.1187, ...,           1,           1,           1],\n",
                            "       [   0.017131,    0.017131,     0.13442, ...,           1,           1,           1],\n",
                            "       ...,\n",
                            "       [    0.05618,     0.05618,     0.11182, ...,           1,           1,           1],\n",
                            "       [   0.052239,    0.052239,    0.095866, ...,           1,           1,           1],\n",
                            "       [    0.16216,     0.16216,     0.29892, ...,           1,           1,           1]], shape=(26, 1000)), 'Confidence', 'Precision'], [array([          0,    0.001001,    0.002002,    0.003003,    0.004004,    0.005005,    0.006006,    0.007007,    0.008008,    0.009009,     0.01001,    0.011011,    0.012012,    0.013013,    0.014014,    0.015015,    0.016016,    0.017017,    0.018018,    0.019019,     0.02002,    0.021021,    0.022022,    0.023023,\n",
                            "          0.024024,    0.025025,    0.026026,    0.027027,    0.028028,    0.029029,     0.03003,    0.031031,    0.032032,    0.033033,    0.034034,    0.035035,    0.036036,    0.037037,    0.038038,    0.039039,     0.04004,    0.041041,    0.042042,    0.043043,    0.044044,    0.045045,    0.046046,    0.047047,\n",
                            "          0.048048,    0.049049,     0.05005,    0.051051,    0.052052,    0.053053,    0.054054,    0.055055,    0.056056,    0.057057,    0.058058,    0.059059,     0.06006,    0.061061,    0.062062,    0.063063,    0.064064,    0.065065,    0.066066,    0.067067,    0.068068,    0.069069,     0.07007,    0.071071,\n",
                            "          0.072072,    0.073073,    0.074074,    0.075075,    0.076076,    0.077077,    0.078078,    0.079079,     0.08008,    0.081081,    0.082082,    0.083083,    0.084084,    0.085085,    0.086086,    0.087087,    0.088088,    0.089089,     0.09009,    0.091091,    0.092092,    0.093093,    0.094094,    0.095095,\n",
                            "          0.096096,    0.097097,    0.098098,    0.099099,      0.1001,      0.1011,      0.1021,      0.1031,      0.1041,     0.10511,     0.10611,     0.10711,     0.10811,     0.10911,     0.11011,     0.11111,     0.11211,     0.11311,     0.11411,     0.11512,     0.11612,     0.11712,     0.11812,     0.11912,\n",
                            "           0.12012,     0.12112,     0.12212,     0.12312,     0.12412,     0.12513,     0.12613,     0.12713,     0.12813,     0.12913,     0.13013,     0.13113,     0.13213,     0.13313,     0.13413,     0.13514,     0.13614,     0.13714,     0.13814,     0.13914,     0.14014,     0.14114,     0.14214,     0.14314,\n",
                            "           0.14414,     0.14515,     0.14615,     0.14715,     0.14815,     0.14915,     0.15015,     0.15115,     0.15215,     0.15315,     0.15415,     0.15516,     0.15616,     0.15716,     0.15816,     0.15916,     0.16016,     0.16116,     0.16216,     0.16316,     0.16416,     0.16517,     0.16617,     0.16717,\n",
                            "           0.16817,     0.16917,     0.17017,     0.17117,     0.17217,     0.17317,     0.17417,     0.17518,     0.17618,     0.17718,     0.17818,     0.17918,     0.18018,     0.18118,     0.18218,     0.18318,     0.18418,     0.18519,     0.18619,     0.18719,     0.18819,     0.18919,     0.19019,     0.19119,\n",
                            "           0.19219,     0.19319,     0.19419,      0.1952,      0.1962,      0.1972,      0.1982,      0.1992,      0.2002,      0.2012,      0.2022,      0.2032,      0.2042,     0.20521,     0.20621,     0.20721,     0.20821,     0.20921,     0.21021,     0.21121,     0.21221,     0.21321,     0.21421,     0.21522,\n",
                            "           0.21622,     0.21722,     0.21822,     0.21922,     0.22022,     0.22122,     0.22222,     0.22322,     0.22422,     0.22523,     0.22623,     0.22723,     0.22823,     0.22923,     0.23023,     0.23123,     0.23223,     0.23323,     0.23423,     0.23524,     0.23624,     0.23724,     0.23824,     0.23924,\n",
                            "           0.24024,     0.24124,     0.24224,     0.24324,     0.24424,     0.24525,     0.24625,     0.24725,     0.24825,     0.24925,     0.25025,     0.25125,     0.25225,     0.25325,     0.25425,     0.25526,     0.25626,     0.25726,     0.25826,     0.25926,     0.26026,     0.26126,     0.26226,     0.26326,\n",
                            "           0.26426,     0.26527,     0.26627,     0.26727,     0.26827,     0.26927,     0.27027,     0.27127,     0.27227,     0.27327,     0.27427,     0.27528,     0.27628,     0.27728,     0.27828,     0.27928,     0.28028,     0.28128,     0.28228,     0.28328,     0.28428,     0.28529,     0.28629,     0.28729,\n",
                            "           0.28829,     0.28929,     0.29029,     0.29129,     0.29229,     0.29329,     0.29429,      0.2953,      0.2963,      0.2973,      0.2983,      0.2993,      0.3003,      0.3013,      0.3023,      0.3033,      0.3043,     0.30531,     0.30631,     0.30731,     0.30831,     0.30931,     0.31031,     0.31131,\n",
                            "           0.31231,     0.31331,     0.31431,     0.31532,     0.31632,     0.31732,     0.31832,     0.31932,     0.32032,     0.32132,     0.32232,     0.32332,     0.32432,     0.32533,     0.32633,     0.32733,     0.32833,     0.32933,     0.33033,     0.33133,     0.33233,     0.33333,     0.33433,     0.33534,\n",
                            "           0.33634,     0.33734,     0.33834,     0.33934,     0.34034,     0.34134,     0.34234,     0.34334,     0.34434,     0.34535,     0.34635,     0.34735,     0.34835,     0.34935,     0.35035,     0.35135,     0.35235,     0.35335,     0.35435,     0.35536,     0.35636,     0.35736,     0.35836,     0.35936,\n",
                            "           0.36036,     0.36136,     0.36236,     0.36336,     0.36436,     0.36537,     0.36637,     0.36737,     0.36837,     0.36937,     0.37037,     0.37137,     0.37237,     0.37337,     0.37437,     0.37538,     0.37638,     0.37738,     0.37838,     0.37938,     0.38038,     0.38138,     0.38238,     0.38338,\n",
                            "           0.38438,     0.38539,     0.38639,     0.38739,     0.38839,     0.38939,     0.39039,     0.39139,     0.39239,     0.39339,     0.39439,      0.3954,      0.3964,      0.3974,      0.3984,      0.3994,      0.4004,      0.4014,      0.4024,      0.4034,      0.4044,     0.40541,     0.40641,     0.40741,\n",
                            "           0.40841,     0.40941,     0.41041,     0.41141,     0.41241,     0.41341,     0.41441,     0.41542,     0.41642,     0.41742,     0.41842,     0.41942,     0.42042,     0.42142,     0.42242,     0.42342,     0.42442,     0.42543,     0.42643,     0.42743,     0.42843,     0.42943,     0.43043,     0.43143,\n",
                            "           0.43243,     0.43343,     0.43443,     0.43544,     0.43644,     0.43744,     0.43844,     0.43944,     0.44044,     0.44144,     0.44244,     0.44344,     0.44444,     0.44545,     0.44645,     0.44745,     0.44845,     0.44945,     0.45045,     0.45145,     0.45245,     0.45345,     0.45445,     0.45546,\n",
                            "           0.45646,     0.45746,     0.45846,     0.45946,     0.46046,     0.46146,     0.46246,     0.46346,     0.46446,     0.46547,     0.46647,     0.46747,     0.46847,     0.46947,     0.47047,     0.47147,     0.47247,     0.47347,     0.47447,     0.47548,     0.47648,     0.47748,     0.47848,     0.47948,\n",
                            "           0.48048,     0.48148,     0.48248,     0.48348,     0.48448,     0.48549,     0.48649,     0.48749,     0.48849,     0.48949,     0.49049,     0.49149,     0.49249,     0.49349,     0.49449,      0.4955,      0.4965,      0.4975,      0.4985,      0.4995,      0.5005,      0.5015,      0.5025,      0.5035,\n",
                            "            0.5045,     0.50551,     0.50651,     0.50751,     0.50851,     0.50951,     0.51051,     0.51151,     0.51251,     0.51351,     0.51451,     0.51552,     0.51652,     0.51752,     0.51852,     0.51952,     0.52052,     0.52152,     0.52252,     0.52352,     0.52452,     0.52553,     0.52653,     0.52753,\n",
                            "           0.52853,     0.52953,     0.53053,     0.53153,     0.53253,     0.53353,     0.53453,     0.53554,     0.53654,     0.53754,     0.53854,     0.53954,     0.54054,     0.54154,     0.54254,     0.54354,     0.54454,     0.54555,     0.54655,     0.54755,     0.54855,     0.54955,     0.55055,     0.55155,\n",
                            "           0.55255,     0.55355,     0.55455,     0.55556,     0.55656,     0.55756,     0.55856,     0.55956,     0.56056,     0.56156,     0.56256,     0.56356,     0.56456,     0.56557,     0.56657,     0.56757,     0.56857,     0.56957,     0.57057,     0.57157,     0.57257,     0.57357,     0.57457,     0.57558,\n",
                            "           0.57658,     0.57758,     0.57858,     0.57958,     0.58058,     0.58158,     0.58258,     0.58358,     0.58458,     0.58559,     0.58659,     0.58759,     0.58859,     0.58959,     0.59059,     0.59159,     0.59259,     0.59359,     0.59459,      0.5956,      0.5966,      0.5976,      0.5986,      0.5996,\n",
                            "            0.6006,      0.6016,      0.6026,      0.6036,      0.6046,     0.60561,     0.60661,     0.60761,     0.60861,     0.60961,     0.61061,     0.61161,     0.61261,     0.61361,     0.61461,     0.61562,     0.61662,     0.61762,     0.61862,     0.61962,     0.62062,     0.62162,     0.62262,     0.62362,\n",
                            "           0.62462,     0.62563,     0.62663,     0.62763,     0.62863,     0.62963,     0.63063,     0.63163,     0.63263,     0.63363,     0.63463,     0.63564,     0.63664,     0.63764,     0.63864,     0.63964,     0.64064,     0.64164,     0.64264,     0.64364,     0.64464,     0.64565,     0.64665,     0.64765,\n",
                            "           0.64865,     0.64965,     0.65065,     0.65165,     0.65265,     0.65365,     0.65465,     0.65566,     0.65666,     0.65766,     0.65866,     0.65966,     0.66066,     0.66166,     0.66266,     0.66366,     0.66466,     0.66567,     0.66667,     0.66767,     0.66867,     0.66967,     0.67067,     0.67167,\n",
                            "           0.67267,     0.67367,     0.67467,     0.67568,     0.67668,     0.67768,     0.67868,     0.67968,     0.68068,     0.68168,     0.68268,     0.68368,     0.68468,     0.68569,     0.68669,     0.68769,     0.68869,     0.68969,     0.69069,     0.69169,     0.69269,     0.69369,     0.69469,      0.6957,\n",
                            "            0.6967,      0.6977,      0.6987,      0.6997,      0.7007,      0.7017,      0.7027,      0.7037,      0.7047,     0.70571,     0.70671,     0.70771,     0.70871,     0.70971,     0.71071,     0.71171,     0.71271,     0.71371,     0.71471,     0.71572,     0.71672,     0.71772,     0.71872,     0.71972,\n",
                            "           0.72072,     0.72172,     0.72272,     0.72372,     0.72472,     0.72573,     0.72673,     0.72773,     0.72873,     0.72973,     0.73073,     0.73173,     0.73273,     0.73373,     0.73473,     0.73574,     0.73674,     0.73774,     0.73874,     0.73974,     0.74074,     0.74174,     0.74274,     0.74374,\n",
                            "           0.74474,     0.74575,     0.74675,     0.74775,     0.74875,     0.74975,     0.75075,     0.75175,     0.75275,     0.75375,     0.75475,     0.75576,     0.75676,     0.75776,     0.75876,     0.75976,     0.76076,     0.76176,     0.76276,     0.76376,     0.76476,     0.76577,     0.76677,     0.76777,\n",
                            "           0.76877,     0.76977,     0.77077,     0.77177,     0.77277,     0.77377,     0.77477,     0.77578,     0.77678,     0.77778,     0.77878,     0.77978,     0.78078,     0.78178,     0.78278,     0.78378,     0.78478,     0.78579,     0.78679,     0.78779,     0.78879,     0.78979,     0.79079,     0.79179,\n",
                            "           0.79279,     0.79379,     0.79479,      0.7958,      0.7968,      0.7978,      0.7988,      0.7998,      0.8008,      0.8018,      0.8028,      0.8038,      0.8048,     0.80581,     0.80681,     0.80781,     0.80881,     0.80981,     0.81081,     0.81181,     0.81281,     0.81381,     0.81481,     0.81582,\n",
                            "           0.81682,     0.81782,     0.81882,     0.81982,     0.82082,     0.82182,     0.82282,     0.82382,     0.82482,     0.82583,     0.82683,     0.82783,     0.82883,     0.82983,     0.83083,     0.83183,     0.83283,     0.83383,     0.83483,     0.83584,     0.83684,     0.83784,     0.83884,     0.83984,\n",
                            "           0.84084,     0.84184,     0.84284,     0.84384,     0.84484,     0.84585,     0.84685,     0.84785,     0.84885,     0.84985,     0.85085,     0.85185,     0.85285,     0.85385,     0.85485,     0.85586,     0.85686,     0.85786,     0.85886,     0.85986,     0.86086,     0.86186,     0.86286,     0.86386,\n",
                            "           0.86486,     0.86587,     0.86687,     0.86787,     0.86887,     0.86987,     0.87087,     0.87187,     0.87287,     0.87387,     0.87487,     0.87588,     0.87688,     0.87788,     0.87888,     0.87988,     0.88088,     0.88188,     0.88288,     0.88388,     0.88488,     0.88589,     0.88689,     0.88789,\n",
                            "           0.88889,     0.88989,     0.89089,     0.89189,     0.89289,     0.89389,     0.89489,      0.8959,      0.8969,      0.8979,      0.8989,      0.8999,      0.9009,      0.9019,      0.9029,      0.9039,      0.9049,     0.90591,     0.90691,     0.90791,     0.90891,     0.90991,     0.91091,     0.91191,\n",
                            "           0.91291,     0.91391,     0.91491,     0.91592,     0.91692,     0.91792,     0.91892,     0.91992,     0.92092,     0.92192,     0.92292,     0.92392,     0.92492,     0.92593,     0.92693,     0.92793,     0.92893,     0.92993,     0.93093,     0.93193,     0.93293,     0.93393,     0.93493,     0.93594,\n",
                            "           0.93694,     0.93794,     0.93894,     0.93994,     0.94094,     0.94194,     0.94294,     0.94394,     0.94494,     0.94595,     0.94695,     0.94795,     0.94895,     0.94995,     0.95095,     0.95195,     0.95295,     0.95395,     0.95495,     0.95596,     0.95696,     0.95796,     0.95896,     0.95996,\n",
                            "           0.96096,     0.96196,     0.96296,     0.96396,     0.96496,     0.96597,     0.96697,     0.96797,     0.96897,     0.96997,     0.97097,     0.97197,     0.97297,     0.97397,     0.97497,     0.97598,     0.97698,     0.97798,     0.97898,     0.97998,     0.98098,     0.98198,     0.98298,     0.98398,\n",
                            "           0.98498,     0.98599,     0.98699,     0.98799,     0.98899,     0.98999,     0.99099,     0.99199,     0.99299,     0.99399,     0.99499,       0.996,       0.997,       0.998,       0.999,           1]), array([[          1,           1,           1, ...,           0,           0,           0],\n",
                            "       [          1,           1,           1, ...,           0,           0,           0],\n",
                            "       [          1,           1,           1, ...,           0,           0,           0],\n",
                            "       ...,\n",
                            "       [          1,           1,           1, ...,           0,           0,           0],\n",
                            "       [          1,           1,           1, ...,     0.29286,     0.14643,           0],\n",
                            "       [          1,           1,           1, ...,     0.34168,           0,           0]], shape=(26, 1000)), 'Confidence', 'Recall']]\n",
                            "fitness: np.float64(0.8458566527941713)\n",
                            "keys: ['metrics/precision(B)', 'metrics/recall(B)', 'metrics/mAP50(B)', 'metrics/mAP50-95(B)']\n",
                            "maps: array([    0.87412,     0.87825,     0.81207,     0.82576,     0.79128,      0.9454,     0.74514,     0.83887,     0.84103,     0.85199,     0.84008,     0.88628,     0.69013,     0.72337,     0.86037,     0.75293,     0.74563,     0.89005,     0.86918,     0.84552,     0.88249,      0.7651,     0.89389,     0.79908,\n",
                            "           0.86616,      0.8607])\n",
                            "names: {0: 'A', 1: 'B', 2: 'C', 3: 'D', 4: 'E', 5: 'F', 6: 'G', 7: 'H', 8: 'I', 9: 'J', 10: 'K', 11: 'L', 12: 'M', 13: 'N', 14: 'O', 15: 'P', 16: 'Q', 17: 'R', 18: 'S', 19: 'T', 20: 'U', 21: 'V', 22: 'W', 23: 'X', 24: 'Y', 25: 'Z'}\n",
                            "nt_per_class: array([17, 12, 16,  5, 12,  5,  9,  5,  5,  5,  5, 12, 11,  9,  8,  5, 10, 17,  5,  9,  7,  9,  6,  5,  7,  6])\n",
                            "nt_per_image: array([17, 12, 16,  5, 12,  5,  9,  5,  5,  5,  5, 12, 11,  9,  8,  5, 10, 17,  5,  9,  7,  9,  6,  5,  7,  6])\n",
                            "results_dict: {'metrics/precision(B)': np.float64(0.9485889651095826), 'metrics/recall(B)': np.float64(0.9657114883997935), 'metrics/mAP50(B)': np.float64(0.9903514588859417), 'metrics/mAP50-95(B)': np.float64(0.8298016743395301), 'fitness': np.float64(0.8458566527941713)}\n",
                            "save_dir: WindowsPath('c:/Users/berna/Documents/Proyecto_ia_legua_se-as_2025/runs/detect/train2')\n",
                            "speed: {'preprocess': 0.16543063063042468, 'inference': 0.6931725225197763, 'loss': 0.00022522522568079194, 'postprocess': 2.1254878378394104}\n",
                            "stats: {'tp': [], 'conf': [], 'pred_cls': [], 'target_cls': [], 'target_img': []}\n",
                            "task: 'detect'"
                        ]
                    },
                    "execution_count": 3,
                    "metadata": {},
                    "output_type": "execute_result"
                }
            ],
            "source": [
                "# Cargar un modelo pequeño preentrenado\n",
                "model = YOLO(\"yolov8n.pt\")\n",
                "\n",
                "# Entrenar (ajusta epochs, imgsz, batch según tu máquina)\n",
                "model.train(data=\"dataset/data.yaml\", epochs=50, imgsz=416, batch=16, device=0)"
            ]
        },
        {
            "cell_type": "code",
            "execution_count": 4,
            "id": "d4f64464",
            "metadata": {},
            "outputs": [
                {
                    "name": "stdout",
                    "output_type": "stream",
                    "text": [
                        "Ultralytics 8.3.181  Python-3.13.2 torch-2.8.0+cu126 CUDA:0 (NVIDIA GeForce RTX 4060, 8188MiB)\n",
                        "Model summary (fused): 72 layers, 3,010,718 parameters, 0 gradients, 8.1 GFLOPs\n",
                        "\u001b[34m\u001b[1mval: \u001b[0mFast image access  (ping: 0.00.0 ms, read: 206.858.9 MB/s, size: 21.3 KB)\n"
                    ]
                },
                {
                    "name": "stderr",
                    "output_type": "stream",
                    "text": [
                        "\u001b[34m\u001b[1mval: \u001b[0mScanning C:\\Users\\berna\\Documents\\Proyecto_ia_legua_se-as_2025\\dataset\\valid\\labels.cache... 222 images, 0 backgrounds, 0 corrupt: 100%|██████████| 222/222 [00:00<?, ?it/s]\n",
                        "                 Class     Images  Instances      Box(P          R      mAP50  mAP50-95): 100%|██████████| 14/14 [00:01<00:00,  9.03it/s]\n"
                    ]
                },
                {
                    "name": "stdout",
                    "output_type": "stream",
                    "text": [
                        "                   all        222        222      0.948      0.966       0.99      0.831\n",
                        "                     A         17         17          1      0.994      0.995      0.875\n",
                        "                     B         12         12      0.979          1      0.995      0.878\n",
                        "                     C         16         16          1      0.958      0.995      0.812\n",
                        "                     D          5          5      0.955          1      0.995      0.826\n",
                        "                     E         12         12      0.993          1      0.995      0.791\n",
                        "                     F          5          5       0.95          1      0.995      0.945\n",
                        "                     G          9          9          1       0.85      0.995      0.745\n",
                        "                     H          5          5      0.948          1      0.995      0.839\n",
                        "                     I          5          5      0.921          1      0.995      0.841\n",
                        "                     J          5          5      0.805          1      0.995      0.852\n",
                        "                     K          5          5      0.953          1      0.995      0.851\n",
                        "                     L         12         12      0.905          1      0.995      0.885\n",
                        "                     M         11         11      0.915      0.986      0.988       0.69\n",
                        "                     N          9          9      0.973      0.889      0.975      0.723\n",
                        "                     O          8          8      0.928          1      0.995       0.86\n",
                        "                     P          5          5      0.949          1      0.995      0.753\n",
                        "                     Q         10         10      0.977          1      0.995      0.761\n",
                        "                     R         17         17      0.999          1      0.995      0.891\n",
                        "                     S          5          5      0.928          1      0.995      0.869\n",
                        "                     T          9          9      0.993          1      0.995      0.846\n",
                        "                     U          7          7      0.959          1      0.995      0.882\n",
                        "                     V          9          9          1      0.791      0.919      0.765\n",
                        "                     W          6          6      0.744          1      0.995      0.894\n",
                        "                     X          5          5          1      0.786      0.995      0.789\n",
                        "                     Y          7          7      0.936      0.857      0.978      0.866\n",
                        "                     Z          6          6      0.947          1      0.995      0.865\n",
                        "Speed: 0.2ms preprocess, 1.6ms inference, 0.0ms loss, 2.0ms postprocess per image\n",
                        "Results saved to \u001b[1mc:\\Users\\berna\\Documents\\Proyecto_ia_legua_se-as_2025\\runs\\detect\\train22\u001b[0m\n"
                    ]
                },
                {
                    "data": {
                        "text/plain": [
                            "ultralytics.utils.metrics.DetMetrics object with attributes:\n",
                            "\n",
                            "ap_class_index: array([ 0,  1,  2,  3,  4,  5,  6,  7,  8,  9, 10, 11, 12, 13, 14, 15, 16, 17, 18, 19, 20, 21, 22, 23, 24, 25])\n",
                            "box: ultralytics.utils.metrics.Metric object\n",
                            "confusion_matrix: <ultralytics.utils.metrics.ConfusionMatrix object at 0x000001C01D2A4830>\n",
                            "curves: ['Precision-Recall(B)', 'F1-Confidence(B)', 'Precision-Confidence(B)', 'Recall-Confidence(B)']\n",
                            "curves_results: [[array([          0,    0.001001,    0.002002,    0.003003,    0.004004,    0.005005,    0.006006,    0.007007,    0.008008,    0.009009,     0.01001,    0.011011,    0.012012,    0.013013,    0.014014,    0.015015,    0.016016,    0.017017,    0.018018,    0.019019,     0.02002,    0.021021,    0.022022,    0.023023,\n",
                            "          0.024024,    0.025025,    0.026026,    0.027027,    0.028028,    0.029029,     0.03003,    0.031031,    0.032032,    0.033033,    0.034034,    0.035035,    0.036036,    0.037037,    0.038038,    0.039039,     0.04004,    0.041041,    0.042042,    0.043043,    0.044044,    0.045045,    0.046046,    0.047047,\n",
                            "          0.048048,    0.049049,     0.05005,    0.051051,    0.052052,    0.053053,    0.054054,    0.055055,    0.056056,    0.057057,    0.058058,    0.059059,     0.06006,    0.061061,    0.062062,    0.063063,    0.064064,    0.065065,    0.066066,    0.067067,    0.068068,    0.069069,     0.07007,    0.071071,\n",
                            "          0.072072,    0.073073,    0.074074,    0.075075,    0.076076,    0.077077,    0.078078,    0.079079,     0.08008,    0.081081,    0.082082,    0.083083,    0.084084,    0.085085,    0.086086,    0.087087,    0.088088,    0.089089,     0.09009,    0.091091,    0.092092,    0.093093,    0.094094,    0.095095,\n",
                            "          0.096096,    0.097097,    0.098098,    0.099099,      0.1001,      0.1011,      0.1021,      0.1031,      0.1041,     0.10511,     0.10611,     0.10711,     0.10811,     0.10911,     0.11011,     0.11111,     0.11211,     0.11311,     0.11411,     0.11512,     0.11612,     0.11712,     0.11812,     0.11912,\n",
                            "           0.12012,     0.12112,     0.12212,     0.12312,     0.12412,     0.12513,     0.12613,     0.12713,     0.12813,     0.12913,     0.13013,     0.13113,     0.13213,     0.13313,     0.13413,     0.13514,     0.13614,     0.13714,     0.13814,     0.13914,     0.14014,     0.14114,     0.14214,     0.14314,\n",
                            "           0.14414,     0.14515,     0.14615,     0.14715,     0.14815,     0.14915,     0.15015,     0.15115,     0.15215,     0.15315,     0.15415,     0.15516,     0.15616,     0.15716,     0.15816,     0.15916,     0.16016,     0.16116,     0.16216,     0.16316,     0.16416,     0.16517,     0.16617,     0.16717,\n",
                            "           0.16817,     0.16917,     0.17017,     0.17117,     0.17217,     0.17317,     0.17417,     0.17518,     0.17618,     0.17718,     0.17818,     0.17918,     0.18018,     0.18118,     0.18218,     0.18318,     0.18418,     0.18519,     0.18619,     0.18719,     0.18819,     0.18919,     0.19019,     0.19119,\n",
                            "           0.19219,     0.19319,     0.19419,      0.1952,      0.1962,      0.1972,      0.1982,      0.1992,      0.2002,      0.2012,      0.2022,      0.2032,      0.2042,     0.20521,     0.20621,     0.20721,     0.20821,     0.20921,     0.21021,     0.21121,     0.21221,     0.21321,     0.21421,     0.21522,\n",
                            "           0.21622,     0.21722,     0.21822,     0.21922,     0.22022,     0.22122,     0.22222,     0.22322,     0.22422,     0.22523,     0.22623,     0.22723,     0.22823,     0.22923,     0.23023,     0.23123,     0.23223,     0.23323,     0.23423,     0.23524,     0.23624,     0.23724,     0.23824,     0.23924,\n",
                            "           0.24024,     0.24124,     0.24224,     0.24324,     0.24424,     0.24525,     0.24625,     0.24725,     0.24825,     0.24925,     0.25025,     0.25125,     0.25225,     0.25325,     0.25425,     0.25526,     0.25626,     0.25726,     0.25826,     0.25926,     0.26026,     0.26126,     0.26226,     0.26326,\n",
                            "           0.26426,     0.26527,     0.26627,     0.26727,     0.26827,     0.26927,     0.27027,     0.27127,     0.27227,     0.27327,     0.27427,     0.27528,     0.27628,     0.27728,     0.27828,     0.27928,     0.28028,     0.28128,     0.28228,     0.28328,     0.28428,     0.28529,     0.28629,     0.28729,\n",
                            "           0.28829,     0.28929,     0.29029,     0.29129,     0.29229,     0.29329,     0.29429,      0.2953,      0.2963,      0.2973,      0.2983,      0.2993,      0.3003,      0.3013,      0.3023,      0.3033,      0.3043,     0.30531,     0.30631,     0.30731,     0.30831,     0.30931,     0.31031,     0.31131,\n",
                            "           0.31231,     0.31331,     0.31431,     0.31532,     0.31632,     0.31732,     0.31832,     0.31932,     0.32032,     0.32132,     0.32232,     0.32332,     0.32432,     0.32533,     0.32633,     0.32733,     0.32833,     0.32933,     0.33033,     0.33133,     0.33233,     0.33333,     0.33433,     0.33534,\n",
                            "           0.33634,     0.33734,     0.33834,     0.33934,     0.34034,     0.34134,     0.34234,     0.34334,     0.34434,     0.34535,     0.34635,     0.34735,     0.34835,     0.34935,     0.35035,     0.35135,     0.35235,     0.35335,     0.35435,     0.35536,     0.35636,     0.35736,     0.35836,     0.35936,\n",
                            "           0.36036,     0.36136,     0.36236,     0.36336,     0.36436,     0.36537,     0.36637,     0.36737,     0.36837,     0.36937,     0.37037,     0.37137,     0.37237,     0.37337,     0.37437,     0.37538,     0.37638,     0.37738,     0.37838,     0.37938,     0.38038,     0.38138,     0.38238,     0.38338,\n",
                            "           0.38438,     0.38539,     0.38639,     0.38739,     0.38839,     0.38939,     0.39039,     0.39139,     0.39239,     0.39339,     0.39439,      0.3954,      0.3964,      0.3974,      0.3984,      0.3994,      0.4004,      0.4014,      0.4024,      0.4034,      0.4044,     0.40541,     0.40641,     0.40741,\n",
                            "           0.40841,     0.40941,     0.41041,     0.41141,     0.41241,     0.41341,     0.41441,     0.41542,     0.41642,     0.41742,     0.41842,     0.41942,     0.42042,     0.42142,     0.42242,     0.42342,     0.42442,     0.42543,     0.42643,     0.42743,     0.42843,     0.42943,     0.43043,     0.43143,\n",
                            "           0.43243,     0.43343,     0.43443,     0.43544,     0.43644,     0.43744,     0.43844,     0.43944,     0.44044,     0.44144,     0.44244,     0.44344,     0.44444,     0.44545,     0.44645,     0.44745,     0.44845,     0.44945,     0.45045,     0.45145,     0.45245,     0.45345,     0.45445,     0.45546,\n",
                            "           0.45646,     0.45746,     0.45846,     0.45946,     0.46046,     0.46146,     0.46246,     0.46346,     0.46446,     0.46547,     0.46647,     0.46747,     0.46847,     0.46947,     0.47047,     0.47147,     0.47247,     0.47347,     0.47447,     0.47548,     0.47648,     0.47748,     0.47848,     0.47948,\n",
                            "           0.48048,     0.48148,     0.48248,     0.48348,     0.48448,     0.48549,     0.48649,     0.48749,     0.48849,     0.48949,     0.49049,     0.49149,     0.49249,     0.49349,     0.49449,      0.4955,      0.4965,      0.4975,      0.4985,      0.4995,      0.5005,      0.5015,      0.5025,      0.5035,\n",
                            "            0.5045,     0.50551,     0.50651,     0.50751,     0.50851,     0.50951,     0.51051,     0.51151,     0.51251,     0.51351,     0.51451,     0.51552,     0.51652,     0.51752,     0.51852,     0.51952,     0.52052,     0.52152,     0.52252,     0.52352,     0.52452,     0.52553,     0.52653,     0.52753,\n",
                            "           0.52853,     0.52953,     0.53053,     0.53153,     0.53253,     0.53353,     0.53453,     0.53554,     0.53654,     0.53754,     0.53854,     0.53954,     0.54054,     0.54154,     0.54254,     0.54354,     0.54454,     0.54555,     0.54655,     0.54755,     0.54855,     0.54955,     0.55055,     0.55155,\n",
                            "           0.55255,     0.55355,     0.55455,     0.55556,     0.55656,     0.55756,     0.55856,     0.55956,     0.56056,     0.56156,     0.56256,     0.56356,     0.56456,     0.56557,     0.56657,     0.56757,     0.56857,     0.56957,     0.57057,     0.57157,     0.57257,     0.57357,     0.57457,     0.57558,\n",
                            "           0.57658,     0.57758,     0.57858,     0.57958,     0.58058,     0.58158,     0.58258,     0.58358,     0.58458,     0.58559,     0.58659,     0.58759,     0.58859,     0.58959,     0.59059,     0.59159,     0.59259,     0.59359,     0.59459,      0.5956,      0.5966,      0.5976,      0.5986,      0.5996,\n",
                            "            0.6006,      0.6016,      0.6026,      0.6036,      0.6046,     0.60561,     0.60661,     0.60761,     0.60861,     0.60961,     0.61061,     0.61161,     0.61261,     0.61361,     0.61461,     0.61562,     0.61662,     0.61762,     0.61862,     0.61962,     0.62062,     0.62162,     0.62262,     0.62362,\n",
                            "           0.62462,     0.62563,     0.62663,     0.62763,     0.62863,     0.62963,     0.63063,     0.63163,     0.63263,     0.63363,     0.63463,     0.63564,     0.63664,     0.63764,     0.63864,     0.63964,     0.64064,     0.64164,     0.64264,     0.64364,     0.64464,     0.64565,     0.64665,     0.64765,\n",
                            "           0.64865,     0.64965,     0.65065,     0.65165,     0.65265,     0.65365,     0.65465,     0.65566,     0.65666,     0.65766,     0.65866,     0.65966,     0.66066,     0.66166,     0.66266,     0.66366,     0.66466,     0.66567,     0.66667,     0.66767,     0.66867,     0.66967,     0.67067,     0.67167,\n",
                            "           0.67267,     0.67367,     0.67467,     0.67568,     0.67668,     0.67768,     0.67868,     0.67968,     0.68068,     0.68168,     0.68268,     0.68368,     0.68468,     0.68569,     0.68669,     0.68769,     0.68869,     0.68969,     0.69069,     0.69169,     0.69269,     0.69369,     0.69469,      0.6957,\n",
                            "            0.6967,      0.6977,      0.6987,      0.6997,      0.7007,      0.7017,      0.7027,      0.7037,      0.7047,     0.70571,     0.70671,     0.70771,     0.70871,     0.70971,     0.71071,     0.71171,     0.71271,     0.71371,     0.71471,     0.71572,     0.71672,     0.71772,     0.71872,     0.71972,\n",
                            "           0.72072,     0.72172,     0.72272,     0.72372,     0.72472,     0.72573,     0.72673,     0.72773,     0.72873,     0.72973,     0.73073,     0.73173,     0.73273,     0.73373,     0.73473,     0.73574,     0.73674,     0.73774,     0.73874,     0.73974,     0.74074,     0.74174,     0.74274,     0.74374,\n",
                            "           0.74474,     0.74575,     0.74675,     0.74775,     0.74875,     0.74975,     0.75075,     0.75175,     0.75275,     0.75375,     0.75475,     0.75576,     0.75676,     0.75776,     0.75876,     0.75976,     0.76076,     0.76176,     0.76276,     0.76376,     0.76476,     0.76577,     0.76677,     0.76777,\n",
                            "           0.76877,     0.76977,     0.77077,     0.77177,     0.77277,     0.77377,     0.77477,     0.77578,     0.77678,     0.77778,     0.77878,     0.77978,     0.78078,     0.78178,     0.78278,     0.78378,     0.78478,     0.78579,     0.78679,     0.78779,     0.78879,     0.78979,     0.79079,     0.79179,\n",
                            "           0.79279,     0.79379,     0.79479,      0.7958,      0.7968,      0.7978,      0.7988,      0.7998,      0.8008,      0.8018,      0.8028,      0.8038,      0.8048,     0.80581,     0.80681,     0.80781,     0.80881,     0.80981,     0.81081,     0.81181,     0.81281,     0.81381,     0.81481,     0.81582,\n",
                            "           0.81682,     0.81782,     0.81882,     0.81982,     0.82082,     0.82182,     0.82282,     0.82382,     0.82482,     0.82583,     0.82683,     0.82783,     0.82883,     0.82983,     0.83083,     0.83183,     0.83283,     0.83383,     0.83483,     0.83584,     0.83684,     0.83784,     0.83884,     0.83984,\n",
                            "           0.84084,     0.84184,     0.84284,     0.84384,     0.84484,     0.84585,     0.84685,     0.84785,     0.84885,     0.84985,     0.85085,     0.85185,     0.85285,     0.85385,     0.85485,     0.85586,     0.85686,     0.85786,     0.85886,     0.85986,     0.86086,     0.86186,     0.86286,     0.86386,\n",
                            "           0.86486,     0.86587,     0.86687,     0.86787,     0.86887,     0.86987,     0.87087,     0.87187,     0.87287,     0.87387,     0.87487,     0.87588,     0.87688,     0.87788,     0.87888,     0.87988,     0.88088,     0.88188,     0.88288,     0.88388,     0.88488,     0.88589,     0.88689,     0.88789,\n",
                            "           0.88889,     0.88989,     0.89089,     0.89189,     0.89289,     0.89389,     0.89489,      0.8959,      0.8969,      0.8979,      0.8989,      0.8999,      0.9009,      0.9019,      0.9029,      0.9039,      0.9049,     0.90591,     0.90691,     0.90791,     0.90891,     0.90991,     0.91091,     0.91191,\n",
                            "           0.91291,     0.91391,     0.91491,     0.91592,     0.91692,     0.91792,     0.91892,     0.91992,     0.92092,     0.92192,     0.92292,     0.92392,     0.92492,     0.92593,     0.92693,     0.92793,     0.92893,     0.92993,     0.93093,     0.93193,     0.93293,     0.93393,     0.93493,     0.93594,\n",
                            "           0.93694,     0.93794,     0.93894,     0.93994,     0.94094,     0.94194,     0.94294,     0.94394,     0.94494,     0.94595,     0.94695,     0.94795,     0.94895,     0.94995,     0.95095,     0.95195,     0.95295,     0.95395,     0.95495,     0.95596,     0.95696,     0.95796,     0.95896,     0.95996,\n",
                            "           0.96096,     0.96196,     0.96296,     0.96396,     0.96496,     0.96597,     0.96697,     0.96797,     0.96897,     0.96997,     0.97097,     0.97197,     0.97297,     0.97397,     0.97497,     0.97598,     0.97698,     0.97798,     0.97898,     0.97998,     0.98098,     0.98198,     0.98298,     0.98398,\n",
                            "           0.98498,     0.98599,     0.98699,     0.98799,     0.98899,     0.98999,     0.99099,     0.99199,     0.99299,     0.99399,     0.99499,       0.996,       0.997,       0.998,       0.999,           1]), array([[          1,           1,           1, ...,           1,           1,           0],\n",
                            "       [          1,           1,           1, ...,           1,           1,           0],\n",
                            "       [          1,           1,           1, ...,           1,           1,           0],\n",
                            "       ...,\n",
                            "       [          1,           1,           1, ...,           1,           1,           0],\n",
                            "       [          1,           1,           1, ...,       0.875,       0.875,           0],\n",
                            "       [          1,           1,           1, ...,           1,           1,           0]], shape=(26, 1000)), 'Recall', 'Precision'], [array([          0,    0.001001,    0.002002,    0.003003,    0.004004,    0.005005,    0.006006,    0.007007,    0.008008,    0.009009,     0.01001,    0.011011,    0.012012,    0.013013,    0.014014,    0.015015,    0.016016,    0.017017,    0.018018,    0.019019,     0.02002,    0.021021,    0.022022,    0.023023,\n",
                            "          0.024024,    0.025025,    0.026026,    0.027027,    0.028028,    0.029029,     0.03003,    0.031031,    0.032032,    0.033033,    0.034034,    0.035035,    0.036036,    0.037037,    0.038038,    0.039039,     0.04004,    0.041041,    0.042042,    0.043043,    0.044044,    0.045045,    0.046046,    0.047047,\n",
                            "          0.048048,    0.049049,     0.05005,    0.051051,    0.052052,    0.053053,    0.054054,    0.055055,    0.056056,    0.057057,    0.058058,    0.059059,     0.06006,    0.061061,    0.062062,    0.063063,    0.064064,    0.065065,    0.066066,    0.067067,    0.068068,    0.069069,     0.07007,    0.071071,\n",
                            "          0.072072,    0.073073,    0.074074,    0.075075,    0.076076,    0.077077,    0.078078,    0.079079,     0.08008,    0.081081,    0.082082,    0.083083,    0.084084,    0.085085,    0.086086,    0.087087,    0.088088,    0.089089,     0.09009,    0.091091,    0.092092,    0.093093,    0.094094,    0.095095,\n",
                            "          0.096096,    0.097097,    0.098098,    0.099099,      0.1001,      0.1011,      0.1021,      0.1031,      0.1041,     0.10511,     0.10611,     0.10711,     0.10811,     0.10911,     0.11011,     0.11111,     0.11211,     0.11311,     0.11411,     0.11512,     0.11612,     0.11712,     0.11812,     0.11912,\n",
                            "           0.12012,     0.12112,     0.12212,     0.12312,     0.12412,     0.12513,     0.12613,     0.12713,     0.12813,     0.12913,     0.13013,     0.13113,     0.13213,     0.13313,     0.13413,     0.13514,     0.13614,     0.13714,     0.13814,     0.13914,     0.14014,     0.14114,     0.14214,     0.14314,\n",
                            "           0.14414,     0.14515,     0.14615,     0.14715,     0.14815,     0.14915,     0.15015,     0.15115,     0.15215,     0.15315,     0.15415,     0.15516,     0.15616,     0.15716,     0.15816,     0.15916,     0.16016,     0.16116,     0.16216,     0.16316,     0.16416,     0.16517,     0.16617,     0.16717,\n",
                            "           0.16817,     0.16917,     0.17017,     0.17117,     0.17217,     0.17317,     0.17417,     0.17518,     0.17618,     0.17718,     0.17818,     0.17918,     0.18018,     0.18118,     0.18218,     0.18318,     0.18418,     0.18519,     0.18619,     0.18719,     0.18819,     0.18919,     0.19019,     0.19119,\n",
                            "           0.19219,     0.19319,     0.19419,      0.1952,      0.1962,      0.1972,      0.1982,      0.1992,      0.2002,      0.2012,      0.2022,      0.2032,      0.2042,     0.20521,     0.20621,     0.20721,     0.20821,     0.20921,     0.21021,     0.21121,     0.21221,     0.21321,     0.21421,     0.21522,\n",
                            "           0.21622,     0.21722,     0.21822,     0.21922,     0.22022,     0.22122,     0.22222,     0.22322,     0.22422,     0.22523,     0.22623,     0.22723,     0.22823,     0.22923,     0.23023,     0.23123,     0.23223,     0.23323,     0.23423,     0.23524,     0.23624,     0.23724,     0.23824,     0.23924,\n",
                            "           0.24024,     0.24124,     0.24224,     0.24324,     0.24424,     0.24525,     0.24625,     0.24725,     0.24825,     0.24925,     0.25025,     0.25125,     0.25225,     0.25325,     0.25425,     0.25526,     0.25626,     0.25726,     0.25826,     0.25926,     0.26026,     0.26126,     0.26226,     0.26326,\n",
                            "           0.26426,     0.26527,     0.26627,     0.26727,     0.26827,     0.26927,     0.27027,     0.27127,     0.27227,     0.27327,     0.27427,     0.27528,     0.27628,     0.27728,     0.27828,     0.27928,     0.28028,     0.28128,     0.28228,     0.28328,     0.28428,     0.28529,     0.28629,     0.28729,\n",
                            "           0.28829,     0.28929,     0.29029,     0.29129,     0.29229,     0.29329,     0.29429,      0.2953,      0.2963,      0.2973,      0.2983,      0.2993,      0.3003,      0.3013,      0.3023,      0.3033,      0.3043,     0.30531,     0.30631,     0.30731,     0.30831,     0.30931,     0.31031,     0.31131,\n",
                            "           0.31231,     0.31331,     0.31431,     0.31532,     0.31632,     0.31732,     0.31832,     0.31932,     0.32032,     0.32132,     0.32232,     0.32332,     0.32432,     0.32533,     0.32633,     0.32733,     0.32833,     0.32933,     0.33033,     0.33133,     0.33233,     0.33333,     0.33433,     0.33534,\n",
                            "           0.33634,     0.33734,     0.33834,     0.33934,     0.34034,     0.34134,     0.34234,     0.34334,     0.34434,     0.34535,     0.34635,     0.34735,     0.34835,     0.34935,     0.35035,     0.35135,     0.35235,     0.35335,     0.35435,     0.35536,     0.35636,     0.35736,     0.35836,     0.35936,\n",
                            "           0.36036,     0.36136,     0.36236,     0.36336,     0.36436,     0.36537,     0.36637,     0.36737,     0.36837,     0.36937,     0.37037,     0.37137,     0.37237,     0.37337,     0.37437,     0.37538,     0.37638,     0.37738,     0.37838,     0.37938,     0.38038,     0.38138,     0.38238,     0.38338,\n",
                            "           0.38438,     0.38539,     0.38639,     0.38739,     0.38839,     0.38939,     0.39039,     0.39139,     0.39239,     0.39339,     0.39439,      0.3954,      0.3964,      0.3974,      0.3984,      0.3994,      0.4004,      0.4014,      0.4024,      0.4034,      0.4044,     0.40541,     0.40641,     0.40741,\n",
                            "           0.40841,     0.40941,     0.41041,     0.41141,     0.41241,     0.41341,     0.41441,     0.41542,     0.41642,     0.41742,     0.41842,     0.41942,     0.42042,     0.42142,     0.42242,     0.42342,     0.42442,     0.42543,     0.42643,     0.42743,     0.42843,     0.42943,     0.43043,     0.43143,\n",
                            "           0.43243,     0.43343,     0.43443,     0.43544,     0.43644,     0.43744,     0.43844,     0.43944,     0.44044,     0.44144,     0.44244,     0.44344,     0.44444,     0.44545,     0.44645,     0.44745,     0.44845,     0.44945,     0.45045,     0.45145,     0.45245,     0.45345,     0.45445,     0.45546,\n",
                            "           0.45646,     0.45746,     0.45846,     0.45946,     0.46046,     0.46146,     0.46246,     0.46346,     0.46446,     0.46547,     0.46647,     0.46747,     0.46847,     0.46947,     0.47047,     0.47147,     0.47247,     0.47347,     0.47447,     0.47548,     0.47648,     0.47748,     0.47848,     0.47948,\n",
                            "           0.48048,     0.48148,     0.48248,     0.48348,     0.48448,     0.48549,     0.48649,     0.48749,     0.48849,     0.48949,     0.49049,     0.49149,     0.49249,     0.49349,     0.49449,      0.4955,      0.4965,      0.4975,      0.4985,      0.4995,      0.5005,      0.5015,      0.5025,      0.5035,\n",
                            "            0.5045,     0.50551,     0.50651,     0.50751,     0.50851,     0.50951,     0.51051,     0.51151,     0.51251,     0.51351,     0.51451,     0.51552,     0.51652,     0.51752,     0.51852,     0.51952,     0.52052,     0.52152,     0.52252,     0.52352,     0.52452,     0.52553,     0.52653,     0.52753,\n",
                            "           0.52853,     0.52953,     0.53053,     0.53153,     0.53253,     0.53353,     0.53453,     0.53554,     0.53654,     0.53754,     0.53854,     0.53954,     0.54054,     0.54154,     0.54254,     0.54354,     0.54454,     0.54555,     0.54655,     0.54755,     0.54855,     0.54955,     0.55055,     0.55155,\n",
                            "           0.55255,     0.55355,     0.55455,     0.55556,     0.55656,     0.55756,     0.55856,     0.55956,     0.56056,     0.56156,     0.56256,     0.56356,     0.56456,     0.56557,     0.56657,     0.56757,     0.56857,     0.56957,     0.57057,     0.57157,     0.57257,     0.57357,     0.57457,     0.57558,\n",
                            "           0.57658,     0.57758,     0.57858,     0.57958,     0.58058,     0.58158,     0.58258,     0.58358,     0.58458,     0.58559,     0.58659,     0.58759,     0.58859,     0.58959,     0.59059,     0.59159,     0.59259,     0.59359,     0.59459,      0.5956,      0.5966,      0.5976,      0.5986,      0.5996,\n",
                            "            0.6006,      0.6016,      0.6026,      0.6036,      0.6046,     0.60561,     0.60661,     0.60761,     0.60861,     0.60961,     0.61061,     0.61161,     0.61261,     0.61361,     0.61461,     0.61562,     0.61662,     0.61762,     0.61862,     0.61962,     0.62062,     0.62162,     0.62262,     0.62362,\n",
                            "           0.62462,     0.62563,     0.62663,     0.62763,     0.62863,     0.62963,     0.63063,     0.63163,     0.63263,     0.63363,     0.63463,     0.63564,     0.63664,     0.63764,     0.63864,     0.63964,     0.64064,     0.64164,     0.64264,     0.64364,     0.64464,     0.64565,     0.64665,     0.64765,\n",
                            "           0.64865,     0.64965,     0.65065,     0.65165,     0.65265,     0.65365,     0.65465,     0.65566,     0.65666,     0.65766,     0.65866,     0.65966,     0.66066,     0.66166,     0.66266,     0.66366,     0.66466,     0.66567,     0.66667,     0.66767,     0.66867,     0.66967,     0.67067,     0.67167,\n",
                            "           0.67267,     0.67367,     0.67467,     0.67568,     0.67668,     0.67768,     0.67868,     0.67968,     0.68068,     0.68168,     0.68268,     0.68368,     0.68468,     0.68569,     0.68669,     0.68769,     0.68869,     0.68969,     0.69069,     0.69169,     0.69269,     0.69369,     0.69469,      0.6957,\n",
                            "            0.6967,      0.6977,      0.6987,      0.6997,      0.7007,      0.7017,      0.7027,      0.7037,      0.7047,     0.70571,     0.70671,     0.70771,     0.70871,     0.70971,     0.71071,     0.71171,     0.71271,     0.71371,     0.71471,     0.71572,     0.71672,     0.71772,     0.71872,     0.71972,\n",
                            "           0.72072,     0.72172,     0.72272,     0.72372,     0.72472,     0.72573,     0.72673,     0.72773,     0.72873,     0.72973,     0.73073,     0.73173,     0.73273,     0.73373,     0.73473,     0.73574,     0.73674,     0.73774,     0.73874,     0.73974,     0.74074,     0.74174,     0.74274,     0.74374,\n",
                            "           0.74474,     0.74575,     0.74675,     0.74775,     0.74875,     0.74975,     0.75075,     0.75175,     0.75275,     0.75375,     0.75475,     0.75576,     0.75676,     0.75776,     0.75876,     0.75976,     0.76076,     0.76176,     0.76276,     0.76376,     0.76476,     0.76577,     0.76677,     0.76777,\n",
                            "           0.76877,     0.76977,     0.77077,     0.77177,     0.77277,     0.77377,     0.77477,     0.77578,     0.77678,     0.77778,     0.77878,     0.77978,     0.78078,     0.78178,     0.78278,     0.78378,     0.78478,     0.78579,     0.78679,     0.78779,     0.78879,     0.78979,     0.79079,     0.79179,\n",
                            "           0.79279,     0.79379,     0.79479,      0.7958,      0.7968,      0.7978,      0.7988,      0.7998,      0.8008,      0.8018,      0.8028,      0.8038,      0.8048,     0.80581,     0.80681,     0.80781,     0.80881,     0.80981,     0.81081,     0.81181,     0.81281,     0.81381,     0.81481,     0.81582,\n",
                            "           0.81682,     0.81782,     0.81882,     0.81982,     0.82082,     0.82182,     0.82282,     0.82382,     0.82482,     0.82583,     0.82683,     0.82783,     0.82883,     0.82983,     0.83083,     0.83183,     0.83283,     0.83383,     0.83483,     0.83584,     0.83684,     0.83784,     0.83884,     0.83984,\n",
                            "           0.84084,     0.84184,     0.84284,     0.84384,     0.84484,     0.84585,     0.84685,     0.84785,     0.84885,     0.84985,     0.85085,     0.85185,     0.85285,     0.85385,     0.85485,     0.85586,     0.85686,     0.85786,     0.85886,     0.85986,     0.86086,     0.86186,     0.86286,     0.86386,\n",
                            "           0.86486,     0.86587,     0.86687,     0.86787,     0.86887,     0.86987,     0.87087,     0.87187,     0.87287,     0.87387,     0.87487,     0.87588,     0.87688,     0.87788,     0.87888,     0.87988,     0.88088,     0.88188,     0.88288,     0.88388,     0.88488,     0.88589,     0.88689,     0.88789,\n",
                            "           0.88889,     0.88989,     0.89089,     0.89189,     0.89289,     0.89389,     0.89489,      0.8959,      0.8969,      0.8979,      0.8989,      0.8999,      0.9009,      0.9019,      0.9029,      0.9039,      0.9049,     0.90591,     0.90691,     0.90791,     0.90891,     0.90991,     0.91091,     0.91191,\n",
                            "           0.91291,     0.91391,     0.91491,     0.91592,     0.91692,     0.91792,     0.91892,     0.91992,     0.92092,     0.92192,     0.92292,     0.92392,     0.92492,     0.92593,     0.92693,     0.92793,     0.92893,     0.92993,     0.93093,     0.93193,     0.93293,     0.93393,     0.93493,     0.93594,\n",
                            "           0.93694,     0.93794,     0.93894,     0.93994,     0.94094,     0.94194,     0.94294,     0.94394,     0.94494,     0.94595,     0.94695,     0.94795,     0.94895,     0.94995,     0.95095,     0.95195,     0.95295,     0.95395,     0.95495,     0.95596,     0.95696,     0.95796,     0.95896,     0.95996,\n",
                            "           0.96096,     0.96196,     0.96296,     0.96396,     0.96496,     0.96597,     0.96697,     0.96797,     0.96897,     0.96997,     0.97097,     0.97197,     0.97297,     0.97397,     0.97497,     0.97598,     0.97698,     0.97798,     0.97898,     0.97998,     0.98098,     0.98198,     0.98298,     0.98398,\n",
                            "           0.98498,     0.98599,     0.98699,     0.98799,     0.98899,     0.98999,     0.99099,     0.99199,     0.99299,     0.99399,     0.99499,       0.996,       0.997,       0.998,       0.999,           1]), array([[   0.025895,    0.025983,     0.14503, ...,           0,           0,           0],\n",
                            "       [   0.052288,    0.052397,     0.21281, ...,           0,           0,           0],\n",
                            "       [   0.033368,    0.033475,     0.23836, ...,           0,           0,           0],\n",
                            "       ...,\n",
                            "       [    0.10526,     0.10526,     0.20215, ...,           0,           0,           0],\n",
                            "       [   0.097902,    0.097902,     0.17524, ...,      0.4481,           0,           0],\n",
                            "       [    0.27907,     0.27907,     0.46069, ...,     0.52694,           0,           0]], shape=(26, 1000)), 'Confidence', 'F1'], [array([          0,    0.001001,    0.002002,    0.003003,    0.004004,    0.005005,    0.006006,    0.007007,    0.008008,    0.009009,     0.01001,    0.011011,    0.012012,    0.013013,    0.014014,    0.015015,    0.016016,    0.017017,    0.018018,    0.019019,     0.02002,    0.021021,    0.022022,    0.023023,\n",
                            "          0.024024,    0.025025,    0.026026,    0.027027,    0.028028,    0.029029,     0.03003,    0.031031,    0.032032,    0.033033,    0.034034,    0.035035,    0.036036,    0.037037,    0.038038,    0.039039,     0.04004,    0.041041,    0.042042,    0.043043,    0.044044,    0.045045,    0.046046,    0.047047,\n",
                            "          0.048048,    0.049049,     0.05005,    0.051051,    0.052052,    0.053053,    0.054054,    0.055055,    0.056056,    0.057057,    0.058058,    0.059059,     0.06006,    0.061061,    0.062062,    0.063063,    0.064064,    0.065065,    0.066066,    0.067067,    0.068068,    0.069069,     0.07007,    0.071071,\n",
                            "          0.072072,    0.073073,    0.074074,    0.075075,    0.076076,    0.077077,    0.078078,    0.079079,     0.08008,    0.081081,    0.082082,    0.083083,    0.084084,    0.085085,    0.086086,    0.087087,    0.088088,    0.089089,     0.09009,    0.091091,    0.092092,    0.093093,    0.094094,    0.095095,\n",
                            "          0.096096,    0.097097,    0.098098,    0.099099,      0.1001,      0.1011,      0.1021,      0.1031,      0.1041,     0.10511,     0.10611,     0.10711,     0.10811,     0.10911,     0.11011,     0.11111,     0.11211,     0.11311,     0.11411,     0.11512,     0.11612,     0.11712,     0.11812,     0.11912,\n",
                            "           0.12012,     0.12112,     0.12212,     0.12312,     0.12412,     0.12513,     0.12613,     0.12713,     0.12813,     0.12913,     0.13013,     0.13113,     0.13213,     0.13313,     0.13413,     0.13514,     0.13614,     0.13714,     0.13814,     0.13914,     0.14014,     0.14114,     0.14214,     0.14314,\n",
                            "           0.14414,     0.14515,     0.14615,     0.14715,     0.14815,     0.14915,     0.15015,     0.15115,     0.15215,     0.15315,     0.15415,     0.15516,     0.15616,     0.15716,     0.15816,     0.15916,     0.16016,     0.16116,     0.16216,     0.16316,     0.16416,     0.16517,     0.16617,     0.16717,\n",
                            "           0.16817,     0.16917,     0.17017,     0.17117,     0.17217,     0.17317,     0.17417,     0.17518,     0.17618,     0.17718,     0.17818,     0.17918,     0.18018,     0.18118,     0.18218,     0.18318,     0.18418,     0.18519,     0.18619,     0.18719,     0.18819,     0.18919,     0.19019,     0.19119,\n",
                            "           0.19219,     0.19319,     0.19419,      0.1952,      0.1962,      0.1972,      0.1982,      0.1992,      0.2002,      0.2012,      0.2022,      0.2032,      0.2042,     0.20521,     0.20621,     0.20721,     0.20821,     0.20921,     0.21021,     0.21121,     0.21221,     0.21321,     0.21421,     0.21522,\n",
                            "           0.21622,     0.21722,     0.21822,     0.21922,     0.22022,     0.22122,     0.22222,     0.22322,     0.22422,     0.22523,     0.22623,     0.22723,     0.22823,     0.22923,     0.23023,     0.23123,     0.23223,     0.23323,     0.23423,     0.23524,     0.23624,     0.23724,     0.23824,     0.23924,\n",
                            "           0.24024,     0.24124,     0.24224,     0.24324,     0.24424,     0.24525,     0.24625,     0.24725,     0.24825,     0.24925,     0.25025,     0.25125,     0.25225,     0.25325,     0.25425,     0.25526,     0.25626,     0.25726,     0.25826,     0.25926,     0.26026,     0.26126,     0.26226,     0.26326,\n",
                            "           0.26426,     0.26527,     0.26627,     0.26727,     0.26827,     0.26927,     0.27027,     0.27127,     0.27227,     0.27327,     0.27427,     0.27528,     0.27628,     0.27728,     0.27828,     0.27928,     0.28028,     0.28128,     0.28228,     0.28328,     0.28428,     0.28529,     0.28629,     0.28729,\n",
                            "           0.28829,     0.28929,     0.29029,     0.29129,     0.29229,     0.29329,     0.29429,      0.2953,      0.2963,      0.2973,      0.2983,      0.2993,      0.3003,      0.3013,      0.3023,      0.3033,      0.3043,     0.30531,     0.30631,     0.30731,     0.30831,     0.30931,     0.31031,     0.31131,\n",
                            "           0.31231,     0.31331,     0.31431,     0.31532,     0.31632,     0.31732,     0.31832,     0.31932,     0.32032,     0.32132,     0.32232,     0.32332,     0.32432,     0.32533,     0.32633,     0.32733,     0.32833,     0.32933,     0.33033,     0.33133,     0.33233,     0.33333,     0.33433,     0.33534,\n",
                            "           0.33634,     0.33734,     0.33834,     0.33934,     0.34034,     0.34134,     0.34234,     0.34334,     0.34434,     0.34535,     0.34635,     0.34735,     0.34835,     0.34935,     0.35035,     0.35135,     0.35235,     0.35335,     0.35435,     0.35536,     0.35636,     0.35736,     0.35836,     0.35936,\n",
                            "           0.36036,     0.36136,     0.36236,     0.36336,     0.36436,     0.36537,     0.36637,     0.36737,     0.36837,     0.36937,     0.37037,     0.37137,     0.37237,     0.37337,     0.37437,     0.37538,     0.37638,     0.37738,     0.37838,     0.37938,     0.38038,     0.38138,     0.38238,     0.38338,\n",
                            "           0.38438,     0.38539,     0.38639,     0.38739,     0.38839,     0.38939,     0.39039,     0.39139,     0.39239,     0.39339,     0.39439,      0.3954,      0.3964,      0.3974,      0.3984,      0.3994,      0.4004,      0.4014,      0.4024,      0.4034,      0.4044,     0.40541,     0.40641,     0.40741,\n",
                            "           0.40841,     0.40941,     0.41041,     0.41141,     0.41241,     0.41341,     0.41441,     0.41542,     0.41642,     0.41742,     0.41842,     0.41942,     0.42042,     0.42142,     0.42242,     0.42342,     0.42442,     0.42543,     0.42643,     0.42743,     0.42843,     0.42943,     0.43043,     0.43143,\n",
                            "           0.43243,     0.43343,     0.43443,     0.43544,     0.43644,     0.43744,     0.43844,     0.43944,     0.44044,     0.44144,     0.44244,     0.44344,     0.44444,     0.44545,     0.44645,     0.44745,     0.44845,     0.44945,     0.45045,     0.45145,     0.45245,     0.45345,     0.45445,     0.45546,\n",
                            "           0.45646,     0.45746,     0.45846,     0.45946,     0.46046,     0.46146,     0.46246,     0.46346,     0.46446,     0.46547,     0.46647,     0.46747,     0.46847,     0.46947,     0.47047,     0.47147,     0.47247,     0.47347,     0.47447,     0.47548,     0.47648,     0.47748,     0.47848,     0.47948,\n",
                            "           0.48048,     0.48148,     0.48248,     0.48348,     0.48448,     0.48549,     0.48649,     0.48749,     0.48849,     0.48949,     0.49049,     0.49149,     0.49249,     0.49349,     0.49449,      0.4955,      0.4965,      0.4975,      0.4985,      0.4995,      0.5005,      0.5015,      0.5025,      0.5035,\n",
                            "            0.5045,     0.50551,     0.50651,     0.50751,     0.50851,     0.50951,     0.51051,     0.51151,     0.51251,     0.51351,     0.51451,     0.51552,     0.51652,     0.51752,     0.51852,     0.51952,     0.52052,     0.52152,     0.52252,     0.52352,     0.52452,     0.52553,     0.52653,     0.52753,\n",
                            "           0.52853,     0.52953,     0.53053,     0.53153,     0.53253,     0.53353,     0.53453,     0.53554,     0.53654,     0.53754,     0.53854,     0.53954,     0.54054,     0.54154,     0.54254,     0.54354,     0.54454,     0.54555,     0.54655,     0.54755,     0.54855,     0.54955,     0.55055,     0.55155,\n",
                            "           0.55255,     0.55355,     0.55455,     0.55556,     0.55656,     0.55756,     0.55856,     0.55956,     0.56056,     0.56156,     0.56256,     0.56356,     0.56456,     0.56557,     0.56657,     0.56757,     0.56857,     0.56957,     0.57057,     0.57157,     0.57257,     0.57357,     0.57457,     0.57558,\n",
                            "           0.57658,     0.57758,     0.57858,     0.57958,     0.58058,     0.58158,     0.58258,     0.58358,     0.58458,     0.58559,     0.58659,     0.58759,     0.58859,     0.58959,     0.59059,     0.59159,     0.59259,     0.59359,     0.59459,      0.5956,      0.5966,      0.5976,      0.5986,      0.5996,\n",
                            "            0.6006,      0.6016,      0.6026,      0.6036,      0.6046,     0.60561,     0.60661,     0.60761,     0.60861,     0.60961,     0.61061,     0.61161,     0.61261,     0.61361,     0.61461,     0.61562,     0.61662,     0.61762,     0.61862,     0.61962,     0.62062,     0.62162,     0.62262,     0.62362,\n",
                            "           0.62462,     0.62563,     0.62663,     0.62763,     0.62863,     0.62963,     0.63063,     0.63163,     0.63263,     0.63363,     0.63463,     0.63564,     0.63664,     0.63764,     0.63864,     0.63964,     0.64064,     0.64164,     0.64264,     0.64364,     0.64464,     0.64565,     0.64665,     0.64765,\n",
                            "           0.64865,     0.64965,     0.65065,     0.65165,     0.65265,     0.65365,     0.65465,     0.65566,     0.65666,     0.65766,     0.65866,     0.65966,     0.66066,     0.66166,     0.66266,     0.66366,     0.66466,     0.66567,     0.66667,     0.66767,     0.66867,     0.66967,     0.67067,     0.67167,\n",
                            "           0.67267,     0.67367,     0.67467,     0.67568,     0.67668,     0.67768,     0.67868,     0.67968,     0.68068,     0.68168,     0.68268,     0.68368,     0.68468,     0.68569,     0.68669,     0.68769,     0.68869,     0.68969,     0.69069,     0.69169,     0.69269,     0.69369,     0.69469,      0.6957,\n",
                            "            0.6967,      0.6977,      0.6987,      0.6997,      0.7007,      0.7017,      0.7027,      0.7037,      0.7047,     0.70571,     0.70671,     0.70771,     0.70871,     0.70971,     0.71071,     0.71171,     0.71271,     0.71371,     0.71471,     0.71572,     0.71672,     0.71772,     0.71872,     0.71972,\n",
                            "           0.72072,     0.72172,     0.72272,     0.72372,     0.72472,     0.72573,     0.72673,     0.72773,     0.72873,     0.72973,     0.73073,     0.73173,     0.73273,     0.73373,     0.73473,     0.73574,     0.73674,     0.73774,     0.73874,     0.73974,     0.74074,     0.74174,     0.74274,     0.74374,\n",
                            "           0.74474,     0.74575,     0.74675,     0.74775,     0.74875,     0.74975,     0.75075,     0.75175,     0.75275,     0.75375,     0.75475,     0.75576,     0.75676,     0.75776,     0.75876,     0.75976,     0.76076,     0.76176,     0.76276,     0.76376,     0.76476,     0.76577,     0.76677,     0.76777,\n",
                            "           0.76877,     0.76977,     0.77077,     0.77177,     0.77277,     0.77377,     0.77477,     0.77578,     0.77678,     0.77778,     0.77878,     0.77978,     0.78078,     0.78178,     0.78278,     0.78378,     0.78478,     0.78579,     0.78679,     0.78779,     0.78879,     0.78979,     0.79079,     0.79179,\n",
                            "           0.79279,     0.79379,     0.79479,      0.7958,      0.7968,      0.7978,      0.7988,      0.7998,      0.8008,      0.8018,      0.8028,      0.8038,      0.8048,     0.80581,     0.80681,     0.80781,     0.80881,     0.80981,     0.81081,     0.81181,     0.81281,     0.81381,     0.81481,     0.81582,\n",
                            "           0.81682,     0.81782,     0.81882,     0.81982,     0.82082,     0.82182,     0.82282,     0.82382,     0.82482,     0.82583,     0.82683,     0.82783,     0.82883,     0.82983,     0.83083,     0.83183,     0.83283,     0.83383,     0.83483,     0.83584,     0.83684,     0.83784,     0.83884,     0.83984,\n",
                            "           0.84084,     0.84184,     0.84284,     0.84384,     0.84484,     0.84585,     0.84685,     0.84785,     0.84885,     0.84985,     0.85085,     0.85185,     0.85285,     0.85385,     0.85485,     0.85586,     0.85686,     0.85786,     0.85886,     0.85986,     0.86086,     0.86186,     0.86286,     0.86386,\n",
                            "           0.86486,     0.86587,     0.86687,     0.86787,     0.86887,     0.86987,     0.87087,     0.87187,     0.87287,     0.87387,     0.87487,     0.87588,     0.87688,     0.87788,     0.87888,     0.87988,     0.88088,     0.88188,     0.88288,     0.88388,     0.88488,     0.88589,     0.88689,     0.88789,\n",
                            "           0.88889,     0.88989,     0.89089,     0.89189,     0.89289,     0.89389,     0.89489,      0.8959,      0.8969,      0.8979,      0.8989,      0.8999,      0.9009,      0.9019,      0.9029,      0.9039,      0.9049,     0.90591,     0.90691,     0.90791,     0.90891,     0.90991,     0.91091,     0.91191,\n",
                            "           0.91291,     0.91391,     0.91491,     0.91592,     0.91692,     0.91792,     0.91892,     0.91992,     0.92092,     0.92192,     0.92292,     0.92392,     0.92492,     0.92593,     0.92693,     0.92793,     0.92893,     0.92993,     0.93093,     0.93193,     0.93293,     0.93393,     0.93493,     0.93594,\n",
                            "           0.93694,     0.93794,     0.93894,     0.93994,     0.94094,     0.94194,     0.94294,     0.94394,     0.94494,     0.94595,     0.94695,     0.94795,     0.94895,     0.94995,     0.95095,     0.95195,     0.95295,     0.95395,     0.95495,     0.95596,     0.95696,     0.95796,     0.95896,     0.95996,\n",
                            "           0.96096,     0.96196,     0.96296,     0.96396,     0.96496,     0.96597,     0.96697,     0.96797,     0.96897,     0.96997,     0.97097,     0.97197,     0.97297,     0.97397,     0.97497,     0.97598,     0.97698,     0.97798,     0.97898,     0.97998,     0.98098,     0.98198,     0.98298,     0.98398,\n",
                            "           0.98498,     0.98599,     0.98699,     0.98799,     0.98899,     0.98999,     0.99099,     0.99199,     0.99299,     0.99399,     0.99499,       0.996,       0.997,       0.998,       0.999,           1]), array([[   0.013117,    0.013162,    0.078185, ...,           1,           1,           1],\n",
                            "       [   0.026846,    0.026903,     0.11907, ...,           1,           1,           1],\n",
                            "       [   0.016967,    0.017023,      0.1353, ...,           1,           1,           1],\n",
                            "       ...,\n",
                            "       [   0.055556,    0.055556,     0.11244, ...,           1,           1,           1],\n",
                            "       [   0.051471,    0.051471,    0.096035, ...,           1,           1,           1],\n",
                            "       [    0.16216,     0.16216,     0.29928, ...,           1,           1,           1]], shape=(26, 1000)), 'Confidence', 'Precision'], [array([          0,    0.001001,    0.002002,    0.003003,    0.004004,    0.005005,    0.006006,    0.007007,    0.008008,    0.009009,     0.01001,    0.011011,    0.012012,    0.013013,    0.014014,    0.015015,    0.016016,    0.017017,    0.018018,    0.019019,     0.02002,    0.021021,    0.022022,    0.023023,\n",
                            "          0.024024,    0.025025,    0.026026,    0.027027,    0.028028,    0.029029,     0.03003,    0.031031,    0.032032,    0.033033,    0.034034,    0.035035,    0.036036,    0.037037,    0.038038,    0.039039,     0.04004,    0.041041,    0.042042,    0.043043,    0.044044,    0.045045,    0.046046,    0.047047,\n",
                            "          0.048048,    0.049049,     0.05005,    0.051051,    0.052052,    0.053053,    0.054054,    0.055055,    0.056056,    0.057057,    0.058058,    0.059059,     0.06006,    0.061061,    0.062062,    0.063063,    0.064064,    0.065065,    0.066066,    0.067067,    0.068068,    0.069069,     0.07007,    0.071071,\n",
                            "          0.072072,    0.073073,    0.074074,    0.075075,    0.076076,    0.077077,    0.078078,    0.079079,     0.08008,    0.081081,    0.082082,    0.083083,    0.084084,    0.085085,    0.086086,    0.087087,    0.088088,    0.089089,     0.09009,    0.091091,    0.092092,    0.093093,    0.094094,    0.095095,\n",
                            "          0.096096,    0.097097,    0.098098,    0.099099,      0.1001,      0.1011,      0.1021,      0.1031,      0.1041,     0.10511,     0.10611,     0.10711,     0.10811,     0.10911,     0.11011,     0.11111,     0.11211,     0.11311,     0.11411,     0.11512,     0.11612,     0.11712,     0.11812,     0.11912,\n",
                            "           0.12012,     0.12112,     0.12212,     0.12312,     0.12412,     0.12513,     0.12613,     0.12713,     0.12813,     0.12913,     0.13013,     0.13113,     0.13213,     0.13313,     0.13413,     0.13514,     0.13614,     0.13714,     0.13814,     0.13914,     0.14014,     0.14114,     0.14214,     0.14314,\n",
                            "           0.14414,     0.14515,     0.14615,     0.14715,     0.14815,     0.14915,     0.15015,     0.15115,     0.15215,     0.15315,     0.15415,     0.15516,     0.15616,     0.15716,     0.15816,     0.15916,     0.16016,     0.16116,     0.16216,     0.16316,     0.16416,     0.16517,     0.16617,     0.16717,\n",
                            "           0.16817,     0.16917,     0.17017,     0.17117,     0.17217,     0.17317,     0.17417,     0.17518,     0.17618,     0.17718,     0.17818,     0.17918,     0.18018,     0.18118,     0.18218,     0.18318,     0.18418,     0.18519,     0.18619,     0.18719,     0.18819,     0.18919,     0.19019,     0.19119,\n",
                            "           0.19219,     0.19319,     0.19419,      0.1952,      0.1962,      0.1972,      0.1982,      0.1992,      0.2002,      0.2012,      0.2022,      0.2032,      0.2042,     0.20521,     0.20621,     0.20721,     0.20821,     0.20921,     0.21021,     0.21121,     0.21221,     0.21321,     0.21421,     0.21522,\n",
                            "           0.21622,     0.21722,     0.21822,     0.21922,     0.22022,     0.22122,     0.22222,     0.22322,     0.22422,     0.22523,     0.22623,     0.22723,     0.22823,     0.22923,     0.23023,     0.23123,     0.23223,     0.23323,     0.23423,     0.23524,     0.23624,     0.23724,     0.23824,     0.23924,\n",
                            "           0.24024,     0.24124,     0.24224,     0.24324,     0.24424,     0.24525,     0.24625,     0.24725,     0.24825,     0.24925,     0.25025,     0.25125,     0.25225,     0.25325,     0.25425,     0.25526,     0.25626,     0.25726,     0.25826,     0.25926,     0.26026,     0.26126,     0.26226,     0.26326,\n",
                            "           0.26426,     0.26527,     0.26627,     0.26727,     0.26827,     0.26927,     0.27027,     0.27127,     0.27227,     0.27327,     0.27427,     0.27528,     0.27628,     0.27728,     0.27828,     0.27928,     0.28028,     0.28128,     0.28228,     0.28328,     0.28428,     0.28529,     0.28629,     0.28729,\n",
                            "           0.28829,     0.28929,     0.29029,     0.29129,     0.29229,     0.29329,     0.29429,      0.2953,      0.2963,      0.2973,      0.2983,      0.2993,      0.3003,      0.3013,      0.3023,      0.3033,      0.3043,     0.30531,     0.30631,     0.30731,     0.30831,     0.30931,     0.31031,     0.31131,\n",
                            "           0.31231,     0.31331,     0.31431,     0.31532,     0.31632,     0.31732,     0.31832,     0.31932,     0.32032,     0.32132,     0.32232,     0.32332,     0.32432,     0.32533,     0.32633,     0.32733,     0.32833,     0.32933,     0.33033,     0.33133,     0.33233,     0.33333,     0.33433,     0.33534,\n",
                            "           0.33634,     0.33734,     0.33834,     0.33934,     0.34034,     0.34134,     0.34234,     0.34334,     0.34434,     0.34535,     0.34635,     0.34735,     0.34835,     0.34935,     0.35035,     0.35135,     0.35235,     0.35335,     0.35435,     0.35536,     0.35636,     0.35736,     0.35836,     0.35936,\n",
                            "           0.36036,     0.36136,     0.36236,     0.36336,     0.36436,     0.36537,     0.36637,     0.36737,     0.36837,     0.36937,     0.37037,     0.37137,     0.37237,     0.37337,     0.37437,     0.37538,     0.37638,     0.37738,     0.37838,     0.37938,     0.38038,     0.38138,     0.38238,     0.38338,\n",
                            "           0.38438,     0.38539,     0.38639,     0.38739,     0.38839,     0.38939,     0.39039,     0.39139,     0.39239,     0.39339,     0.39439,      0.3954,      0.3964,      0.3974,      0.3984,      0.3994,      0.4004,      0.4014,      0.4024,      0.4034,      0.4044,     0.40541,     0.40641,     0.40741,\n",
                            "           0.40841,     0.40941,     0.41041,     0.41141,     0.41241,     0.41341,     0.41441,     0.41542,     0.41642,     0.41742,     0.41842,     0.41942,     0.42042,     0.42142,     0.42242,     0.42342,     0.42442,     0.42543,     0.42643,     0.42743,     0.42843,     0.42943,     0.43043,     0.43143,\n",
                            "           0.43243,     0.43343,     0.43443,     0.43544,     0.43644,     0.43744,     0.43844,     0.43944,     0.44044,     0.44144,     0.44244,     0.44344,     0.44444,     0.44545,     0.44645,     0.44745,     0.44845,     0.44945,     0.45045,     0.45145,     0.45245,     0.45345,     0.45445,     0.45546,\n",
                            "           0.45646,     0.45746,     0.45846,     0.45946,     0.46046,     0.46146,     0.46246,     0.46346,     0.46446,     0.46547,     0.46647,     0.46747,     0.46847,     0.46947,     0.47047,     0.47147,     0.47247,     0.47347,     0.47447,     0.47548,     0.47648,     0.47748,     0.47848,     0.47948,\n",
                            "           0.48048,     0.48148,     0.48248,     0.48348,     0.48448,     0.48549,     0.48649,     0.48749,     0.48849,     0.48949,     0.49049,     0.49149,     0.49249,     0.49349,     0.49449,      0.4955,      0.4965,      0.4975,      0.4985,      0.4995,      0.5005,      0.5015,      0.5025,      0.5035,\n",
                            "            0.5045,     0.50551,     0.50651,     0.50751,     0.50851,     0.50951,     0.51051,     0.51151,     0.51251,     0.51351,     0.51451,     0.51552,     0.51652,     0.51752,     0.51852,     0.51952,     0.52052,     0.52152,     0.52252,     0.52352,     0.52452,     0.52553,     0.52653,     0.52753,\n",
                            "           0.52853,     0.52953,     0.53053,     0.53153,     0.53253,     0.53353,     0.53453,     0.53554,     0.53654,     0.53754,     0.53854,     0.53954,     0.54054,     0.54154,     0.54254,     0.54354,     0.54454,     0.54555,     0.54655,     0.54755,     0.54855,     0.54955,     0.55055,     0.55155,\n",
                            "           0.55255,     0.55355,     0.55455,     0.55556,     0.55656,     0.55756,     0.55856,     0.55956,     0.56056,     0.56156,     0.56256,     0.56356,     0.56456,     0.56557,     0.56657,     0.56757,     0.56857,     0.56957,     0.57057,     0.57157,     0.57257,     0.57357,     0.57457,     0.57558,\n",
                            "           0.57658,     0.57758,     0.57858,     0.57958,     0.58058,     0.58158,     0.58258,     0.58358,     0.58458,     0.58559,     0.58659,     0.58759,     0.58859,     0.58959,     0.59059,     0.59159,     0.59259,     0.59359,     0.59459,      0.5956,      0.5966,      0.5976,      0.5986,      0.5996,\n",
                            "            0.6006,      0.6016,      0.6026,      0.6036,      0.6046,     0.60561,     0.60661,     0.60761,     0.60861,     0.60961,     0.61061,     0.61161,     0.61261,     0.61361,     0.61461,     0.61562,     0.61662,     0.61762,     0.61862,     0.61962,     0.62062,     0.62162,     0.62262,     0.62362,\n",
                            "           0.62462,     0.62563,     0.62663,     0.62763,     0.62863,     0.62963,     0.63063,     0.63163,     0.63263,     0.63363,     0.63463,     0.63564,     0.63664,     0.63764,     0.63864,     0.63964,     0.64064,     0.64164,     0.64264,     0.64364,     0.64464,     0.64565,     0.64665,     0.64765,\n",
                            "           0.64865,     0.64965,     0.65065,     0.65165,     0.65265,     0.65365,     0.65465,     0.65566,     0.65666,     0.65766,     0.65866,     0.65966,     0.66066,     0.66166,     0.66266,     0.66366,     0.66466,     0.66567,     0.66667,     0.66767,     0.66867,     0.66967,     0.67067,     0.67167,\n",
                            "           0.67267,     0.67367,     0.67467,     0.67568,     0.67668,     0.67768,     0.67868,     0.67968,     0.68068,     0.68168,     0.68268,     0.68368,     0.68468,     0.68569,     0.68669,     0.68769,     0.68869,     0.68969,     0.69069,     0.69169,     0.69269,     0.69369,     0.69469,      0.6957,\n",
                            "            0.6967,      0.6977,      0.6987,      0.6997,      0.7007,      0.7017,      0.7027,      0.7037,      0.7047,     0.70571,     0.70671,     0.70771,     0.70871,     0.70971,     0.71071,     0.71171,     0.71271,     0.71371,     0.71471,     0.71572,     0.71672,     0.71772,     0.71872,     0.71972,\n",
                            "           0.72072,     0.72172,     0.72272,     0.72372,     0.72472,     0.72573,     0.72673,     0.72773,     0.72873,     0.72973,     0.73073,     0.73173,     0.73273,     0.73373,     0.73473,     0.73574,     0.73674,     0.73774,     0.73874,     0.73974,     0.74074,     0.74174,     0.74274,     0.74374,\n",
                            "           0.74474,     0.74575,     0.74675,     0.74775,     0.74875,     0.74975,     0.75075,     0.75175,     0.75275,     0.75375,     0.75475,     0.75576,     0.75676,     0.75776,     0.75876,     0.75976,     0.76076,     0.76176,     0.76276,     0.76376,     0.76476,     0.76577,     0.76677,     0.76777,\n",
                            "           0.76877,     0.76977,     0.77077,     0.77177,     0.77277,     0.77377,     0.77477,     0.77578,     0.77678,     0.77778,     0.77878,     0.77978,     0.78078,     0.78178,     0.78278,     0.78378,     0.78478,     0.78579,     0.78679,     0.78779,     0.78879,     0.78979,     0.79079,     0.79179,\n",
                            "           0.79279,     0.79379,     0.79479,      0.7958,      0.7968,      0.7978,      0.7988,      0.7998,      0.8008,      0.8018,      0.8028,      0.8038,      0.8048,     0.80581,     0.80681,     0.80781,     0.80881,     0.80981,     0.81081,     0.81181,     0.81281,     0.81381,     0.81481,     0.81582,\n",
                            "           0.81682,     0.81782,     0.81882,     0.81982,     0.82082,     0.82182,     0.82282,     0.82382,     0.82482,     0.82583,     0.82683,     0.82783,     0.82883,     0.82983,     0.83083,     0.83183,     0.83283,     0.83383,     0.83483,     0.83584,     0.83684,     0.83784,     0.83884,     0.83984,\n",
                            "           0.84084,     0.84184,     0.84284,     0.84384,     0.84484,     0.84585,     0.84685,     0.84785,     0.84885,     0.84985,     0.85085,     0.85185,     0.85285,     0.85385,     0.85485,     0.85586,     0.85686,     0.85786,     0.85886,     0.85986,     0.86086,     0.86186,     0.86286,     0.86386,\n",
                            "           0.86486,     0.86587,     0.86687,     0.86787,     0.86887,     0.86987,     0.87087,     0.87187,     0.87287,     0.87387,     0.87487,     0.87588,     0.87688,     0.87788,     0.87888,     0.87988,     0.88088,     0.88188,     0.88288,     0.88388,     0.88488,     0.88589,     0.88689,     0.88789,\n",
                            "           0.88889,     0.88989,     0.89089,     0.89189,     0.89289,     0.89389,     0.89489,      0.8959,      0.8969,      0.8979,      0.8989,      0.8999,      0.9009,      0.9019,      0.9029,      0.9039,      0.9049,     0.90591,     0.90691,     0.90791,     0.90891,     0.90991,     0.91091,     0.91191,\n",
                            "           0.91291,     0.91391,     0.91491,     0.91592,     0.91692,     0.91792,     0.91892,     0.91992,     0.92092,     0.92192,     0.92292,     0.92392,     0.92492,     0.92593,     0.92693,     0.92793,     0.92893,     0.92993,     0.93093,     0.93193,     0.93293,     0.93393,     0.93493,     0.93594,\n",
                            "           0.93694,     0.93794,     0.93894,     0.93994,     0.94094,     0.94194,     0.94294,     0.94394,     0.94494,     0.94595,     0.94695,     0.94795,     0.94895,     0.94995,     0.95095,     0.95195,     0.95295,     0.95395,     0.95495,     0.95596,     0.95696,     0.95796,     0.95896,     0.95996,\n",
                            "           0.96096,     0.96196,     0.96296,     0.96396,     0.96496,     0.96597,     0.96697,     0.96797,     0.96897,     0.96997,     0.97097,     0.97197,     0.97297,     0.97397,     0.97497,     0.97598,     0.97698,     0.97798,     0.97898,     0.97998,     0.98098,     0.98198,     0.98298,     0.98398,\n",
                            "           0.98498,     0.98599,     0.98699,     0.98799,     0.98899,     0.98999,     0.99099,     0.99199,     0.99299,     0.99399,     0.99499,       0.996,       0.997,       0.998,       0.999,           1]), array([[          1,           1,           1, ...,           0,           0,           0],\n",
                            "       [          1,           1,           1, ...,           0,           0,           0],\n",
                            "       [          1,           1,           1, ...,           0,           0,           0],\n",
                            "       ...,\n",
                            "       [          1,           1,           1, ...,           0,           0,           0],\n",
                            "       [          1,           1,           1, ...,     0.28874,           0,           0],\n",
                            "       [          1,           1,           1, ...,     0.35772,           0,           0]], shape=(26, 1000)), 'Confidence', 'Recall']]\n",
                            "fitness: np.float64(0.8466024245269383)\n",
                            "keys: ['metrics/precision(B)', 'metrics/recall(B)', 'metrics/mAP50(B)', 'metrics/mAP50-95(B)']\n",
                            "maps: array([     0.8749,     0.87824,     0.81202,     0.82576,     0.79128,      0.9454,     0.74514,     0.83886,     0.84103,     0.85198,     0.85132,     0.88548,     0.69012,     0.72335,     0.86036,     0.75293,     0.76054,      0.8912,     0.86915,     0.84555,     0.88249,      0.7651,     0.89389,     0.78886,\n",
                            "           0.86615,     0.86528])\n",
                            "names: {0: 'A', 1: 'B', 2: 'C', 3: 'D', 4: 'E', 5: 'F', 6: 'G', 7: 'H', 8: 'I', 9: 'J', 10: 'K', 11: 'L', 12: 'M', 13: 'N', 14: 'O', 15: 'P', 16: 'Q', 17: 'R', 18: 'S', 19: 'T', 20: 'U', 21: 'V', 22: 'W', 23: 'X', 24: 'Y', 25: 'Z'}\n",
                            "nt_per_class: array([17, 12, 16,  5, 12,  5,  9,  5,  5,  5,  5, 12, 11,  9,  8,  5, 10, 17,  5,  9,  7,  9,  6,  5,  7,  6])\n",
                            "nt_per_image: array([17, 12, 16,  5, 12,  5,  9,  5,  5,  5,  5, 12, 11,  9,  8,  5, 10, 17,  5,  9,  7,  9,  6,  5,  7,  6])\n",
                            "results_dict: {'metrics/precision(B)': np.float64(0.9483489396850948), 'metrics/recall(B)': np.float64(0.9658177374526825), 'metrics/mAP50(B)': np.float64(0.9903514588859417), 'metrics/mAP50-95(B)': np.float64(0.8306303095981602), 'fitness': np.float64(0.8466024245269383)}\n",
                            "save_dir: WindowsPath('c:/Users/berna/Documents/Proyecto_ia_legua_se-as_2025/runs/detect/train22')\n",
                            "speed: {'preprocess': 0.19553288287268614, 'inference': 1.6056495495471248, 'loss': 0.0016117117120466155, 'postprocess': 2.049187387394734}\n",
                            "stats: {'tp': [], 'conf': [], 'pred_cls': [], 'target_cls': [], 'target_img': []}\n",
                            "task: 'detect'"
                        ]
                    },
                    "execution_count": 4,
                    "metadata": {},
                    "output_type": "execute_result"
                }
            ],
            "source": [
                "# Evaluar desempeño\n",
                "model.val()"
            ]
        },
        {
            "cell_type": "code",
            "execution_count": null,
            "id": "c9c895dd",
            "metadata": {},
            "outputs": [
                {
                    "name": "stdout",
                    "output_type": "stream",
                    "text": [
                        "\n",
                        "1/1: 0... Success  (inf frames of shape 640x480 at 30.00 FPS)\n",
                        "\n",
                        "WARNING \n",
                        "inference results will accumulate in RAM unless `stream=True` is passed, causing potential out-of-memory\n",
                        "errors for large sources or long-running streams and videos. See https://docs.ultralytics.com/modes/predict/ for help.\n",
                        "\n",
                        "Example:\n",
                        "    results = model(source=..., stream=True)  # generator of Results objects\n",
                        "    for r in results:\n",
                        "        boxes = r.boxes  # Boxes object for bbox outputs\n",
                        "        masks = r.masks  # Masks object for segment masks outputs\n",
                        "        probs = r.probs  # Class probabilities for classification outputs\n",
                        "\n",
                        "0: 320x416 (no detections), 153.7ms\n",
                        "0: 320x416 (no detections), 86.0ms\n",
                        "0: 320x416 (no detections), 56.3ms\n",
                        "0: 320x416 (no detections), 54.3ms\n",
                        "0: 320x416 (no detections), 57.4ms\n",
                        "0: 320x416 (no detections), 50.0ms\n",
                        "0: 320x416 (no detections), 51.6ms\n",
                        "0: 320x416 (no detections), 55.6ms\n",
                        "0: 320x416 (no detections), 50.1ms\n",
                        "0: 320x416 (no detections), 48.3ms\n",
                        "0: 320x416 (no detections), 49.3ms\n",
                        "0: 320x416 (no detections), 50.2ms\n",
                        "0: 320x416 (no detections), 47.0ms\n",
                        "0: 320x416 (no detections), 50.4ms\n",
                        "0: 320x416 (no detections), 45.9ms\n",
                        "0: 320x416 (no detections), 49.4ms\n",
                        "0: 320x416 (no detections), 44.4ms\n",
                        "0: 320x416 (no detections), 44.8ms\n",
                        "0: 320x416 (no detections), 49.5ms\n",
                        "0: 320x416 (no detections), 43.5ms\n",
                        "0: 320x416 (no detections), 49.0ms\n",
                        "0: 320x416 (no detections), 43.5ms\n",
                        "0: 320x416 (no detections), 46.2ms\n",
                        "0: 320x416 (no detections), 48.5ms\n",
                        "0: 320x416 (no detections), 53.8ms\n",
                        "0: 320x416 (no detections), 48.0ms\n",
                        "0: 320x416 (no detections), 50.3ms\n",
                        "0: 320x416 (no detections), 46.8ms\n",
                        "0: 320x416 (no detections), 48.7ms\n",
                        "0: 320x416 (no detections), 44.7ms\n",
                        "0: 320x416 (no detections), 45.4ms\n",
                        "0: 320x416 (no detections), 50.6ms\n",
                        "0: 320x416 (no detections), 62.1ms\n",
                        "0: 320x416 (no detections), 49.5ms\n",
                        "0: 320x416 (no detections), 54.4ms\n",
                        "0: 320x416 (no detections), 46.0ms\n",
                        "0: 320x416 (no detections), 48.6ms\n",
                        "0: 320x416 (no detections), 48.9ms\n",
                        "0: 320x416 (no detections), 48.6ms\n",
                        "0: 320x416 (no detections), 43.9ms\n",
                        "0: 320x416 (no detections), 45.7ms\n",
                        "0: 320x416 (no detections), 43.3ms\n",
                        "0: 320x416 (no detections), 50.7ms\n",
                        "0: 320x416 (no detections), 45.2ms\n",
                        "0: 320x416 (no detections), 51.7ms\n",
                        "0: 320x416 (no detections), 54.5ms\n",
                        "0: 320x416 (no detections), 48.8ms\n",
                        "0: 320x416 (no detections), 49.2ms\n",
                        "0: 320x416 (no detections), 53.7ms\n",
                        "0: 320x416 (no detections), 51.9ms\n",
                        "0: 320x416 (no detections), 40.8ms\n",
                        "0: 320x416 (no detections), 53.5ms\n",
                        "0: 320x416 (no detections), 49.8ms\n",
                        "0: 320x416 (no detections), 50.8ms\n",
                        "0: 320x416 (no detections), 43.2ms\n",
                        "0: 320x416 (no detections), 44.8ms\n",
                        "0: 320x416 (no detections), 44.3ms\n",
                        "0: 320x416 (no detections), 39.7ms\n",
                        "0: 320x416 (no detections), 38.3ms\n",
                        "0: 320x416 (no detections), 37.7ms\n",
                        "0: 320x416 (no detections), 37.5ms\n",
                        "0: 320x416 (no detections), 42.4ms\n",
                        "0: 320x416 (no detections), 37.9ms\n",
                        "0: 320x416 (no detections), 35.8ms\n",
                        "0: 320x416 (no detections), 36.2ms\n",
                        "0: 320x416 (no detections), 38.5ms\n",
                        "0: 320x416 (no detections), 36.7ms\n",
                        "0: 320x416 (no detections), 36.2ms\n",
                        "0: 320x416 (no detections), 38.3ms\n",
                        "0: 320x416 (no detections), 34.1ms\n",
                        "0: 320x416 (no detections), 44.4ms\n",
                        "0: 320x416 (no detections), 39.5ms\n",
                        "0: 320x416 (no detections), 66.1ms\n",
                        "0: 320x416 (no detections), 59.4ms\n",
                        "0: 320x416 (no detections), 42.9ms\n",
                        "0: 320x416 (no detections), 52.8ms\n",
                        "0: 320x416 (no detections), 50.0ms\n",
                        "0: 320x416 (no detections), 52.6ms\n",
                        "0: 320x416 (no detections), 49.7ms\n",
                        "0: 320x416 (no detections), 47.2ms\n",
                        "0: 320x416 (no detections), 41.2ms\n",
                        "0: 320x416 (no detections), 38.6ms\n",
                        "0: 320x416 (no detections), 39.9ms\n",
                        "0: 320x416 (no detections), 38.5ms\n",
                        "0: 320x416 (no detections), 53.8ms\n",
                        "0: 320x416 (no detections), 50.3ms\n",
                        "0: 320x416 (no detections), 52.0ms\n",
                        "0: 320x416 (no detections), 46.2ms\n",
                        "0: 320x416 (no detections), 36.2ms\n",
                        "0: 320x416 (no detections), 40.7ms\n",
                        "0: 320x416 (no detections), 40.2ms\n",
                        "0: 320x416 (no detections), 45.0ms\n",
                        "0: 320x416 (no detections), 41.3ms\n",
                        "0: 320x416 (no detections), 38.1ms\n",
                        "0: 320x416 (no detections), 40.0ms\n",
                        "0: 320x416 (no detections), 45.8ms\n",
                        "0: 320x416 (no detections), 44.5ms\n",
                        "0: 320x416 (no detections), 46.2ms\n",
                        "0: 320x416 (no detections), 48.1ms\n",
                        "0: 320x416 (no detections), 43.1ms\n",
                        "0: 320x416 (no detections), 37.9ms\n",
                        "0: 320x416 (no detections), 45.4ms\n",
                        "0: 320x416 (no detections), 48.8ms\n",
                        "0: 320x416 (no detections), 44.9ms\n",
                        "0: 320x416 (no detections), 41.9ms\n",
                        "0: 320x416 (no detections), 46.3ms\n",
                        "0: 320x416 (no detections), 56.8ms\n",
                        "0: 320x416 (no detections), 50.0ms\n",
                        "0: 320x416 (no detections), 50.1ms\n",
                        "0: 320x416 (no detections), 44.4ms\n",
                        "0: 320x416 (no detections), 38.7ms\n",
                        "0: 320x416 (no detections), 41.7ms\n",
                        "0: 320x416 (no detections), 37.7ms\n",
                        "0: 320x416 (no detections), 41.8ms\n",
                        "0: 320x416 (no detections), 46.5ms\n",
                        "0: 320x416 (no detections), 46.8ms\n",
                        "0: 320x416 (no detections), 38.3ms\n",
                        "0: 320x416 (no detections), 36.0ms\n",
                        "0: 320x416 (no detections), 40.0ms\n",
                        "0: 320x416 (no detections), 37.5ms\n",
                        "0: 320x416 (no detections), 44.4ms\n",
                        "0: 320x416 (no detections), 36.8ms\n",
                        "0: 320x416 (no detections), 40.9ms\n",
                        "0: 320x416 (no detections), 38.4ms\n",
                        "0: 320x416 (no detections), 34.2ms\n",
                        "0: 320x416 (no detections), 34.0ms\n",
                        "0: 320x416 (no detections), 38.4ms\n",
                        "0: 320x416 (no detections), 41.1ms\n",
                        "0: 320x416 (no detections), 35.5ms\n",
                        "0: 320x416 (no detections), 39.9ms\n",
                        "0: 320x416 (no detections), 37.1ms\n",
                        "0: 320x416 (no detections), 36.0ms\n",
                        "0: 320x416 (no detections), 35.0ms\n",
                        "0: 320x416 (no detections), 37.0ms\n",
                        "0: 320x416 (no detections), 35.6ms\n",
                        "0: 320x416 (no detections), 37.2ms\n",
                        "0: 320x416 (no detections), 39.4ms\n",
                        "0: 320x416 (no detections), 37.4ms\n",
                        "0: 320x416 (no detections), 36.6ms\n",
                        "0: 320x416 (no detections), 38.7ms\n",
                        "0: 320x416 (no detections), 38.6ms\n",
                        "0: 320x416 (no detections), 43.6ms\n",
                        "0: 320x416 (no detections), 36.5ms\n",
                        "0: 320x416 (no detections), 40.1ms\n",
                        "0: 320x416 (no detections), 37.9ms\n",
                        "0: 320x416 (no detections), 75.1ms\n",
                        "0: 320x416 (no detections), 44.8ms\n",
                        "0: 320x416 (no detections), 37.9ms\n",
                        "0: 320x416 (no detections), 37.5ms\n",
                        "0: 320x416 (no detections), 38.7ms\n",
                        "0: 320x416 (no detections), 37.2ms\n",
                        "0: 320x416 (no detections), 38.3ms\n",
                        "0: 320x416 (no detections), 34.7ms\n",
                        "0: 320x416 (no detections), 38.5ms\n",
                        "0: 320x416 (no detections), 35.4ms\n",
                        "0: 320x416 (no detections), 35.2ms\n",
                        "0: 320x416 (no detections), 34.3ms\n",
                        "0: 320x416 (no detections), 33.0ms\n",
                        "0: 320x416 (no detections), 43.9ms\n",
                        "0: 320x416 (no detections), 36.9ms\n",
                        "0: 320x416 (no detections), 35.6ms\n",
                        "0: 320x416 (no detections), 35.5ms\n",
                        "0: 320x416 (no detections), 38.8ms\n",
                        "0: 320x416 (no detections), 36.6ms\n",
                        "0: 320x416 (no detections), 36.4ms\n",
                        "0: 320x416 (no detections), 45.2ms\n",
                        "0: 320x416 (no detections), 43.6ms\n",
                        "0: 320x416 (no detections), 47.9ms\n",
                        "0: 320x416 (no detections), 36.0ms\n",
                        "0: 320x416 (no detections), 41.9ms\n",
                        "0: 320x416 (no detections), 39.8ms\n",
                        "0: 320x416 (no detections), 39.7ms\n",
                        "0: 320x416 (no detections), 38.5ms\n",
                        "0: 320x416 (no detections), 36.7ms\n",
                        "0: 320x416 (no detections), 33.9ms\n",
                        "0: 320x416 (no detections), 38.8ms\n",
                        "0: 320x416 (no detections), 34.7ms\n",
                        "0: 320x416 (no detections), 34.4ms\n",
                        "0: 320x416 (no detections), 37.7ms\n",
                        "0: 320x416 (no detections), 35.3ms\n",
                        "0: 320x416 (no detections), 45.8ms\n",
                        "0: 320x416 (no detections), 36.1ms\n",
                        "0: 320x416 (no detections), 44.0ms\n",
                        "0: 320x416 (no detections), 35.9ms\n",
                        "0: 320x416 (no detections), 32.9ms\n",
                        "0: 320x416 (no detections), 39.2ms\n",
                        "0: 320x416 (no detections), 37.8ms\n",
                        "0: 320x416 (no detections), 36.5ms\n",
                        "0: 320x416 (no detections), 47.1ms\n",
                        "0: 320x416 (no detections), 41.3ms\n",
                        "0: 320x416 (no detections), 43.6ms\n",
                        "0: 320x416 (no detections), 35.5ms\n",
                        "0: 320x416 (no detections), 41.6ms\n",
                        "0: 320x416 (no detections), 35.5ms\n",
                        "0: 320x416 (no detections), 34.8ms\n",
                        "0: 320x416 (no detections), 45.1ms\n",
                        "0: 320x416 (no detections), 46.6ms\n",
                        "0: 320x416 (no detections), 41.4ms\n",
                        "0: 320x416 (no detections), 38.5ms\n",
                        "0: 320x416 (no detections), 37.4ms\n",
                        "0: 320x416 (no detections), 50.8ms\n",
                        "0: 320x416 (no detections), 44.6ms\n",
                        "0: 320x416 (no detections), 40.2ms\n",
                        "0: 320x416 (no detections), 46.6ms\n",
                        "0: 320x416 (no detections), 42.5ms\n",
                        "0: 320x416 (no detections), 41.0ms\n",
                        "0: 320x416 (no detections), 39.6ms\n",
                        "0: 320x416 (no detections), 34.1ms\n",
                        "0: 320x416 (no detections), 38.4ms\n",
                        "0: 320x416 (no detections), 41.2ms\n",
                        "0: 320x416 (no detections), 35.5ms\n",
                        "0: 320x416 (no detections), 37.3ms\n",
                        "0: 320x416 (no detections), 39.7ms\n",
                        "0: 320x416 (no detections), 38.4ms\n",
                        "0: 320x416 (no detections), 39.3ms\n",
                        "0: 320x416 (no detections), 41.1ms\n",
                        "0: 320x416 (no detections), 41.3ms\n",
                        "0: 320x416 (no detections), 34.8ms\n",
                        "0: 320x416 (no detections), 38.0ms\n",
                        "0: 320x416 (no detections), 38.1ms\n",
                        "0: 320x416 (no detections), 36.6ms\n",
                        "0: 320x416 (no detections), 41.6ms\n",
                        "0: 320x416 (no detections), 41.7ms\n",
                        "0: 320x416 (no detections), 37.3ms\n",
                        "0: 320x416 (no detections), 37.9ms\n",
                        "0: 320x416 (no detections), 34.7ms\n",
                        "0: 320x416 (no detections), 39.5ms\n",
                        "0: 320x416 (no detections), 38.6ms\n",
                        "0: 320x416 (no detections), 48.0ms\n",
                        "0: 320x416 (no detections), 35.4ms\n",
                        "0: 320x416 (no detections), 35.0ms\n",
                        "0: 320x416 (no detections), 39.5ms\n",
                        "0: 320x416 (no detections), 37.7ms\n",
                        "0: 320x416 (no detections), 39.0ms\n",
                        "0: 320x416 (no detections), 36.7ms\n",
                        "0: 320x416 (no detections), 46.4ms\n",
                        "0: 320x416 (no detections), 42.4ms\n",
                        "0: 320x416 (no detections), 37.3ms\n",
                        "0: 320x416 (no detections), 37.7ms\n",
                        "0: 320x416 (no detections), 35.6ms\n",
                        "0: 320x416 (no detections), 36.1ms\n",
                        "0: 320x416 (no detections), 36.9ms\n",
                        "0: 320x416 (no detections), 36.1ms\n",
                        "0: 320x416 (no detections), 34.5ms\n",
                        "0: 320x416 (no detections), 34.7ms\n",
                        "0: 320x416 (no detections), 37.4ms\n",
                        "0: 320x416 (no detections), 39.3ms\n",
                        "0: 320x416 (no detections), 35.5ms\n",
                        "0: 320x416 (no detections), 36.6ms\n",
                        "0: 320x416 (no detections), 41.5ms\n",
                        "0: 320x416 (no detections), 39.7ms\n",
                        "0: 320x416 (no detections), 39.3ms\n",
                        "0: 320x416 (no detections), 37.4ms\n",
                        "0: 320x416 (no detections), 33.3ms\n",
                        "0: 320x416 (no detections), 36.8ms\n",
                        "0: 320x416 (no detections), 36.9ms\n",
                        "0: 320x416 (no detections), 38.9ms\n",
                        "0: 320x416 (no detections), 37.3ms\n",
                        "0: 320x416 (no detections), 36.2ms\n",
                        "0: 320x416 (no detections), 34.8ms\n",
                        "0: 320x416 (no detections), 38.5ms\n",
                        "0: 320x416 (no detections), 34.8ms\n",
                        "0: 320x416 (no detections), 42.1ms\n",
                        "0: 320x416 (no detections), 35.2ms\n",
                        "0: 320x416 (no detections), 38.8ms\n",
                        "0: 320x416 (no detections), 37.6ms\n",
                        "0: 320x416 (no detections), 36.2ms\n",
                        "0: 320x416 (no detections), 38.4ms\n",
                        "0: 320x416 (no detections), 35.7ms\n",
                        "0: 320x416 (no detections), 38.5ms\n",
                        "0: 320x416 (no detections), 35.2ms\n",
                        "0: 320x416 (no detections), 34.2ms\n",
                        "0: 320x416 (no detections), 35.9ms\n",
                        "0: 320x416 (no detections), 35.2ms\n",
                        "0: 320x416 (no detections), 38.3ms\n",
                        "0: 320x416 (no detections), 35.4ms\n",
                        "0: 320x416 (no detections), 31.9ms\n",
                        "0: 320x416 (no detections), 37.9ms\n",
                        "0: 320x416 (no detections), 41.1ms\n",
                        "0: 320x416 (no detections), 37.4ms\n",
                        "0: 320x416 (no detections), 32.5ms\n",
                        "0: 320x416 (no detections), 34.4ms\n",
                        "0: 320x416 (no detections), 34.5ms\n",
                        "0: 320x416 (no detections), 39.1ms\n",
                        "0: 320x416 (no detections), 39.6ms\n",
                        "0: 320x416 (no detections), 36.4ms\n",
                        "0: 320x416 (no detections), 82.0ms\n",
                        "0: 320x416 (no detections), 41.5ms\n",
                        "0: 320x416 (no detections), 34.3ms\n",
                        "0: 320x416 (no detections), 33.9ms\n",
                        "0: 320x416 (no detections), 35.3ms\n",
                        "0: 320x416 (no detections), 37.7ms\n",
                        "0: 320x416 (no detections), 35.9ms\n",
                        "0: 320x416 (no detections), 35.7ms\n",
                        "0: 320x416 (no detections), 36.6ms\n",
                        "0: 320x416 (no detections), 38.8ms\n",
                        "0: 320x416 (no detections), 37.7ms\n",
                        "0: 320x416 (no detections), 38.1ms\n",
                        "0: 320x416 (no detections), 38.5ms\n",
                        "0: 320x416 (no detections), 43.0ms\n",
                        "0: 320x416 (no detections), 34.2ms\n",
                        "0: 320x416 (no detections), 31.8ms\n",
                        "0: 320x416 (no detections), 32.1ms\n",
                        "0: 320x416 (no detections), 41.4ms\n",
                        "0: 320x416 1 A, 39.9ms\n",
                        "0: 320x416 1 A, 1 E, 34.7ms\n",
                        "0: 320x416 1 A, 33.9ms\n",
                        "0: 320x416 1 A, 35.5ms\n",
                        "0: 320x416 1 A, 34.4ms\n",
                        "0: 320x416 1 A, 33.4ms\n",
                        "0: 320x416 1 A, 34.1ms\n",
                        "0: 320x416 1 A, 34.1ms\n",
                        "0: 320x416 1 A, 37.7ms\n",
                        "0: 320x416 1 A, 35.0ms\n",
                        "0: 320x416 1 A, 32.7ms\n",
                        "0: 320x416 1 A, 32.7ms\n",
                        "0: 320x416 1 A, 36.1ms\n",
                        "0: 320x416 1 A, 35.9ms\n",
                        "0: 320x416 1 A, 39.0ms\n",
                        "0: 320x416 1 A, 35.2ms\n",
                        "0: 320x416 1 A, 37.0ms\n",
                        "0: 320x416 1 A, 34.4ms\n",
                        "0: 320x416 1 A, 33.3ms\n",
                        "0: 320x416 1 A, 38.1ms\n",
                        "0: 320x416 1 A, 36.7ms\n",
                        "0: 320x416 1 A, 35.4ms\n",
                        "0: 320x416 1 A, 38.2ms\n",
                        "0: 320x416 1 A, 34.6ms\n",
                        "0: 320x416 1 A, 38.9ms\n",
                        "0: 320x416 1 A, 35.3ms\n",
                        "0: 320x416 1 A, 30.8ms\n",
                        "0: 320x416 1 A, 35.0ms\n",
                        "0: 320x416 1 A, 36.1ms\n",
                        "0: 320x416 1 A, 32.8ms\n",
                        "0: 320x416 1 A, 38.4ms\n",
                        "0: 320x416 1 A, 38.4ms\n",
                        "0: 320x416 1 A, 33.8ms\n",
                        "0: 320x416 1 A, 31.5ms\n",
                        "0: 320x416 1 A, 47.5ms\n",
                        "0: 320x416 1 A, 35.7ms\n",
                        "0: 320x416 1 A, 35.7ms\n",
                        "0: 320x416 1 A, 34.0ms\n",
                        "0: 320x416 1 A, 35.1ms\n",
                        "0: 320x416 1 A, 37.1ms\n",
                        "0: 320x416 1 A, 37.3ms\n",
                        "0: 320x416 1 A, 37.5ms\n",
                        "0: 320x416 1 A, 35.7ms\n",
                        "0: 320x416 1 A, 39.0ms\n",
                        "0: 320x416 (no detections), 34.0ms\n",
                        "0: 320x416 (no detections), 33.7ms\n",
                        "0: 320x416 (no detections), 38.6ms\n",
                        "0: 320x416 (no detections), 29.8ms\n",
                        "0: 320x416 (no detections), 34.4ms\n",
                        "0: 320x416 (no detections), 35.8ms\n",
                        "0: 320x416 (no detections), 33.5ms\n",
                        "0: 320x416 (no detections), 35.4ms\n",
                        "0: 320x416 (no detections), 38.5ms\n",
                        "0: 320x416 (no detections), 37.3ms\n",
                        "0: 320x416 (no detections), 35.8ms\n",
                        "0: 320x416 (no detections), 40.0ms\n",
                        "0: 320x416 (no detections), 38.1ms\n",
                        "0: 320x416 (no detections), 34.4ms\n",
                        "0: 320x416 (no detections), 34.8ms\n",
                        "0: 320x416 (no detections), 36.5ms\n",
                        "0: 320x416 (no detections), 37.0ms\n",
                        "0: 320x416 (no detections), 40.0ms\n",
                        "0: 320x416 (no detections), 37.1ms\n",
                        "0: 320x416 (no detections), 34.6ms\n",
                        "0: 320x416 (no detections), 36.2ms\n",
                        "0: 320x416 (no detections), 38.1ms\n",
                        "0: 320x416 (no detections), 37.1ms\n",
                        "0: 320x416 (no detections), 34.8ms\n",
                        "0: 320x416 (no detections), 33.2ms\n",
                        "0: 320x416 (no detections), 35.0ms\n",
                        "0: 320x416 (no detections), 35.6ms\n",
                        "0: 320x416 (no detections), 36.7ms\n",
                        "0: 320x416 (no detections), 33.8ms\n",
                        "0: 320x416 (no detections), 33.8ms\n",
                        "0: 320x416 (no detections), 35.2ms\n",
                        "0: 320x416 (no detections), 30.5ms\n",
                        "0: 320x416 (no detections), 40.3ms\n",
                        "0: 320x416 (no detections), 34.8ms\n",
                        "0: 320x416 (no detections), 36.1ms\n",
                        "0: 320x416 (no detections), 35.4ms\n",
                        "0: 320x416 (no detections), 35.2ms\n",
                        "0: 320x416 (no detections), 34.2ms\n",
                        "0: 320x416 (no detections), 39.5ms\n",
                        "0: 320x416 (no detections), 35.1ms\n",
                        "0: 320x416 (no detections), 35.0ms\n",
                        "0: 320x416 (no detections), 36.1ms\n",
                        "0: 320x416 (no detections), 35.9ms\n",
                        "0: 320x416 (no detections), 38.1ms\n",
                        "0: 320x416 (no detections), 37.1ms\n",
                        "0: 320x416 (no detections), 33.7ms\n",
                        "0: 320x416 (no detections), 32.1ms\n",
                        "0: 320x416 (no detections), 36.1ms\n",
                        "0: 320x416 (no detections), 36.3ms\n",
                        "0: 320x416 (no detections), 35.9ms\n",
                        "0: 320x416 (no detections), 38.3ms\n",
                        "0: 320x416 (no detections), 35.8ms\n",
                        "0: 320x416 (no detections), 37.0ms\n",
                        "0: 320x416 (no detections), 41.6ms\n",
                        "0: 320x416 (no detections), 33.3ms\n",
                        "0: 320x416 (no detections), 33.2ms\n",
                        "0: 320x416 (no detections), 40.7ms\n",
                        "0: 320x416 (no detections), 37.0ms\n",
                        "0: 320x416 (no detections), 39.6ms\n",
                        "0: 320x416 (no detections), 36.4ms\n",
                        "0: 320x416 (no detections), 38.5ms\n",
                        "0: 320x416 (no detections), 35.8ms\n",
                        "0: 320x416 (no detections), 33.6ms\n",
                        "0: 320x416 (no detections), 40.5ms\n",
                        "0: 320x416 (no detections), 36.5ms\n",
                        "0: 320x416 (no detections), 39.3ms\n",
                        "0: 320x416 (no detections), 45.6ms\n",
                        "0: 320x416 (no detections), 34.6ms\n",
                        "0: 320x416 (no detections), 34.6ms\n",
                        "0: 320x416 (no detections), 34.4ms\n",
                        "0: 320x416 (no detections), 36.0ms\n",
                        "0: 320x416 (no detections), 33.3ms\n",
                        "0: 320x416 (no detections), 72.5ms\n",
                        "0: 320x416 (no detections), 54.7ms\n",
                        "0: 320x416 (no detections), 37.6ms\n",
                        "0: 320x416 (no detections), 36.4ms\n",
                        "0: 320x416 (no detections), 34.9ms\n",
                        "0: 320x416 (no detections), 39.5ms\n",
                        "0: 320x416 1 E, 35.7ms\n",
                        "0: 320x416 (no detections), 34.7ms\n",
                        "0: 320x416 1 E, 35.7ms\n",
                        "0: 320x416 (no detections), 35.7ms\n",
                        "0: 320x416 1 E, 40.5ms\n",
                        "0: 320x416 1 E, 35.6ms\n",
                        "0: 320x416 1 E, 34.8ms\n",
                        "0: 320x416 1 E, 38.4ms\n",
                        "0: 320x416 (no detections), 35.0ms\n",
                        "0: 320x416 1 E, 36.7ms\n",
                        "0: 320x416 (no detections), 33.6ms\n",
                        "0: 320x416 1 E, 34.2ms\n",
                        "0: 320x416 1 E, 33.3ms\n",
                        "0: 320x416 1 E, 38.0ms\n",
                        "0: 320x416 (no detections), 35.6ms\n",
                        "0: 320x416 1 E, 38.9ms\n",
                        "0: 320x416 1 E, 37.4ms\n",
                        "0: 320x416 1 E, 35.8ms\n",
                        "0: 320x416 1 E, 34.5ms\n",
                        "0: 320x416 1 E, 36.9ms\n",
                        "0: 320x416 1 E, 36.7ms\n",
                        "0: 320x416 1 E, 36.4ms\n",
                        "0: 320x416 1 E, 39.1ms\n",
                        "0: 320x416 1 E, 34.6ms\n",
                        "0: 320x416 1 E, 35.2ms\n",
                        "0: 320x416 1 E, 36.8ms\n",
                        "0: 320x416 1 E, 39.3ms\n",
                        "0: 320x416 1 E, 34.3ms\n",
                        "0: 320x416 (no detections), 34.5ms\n",
                        "0: 320x416 (no detections), 35.2ms\n",
                        "0: 320x416 (no detections), 32.9ms\n",
                        "0: 320x416 (no detections), 37.7ms\n",
                        "0: 320x416 (no detections), 33.9ms\n",
                        "0: 320x416 (no detections), 41.7ms\n",
                        "0: 320x416 (no detections), 35.0ms\n",
                        "0: 320x416 (no detections), 33.7ms\n",
                        "0: 320x416 1 A, 38.6ms\n",
                        "0: 320x416 1 A, 39.6ms\n",
                        "0: 320x416 (no detections), 36.5ms\n",
                        "0: 320x416 (no detections), 38.9ms\n",
                        "0: 320x416 (no detections), 48.5ms\n",
                        "0: 320x416 (no detections), 40.2ms\n",
                        "0: 320x416 (no detections), 37.3ms\n",
                        "0: 320x416 (no detections), 36.2ms\n",
                        "0: 320x416 (no detections), 39.8ms\n",
                        "0: 320x416 (no detections), 35.8ms\n",
                        "0: 320x416 (no detections), 38.6ms\n",
                        "0: 320x416 (no detections), 39.3ms\n",
                        "0: 320x416 (no detections), 36.6ms\n",
                        "0: 320x416 (no detections), 35.1ms\n",
                        "0: 320x416 (no detections), 33.9ms\n",
                        "0: 320x416 (no detections), 35.7ms\n",
                        "0: 320x416 (no detections), 39.8ms\n",
                        "0: 320x416 (no detections), 37.3ms\n",
                        "0: 320x416 (no detections), 36.1ms\n",
                        "0: 320x416 (no detections), 37.1ms\n",
                        "0: 320x416 (no detections), 35.5ms\n",
                        "0: 320x416 (no detections), 35.3ms\n",
                        "0: 320x416 (no detections), 42.5ms\n",
                        "0: 320x416 1 A, 34.1ms\n",
                        "0: 320x416 1 A, 35.7ms\n",
                        "0: 320x416 1 A, 38.4ms\n",
                        "0: 320x416 1 A, 41.1ms\n",
                        "0: 320x416 1 A, 44.6ms\n",
                        "0: 320x416 (no detections), 36.2ms\n",
                        "0: 320x416 (no detections), 35.2ms\n",
                        "0: 320x416 (no detections), 39.3ms\n",
                        "0: 320x416 (no detections), 36.3ms\n",
                        "0: 320x416 (no detections), 35.3ms\n",
                        "0: 320x416 (no detections), 36.8ms\n",
                        "0: 320x416 (no detections), 38.9ms\n",
                        "0: 320x416 (no detections), 35.4ms\n",
                        "0: 320x416 (no detections), 37.2ms\n",
                        "0: 320x416 (no detections), 36.8ms\n",
                        "0: 320x416 1 A, 37.1ms\n",
                        "0: 320x416 1 A, 36.3ms\n",
                        "0: 320x416 1 A, 36.2ms\n",
                        "0: 320x416 1 A, 34.5ms\n",
                        "0: 320x416 1 A, 37.7ms\n",
                        "0: 320x416 1 A, 37.3ms\n",
                        "0: 320x416 (no detections), 39.2ms\n",
                        "0: 320x416 (no detections), 34.7ms\n",
                        "0: 320x416 (no detections), 40.9ms\n",
                        "0: 320x416 (no detections), 36.6ms\n",
                        "0: 320x416 (no detections), 37.2ms\n",
                        "0: 320x416 (no detections), 37.4ms\n",
                        "0: 320x416 (no detections), 36.0ms\n",
                        "0: 320x416 (no detections), 38.1ms\n",
                        "0: 320x416 1 A, 36.8ms\n",
                        "0: 320x416 1 A, 41.1ms\n",
                        "0: 320x416 1 A, 32.7ms\n",
                        "0: 320x416 1 A, 35.4ms\n",
                        "0: 320x416 1 A, 37.5ms\n",
                        "0: 320x416 1 A, 39.1ms\n",
                        "0: 320x416 1 A, 37.4ms\n",
                        "0: 320x416 1 A, 33.5ms\n",
                        "0: 320x416 1 A, 37.4ms\n",
                        "0: 320x416 1 A, 36.7ms\n",
                        "0: 320x416 1 A, 36.7ms\n",
                        "0: 320x416 1 A, 38.1ms\n",
                        "0: 320x416 1 A, 38.3ms\n",
                        "0: 320x416 1 A, 34.5ms\n",
                        "0: 320x416 1 A, 41.0ms\n",
                        "0: 320x416 1 A, 38.1ms\n",
                        "0: 320x416 1 A, 36.5ms\n",
                        "0: 320x416 1 A, 37.0ms\n",
                        "0: 320x416 1 A, 39.1ms\n",
                        "0: 320x416 1 A, 39.2ms\n",
                        "0: 320x416 1 A, 34.1ms\n",
                        "0: 320x416 (no detections), 43.4ms\n",
                        "0: 320x416 (no detections), 39.6ms\n",
                        "0: 320x416 (no detections), 38.0ms\n",
                        "0: 320x416 (no detections), 34.0ms\n",
                        "0: 320x416 (no detections), 34.4ms\n",
                        "0: 320x416 (no detections), 36.6ms\n",
                        "0: 320x416 (no detections), 36.7ms\n",
                        "0: 320x416 (no detections), 36.2ms\n",
                        "0: 320x416 (no detections), 54.6ms\n",
                        "0: 320x416 (no detections), 57.8ms\n",
                        "0: 320x416 (no detections), 41.7ms\n",
                        "0: 320x416 (no detections), 36.0ms\n",
                        "0: 320x416 (no detections), 37.1ms\n",
                        "0: 320x416 (no detections), 35.5ms\n",
                        "0: 320x416 (no detections), 38.3ms\n",
                        "0: 320x416 (no detections), 37.8ms\n",
                        "0: 320x416 (no detections), 37.8ms\n",
                        "0: 320x416 (no detections), 35.8ms\n",
                        "0: 320x416 (no detections), 36.8ms\n",
                        "0: 320x416 (no detections), 40.7ms\n",
                        "0: 320x416 (no detections), 36.9ms\n",
                        "0: 320x416 (no detections), 37.3ms\n",
                        "0: 320x416 (no detections), 35.4ms\n",
                        "0: 320x416 (no detections), 38.1ms\n",
                        "0: 320x416 (no detections), 36.6ms\n",
                        "0: 320x416 (no detections), 34.9ms\n",
                        "0: 320x416 (no detections), 36.4ms\n",
                        "0: 320x416 (no detections), 38.3ms\n",
                        "0: 320x416 (no detections), 35.3ms\n",
                        "0: 320x416 (no detections), 38.4ms\n",
                        "0: 320x416 (no detections), 39.2ms\n",
                        "0: 320x416 (no detections), 37.4ms\n",
                        "0: 320x416 (no detections), 38.9ms\n",
                        "0: 320x416 (no detections), 37.2ms\n",
                        "0: 320x416 (no detections), 38.3ms\n",
                        "0: 320x416 (no detections), 37.2ms\n",
                        "0: 320x416 (no detections), 35.6ms\n",
                        "0: 320x416 (no detections), 38.4ms\n",
                        "0: 320x416 (no detections), 37.4ms\n",
                        "0: 320x416 (no detections), 38.7ms\n",
                        "0: 320x416 (no detections), 37.8ms\n",
                        "0: 320x416 (no detections), 35.9ms\n",
                        "0: 320x416 (no detections), 38.6ms\n",
                        "0: 320x416 (no detections), 39.1ms\n",
                        "0: 320x416 (no detections), 33.4ms\n",
                        "0: 320x416 (no detections), 41.2ms\n",
                        "0: 320x416 (no detections), 35.6ms\n",
                        "0: 320x416 (no detections), 34.9ms\n",
                        "0: 320x416 (no detections), 36.2ms\n",
                        "0: 320x416 (no detections), 38.0ms\n",
                        "0: 320x416 (no detections), 35.4ms\n",
                        "0: 320x416 (no detections), 34.3ms\n",
                        "0: 320x416 (no detections), 39.4ms\n",
                        "0: 320x416 (no detections), 36.0ms\n",
                        "0: 320x416 (no detections), 37.8ms\n",
                        "0: 320x416 (no detections), 38.1ms\n",
                        "0: 320x416 (no detections), 39.4ms\n",
                        "0: 320x416 (no detections), 34.5ms\n",
                        "0: 320x416 (no detections), 41.2ms\n",
                        "0: 320x416 (no detections), 35.2ms\n",
                        "0: 320x416 (no detections), 37.6ms\n",
                        "0: 320x416 (no detections), 36.3ms\n",
                        "0: 320x416 (no detections), 33.2ms\n",
                        "0: 320x416 (no detections), 38.4ms\n",
                        "0: 320x416 (no detections), 35.8ms\n",
                        "0: 320x416 (no detections), 34.4ms\n",
                        "0: 320x416 (no detections), 32.2ms\n",
                        "0: 320x416 (no detections), 35.8ms\n",
                        "0: 320x416 (no detections), 35.1ms\n",
                        "0: 320x416 (no detections), 34.7ms\n",
                        "0: 320x416 (no detections), 35.4ms\n",
                        "0: 320x416 (no detections), 37.8ms\n",
                        "0: 320x416 (no detections), 35.4ms\n",
                        "0: 320x416 (no detections), 37.2ms\n",
                        "0: 320x416 (no detections), 34.2ms\n",
                        "0: 320x416 (no detections), 38.5ms\n",
                        "0: 320x416 (no detections), 42.4ms\n",
                        "0: 320x416 (no detections), 34.8ms\n",
                        "0: 320x416 (no detections), 34.4ms\n",
                        "0: 320x416 (no detections), 32.9ms\n",
                        "0: 320x416 (no detections), 38.9ms\n",
                        "0: 320x416 (no detections), 35.3ms\n",
                        "0: 320x416 (no detections), 32.8ms\n",
                        "0: 320x416 (no detections), 35.3ms\n",
                        "0: 320x416 (no detections), 37.6ms\n",
                        "0: 320x416 (no detections), 39.6ms\n",
                        "0: 320x416 (no detections), 34.3ms\n",
                        "0: 320x416 (no detections), 34.7ms\n",
                        "0: 320x416 (no detections), 34.9ms\n",
                        "0: 320x416 (no detections), 34.8ms\n",
                        "0: 320x416 (no detections), 35.5ms\n",
                        "0: 320x416 (no detections), 35.5ms\n",
                        "0: 320x416 (no detections), 43.5ms\n",
                        "0: 320x416 (no detections), 41.0ms\n",
                        "0: 320x416 (no detections), 35.7ms\n",
                        "0: 320x416 (no detections), 38.0ms\n",
                        "0: 320x416 (no detections), 34.0ms\n",
                        "0: 320x416 (no detections), 37.7ms\n",
                        "0: 320x416 (no detections), 36.9ms\n",
                        "0: 320x416 (no detections), 36.9ms\n",
                        "0: 320x416 (no detections), 35.2ms\n",
                        "0: 320x416 (no detections), 38.7ms\n",
                        "0: 320x416 (no detections), 37.5ms\n",
                        "0: 320x416 (no detections), 36.5ms\n",
                        "0: 320x416 (no detections), 36.0ms\n",
                        "0: 320x416 (no detections), 38.3ms\n",
                        "0: 320x416 (no detections), 44.8ms\n",
                        "0: 320x416 (no detections), 32.8ms\n",
                        "0: 320x416 (no detections), 40.4ms\n",
                        "0: 320x416 (no detections), 40.6ms\n",
                        "0: 320x416 (no detections), 37.8ms\n",
                        "0: 320x416 (no detections), 35.5ms\n",
                        "0: 320x416 (no detections), 36.4ms\n",
                        "0: 320x416 (no detections), 35.2ms\n",
                        "0: 320x416 (no detections), 33.5ms\n",
                        "0: 320x416 (no detections), 41.5ms\n",
                        "0: 320x416 (no detections), 32.9ms\n",
                        "0: 320x416 (no detections), 34.6ms\n",
                        "0: 320x416 (no detections), 44.2ms\n",
                        "0: 320x416 (no detections), 35.6ms\n",
                        "0: 320x416 (no detections), 35.2ms\n",
                        "0: 320x416 (no detections), 34.0ms\n",
                        "0: 320x416 (no detections), 46.0ms\n",
                        "0: 320x416 (no detections), 35.2ms\n",
                        "0: 320x416 (no detections), 36.1ms\n",
                        "0: 320x416 (no detections), 35.8ms\n",
                        "0: 320x416 (no detections), 41.5ms\n",
                        "0: 320x416 (no detections), 65.1ms\n",
                        "0: 320x416 (no detections), 36.7ms\n",
                        "0: 320x416 (no detections), 36.2ms\n",
                        "0: 320x416 (no detections), 39.5ms\n",
                        "0: 320x416 (no detections), 38.1ms\n",
                        "0: 320x416 (no detections), 37.8ms\n",
                        "0: 320x416 (no detections), 36.8ms\n",
                        "0: 320x416 (no detections), 39.1ms\n",
                        "0: 320x416 (no detections), 40.6ms\n",
                        "0: 320x416 (no detections), 37.1ms\n",
                        "0: 320x416 (no detections), 35.2ms\n",
                        "0: 320x416 (no detections), 33.3ms\n",
                        "0: 320x416 (no detections), 38.7ms\n",
                        "0: 320x416 (no detections), 35.4ms\n",
                        "0: 320x416 (no detections), 37.8ms\n",
                        "0: 320x416 (no detections), 39.3ms\n",
                        "0: 320x416 (no detections), 36.4ms\n",
                        "0: 320x416 (no detections), 37.9ms\n",
                        "0: 320x416 (no detections), 36.2ms\n",
                        "0: 320x416 (no detections), 37.5ms\n",
                        "0: 320x416 (no detections), 31.6ms\n",
                        "0: 320x416 (no detections), 31.6ms\n",
                        "0: 320x416 (no detections), 40.7ms\n",
                        "0: 320x416 (no detections), 36.5ms\n",
                        "0: 320x416 (no detections), 34.4ms\n",
                        "0: 320x416 (no detections), 40.3ms\n",
                        "0: 320x416 (no detections), 44.0ms\n",
                        "0: 320x416 (no detections), 39.3ms\n",
                        "0: 320x416 (no detections), 43.7ms\n",
                        "0: 320x416 (no detections), 38.2ms\n",
                        "0: 320x416 (no detections), 41.0ms\n",
                        "0: 320x416 (no detections), 36.9ms\n",
                        "0: 320x416 (no detections), 37.6ms\n",
                        "0: 320x416 (no detections), 37.3ms\n",
                        "0: 320x416 (no detections), 35.1ms\n",
                        "0: 320x416 (no detections), 35.5ms\n",
                        "0: 320x416 (no detections), 35.6ms\n",
                        "0: 320x416 (no detections), 43.1ms\n",
                        "0: 320x416 (no detections), 34.5ms\n",
                        "0: 320x416 (no detections), 39.6ms\n",
                        "0: 320x416 (no detections), 38.9ms\n",
                        "0: 320x416 (no detections), 38.4ms\n",
                        "0: 320x416 (no detections), 36.3ms\n",
                        "0: 320x416 (no detections), 37.6ms\n",
                        "0: 320x416 (no detections), 37.8ms\n",
                        "0: 320x416 (no detections), 34.9ms\n",
                        "0: 320x416 (no detections), 36.3ms\n",
                        "0: 320x416 (no detections), 41.0ms\n",
                        "0: 320x416 (no detections), 34.8ms\n",
                        "0: 320x416 (no detections), 41.5ms\n",
                        "0: 320x416 (no detections), 44.1ms\n",
                        "0: 320x416 (no detections), 37.1ms\n",
                        "0: 320x416 (no detections), 38.6ms\n",
                        "0: 320x416 (no detections), 36.9ms\n",
                        "0: 320x416 (no detections), 38.9ms\n",
                        "0: 320x416 (no detections), 40.5ms\n",
                        "0: 320x416 (no detections), 33.5ms\n",
                        "0: 320x416 (no detections), 37.2ms\n",
                        "0: 320x416 (no detections), 35.5ms\n",
                        "0: 320x416 (no detections), 38.0ms\n",
                        "0: 320x416 (no detections), 38.3ms\n",
                        "0: 320x416 (no detections), 35.0ms\n",
                        "0: 320x416 (no detections), 39.8ms\n",
                        "0: 320x416 (no detections), 36.2ms\n",
                        "0: 320x416 (no detections), 39.1ms\n",
                        "0: 320x416 (no detections), 35.5ms\n",
                        "0: 320x416 (no detections), 38.9ms\n",
                        "0: 320x416 (no detections), 38.8ms\n",
                        "0: 320x416 (no detections), 35.2ms\n",
                        "0: 320x416 (no detections), 37.7ms\n",
                        "0: 320x416 (no detections), 38.8ms\n",
                        "0: 320x416 (no detections), 39.3ms\n",
                        "0: 320x416 (no detections), 38.9ms\n",
                        "0: 320x416 (no detections), 36.4ms\n",
                        "0: 320x416 (no detections), 36.4ms\n",
                        "0: 320x416 (no detections), 40.5ms\n",
                        "0: 320x416 (no detections), 36.2ms\n",
                        "0: 320x416 (no detections), 35.6ms\n",
                        "0: 320x416 (no detections), 35.5ms\n",
                        "0: 320x416 (no detections), 39.0ms\n",
                        "0: 320x416 (no detections), 39.3ms\n",
                        "0: 320x416 (no detections), 38.3ms\n",
                        "0: 320x416 (no detections), 34.6ms\n",
                        "0: 320x416 (no detections), 35.9ms\n",
                        "0: 320x416 (no detections), 37.0ms\n",
                        "0: 320x416 (no detections), 34.3ms\n",
                        "0: 320x416 (no detections), 35.8ms\n",
                        "0: 320x416 (no detections), 35.4ms\n",
                        "0: 320x416 (no detections), 44.4ms\n",
                        "0: 320x416 (no detections), 34.5ms\n",
                        "0: 320x416 (no detections), 46.6ms\n",
                        "0: 320x416 (no detections), 39.1ms\n",
                        "0: 320x416 (no detections), 38.3ms\n",
                        "0: 320x416 (no detections), 39.1ms\n",
                        "0: 320x416 (no detections), 36.4ms\n",
                        "0: 320x416 (no detections), 39.4ms\n",
                        "0: 320x416 (no detections), 38.6ms\n",
                        "0: 320x416 (no detections), 38.3ms\n",
                        "0: 320x416 (no detections), 33.7ms\n",
                        "0: 320x416 (no detections), 35.5ms\n",
                        "0: 320x416 (no detections), 41.9ms\n",
                        "0: 320x416 (no detections), 38.4ms\n",
                        "0: 320x416 (no detections), 36.0ms\n",
                        "0: 320x416 (no detections), 39.1ms\n",
                        "0: 320x416 (no detections), 35.8ms\n",
                        "0: 320x416 (no detections), 38.9ms\n",
                        "0: 320x416 (no detections), 37.7ms\n",
                        "0: 320x416 (no detections), 37.5ms\n",
                        "0: 320x416 (no detections), 38.1ms\n",
                        "0: 320x416 (no detections), 36.2ms\n",
                        "0: 320x416 (no detections), 42.0ms\n",
                        "0: 320x416 (no detections), 38.7ms\n",
                        "0: 320x416 (no detections), 60.9ms\n",
                        "0: 320x416 (no detections), 51.9ms\n",
                        "0: 320x416 (no detections), 36.3ms\n",
                        "0: 320x416 (no detections), 37.9ms\n",
                        "0: 320x416 (no detections), 35.6ms\n",
                        "0: 320x416 (no detections), 36.9ms\n",
                        "0: 320x416 (no detections), 34.9ms\n",
                        "0: 320x416 (no detections), 36.2ms\n",
                        "0: 320x416 (no detections), 37.9ms\n",
                        "0: 320x416 (no detections), 37.3ms\n",
                        "0: 320x416 (no detections), 37.1ms\n",
                        "0: 320x416 (no detections), 38.3ms\n",
                        "0: 320x416 (no detections), 34.2ms\n",
                        "0: 320x416 (no detections), 35.9ms\n",
                        "0: 320x416 (no detections), 42.2ms\n",
                        "0: 320x416 (no detections), 33.3ms\n",
                        "0: 320x416 (no detections), 36.7ms\n",
                        "0: 320x416 (no detections), 35.5ms\n",
                        "0: 320x416 (no detections), 37.7ms\n",
                        "0: 320x416 (no detections), 35.1ms\n",
                        "0: 320x416 (no detections), 37.5ms\n",
                        "0: 320x416 (no detections), 36.1ms\n",
                        "0: 320x416 (no detections), 34.4ms\n",
                        "0: 320x416 (no detections), 37.1ms\n",
                        "0: 320x416 (no detections), 35.3ms\n",
                        "0: 320x416 (no detections), 35.6ms\n",
                        "0: 320x416 (no detections), 35.9ms\n",
                        "0: 320x416 (no detections), 40.4ms\n",
                        "0: 320x416 (no detections), 36.1ms\n",
                        "0: 320x416 (no detections), 35.1ms\n",
                        "0: 320x416 (no detections), 40.5ms\n",
                        "0: 320x416 (no detections), 37.8ms\n",
                        "0: 320x416 (no detections), 39.7ms\n",
                        "0: 320x416 (no detections), 38.8ms\n",
                        "0: 320x416 (no detections), 36.9ms\n",
                        "0: 320x416 (no detections), 38.4ms\n",
                        "0: 320x416 (no detections), 40.8ms\n",
                        "0: 320x416 (no detections), 41.2ms\n",
                        "0: 320x416 (no detections), 35.7ms\n",
                        "0: 320x416 1 E, 36.1ms\n",
                        "0: 320x416 (no detections), 37.2ms\n",
                        "0: 320x416 (no detections), 33.9ms\n",
                        "0: 320x416 (no detections), 33.4ms\n",
                        "0: 320x416 (no detections), 33.4ms\n",
                        "0: 320x416 (no detections), 39.7ms\n",
                        "0: 320x416 (no detections), 33.9ms\n",
                        "0: 320x416 (no detections), 37.6ms\n",
                        "0: 320x416 (no detections), 36.9ms\n",
                        "0: 320x416 1 E, 36.3ms\n",
                        "0: 320x416 (no detections), 37.4ms\n",
                        "0: 320x416 (no detections), 38.5ms\n",
                        "0: 320x416 (no detections), 43.7ms\n",
                        "0: 320x416 (no detections), 38.2ms\n",
                        "0: 320x416 (no detections), 39.2ms\n",
                        "0: 320x416 1 E, 34.6ms\n",
                        "0: 320x416 (no detections), 38.4ms\n",
                        "0: 320x416 1 E, 43.0ms\n",
                        "0: 320x416 1 E, 41.7ms\n",
                        "0: 320x416 1 E, 35.8ms\n",
                        "0: 320x416 1 E, 35.9ms\n",
                        "0: 320x416 1 E, 36.2ms\n",
                        "0: 320x416 1 E, 40.0ms\n",
                        "0: 320x416 (no detections), 34.9ms\n",
                        "0: 320x416 1 E, 35.3ms\n",
                        "0: 320x416 1 E, 37.5ms\n",
                        "0: 320x416 1 E, 33.8ms\n",
                        "0: 320x416 1 E, 38.3ms\n",
                        "0: 320x416 1 E, 37.1ms\n",
                        "0: 320x416 (no detections), 39.5ms\n",
                        "0: 320x416 (no detections), 42.4ms\n",
                        "0: 320x416 (no detections), 37.1ms\n",
                        "0: 320x416 (no detections), 35.0ms\n",
                        "0: 320x416 (no detections), 38.9ms\n",
                        "0: 320x416 (no detections), 35.9ms\n",
                        "0: 320x416 (no detections), 37.4ms\n",
                        "0: 320x416 (no detections), 38.1ms\n",
                        "0: 320x416 (no detections), 41.5ms\n",
                        "0: 320x416 (no detections), 34.9ms\n",
                        "0: 320x416 (no detections), 39.1ms\n",
                        "0: 320x416 (no detections), 38.7ms\n",
                        "0: 320x416 (no detections), 34.5ms\n",
                        "0: 320x416 (no detections), 37.2ms\n",
                        "0: 320x416 (no detections), 36.2ms\n",
                        "0: 320x416 (no detections), 40.1ms\n",
                        "0: 320x416 (no detections), 33.7ms\n",
                        "0: 320x416 (no detections), 34.5ms\n",
                        "0: 320x416 (no detections), 32.1ms\n",
                        "0: 320x416 (no detections), 35.3ms\n",
                        "0: 320x416 (no detections), 42.5ms\n",
                        "0: 320x416 (no detections), 43.0ms\n",
                        "0: 320x416 (no detections), 35.2ms\n",
                        "0: 320x416 (no detections), 36.2ms\n",
                        "0: 320x416 (no detections), 37.4ms\n",
                        "0: 320x416 (no detections), 34.1ms\n",
                        "0: 320x416 (no detections), 36.1ms\n",
                        "0: 320x416 (no detections), 36.2ms\n",
                        "0: 320x416 (no detections), 37.4ms\n",
                        "0: 320x416 (no detections), 42.5ms\n",
                        "0: 320x416 (no detections), 39.8ms\n",
                        "0: 320x416 (no detections), 37.7ms\n",
                        "0: 320x416 (no detections), 39.0ms\n",
                        "0: 320x416 (no detections), 37.5ms\n",
                        "0: 320x416 (no detections), 36.6ms\n",
                        "0: 320x416 1 A, 38.2ms\n",
                        "0: 320x416 1 A, 36.1ms\n",
                        "0: 320x416 1 A, 43.4ms\n",
                        "0: 320x416 1 A, 41.3ms\n",
                        "0: 320x416 1 A, 62.9ms\n",
                        "0: 320x416 (no detections), 33.2ms\n",
                        "0: 320x416 (no detections), 35.5ms\n",
                        "0: 320x416 (no detections), 35.7ms\n",
                        "0: 320x416 (no detections), 39.2ms\n",
                        "0: 320x416 (no detections), 33.3ms\n",
                        "0: 320x416 (no detections), 40.9ms\n",
                        "0: 320x416 (no detections), 37.8ms\n",
                        "0: 320x416 (no detections), 36.0ms\n",
                        "0: 320x416 1 A, 38.0ms\n",
                        "0: 320x416 (no detections), 36.0ms\n",
                        "0: 320x416 (no detections), 39.4ms\n",
                        "0: 320x416 (no detections), 36.8ms\n",
                        "0: 320x416 (no detections), 35.6ms\n",
                        "0: 320x416 (no detections), 36.0ms\n",
                        "0: 320x416 (no detections), 38.5ms\n",
                        "0: 320x416 (no detections), 43.5ms\n",
                        "0: 320x416 (no detections), 33.6ms\n",
                        "0: 320x416 (no detections), 39.5ms\n",
                        "0: 320x416 (no detections), 38.3ms\n",
                        "0: 320x416 (no detections), 37.3ms\n",
                        "0: 320x416 (no detections), 33.8ms\n",
                        "0: 320x416 (no detections), 36.6ms\n",
                        "0: 320x416 (no detections), 37.3ms\n",
                        "0: 320x416 (no detections), 38.2ms\n",
                        "0: 320x416 (no detections), 34.5ms\n",
                        "0: 320x416 (no detections), 35.1ms\n",
                        "0: 320x416 (no detections), 37.3ms\n",
                        "0: 320x416 1 E, 37.7ms\n",
                        "0: 320x416 1 E, 40.3ms\n",
                        "0: 320x416 1 E, 39.9ms\n",
                        "0: 320x416 1 A, 39.9ms\n",
                        "0: 320x416 1 A, 37.1ms\n",
                        "0: 320x416 1 E, 38.4ms\n",
                        "0: 320x416 1 E, 38.6ms\n",
                        "0: 320x416 (no detections), 37.2ms\n",
                        "0: 320x416 (no detections), 33.5ms\n",
                        "0: 320x416 (no detections), 38.5ms\n",
                        "0: 320x416 (no detections), 36.2ms\n",
                        "0: 320x416 (no detections), 40.8ms\n",
                        "0: 320x416 (no detections), 37.4ms\n",
                        "0: 320x416 (no detections), 39.4ms\n",
                        "0: 320x416 (no detections), 35.7ms\n",
                        "0: 320x416 (no detections), 36.2ms\n",
                        "0: 320x416 1 A, 41.0ms\n",
                        "0: 320x416 1 A, 36.5ms\n",
                        "0: 320x416 1 A, 36.7ms\n",
                        "0: 320x416 1 A, 37.7ms\n",
                        "0: 320x416 1 A, 34.9ms\n",
                        "0: 320x416 1 A, 34.6ms\n",
                        "0: 320x416 1 A, 40.6ms\n",
                        "0: 320x416 1 A, 38.5ms\n",
                        "0: 320x416 1 A, 36.3ms\n",
                        "0: 320x416 1 A, 35.7ms\n",
                        "0: 320x416 1 A, 38.4ms\n",
                        "0: 320x416 1 A, 35.8ms\n",
                        "0: 320x416 1 A, 36.5ms\n",
                        "0: 320x416 1 A, 44.8ms\n",
                        "0: 320x416 1 A, 38.3ms\n",
                        "0: 320x416 1 A, 46.9ms\n",
                        "0: 320x416 1 A, 42.2ms\n",
                        "0: 320x416 1 A, 40.0ms\n",
                        "0: 320x416 1 A, 44.1ms\n",
                        "0: 320x416 1 A, 44.4ms\n",
                        "0: 320x416 1 A, 39.9ms\n",
                        "0: 320x416 (no detections), 39.1ms\n",
                        "0: 320x416 (no detections), 43.2ms\n",
                        "0: 320x416 (no detections), 37.8ms\n",
                        "0: 320x416 (no detections), 41.2ms\n",
                        "0: 320x416 (no detections), 36.1ms\n",
                        "0: 320x416 (no detections), 45.9ms\n",
                        "0: 320x416 (no detections), 35.3ms\n",
                        "0: 320x416 (no detections), 37.3ms\n",
                        "0: 320x416 (no detections), 35.2ms\n",
                        "0: 320x416 (no detections), 35.6ms\n",
                        "0: 320x416 (no detections), 35.9ms\n",
                        "0: 320x416 (no detections), 34.9ms\n",
                        "0: 320x416 (no detections), 38.6ms\n",
                        "0: 320x416 (no detections), 35.7ms\n",
                        "0: 320x416 (no detections), 37.2ms\n",
                        "0: 320x416 (no detections), 35.9ms\n",
                        "0: 320x416 (no detections), 40.0ms\n",
                        "0: 320x416 (no detections), 37.2ms\n",
                        "0: 320x416 (no detections), 36.9ms\n",
                        "0: 320x416 (no detections), 36.5ms\n",
                        "0: 320x416 (no detections), 36.1ms\n",
                        "0: 320x416 (no detections), 36.0ms\n",
                        "0: 320x416 (no detections), 35.4ms\n",
                        "0: 320x416 (no detections), 38.1ms\n",
                        "0: 320x416 (no detections), 41.5ms\n",
                        "0: 320x416 (no detections), 38.3ms\n",
                        "0: 320x416 (no detections), 36.2ms\n",
                        "0: 320x416 (no detections), 38.6ms\n",
                        "0: 320x416 (no detections), 37.0ms\n",
                        "0: 320x416 (no detections), 33.2ms\n",
                        "0: 320x416 (no detections), 37.4ms\n",
                        "0: 320x416 (no detections), 38.3ms\n",
                        "0: 320x416 (no detections), 40.1ms\n",
                        "0: 320x416 (no detections), 35.8ms\n",
                        "0: 320x416 (no detections), 36.7ms\n",
                        "0: 320x416 (no detections), 38.7ms\n",
                        "0: 320x416 (no detections), 39.1ms\n",
                        "0: 320x416 (no detections), 59.6ms\n",
                        "0: 320x416 (no detections), 48.5ms\n",
                        "0: 320x416 (no detections), 37.7ms\n",
                        "0: 320x416 (no detections), 36.6ms\n",
                        "0: 320x416 (no detections), 38.7ms\n",
                        "0: 320x416 (no detections), 35.4ms\n",
                        "0: 320x416 (no detections), 35.6ms\n",
                        "0: 320x416 (no detections), 48.7ms\n",
                        "0: 320x416 (no detections), 37.6ms\n",
                        "0: 320x416 (no detections), 44.1ms\n",
                        "0: 320x416 (no detections), 43.2ms\n",
                        "0: 320x416 (no detections), 42.8ms\n",
                        "0: 320x416 (no detections), 49.9ms\n",
                        "0: 320x416 (no detections), 50.8ms\n",
                        "0: 320x416 (no detections), 58.2ms\n",
                        "0: 320x416 (no detections), 37.4ms\n",
                        "0: 320x416 (no detections), 35.4ms\n",
                        "0: 320x416 (no detections), 35.2ms\n",
                        "0: 320x416 (no detections), 39.8ms\n",
                        "0: 320x416 (no detections), 38.9ms\n",
                        "0: 320x416 (no detections), 39.0ms\n",
                        "0: 320x416 (no detections), 35.8ms\n",
                        "0: 320x416 (no detections), 38.2ms\n",
                        "0: 320x416 (no detections), 35.7ms\n",
                        "0: 320x416 (no detections), 33.9ms\n",
                        "0: 320x416 (no detections), 34.3ms\n",
                        "0: 320x416 (no detections), 37.5ms\n",
                        "0: 320x416 (no detections), 43.9ms\n",
                        "0: 320x416 (no detections), 35.0ms\n",
                        "0: 320x416 (no detections), 36.8ms\n",
                        "0: 320x416 (no detections), 32.7ms\n",
                        "0: 320x416 (no detections), 39.4ms\n",
                        "0: 320x416 (no detections), 34.9ms\n",
                        "0: 320x416 (no detections), 50.4ms\n",
                        "0: 320x416 (no detections), 37.4ms\n",
                        "0: 320x416 (no detections), 38.5ms\n",
                        "0: 320x416 (no detections), 38.8ms\n",
                        "0: 320x416 (no detections), 41.5ms\n",
                        "0: 320x416 (no detections), 34.6ms\n",
                        "0: 320x416 (no detections), 38.9ms\n",
                        "0: 320x416 (no detections), 46.6ms\n",
                        "0: 320x416 (no detections), 41.2ms\n",
                        "0: 320x416 (no detections), 41.8ms\n",
                        "0: 320x416 (no detections), 37.9ms\n",
                        "0: 320x416 (no detections), 35.6ms\n",
                        "0: 320x416 (no detections), 43.6ms\n",
                        "0: 320x416 (no detections), 38.9ms\n",
                        "0: 320x416 (no detections), 38.1ms\n",
                        "0: 320x416 (no detections), 43.2ms\n",
                        "0: 320x416 (no detections), 36.6ms\n",
                        "0: 320x416 (no detections), 38.2ms\n",
                        "0: 320x416 (no detections), 39.4ms\n",
                        "0: 320x416 (no detections), 40.9ms\n",
                        "0: 320x416 (no detections), 37.1ms\n",
                        "0: 320x416 (no detections), 41.3ms\n",
                        "0: 320x416 (no detections), 36.4ms\n",
                        "0: 320x416 (no detections), 47.1ms\n",
                        "0: 320x416 (no detections), 38.0ms\n",
                        "0: 320x416 (no detections), 37.6ms\n",
                        "0: 320x416 (no detections), 37.6ms\n",
                        "0: 320x416 (no detections), 40.4ms\n",
                        "0: 320x416 (no detections), 39.6ms\n",
                        "0: 320x416 (no detections), 39.3ms\n",
                        "0: 320x416 (no detections), 41.0ms\n",
                        "0: 320x416 (no detections), 40.1ms\n",
                        "0: 320x416 (no detections), 41.0ms\n",
                        "0: 320x416 (no detections), 39.3ms\n",
                        "0: 320x416 (no detections), 39.5ms\n",
                        "0: 320x416 (no detections), 40.0ms\n",
                        "0: 320x416 (no detections), 50.2ms\n",
                        "0: 320x416 (no detections), 49.1ms\n",
                        "0: 320x416 (no detections), 44.5ms\n",
                        "0: 320x416 (no detections), 39.6ms\n",
                        "0: 320x416 (no detections), 36.7ms\n",
                        "0: 320x416 (no detections), 36.3ms\n",
                        "0: 320x416 (no detections), 41.5ms\n",
                        "0: 320x416 (no detections), 41.5ms\n",
                        "0: 320x416 (no detections), 40.4ms\n",
                        "0: 320x416 (no detections), 47.0ms\n",
                        "0: 320x416 (no detections), 40.1ms\n",
                        "0: 320x416 (no detections), 36.7ms\n",
                        "0: 320x416 (no detections), 37.6ms\n",
                        "0: 320x416 (no detections), 45.1ms\n",
                        "0: 320x416 (no detections), 51.7ms\n",
                        "0: 320x416 (no detections), 46.8ms\n",
                        "0: 320x416 (no detections), 40.2ms\n",
                        "0: 320x416 (no detections), 44.4ms\n",
                        "0: 320x416 (no detections), 40.6ms\n",
                        "0: 320x416 (no detections), 39.8ms\n",
                        "0: 320x416 (no detections), 39.5ms\n",
                        "0: 320x416 (no detections), 44.8ms\n",
                        "0: 320x416 (no detections), 39.6ms\n",
                        "0: 320x416 (no detections), 41.6ms\n",
                        "0: 320x416 (no detections), 39.0ms\n",
                        "0: 320x416 (no detections), 41.9ms\n",
                        "0: 320x416 (no detections), 42.1ms\n",
                        "0: 320x416 (no detections), 37.6ms\n",
                        "0: 320x416 (no detections), 40.3ms\n",
                        "0: 320x416 (no detections), 78.6ms\n",
                        "0: 320x416 (no detections), 47.8ms\n",
                        "0: 320x416 (no detections), 72.1ms\n",
                        "0: 320x416 (no detections), 49.9ms\n",
                        "0: 320x416 (no detections), 58.9ms\n",
                        "0: 320x416 (no detections), 56.7ms\n",
                        "0: 320x416 (no detections), 50.4ms\n",
                        "0: 320x416 (no detections), 40.9ms\n",
                        "0: 320x416 (no detections), 46.3ms\n",
                        "0: 320x416 (no detections), 41.1ms\n",
                        "0: 320x416 (no detections), 42.9ms\n",
                        "0: 320x416 (no detections), 46.1ms\n",
                        "0: 320x416 (no detections), 42.3ms\n",
                        "0: 320x416 (no detections), 39.7ms\n",
                        "0: 320x416 (no detections), 39.6ms\n",
                        "0: 320x416 (no detections), 40.4ms\n",
                        "0: 320x416 (no detections), 46.1ms\n",
                        "0: 320x416 (no detections), 48.7ms\n",
                        "0: 320x416 (no detections), 43.9ms\n",
                        "0: 320x416 (no detections), 64.1ms\n",
                        "0: 320x416 (no detections), 48.3ms\n"
                    ]
                },
                {
                    "ename": "KeyboardInterrupt",
                    "evalue": "",
                    "output_type": "error",
                    "traceback": [
                        "\u001b[31m---------------------------------------------------------------------------\u001b[39m",
                        "\u001b[31mKeyboardInterrupt\u001b[39m                         Traceback (most recent call last)",
                        "\u001b[36mCell\u001b[39m\u001b[36m \u001b[39m\u001b[32mIn[7]\u001b[39m\u001b[32m, line 4\u001b[39m\n\u001b[32m      1\u001b[39m model = YOLO(\u001b[33m\"\u001b[39m\u001b[33mruns/detect/train/weights/best.pt\u001b[39m\u001b[33m\"\u001b[39m)\n\u001b[32m      3\u001b[39m \u001b[38;5;66;03m# 2. Usar la cámara (source=0 es la webcam principal)\u001b[39;00m\n\u001b[32m----> \u001b[39m\u001b[32m4\u001b[39m \u001b[43mmodel\u001b[49m\u001b[43m.\u001b[49m\u001b[43mpredict\u001b[49m\u001b[43m(\u001b[49m\n\u001b[32m      5\u001b[39m \u001b[43m    \u001b[49m\u001b[43msource\u001b[49m\u001b[43m=\u001b[49m\u001b[32;43m0\u001b[39;49m\u001b[43m,\u001b[49m\u001b[43m        \u001b[49m\u001b[38;5;66;43;03m# webcam\u001b[39;49;00m\n\u001b[32m      6\u001b[39m \u001b[43m    \u001b[49m\u001b[43mshow\u001b[49m\u001b[43m=\u001b[49m\u001b[38;5;28;43;01mTrue\u001b[39;49;00m\u001b[43m,\u001b[49m\u001b[43m       \u001b[49m\u001b[38;5;66;43;03m# mostrar ventana en tiempo real\u001b[39;49;00m\n\u001b[32m      7\u001b[39m \u001b[43m    \u001b[49m\u001b[43mconf\u001b[49m\u001b[43m=\u001b[49m\u001b[32;43m0.5\u001b[39;49m\u001b[43m,\u001b[49m\u001b[43m        \u001b[49m\u001b[38;5;66;43;03m# confianza mínima (ajústala si detecta de más o de menos)\u001b[39;49;00m\n\u001b[32m      8\u001b[39m \u001b[43m    \u001b[49m\u001b[43msave\u001b[49m\u001b[43m=\u001b[49m\u001b[38;5;28;43;01mFalse\u001b[39;49;00m\u001b[43m       \u001b[49m\u001b[38;5;66;43;03m# si quieres guardar el video, pon True\u001b[39;49;00m\n\u001b[32m      9\u001b[39m \u001b[43m)\u001b[49m\n",
                        "\u001b[36mFile \u001b[39m\u001b[32mc:\\Users\\berna\\OneDrive\\Documentos\\waza\\Proyecto_ia_legua_se-as_2025\\venv\\Lib\\site-packages\\ultralytics\\engine\\model.py:555\u001b[39m, in \u001b[36mModel.predict\u001b[39m\u001b[34m(self, source, stream, predictor, **kwargs)\u001b[39m\n\u001b[32m    553\u001b[39m \u001b[38;5;28;01mif\u001b[39;00m prompts \u001b[38;5;129;01mand\u001b[39;00m \u001b[38;5;28mhasattr\u001b[39m(\u001b[38;5;28mself\u001b[39m.predictor, \u001b[33m\"\u001b[39m\u001b[33mset_prompts\u001b[39m\u001b[33m\"\u001b[39m):  \u001b[38;5;66;03m# for SAM-type models\u001b[39;00m\n\u001b[32m    554\u001b[39m     \u001b[38;5;28mself\u001b[39m.predictor.set_prompts(prompts)\n\u001b[32m--> \u001b[39m\u001b[32m555\u001b[39m \u001b[38;5;28;01mreturn\u001b[39;00m \u001b[38;5;28mself\u001b[39m.predictor.predict_cli(source=source) \u001b[38;5;28;01mif\u001b[39;00m is_cli \u001b[38;5;28;01melse\u001b[39;00m \u001b[38;5;28;43mself\u001b[39;49m\u001b[43m.\u001b[49m\u001b[43mpredictor\u001b[49m\u001b[43m(\u001b[49m\u001b[43msource\u001b[49m\u001b[43m=\u001b[49m\u001b[43msource\u001b[49m\u001b[43m,\u001b[49m\u001b[43m \u001b[49m\u001b[43mstream\u001b[49m\u001b[43m=\u001b[49m\u001b[43mstream\u001b[49m\u001b[43m)\u001b[49m\n",
                        "\u001b[36mFile \u001b[39m\u001b[32mc:\\Users\\berna\\OneDrive\\Documentos\\waza\\Proyecto_ia_legua_se-as_2025\\venv\\Lib\\site-packages\\ultralytics\\engine\\predictor.py:227\u001b[39m, in \u001b[36mBasePredictor.__call__\u001b[39m\u001b[34m(self, source, model, stream, *args, **kwargs)\u001b[39m\n\u001b[32m    225\u001b[39m     \u001b[38;5;28;01mreturn\u001b[39;00m \u001b[38;5;28mself\u001b[39m.stream_inference(source, model, *args, **kwargs)\n\u001b[32m    226\u001b[39m \u001b[38;5;28;01melse\u001b[39;00m:\n\u001b[32m--> \u001b[39m\u001b[32m227\u001b[39m     \u001b[38;5;28;01mreturn\u001b[39;00m \u001b[38;5;28;43mlist\u001b[39;49m\u001b[43m(\u001b[49m\u001b[38;5;28;43mself\u001b[39;49m\u001b[43m.\u001b[49m\u001b[43mstream_inference\u001b[49m\u001b[43m(\u001b[49m\u001b[43msource\u001b[49m\u001b[43m,\u001b[49m\u001b[43m \u001b[49m\u001b[43mmodel\u001b[49m\u001b[43m,\u001b[49m\u001b[43m \u001b[49m\u001b[43m*\u001b[49m\u001b[43margs\u001b[49m\u001b[43m,\u001b[49m\u001b[43m \u001b[49m\u001b[43m*\u001b[49m\u001b[43m*\u001b[49m\u001b[43mkwargs\u001b[49m\u001b[43m)\u001b[49m\u001b[43m)\u001b[49m\n",
                        "\u001b[36mFile \u001b[39m\u001b[32mc:\\Users\\berna\\OneDrive\\Documentos\\waza\\Proyecto_ia_legua_se-as_2025\\venv\\Lib\\site-packages\\torch\\utils\\_contextlib.py:59\u001b[39m, in \u001b[36m_wrap_generator.<locals>.generator_context\u001b[39m\u001b[34m(*args, **kwargs)\u001b[39m\n\u001b[32m     56\u001b[39m         \u001b[38;5;28;01melse\u001b[39;00m:\n\u001b[32m     57\u001b[39m             \u001b[38;5;66;03m# Pass the last request to the generator and get its response\u001b[39;00m\n\u001b[32m     58\u001b[39m             \u001b[38;5;28;01mwith\u001b[39;00m ctx_factory():\n\u001b[32m---> \u001b[39m\u001b[32m59\u001b[39m                 response = \u001b[43mgen\u001b[49m\u001b[43m.\u001b[49m\u001b[43msend\u001b[49m\u001b[43m(\u001b[49m\u001b[43mrequest\u001b[49m\u001b[43m)\u001b[49m\n\u001b[32m     61\u001b[39m \u001b[38;5;66;03m# We let the exceptions raised above by the generator's `.throw` or\u001b[39;00m\n\u001b[32m     62\u001b[39m \u001b[38;5;66;03m# `.send` methods bubble up to our caller, except for StopIteration\u001b[39;00m\n\u001b[32m     63\u001b[39m \u001b[38;5;28;01mexcept\u001b[39;00m \u001b[38;5;167;01mStopIteration\u001b[39;00m \u001b[38;5;28;01mas\u001b[39;00m e:\n\u001b[32m     64\u001b[39m     \u001b[38;5;66;03m# The generator informed us that it is done: take whatever its\u001b[39;00m\n\u001b[32m     65\u001b[39m     \u001b[38;5;66;03m# returned value (if any) was and indicate that we're done too\u001b[39;00m\n\u001b[32m     66\u001b[39m     \u001b[38;5;66;03m# by returning it (see docs for python's return-statement).\u001b[39;00m\n",
                        "\u001b[36mFile \u001b[39m\u001b[32mc:\\Users\\berna\\OneDrive\\Documentos\\waza\\Proyecto_ia_legua_se-as_2025\\venv\\Lib\\site-packages\\ultralytics\\engine\\predictor.py:330\u001b[39m, in \u001b[36mBasePredictor.stream_inference\u001b[39m\u001b[34m(self, source, model, *args, **kwargs)\u001b[39m\n\u001b[32m    328\u001b[39m \u001b[38;5;66;03m# Inference\u001b[39;00m\n\u001b[32m    329\u001b[39m \u001b[38;5;28;01mwith\u001b[39;00m profilers[\u001b[32m1\u001b[39m]:\n\u001b[32m--> \u001b[39m\u001b[32m330\u001b[39m     preds = \u001b[38;5;28;43mself\u001b[39;49m\u001b[43m.\u001b[49m\u001b[43minference\u001b[49m\u001b[43m(\u001b[49m\u001b[43mim\u001b[49m\u001b[43m,\u001b[49m\u001b[43m \u001b[49m\u001b[43m*\u001b[49m\u001b[43margs\u001b[49m\u001b[43m,\u001b[49m\u001b[43m \u001b[49m\u001b[43m*\u001b[49m\u001b[43m*\u001b[49m\u001b[43mkwargs\u001b[49m\u001b[43m)\u001b[49m\n\u001b[32m    331\u001b[39m     \u001b[38;5;28;01mif\u001b[39;00m \u001b[38;5;28mself\u001b[39m.args.embed:\n\u001b[32m    332\u001b[39m         \u001b[38;5;28;01myield from\u001b[39;00m [preds] \u001b[38;5;28;01mif\u001b[39;00m \u001b[38;5;28misinstance\u001b[39m(preds, torch.Tensor) \u001b[38;5;28;01melse\u001b[39;00m preds  \u001b[38;5;66;03m# yield embedding tensors\u001b[39;00m\n",
                        "\u001b[36mFile \u001b[39m\u001b[32mc:\\Users\\berna\\OneDrive\\Documentos\\waza\\Proyecto_ia_legua_se-as_2025\\venv\\Lib\\site-packages\\ultralytics\\engine\\predictor.py:182\u001b[39m, in \u001b[36mBasePredictor.inference\u001b[39m\u001b[34m(self, im, *args, **kwargs)\u001b[39m\n\u001b[32m    176\u001b[39m \u001b[38;5;250m\u001b[39m\u001b[33;03m\"\"\"Run inference on a given image using the specified model and arguments.\"\"\"\u001b[39;00m\n\u001b[32m    177\u001b[39m visualize = (\n\u001b[32m    178\u001b[39m     increment_path(\u001b[38;5;28mself\u001b[39m.save_dir / Path(\u001b[38;5;28mself\u001b[39m.batch[\u001b[32m0\u001b[39m][\u001b[32m0\u001b[39m]).stem, mkdir=\u001b[38;5;28;01mTrue\u001b[39;00m)\n\u001b[32m    179\u001b[39m     \u001b[38;5;28;01mif\u001b[39;00m \u001b[38;5;28mself\u001b[39m.args.visualize \u001b[38;5;129;01mand\u001b[39;00m (\u001b[38;5;129;01mnot\u001b[39;00m \u001b[38;5;28mself\u001b[39m.source_type.tensor)\n\u001b[32m    180\u001b[39m     \u001b[38;5;28;01melse\u001b[39;00m \u001b[38;5;28;01mFalse\u001b[39;00m\n\u001b[32m    181\u001b[39m )\n\u001b[32m--> \u001b[39m\u001b[32m182\u001b[39m \u001b[38;5;28;01mreturn\u001b[39;00m \u001b[38;5;28;43mself\u001b[39;49m\u001b[43m.\u001b[49m\u001b[43mmodel\u001b[49m\u001b[43m(\u001b[49m\u001b[43mim\u001b[49m\u001b[43m,\u001b[49m\u001b[43m \u001b[49m\u001b[43maugment\u001b[49m\u001b[43m=\u001b[49m\u001b[38;5;28;43mself\u001b[39;49m\u001b[43m.\u001b[49m\u001b[43margs\u001b[49m\u001b[43m.\u001b[49m\u001b[43maugment\u001b[49m\u001b[43m,\u001b[49m\u001b[43m \u001b[49m\u001b[43mvisualize\u001b[49m\u001b[43m=\u001b[49m\u001b[43mvisualize\u001b[49m\u001b[43m,\u001b[49m\u001b[43m \u001b[49m\u001b[43membed\u001b[49m\u001b[43m=\u001b[49m\u001b[38;5;28;43mself\u001b[39;49m\u001b[43m.\u001b[49m\u001b[43margs\u001b[49m\u001b[43m.\u001b[49m\u001b[43membed\u001b[49m\u001b[43m,\u001b[49m\u001b[43m \u001b[49m\u001b[43m*\u001b[49m\u001b[43margs\u001b[49m\u001b[43m,\u001b[49m\u001b[43m \u001b[49m\u001b[43m*\u001b[49m\u001b[43m*\u001b[49m\u001b[43mkwargs\u001b[49m\u001b[43m)\u001b[49m\n",
                        "\u001b[36mFile \u001b[39m\u001b[32mc:\\Users\\berna\\OneDrive\\Documentos\\waza\\Proyecto_ia_legua_se-as_2025\\venv\\Lib\\site-packages\\torch\\nn\\modules\\module.py:1773\u001b[39m, in \u001b[36mModule._wrapped_call_impl\u001b[39m\u001b[34m(self, *args, **kwargs)\u001b[39m\n\u001b[32m   1771\u001b[39m     \u001b[38;5;28;01mreturn\u001b[39;00m \u001b[38;5;28mself\u001b[39m._compiled_call_impl(*args, **kwargs)  \u001b[38;5;66;03m# type: ignore[misc]\u001b[39;00m\n\u001b[32m   1772\u001b[39m \u001b[38;5;28;01melse\u001b[39;00m:\n\u001b[32m-> \u001b[39m\u001b[32m1773\u001b[39m     \u001b[38;5;28;01mreturn\u001b[39;00m \u001b[38;5;28;43mself\u001b[39;49m\u001b[43m.\u001b[49m\u001b[43m_call_impl\u001b[49m\u001b[43m(\u001b[49m\u001b[43m*\u001b[49m\u001b[43margs\u001b[49m\u001b[43m,\u001b[49m\u001b[43m \u001b[49m\u001b[43m*\u001b[49m\u001b[43m*\u001b[49m\u001b[43mkwargs\u001b[49m\u001b[43m)\u001b[49m\n",
                        "\u001b[36mFile \u001b[39m\u001b[32mc:\\Users\\berna\\OneDrive\\Documentos\\waza\\Proyecto_ia_legua_se-as_2025\\venv\\Lib\\site-packages\\torch\\nn\\modules\\module.py:1784\u001b[39m, in \u001b[36mModule._call_impl\u001b[39m\u001b[34m(self, *args, **kwargs)\u001b[39m\n\u001b[32m   1779\u001b[39m \u001b[38;5;66;03m# If we don't have any hooks, we want to skip the rest of the logic in\u001b[39;00m\n\u001b[32m   1780\u001b[39m \u001b[38;5;66;03m# this function, and just call forward.\u001b[39;00m\n\u001b[32m   1781\u001b[39m \u001b[38;5;28;01mif\u001b[39;00m \u001b[38;5;129;01mnot\u001b[39;00m (\u001b[38;5;28mself\u001b[39m._backward_hooks \u001b[38;5;129;01mor\u001b[39;00m \u001b[38;5;28mself\u001b[39m._backward_pre_hooks \u001b[38;5;129;01mor\u001b[39;00m \u001b[38;5;28mself\u001b[39m._forward_hooks \u001b[38;5;129;01mor\u001b[39;00m \u001b[38;5;28mself\u001b[39m._forward_pre_hooks\n\u001b[32m   1782\u001b[39m         \u001b[38;5;129;01mor\u001b[39;00m _global_backward_pre_hooks \u001b[38;5;129;01mor\u001b[39;00m _global_backward_hooks\n\u001b[32m   1783\u001b[39m         \u001b[38;5;129;01mor\u001b[39;00m _global_forward_hooks \u001b[38;5;129;01mor\u001b[39;00m _global_forward_pre_hooks):\n\u001b[32m-> \u001b[39m\u001b[32m1784\u001b[39m     \u001b[38;5;28;01mreturn\u001b[39;00m \u001b[43mforward_call\u001b[49m\u001b[43m(\u001b[49m\u001b[43m*\u001b[49m\u001b[43margs\u001b[49m\u001b[43m,\u001b[49m\u001b[43m \u001b[49m\u001b[43m*\u001b[49m\u001b[43m*\u001b[49m\u001b[43mkwargs\u001b[49m\u001b[43m)\u001b[49m\n\u001b[32m   1786\u001b[39m result = \u001b[38;5;28;01mNone\u001b[39;00m\n\u001b[32m   1787\u001b[39m called_always_called_hooks = \u001b[38;5;28mset\u001b[39m()\n",
                        "\u001b[36mFile \u001b[39m\u001b[32mc:\\Users\\berna\\OneDrive\\Documentos\\waza\\Proyecto_ia_legua_se-as_2025\\venv\\Lib\\site-packages\\ultralytics\\nn\\autobackend.py:644\u001b[39m, in \u001b[36mAutoBackend.forward\u001b[39m\u001b[34m(self, im, augment, visualize, embed, **kwargs)\u001b[39m\n\u001b[32m    642\u001b[39m \u001b[38;5;66;03m# PyTorch\u001b[39;00m\n\u001b[32m    643\u001b[39m \u001b[38;5;28;01mif\u001b[39;00m \u001b[38;5;28mself\u001b[39m.pt \u001b[38;5;129;01mor\u001b[39;00m \u001b[38;5;28mself\u001b[39m.nn_module:\n\u001b[32m--> \u001b[39m\u001b[32m644\u001b[39m     y = \u001b[38;5;28;43mself\u001b[39;49m\u001b[43m.\u001b[49m\u001b[43mmodel\u001b[49m\u001b[43m(\u001b[49m\u001b[43mim\u001b[49m\u001b[43m,\u001b[49m\u001b[43m \u001b[49m\u001b[43maugment\u001b[49m\u001b[43m=\u001b[49m\u001b[43maugment\u001b[49m\u001b[43m,\u001b[49m\u001b[43m \u001b[49m\u001b[43mvisualize\u001b[49m\u001b[43m=\u001b[49m\u001b[43mvisualize\u001b[49m\u001b[43m,\u001b[49m\u001b[43m \u001b[49m\u001b[43membed\u001b[49m\u001b[43m=\u001b[49m\u001b[43membed\u001b[49m\u001b[43m,\u001b[49m\u001b[43m \u001b[49m\u001b[43m*\u001b[49m\u001b[43m*\u001b[49m\u001b[43mkwargs\u001b[49m\u001b[43m)\u001b[49m\n\u001b[32m    646\u001b[39m \u001b[38;5;66;03m# TorchScript\u001b[39;00m\n\u001b[32m    647\u001b[39m \u001b[38;5;28;01melif\u001b[39;00m \u001b[38;5;28mself\u001b[39m.jit:\n",
                        "\u001b[36mFile \u001b[39m\u001b[32mc:\\Users\\berna\\OneDrive\\Documentos\\waza\\Proyecto_ia_legua_se-as_2025\\venv\\Lib\\site-packages\\torch\\nn\\modules\\module.py:1773\u001b[39m, in \u001b[36mModule._wrapped_call_impl\u001b[39m\u001b[34m(self, *args, **kwargs)\u001b[39m\n\u001b[32m   1771\u001b[39m     \u001b[38;5;28;01mreturn\u001b[39;00m \u001b[38;5;28mself\u001b[39m._compiled_call_impl(*args, **kwargs)  \u001b[38;5;66;03m# type: ignore[misc]\u001b[39;00m\n\u001b[32m   1772\u001b[39m \u001b[38;5;28;01melse\u001b[39;00m:\n\u001b[32m-> \u001b[39m\u001b[32m1773\u001b[39m     \u001b[38;5;28;01mreturn\u001b[39;00m \u001b[38;5;28;43mself\u001b[39;49m\u001b[43m.\u001b[49m\u001b[43m_call_impl\u001b[49m\u001b[43m(\u001b[49m\u001b[43m*\u001b[49m\u001b[43margs\u001b[49m\u001b[43m,\u001b[49m\u001b[43m \u001b[49m\u001b[43m*\u001b[49m\u001b[43m*\u001b[49m\u001b[43mkwargs\u001b[49m\u001b[43m)\u001b[49m\n",
                        "\u001b[36mFile \u001b[39m\u001b[32mc:\\Users\\berna\\OneDrive\\Documentos\\waza\\Proyecto_ia_legua_se-as_2025\\venv\\Lib\\site-packages\\torch\\nn\\modules\\module.py:1784\u001b[39m, in \u001b[36mModule._call_impl\u001b[39m\u001b[34m(self, *args, **kwargs)\u001b[39m\n\u001b[32m   1779\u001b[39m \u001b[38;5;66;03m# If we don't have any hooks, we want to skip the rest of the logic in\u001b[39;00m\n\u001b[32m   1780\u001b[39m \u001b[38;5;66;03m# this function, and just call forward.\u001b[39;00m\n\u001b[32m   1781\u001b[39m \u001b[38;5;28;01mif\u001b[39;00m \u001b[38;5;129;01mnot\u001b[39;00m (\u001b[38;5;28mself\u001b[39m._backward_hooks \u001b[38;5;129;01mor\u001b[39;00m \u001b[38;5;28mself\u001b[39m._backward_pre_hooks \u001b[38;5;129;01mor\u001b[39;00m \u001b[38;5;28mself\u001b[39m._forward_hooks \u001b[38;5;129;01mor\u001b[39;00m \u001b[38;5;28mself\u001b[39m._forward_pre_hooks\n\u001b[32m   1782\u001b[39m         \u001b[38;5;129;01mor\u001b[39;00m _global_backward_pre_hooks \u001b[38;5;129;01mor\u001b[39;00m _global_backward_hooks\n\u001b[32m   1783\u001b[39m         \u001b[38;5;129;01mor\u001b[39;00m _global_forward_hooks \u001b[38;5;129;01mor\u001b[39;00m _global_forward_pre_hooks):\n\u001b[32m-> \u001b[39m\u001b[32m1784\u001b[39m     \u001b[38;5;28;01mreturn\u001b[39;00m \u001b[43mforward_call\u001b[49m\u001b[43m(\u001b[49m\u001b[43m*\u001b[49m\u001b[43margs\u001b[49m\u001b[43m,\u001b[49m\u001b[43m \u001b[49m\u001b[43m*\u001b[49m\u001b[43m*\u001b[49m\u001b[43mkwargs\u001b[49m\u001b[43m)\u001b[49m\n\u001b[32m   1786\u001b[39m result = \u001b[38;5;28;01mNone\u001b[39;00m\n\u001b[32m   1787\u001b[39m called_always_called_hooks = \u001b[38;5;28mset\u001b[39m()\n",
                        "\u001b[36mFile \u001b[39m\u001b[32mc:\\Users\\berna\\OneDrive\\Documentos\\waza\\Proyecto_ia_legua_se-as_2025\\venv\\Lib\\site-packages\\ultralytics\\nn\\tasks.py:139\u001b[39m, in \u001b[36mBaseModel.forward\u001b[39m\u001b[34m(self, x, *args, **kwargs)\u001b[39m\n\u001b[32m    137\u001b[39m \u001b[38;5;28;01mif\u001b[39;00m \u001b[38;5;28misinstance\u001b[39m(x, \u001b[38;5;28mdict\u001b[39m):  \u001b[38;5;66;03m# for cases of training and validating while training.\u001b[39;00m\n\u001b[32m    138\u001b[39m     \u001b[38;5;28;01mreturn\u001b[39;00m \u001b[38;5;28mself\u001b[39m.loss(x, *args, **kwargs)\n\u001b[32m--> \u001b[39m\u001b[32m139\u001b[39m \u001b[38;5;28;01mreturn\u001b[39;00m \u001b[38;5;28;43mself\u001b[39;49m\u001b[43m.\u001b[49m\u001b[43mpredict\u001b[49m\u001b[43m(\u001b[49m\u001b[43mx\u001b[49m\u001b[43m,\u001b[49m\u001b[43m \u001b[49m\u001b[43m*\u001b[49m\u001b[43margs\u001b[49m\u001b[43m,\u001b[49m\u001b[43m \u001b[49m\u001b[43m*\u001b[49m\u001b[43m*\u001b[49m\u001b[43mkwargs\u001b[49m\u001b[43m)\u001b[49m\n",
                        "\u001b[36mFile \u001b[39m\u001b[32mc:\\Users\\berna\\OneDrive\\Documentos\\waza\\Proyecto_ia_legua_se-as_2025\\venv\\Lib\\site-packages\\ultralytics\\nn\\tasks.py:157\u001b[39m, in \u001b[36mBaseModel.predict\u001b[39m\u001b[34m(self, x, profile, visualize, augment, embed)\u001b[39m\n\u001b[32m    155\u001b[39m \u001b[38;5;28;01mif\u001b[39;00m augment:\n\u001b[32m    156\u001b[39m     \u001b[38;5;28;01mreturn\u001b[39;00m \u001b[38;5;28mself\u001b[39m._predict_augment(x)\n\u001b[32m--> \u001b[39m\u001b[32m157\u001b[39m \u001b[38;5;28;01mreturn\u001b[39;00m \u001b[38;5;28;43mself\u001b[39;49m\u001b[43m.\u001b[49m\u001b[43m_predict_once\u001b[49m\u001b[43m(\u001b[49m\u001b[43mx\u001b[49m\u001b[43m,\u001b[49m\u001b[43m \u001b[49m\u001b[43mprofile\u001b[49m\u001b[43m,\u001b[49m\u001b[43m \u001b[49m\u001b[43mvisualize\u001b[49m\u001b[43m,\u001b[49m\u001b[43m \u001b[49m\u001b[43membed\u001b[49m\u001b[43m)\u001b[49m\n",
                        "\u001b[36mFile \u001b[39m\u001b[32mc:\\Users\\berna\\OneDrive\\Documentos\\waza\\Proyecto_ia_legua_se-as_2025\\venv\\Lib\\site-packages\\ultralytics\\nn\\tasks.py:180\u001b[39m, in \u001b[36mBaseModel._predict_once\u001b[39m\u001b[34m(self, x, profile, visualize, embed)\u001b[39m\n\u001b[32m    178\u001b[39m \u001b[38;5;28;01mif\u001b[39;00m profile:\n\u001b[32m    179\u001b[39m     \u001b[38;5;28mself\u001b[39m._profile_one_layer(m, x, dt)\n\u001b[32m--> \u001b[39m\u001b[32m180\u001b[39m x = \u001b[43mm\u001b[49m\u001b[43m(\u001b[49m\u001b[43mx\u001b[49m\u001b[43m)\u001b[49m  \u001b[38;5;66;03m# run\u001b[39;00m\n\u001b[32m    181\u001b[39m y.append(x \u001b[38;5;28;01mif\u001b[39;00m m.i \u001b[38;5;129;01min\u001b[39;00m \u001b[38;5;28mself\u001b[39m.save \u001b[38;5;28;01melse\u001b[39;00m \u001b[38;5;28;01mNone\u001b[39;00m)  \u001b[38;5;66;03m# save output\u001b[39;00m\n\u001b[32m    182\u001b[39m \u001b[38;5;28;01mif\u001b[39;00m visualize:\n",
                        "\u001b[36mFile \u001b[39m\u001b[32mc:\\Users\\berna\\OneDrive\\Documentos\\waza\\Proyecto_ia_legua_se-as_2025\\venv\\Lib\\site-packages\\torch\\nn\\modules\\module.py:1773\u001b[39m, in \u001b[36mModule._wrapped_call_impl\u001b[39m\u001b[34m(self, *args, **kwargs)\u001b[39m\n\u001b[32m   1771\u001b[39m     \u001b[38;5;28;01mreturn\u001b[39;00m \u001b[38;5;28mself\u001b[39m._compiled_call_impl(*args, **kwargs)  \u001b[38;5;66;03m# type: ignore[misc]\u001b[39;00m\n\u001b[32m   1772\u001b[39m \u001b[38;5;28;01melse\u001b[39;00m:\n\u001b[32m-> \u001b[39m\u001b[32m1773\u001b[39m     \u001b[38;5;28;01mreturn\u001b[39;00m \u001b[38;5;28;43mself\u001b[39;49m\u001b[43m.\u001b[49m\u001b[43m_call_impl\u001b[49m\u001b[43m(\u001b[49m\u001b[43m*\u001b[49m\u001b[43margs\u001b[49m\u001b[43m,\u001b[49m\u001b[43m \u001b[49m\u001b[43m*\u001b[49m\u001b[43m*\u001b[49m\u001b[43mkwargs\u001b[49m\u001b[43m)\u001b[49m\n",
                        "\u001b[36mFile \u001b[39m\u001b[32mc:\\Users\\berna\\OneDrive\\Documentos\\waza\\Proyecto_ia_legua_se-as_2025\\venv\\Lib\\site-packages\\torch\\nn\\modules\\module.py:1784\u001b[39m, in \u001b[36mModule._call_impl\u001b[39m\u001b[34m(self, *args, **kwargs)\u001b[39m\n\u001b[32m   1779\u001b[39m \u001b[38;5;66;03m# If we don't have any hooks, we want to skip the rest of the logic in\u001b[39;00m\n\u001b[32m   1780\u001b[39m \u001b[38;5;66;03m# this function, and just call forward.\u001b[39;00m\n\u001b[32m   1781\u001b[39m \u001b[38;5;28;01mif\u001b[39;00m \u001b[38;5;129;01mnot\u001b[39;00m (\u001b[38;5;28mself\u001b[39m._backward_hooks \u001b[38;5;129;01mor\u001b[39;00m \u001b[38;5;28mself\u001b[39m._backward_pre_hooks \u001b[38;5;129;01mor\u001b[39;00m \u001b[38;5;28mself\u001b[39m._forward_hooks \u001b[38;5;129;01mor\u001b[39;00m \u001b[38;5;28mself\u001b[39m._forward_pre_hooks\n\u001b[32m   1782\u001b[39m         \u001b[38;5;129;01mor\u001b[39;00m _global_backward_pre_hooks \u001b[38;5;129;01mor\u001b[39;00m _global_backward_hooks\n\u001b[32m   1783\u001b[39m         \u001b[38;5;129;01mor\u001b[39;00m _global_forward_hooks \u001b[38;5;129;01mor\u001b[39;00m _global_forward_pre_hooks):\n\u001b[32m-> \u001b[39m\u001b[32m1784\u001b[39m     \u001b[38;5;28;01mreturn\u001b[39;00m \u001b[43mforward_call\u001b[49m\u001b[43m(\u001b[49m\u001b[43m*\u001b[49m\u001b[43margs\u001b[49m\u001b[43m,\u001b[49m\u001b[43m \u001b[49m\u001b[43m*\u001b[49m\u001b[43m*\u001b[49m\u001b[43mkwargs\u001b[49m\u001b[43m)\u001b[49m\n\u001b[32m   1786\u001b[39m result = \u001b[38;5;28;01mNone\u001b[39;00m\n\u001b[32m   1787\u001b[39m called_always_called_hooks = \u001b[38;5;28mset\u001b[39m()\n",
                        "\u001b[36mFile \u001b[39m\u001b[32mc:\\Users\\berna\\OneDrive\\Documentos\\waza\\Proyecto_ia_legua_se-as_2025\\venv\\Lib\\site-packages\\ultralytics\\nn\\modules\\block.py:319\u001b[39m, in \u001b[36mC2f.forward\u001b[39m\u001b[34m(self, x)\u001b[39m\n\u001b[32m    317\u001b[39m y = \u001b[38;5;28mlist\u001b[39m(\u001b[38;5;28mself\u001b[39m.cv1(x).chunk(\u001b[32m2\u001b[39m, \u001b[32m1\u001b[39m))\n\u001b[32m    318\u001b[39m y.extend(m(y[-\u001b[32m1\u001b[39m]) \u001b[38;5;28;01mfor\u001b[39;00m m \u001b[38;5;129;01min\u001b[39;00m \u001b[38;5;28mself\u001b[39m.m)\n\u001b[32m--> \u001b[39m\u001b[32m319\u001b[39m \u001b[38;5;28;01mreturn\u001b[39;00m \u001b[38;5;28mself\u001b[39m.cv2(\u001b[43mtorch\u001b[49m\u001b[43m.\u001b[49m\u001b[43mcat\u001b[49m\u001b[43m(\u001b[49m\u001b[43my\u001b[49m\u001b[43m,\u001b[49m\u001b[43m \u001b[49m\u001b[32;43m1\u001b[39;49m\u001b[43m)\u001b[49m)\n",
                        "\u001b[31mKeyboardInterrupt\u001b[39m: "
                    ]
                },
                {
                    "ename": "",
                    "evalue": "",
                    "output_type": "error",
                    "traceback": [
                        "\u001b[1;31mThe Kernel crashed while executing code in the current cell or a previous cell. \n",
                        "\u001b[1;31mPlease review the code in the cell(s) to identify a possible cause of the failure. \n",
                        "\u001b[1;31mClick <a href='https://aka.ms/vscodeJupyterKernelCrash'>here</a> for more info. \n",
                        "\u001b[1;31mView Jupyter <a href='command:jupyter.viewOutput'>log</a> for further details."
                    ]
                }
            ],
            "source": [
                "model = YOLO(\"runs/detect/train/weights/best.pt\")\n",
                "\n",
                "# 2. Usar la cámara (source=0 es la webcam principal)\n",
                "model.predict(\n",
                "    source=0,        # webcam\n",
                "    show=True,       # mostrar ventana en tiempo real\n",
                "    conf=0.5,        # confianza mínima (ajústala si detecta de más o de menos)\n",
                "    save=False       # si quieres guardar el video, pon True\n",
                ")"
            ]
        }
    ],
    "metadata": {
        "kernelspec": {
            "display_name": "venv (3.13.2)",
            "language": "python",
            "name": "python3"
        },
        "language_info": {
            "codemirror_mode": {
                "name": "ipython",
                "version": 3
            },
            "file_extension": ".py",
            "mimetype": "text/x-python",
            "name": "python",
            "nbconvert_exporter": "python",
            "pygments_lexer": "ipython3",
            "version": "3.13.2"
        }
    },
    "nbformat": 4,
    "nbformat_minor": 5
}
