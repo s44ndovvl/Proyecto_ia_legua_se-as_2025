{
    "cells": [
        {
            "cell_type": "code",
            "execution_count": 2,
            "id": "9ab2bd25",
            "metadata": {},
            "outputs": [
                {
                    "name": "stdout",
                    "output_type": "stream",
                    "text": [
                        "WARNING Ultralytics settings reset to default values. This may be due to a possible problem with your settings or a recent ultralytics package update. \n",
                        "View Ultralytics Settings with 'yolo settings' or at 'C:\\Users\\xg645\\AppData\\Roaming\\Ultralytics\\settings.json'\n",
                        "Update Settings with 'yolo settings key=value', i.e. 'yolo settings runs_dir=path/to/dir'. For help see https://docs.ultralytics.com/quickstart/#ultralytics-settings.\n"
                    ]
                }
            ],
            "source": [
                "from ultralytics import YOLO\n",
                "import torch"
            ]
        },
        {
            "cell_type": "code",
            "execution_count": 2,
            "id": "ef77f615",
            "metadata": {},
            "outputs": [
                {
                    "data": {
                        "text/plain": [
                            "True"
                        ]
                    },
                    "execution_count": 2,
                    "metadata": {},
                    "output_type": "execute_result"
                }
            ],
            "source": [
                "torch.cuda.is_available()"
            ]
        },
        {
            "cell_type": "code",
            "execution_count": 2,
            "id": "068f3a19",
            "metadata": {},
            "outputs": [
                {
                    "name": "stderr",
                    "output_type": "stream",
                    "text": [
                        "Downloading https://github.com/ultralytics/assets/releases/download/v8.3.0/yolov8s.pt to 'yolov8s.pt': 100%|██████████| 21.5M/21.5M [00:00<00:00, 62.2MB/s]\n"
                    ]
                },
                {
                    "name": "stdout",
                    "output_type": "stream",
                    "text": [
                        "New https://pypi.org/project/ultralytics/8.3.182 available  Update with 'pip install -U ultralytics'\n",
                        "Ultralytics 8.3.181  Python-3.13.2 torch-2.8.0+cu126 CUDA:0 (NVIDIA GeForce RTX 4060, 8188MiB)\n",
                        "\u001b[34m\u001b[1mengine\\trainer: \u001b[0magnostic_nms=False, amp=True, augment=False, auto_augment=randaugment, batch=32, bgr=0.0, box=7.5, cache=False, cfg=None, classes=None, close_mosaic=10, cls=0.5, conf=None, copy_paste=0.0, copy_paste_mode=flip, cos_lr=False, cutmix=0.0, data=dataset3/data.yaml, degrees=0.0, deterministic=True, device=0, dfl=1.5, dnn=False, dropout=0.0, dynamic=False, embed=None, epochs=80, erasing=0.4, exist_ok=False, fliplr=0.5, flipud=0.0, format=torchscript, fraction=1.0, freeze=None, half=False, hsv_h=0.015, hsv_s=0.7, hsv_v=0.4, imgsz=640, int8=False, iou=0.7, keras=False, kobj=1.0, line_width=None, lr0=0.01, lrf=0.01, mask_ratio=4, max_det=300, mixup=0.0, mode=train, model=yolov8s.pt, momentum=0.937, mosaic=1.0, multi_scale=False, name=train4, nbs=64, nms=False, opset=None, optimize=False, optimizer=SGD, overlap_mask=True, patience=20, perspective=0.0, plots=True, pose=12.0, pretrained=True, profile=False, project=None, rect=False, resume=False, retina_masks=False, save=True, save_conf=False, save_crop=False, save_dir=c:\\Users\\berna\\Documents\\Proyecto_ia_legua_se-as_2025\\runs\\detect\\train4, save_frames=False, save_json=False, save_period=-1, save_txt=False, scale=0.5, seed=0, shear=0.0, show=False, show_boxes=True, show_conf=True, show_labels=True, simplify=True, single_cls=False, source=None, split=val, stream_buffer=False, task=detect, time=None, tracker=botsort.yaml, translate=0.1, val=True, verbose=True, vid_stride=1, visualize=False, warmup_bias_lr=0.1, warmup_epochs=3.0, warmup_momentum=0.8, weight_decay=0.0005, workers=8, workspace=None\n",
                        "Overriding model.yaml nc=80 with nc=27\n",
                        "\n",
                        "                   from  n    params  module                                       arguments                     \n",
                        "  0                  -1  1       928  ultralytics.nn.modules.conv.Conv             [3, 32, 3, 2]                 \n",
                        "  1                  -1  1     18560  ultralytics.nn.modules.conv.Conv             [32, 64, 3, 2]                \n",
                        "  2                  -1  1     29056  ultralytics.nn.modules.block.C2f             [64, 64, 1, True]             \n",
                        "  3                  -1  1     73984  ultralytics.nn.modules.conv.Conv             [64, 128, 3, 2]               \n",
                        "  4                  -1  2    197632  ultralytics.nn.modules.block.C2f             [128, 128, 2, True]           \n",
                        "  5                  -1  1    295424  ultralytics.nn.modules.conv.Conv             [128, 256, 3, 2]              \n",
                        "  6                  -1  2    788480  ultralytics.nn.modules.block.C2f             [256, 256, 2, True]           \n",
                        "  7                  -1  1   1180672  ultralytics.nn.modules.conv.Conv             [256, 512, 3, 2]              \n",
                        "  8                  -1  1   1838080  ultralytics.nn.modules.block.C2f             [512, 512, 1, True]           \n",
                        "  9                  -1  1    656896  ultralytics.nn.modules.block.SPPF            [512, 512, 5]                 \n",
                        " 10                  -1  1         0  torch.nn.modules.upsampling.Upsample         [None, 2, 'nearest']          \n",
                        " 11             [-1, 6]  1         0  ultralytics.nn.modules.conv.Concat           [1]                           \n",
                        " 12                  -1  1    591360  ultralytics.nn.modules.block.C2f             [768, 256, 1]                 \n",
                        " 13                  -1  1         0  torch.nn.modules.upsampling.Upsample         [None, 2, 'nearest']          \n",
                        " 14             [-1, 4]  1         0  ultralytics.nn.modules.conv.Concat           [1]                           \n",
                        " 15                  -1  1    148224  ultralytics.nn.modules.block.C2f             [384, 128, 1]                 \n",
                        " 16                  -1  1    147712  ultralytics.nn.modules.conv.Conv             [128, 128, 3, 2]              \n",
                        " 17            [-1, 12]  1         0  ultralytics.nn.modules.conv.Concat           [1]                           \n",
                        " 18                  -1  1    493056  ultralytics.nn.modules.block.C2f             [384, 256, 1]                 \n",
                        " 19                  -1  1    590336  ultralytics.nn.modules.conv.Conv             [256, 256, 3, 2]              \n",
                        " 20             [-1, 9]  1         0  ultralytics.nn.modules.conv.Concat           [1]                           \n",
                        " 21                  -1  1   1969152  ultralytics.nn.modules.block.C2f             [768, 512, 1]                 \n",
                        " 22        [15, 18, 21]  1   2126497  ultralytics.nn.modules.head.Detect           [27, [128, 256, 512]]         \n",
                        "Model summary: 129 layers, 11,146,049 parameters, 11,146,033 gradients, 28.7 GFLOPs\n",
                        "\n",
                        "Transferred 349/355 items from pretrained weights\n",
                        "Freezing layer 'model.22.dfl.conv.weight'\n",
                        "\u001b[34m\u001b[1mAMP: \u001b[0mrunning Automatic Mixed Precision (AMP) checks...\n",
                        "\u001b[34m\u001b[1mAMP: \u001b[0mchecks passed \n",
                        "\u001b[34m\u001b[1mtrain: \u001b[0mFast image access  (ping: 0.10.0 ms, read: 366.981.4 MB/s, size: 44.5 KB)\n"
                    ]
                },
                {
                    "name": "stderr",
                    "output_type": "stream",
                    "text": [
                        "\u001b[34m\u001b[1mtrain: \u001b[0mScanning C:\\Users\\berna\\Documents\\Proyecto_ia_legua_se-as_2025\\dataset3\\train\\labels.cache... 837 images, 2 backgrounds, 0 corrupt: 100%|██████████| 837/837 [00:00<?, ?it/s]\n"
                    ]
                },
                {
                    "name": "stdout",
                    "output_type": "stream",
                    "text": [
                        "\u001b[34m\u001b[1mval: \u001b[0mFast image access  (ping: 0.10.0 ms, read: 214.118.6 MB/s, size: 32.7 KB)\n"
                    ]
                },
                {
                    "name": "stderr",
                    "output_type": "stream",
                    "text": [
                        "\u001b[34m\u001b[1mval: \u001b[0mScanning C:\\Users\\berna\\Documents\\Proyecto_ia_legua_se-as_2025\\dataset3\\valid\\labels.cache... 243 images, 0 backgrounds, 0 corrupt: 100%|██████████| 243/243 [00:00<?, ?it/s]\n"
                    ]
                },
                {
                    "name": "stdout",
                    "output_type": "stream",
                    "text": [
                        "Plotting labels to c:\\Users\\berna\\Documents\\Proyecto_ia_legua_se-as_2025\\runs\\detect\\train4\\labels.jpg... \n",
                        "\u001b[34m\u001b[1moptimizer:\u001b[0m SGD(lr=0.01, momentum=0.937) with parameter groups 57 weight(decay=0.0), 64 weight(decay=0.0005), 63 bias(decay=0.0)\n",
                        "Image sizes 640 train, 640 val\n",
                        "Using 8 dataloader workers\n",
                        "Logging results to \u001b[1mc:\\Users\\berna\\Documents\\Proyecto_ia_legua_se-as_2025\\runs\\detect\\train4\u001b[0m\n",
                        "Starting training for 80 epochs...\n",
                        "\n",
                        "      Epoch    GPU_mem   box_loss   cls_loss   dfl_loss  Instances       Size\n"
                    ]
                },
                {
                    "name": "stderr",
                    "output_type": "stream",
                    "text": [
                        "       1/80      6.82G      1.585       7.49      1.912          9        640: 100%|██████████| 27/27 [00:18<00:00,  1.45it/s]\n",
                        "                 Class     Images  Instances      Box(P          R      mAP50  mAP50-95): 100%|██████████| 4/4 [00:02<00:00,  1.63it/s]"
                    ]
                },
                {
                    "name": "stdout",
                    "output_type": "stream",
                    "text": [
                        "                   all        243        243      0.514      0.209      0.157      0.111\n"
                    ]
                },
                {
                    "name": "stderr",
                    "output_type": "stream",
                    "text": [
                        "\n"
                    ]
                },
                {
                    "name": "stdout",
                    "output_type": "stream",
                    "text": [
                        "\n",
                        "      Epoch    GPU_mem   box_loss   cls_loss   dfl_loss  Instances       Size\n"
                    ]
                },
                {
                    "name": "stderr",
                    "output_type": "stream",
                    "text": [
                        "       2/80      6.63G      1.165      3.163      1.496         12        640: 100%|██████████| 27/27 [00:11<00:00,  2.28it/s]\n",
                        "                 Class     Images  Instances      Box(P          R      mAP50  mAP50-95): 100%|██████████| 4/4 [00:01<00:00,  2.03it/s]"
                    ]
                },
                {
                    "name": "stdout",
                    "output_type": "stream",
                    "text": [
                        "                   all        243        243      0.444       0.35      0.313      0.219\n"
                    ]
                },
                {
                    "name": "stderr",
                    "output_type": "stream",
                    "text": [
                        "\n"
                    ]
                },
                {
                    "name": "stdout",
                    "output_type": "stream",
                    "text": [
                        "\n",
                        "      Epoch    GPU_mem   box_loss   cls_loss   dfl_loss  Instances       Size\n"
                    ]
                },
                {
                    "name": "stderr",
                    "output_type": "stream",
                    "text": [
                        "       3/80      6.62G      1.112      2.219      1.402         15        640: 100%|██████████| 27/27 [00:11<00:00,  2.40it/s]\n",
                        "                 Class     Images  Instances      Box(P          R      mAP50  mAP50-95): 100%|██████████| 4/4 [00:01<00:00,  2.03it/s]"
                    ]
                },
                {
                    "name": "stdout",
                    "output_type": "stream",
                    "text": [
                        "                   all        243        243      0.422      0.565      0.544      0.401\n"
                    ]
                },
                {
                    "name": "stderr",
                    "output_type": "stream",
                    "text": [
                        "\n"
                    ]
                },
                {
                    "name": "stdout",
                    "output_type": "stream",
                    "text": [
                        "\n",
                        "      Epoch    GPU_mem   box_loss   cls_loss   dfl_loss  Instances       Size\n"
                    ]
                },
                {
                    "name": "stderr",
                    "output_type": "stream",
                    "text": [
                        "       4/80      6.69G      1.088      1.914      1.357         10        640: 100%|██████████| 27/27 [00:16<00:00,  1.61it/s]\n",
                        "                 Class     Images  Instances      Box(P          R      mAP50  mAP50-95): 100%|██████████| 4/4 [00:01<00:00,  2.12it/s]"
                    ]
                },
                {
                    "name": "stdout",
                    "output_type": "stream",
                    "text": [
                        "                   all        243        243      0.482      0.523      0.563      0.412\n"
                    ]
                },
                {
                    "name": "stderr",
                    "output_type": "stream",
                    "text": [
                        "\n"
                    ]
                },
                {
                    "name": "stdout",
                    "output_type": "stream",
                    "text": [
                        "\n",
                        "      Epoch    GPU_mem   box_loss   cls_loss   dfl_loss  Instances       Size\n"
                    ]
                },
                {
                    "name": "stderr",
                    "output_type": "stream",
                    "text": [
                        "       5/80      6.62G      1.115      1.782      1.374         12        640: 100%|██████████| 27/27 [00:12<00:00,  2.15it/s]\n",
                        "                 Class     Images  Instances      Box(P          R      mAP50  mAP50-95): 100%|██████████| 4/4 [00:01<00:00,  2.19it/s]"
                    ]
                },
                {
                    "name": "stdout",
                    "output_type": "stream",
                    "text": [
                        "                   all        243        243      0.582      0.475      0.471      0.335\n"
                    ]
                },
                {
                    "name": "stderr",
                    "output_type": "stream",
                    "text": [
                        "\n"
                    ]
                },
                {
                    "name": "stdout",
                    "output_type": "stream",
                    "text": [
                        "\n",
                        "      Epoch    GPU_mem   box_loss   cls_loss   dfl_loss  Instances       Size\n"
                    ]
                },
                {
                    "name": "stderr",
                    "output_type": "stream",
                    "text": [
                        "       6/80      6.66G      1.109       1.56      1.348         10        640: 100%|██████████| 27/27 [00:12<00:00,  2.13it/s]\n",
                        "                 Class     Images  Instances      Box(P          R      mAP50  mAP50-95): 100%|██████████| 4/4 [00:01<00:00,  2.08it/s]"
                    ]
                },
                {
                    "name": "stdout",
                    "output_type": "stream",
                    "text": [
                        "                   all        243        243      0.416      0.319      0.317      0.209\n"
                    ]
                },
                {
                    "name": "stderr",
                    "output_type": "stream",
                    "text": [
                        "\n"
                    ]
                },
                {
                    "name": "stdout",
                    "output_type": "stream",
                    "text": [
                        "\n",
                        "      Epoch    GPU_mem   box_loss   cls_loss   dfl_loss  Instances       Size\n"
                    ]
                },
                {
                    "name": "stderr",
                    "output_type": "stream",
                    "text": [
                        "       7/80      6.62G      1.134      1.491      1.364         11        640: 100%|██████████| 27/27 [00:12<00:00,  2.10it/s]\n",
                        "                 Class     Images  Instances      Box(P          R      mAP50  mAP50-95): 100%|██████████| 4/4 [00:02<00:00,  1.89it/s]"
                    ]
                },
                {
                    "name": "stdout",
                    "output_type": "stream",
                    "text": [
                        "                   all        243        243      0.639      0.629      0.644      0.451\n"
                    ]
                },
                {
                    "name": "stderr",
                    "output_type": "stream",
                    "text": [
                        "\n"
                    ]
                },
                {
                    "name": "stdout",
                    "output_type": "stream",
                    "text": [
                        "\n",
                        "      Epoch    GPU_mem   box_loss   cls_loss   dfl_loss  Instances       Size\n"
                    ]
                },
                {
                    "name": "stderr",
                    "output_type": "stream",
                    "text": [
                        "       8/80      6.67G      1.096      1.468      1.344          8        640: 100%|██████████| 27/27 [00:17<00:00,  1.55it/s]\n",
                        "                 Class     Images  Instances      Box(P          R      mAP50  mAP50-95): 100%|██████████| 4/4 [00:02<00:00,  1.92it/s]"
                    ]
                },
                {
                    "name": "stdout",
                    "output_type": "stream",
                    "text": [
                        "                   all        243        243      0.569      0.737      0.728        0.5\n"
                    ]
                },
                {
                    "name": "stderr",
                    "output_type": "stream",
                    "text": [
                        "\n"
                    ]
                },
                {
                    "name": "stdout",
                    "output_type": "stream",
                    "text": [
                        "\n",
                        "      Epoch    GPU_mem   box_loss   cls_loss   dfl_loss  Instances       Size\n"
                    ]
                },
                {
                    "name": "stderr",
                    "output_type": "stream",
                    "text": [
                        "       9/80      6.62G      1.089      1.354       1.32         11        640: 100%|██████████| 27/27 [00:13<00:00,  1.98it/s]\n",
                        "                 Class     Images  Instances      Box(P          R      mAP50  mAP50-95): 100%|██████████| 4/4 [00:01<00:00,  2.11it/s]"
                    ]
                },
                {
                    "name": "stdout",
                    "output_type": "stream",
                    "text": [
                        "                   all        243        243       0.75      0.654      0.803      0.587\n"
                    ]
                },
                {
                    "name": "stderr",
                    "output_type": "stream",
                    "text": [
                        "\n"
                    ]
                },
                {
                    "name": "stdout",
                    "output_type": "stream",
                    "text": [
                        "\n",
                        "      Epoch    GPU_mem   box_loss   cls_loss   dfl_loss  Instances       Size\n"
                    ]
                },
                {
                    "name": "stderr",
                    "output_type": "stream",
                    "text": [
                        "      10/80      6.68G       1.08      1.322      1.324          9        640: 100%|██████████| 27/27 [00:13<00:00,  2.03it/s]\n",
                        "                 Class     Images  Instances      Box(P          R      mAP50  mAP50-95): 100%|██████████| 4/4 [00:02<00:00,  1.92it/s]"
                    ]
                },
                {
                    "name": "stdout",
                    "output_type": "stream",
                    "text": [
                        "                   all        243        243      0.749      0.789      0.858      0.639\n"
                    ]
                },
                {
                    "name": "stderr",
                    "output_type": "stream",
                    "text": [
                        "\n"
                    ]
                },
                {
                    "name": "stdout",
                    "output_type": "stream",
                    "text": [
                        "\n",
                        "      Epoch    GPU_mem   box_loss   cls_loss   dfl_loss  Instances       Size\n"
                    ]
                },
                {
                    "name": "stderr",
                    "output_type": "stream",
                    "text": [
                        "      11/80      6.62G      1.107      1.333      1.352         10        640: 100%|██████████| 27/27 [00:12<00:00,  2.12it/s]\n",
                        "                 Class     Images  Instances      Box(P          R      mAP50  mAP50-95): 100%|██████████| 4/4 [00:02<00:00,  1.90it/s]"
                    ]
                },
                {
                    "name": "stdout",
                    "output_type": "stream",
                    "text": [
                        "                   all        243        243      0.583      0.641      0.658      0.443\n"
                    ]
                },
                {
                    "name": "stderr",
                    "output_type": "stream",
                    "text": [
                        "\n"
                    ]
                },
                {
                    "name": "stdout",
                    "output_type": "stream",
                    "text": [
                        "\n",
                        "      Epoch    GPU_mem   box_loss   cls_loss   dfl_loss  Instances       Size\n"
                    ]
                },
                {
                    "name": "stderr",
                    "output_type": "stream",
                    "text": [
                        "      12/80      6.68G      1.048      1.219      1.295         10        640: 100%|██████████| 27/27 [00:12<00:00,  2.19it/s]\n",
                        "                 Class     Images  Instances      Box(P          R      mAP50  mAP50-95): 100%|██████████| 4/4 [00:01<00:00,  2.10it/s]"
                    ]
                },
                {
                    "name": "stdout",
                    "output_type": "stream",
                    "text": [
                        "                   all        243        243      0.778      0.748      0.857      0.622\n"
                    ]
                },
                {
                    "name": "stderr",
                    "output_type": "stream",
                    "text": [
                        "\n"
                    ]
                },
                {
                    "name": "stdout",
                    "output_type": "stream",
                    "text": [
                        "\n",
                        "      Epoch    GPU_mem   box_loss   cls_loss   dfl_loss  Instances       Size\n"
                    ]
                },
                {
                    "name": "stderr",
                    "output_type": "stream",
                    "text": [
                        "      13/80      6.63G      1.033      1.176      1.274         11        640: 100%|██████████| 27/27 [00:11<00:00,  2.37it/s]\n",
                        "                 Class     Images  Instances      Box(P          R      mAP50  mAP50-95): 100%|██████████| 4/4 [00:01<00:00,  2.01it/s]"
                    ]
                },
                {
                    "name": "stdout",
                    "output_type": "stream",
                    "text": [
                        "                   all        243        243      0.731      0.722      0.796       0.55\n"
                    ]
                },
                {
                    "name": "stderr",
                    "output_type": "stream",
                    "text": [
                        "\n"
                    ]
                },
                {
                    "name": "stdout",
                    "output_type": "stream",
                    "text": [
                        "\n",
                        "      Epoch    GPU_mem   box_loss   cls_loss   dfl_loss  Instances       Size\n"
                    ]
                },
                {
                    "name": "stderr",
                    "output_type": "stream",
                    "text": [
                        "      14/80      6.68G      1.022      1.137      1.283          8        640: 100%|██████████| 27/27 [00:11<00:00,  2.37it/s]\n",
                        "                 Class     Images  Instances      Box(P          R      mAP50  mAP50-95): 100%|██████████| 4/4 [00:01<00:00,  2.09it/s]"
                    ]
                },
                {
                    "name": "stdout",
                    "output_type": "stream",
                    "text": [
                        "                   all        243        243      0.676      0.797      0.874      0.618\n"
                    ]
                },
                {
                    "name": "stderr",
                    "output_type": "stream",
                    "text": [
                        "\n"
                    ]
                },
                {
                    "name": "stdout",
                    "output_type": "stream",
                    "text": [
                        "\n",
                        "      Epoch    GPU_mem   box_loss   cls_loss   dfl_loss  Instances       Size\n"
                    ]
                },
                {
                    "name": "stderr",
                    "output_type": "stream",
                    "text": [
                        "      15/80      6.61G      1.021      1.137      1.278         14        640: 100%|██████████| 27/27 [00:11<00:00,  2.34it/s]\n",
                        "                 Class     Images  Instances      Box(P          R      mAP50  mAP50-95): 100%|██████████| 4/4 [00:01<00:00,  2.12it/s]"
                    ]
                },
                {
                    "name": "stdout",
                    "output_type": "stream",
                    "text": [
                        "                   all        243        243      0.844      0.831      0.893      0.679\n"
                    ]
                },
                {
                    "name": "stderr",
                    "output_type": "stream",
                    "text": [
                        "\n"
                    ]
                },
                {
                    "name": "stdout",
                    "output_type": "stream",
                    "text": [
                        "\n",
                        "      Epoch    GPU_mem   box_loss   cls_loss   dfl_loss  Instances       Size\n"
                    ]
                },
                {
                    "name": "stderr",
                    "output_type": "stream",
                    "text": [
                        "      16/80      6.67G     0.9793      1.029      1.237         13        640: 100%|██████████| 27/27 [00:11<00:00,  2.31it/s]\n",
                        "                 Class     Images  Instances      Box(P          R      mAP50  mAP50-95): 100%|██████████| 4/4 [00:02<00:00,  1.86it/s]"
                    ]
                },
                {
                    "name": "stdout",
                    "output_type": "stream",
                    "text": [
                        "                   all        243        243      0.866      0.884      0.942      0.702\n"
                    ]
                },
                {
                    "name": "stderr",
                    "output_type": "stream",
                    "text": [
                        "\n"
                    ]
                },
                {
                    "name": "stdout",
                    "output_type": "stream",
                    "text": [
                        "\n",
                        "      Epoch    GPU_mem   box_loss   cls_loss   dfl_loss  Instances       Size\n"
                    ]
                },
                {
                    "name": "stderr",
                    "output_type": "stream",
                    "text": [
                        "      17/80      6.62G     0.9772     0.9924      1.242         12        640: 100%|██████████| 27/27 [00:11<00:00,  2.28it/s]\n",
                        "                 Class     Images  Instances      Box(P          R      mAP50  mAP50-95): 100%|██████████| 4/4 [00:01<00:00,  2.08it/s]"
                    ]
                },
                {
                    "name": "stdout",
                    "output_type": "stream",
                    "text": [
                        "                   all        243        243      0.853       0.89      0.946      0.741\n"
                    ]
                },
                {
                    "name": "stderr",
                    "output_type": "stream",
                    "text": [
                        "\n"
                    ]
                },
                {
                    "name": "stdout",
                    "output_type": "stream",
                    "text": [
                        "\n",
                        "      Epoch    GPU_mem   box_loss   cls_loss   dfl_loss  Instances       Size\n"
                    ]
                },
                {
                    "name": "stderr",
                    "output_type": "stream",
                    "text": [
                        "      18/80      6.67G     0.9811      1.023      1.245         13        640: 100%|██████████| 27/27 [00:11<00:00,  2.33it/s]\n",
                        "                 Class     Images  Instances      Box(P          R      mAP50  mAP50-95): 100%|██████████| 4/4 [00:01<00:00,  2.02it/s]"
                    ]
                },
                {
                    "name": "stdout",
                    "output_type": "stream",
                    "text": [
                        "                   all        243        243      0.896      0.888      0.947      0.751\n"
                    ]
                },
                {
                    "name": "stderr",
                    "output_type": "stream",
                    "text": [
                        "\n"
                    ]
                },
                {
                    "name": "stdout",
                    "output_type": "stream",
                    "text": [
                        "\n",
                        "      Epoch    GPU_mem   box_loss   cls_loss   dfl_loss  Instances       Size\n"
                    ]
                },
                {
                    "name": "stderr",
                    "output_type": "stream",
                    "text": [
                        "      19/80      6.61G     0.9423     0.9913      1.214          8        640: 100%|██████████| 27/27 [00:11<00:00,  2.31it/s]\n",
                        "                 Class     Images  Instances      Box(P          R      mAP50  mAP50-95): 100%|██████████| 4/4 [00:01<00:00,  2.05it/s]"
                    ]
                },
                {
                    "name": "stdout",
                    "output_type": "stream",
                    "text": [
                        "                   all        243        243      0.895      0.863      0.951      0.752\n"
                    ]
                },
                {
                    "name": "stderr",
                    "output_type": "stream",
                    "text": [
                        "\n"
                    ]
                },
                {
                    "name": "stdout",
                    "output_type": "stream",
                    "text": [
                        "\n",
                        "      Epoch    GPU_mem   box_loss   cls_loss   dfl_loss  Instances       Size\n"
                    ]
                },
                {
                    "name": "stderr",
                    "output_type": "stream",
                    "text": [
                        "      20/80      6.67G     0.9433     0.9508      1.216          8        640: 100%|██████████| 27/27 [00:11<00:00,  2.40it/s]\n",
                        "                 Class     Images  Instances      Box(P          R      mAP50  mAP50-95): 100%|██████████| 4/4 [00:01<00:00,  2.06it/s]"
                    ]
                },
                {
                    "name": "stdout",
                    "output_type": "stream",
                    "text": [
                        "                   all        243        243      0.875      0.874       0.94      0.739\n"
                    ]
                },
                {
                    "name": "stderr",
                    "output_type": "stream",
                    "text": [
                        "\n"
                    ]
                },
                {
                    "name": "stdout",
                    "output_type": "stream",
                    "text": [
                        "\n",
                        "      Epoch    GPU_mem   box_loss   cls_loss   dfl_loss  Instances       Size\n"
                    ]
                },
                {
                    "name": "stderr",
                    "output_type": "stream",
                    "text": [
                        "      21/80      6.61G     0.9402     0.9685      1.229          6        640: 100%|██████████| 27/27 [00:11<00:00,  2.40it/s]\n",
                        "                 Class     Images  Instances      Box(P          R      mAP50  mAP50-95): 100%|██████████| 4/4 [00:01<00:00,  2.09it/s]"
                    ]
                },
                {
                    "name": "stdout",
                    "output_type": "stream",
                    "text": [
                        "                   all        243        243      0.874      0.886      0.943      0.727\n"
                    ]
                },
                {
                    "name": "stderr",
                    "output_type": "stream",
                    "text": [
                        "\n"
                    ]
                },
                {
                    "name": "stdout",
                    "output_type": "stream",
                    "text": [
                        "\n",
                        "      Epoch    GPU_mem   box_loss   cls_loss   dfl_loss  Instances       Size\n"
                    ]
                },
                {
                    "name": "stderr",
                    "output_type": "stream",
                    "text": [
                        "      22/80      6.67G     0.8792      0.892      1.171          8        640: 100%|██████████| 27/27 [00:11<00:00,  2.39it/s]\n",
                        "                 Class     Images  Instances      Box(P          R      mAP50  mAP50-95): 100%|██████████| 4/4 [00:01<00:00,  2.07it/s]"
                    ]
                },
                {
                    "name": "stdout",
                    "output_type": "stream",
                    "text": [
                        "                   all        243        243      0.817      0.882      0.934      0.723\n"
                    ]
                },
                {
                    "name": "stderr",
                    "output_type": "stream",
                    "text": [
                        "\n"
                    ]
                },
                {
                    "name": "stdout",
                    "output_type": "stream",
                    "text": [
                        "\n",
                        "      Epoch    GPU_mem   box_loss   cls_loss   dfl_loss  Instances       Size\n"
                    ]
                },
                {
                    "name": "stderr",
                    "output_type": "stream",
                    "text": [
                        "      23/80      6.61G     0.8985     0.8882       1.21          8        640: 100%|██████████| 27/27 [00:11<00:00,  2.39it/s]\n",
                        "                 Class     Images  Instances      Box(P          R      mAP50  mAP50-95): 100%|██████████| 4/4 [00:01<00:00,  2.03it/s]"
                    ]
                },
                {
                    "name": "stdout",
                    "output_type": "stream",
                    "text": [
                        "                   all        243        243      0.856      0.856      0.946      0.742\n"
                    ]
                },
                {
                    "name": "stderr",
                    "output_type": "stream",
                    "text": [
                        "\n"
                    ]
                },
                {
                    "name": "stdout",
                    "output_type": "stream",
                    "text": [
                        "\n",
                        "      Epoch    GPU_mem   box_loss   cls_loss   dfl_loss  Instances       Size\n"
                    ]
                },
                {
                    "name": "stderr",
                    "output_type": "stream",
                    "text": [
                        "      24/80      6.69G     0.9216     0.9033      1.208         12        640: 100%|██████████| 27/27 [00:11<00:00,  2.38it/s]\n",
                        "                 Class     Images  Instances      Box(P          R      mAP50  mAP50-95): 100%|██████████| 4/4 [00:01<00:00,  2.07it/s]"
                    ]
                },
                {
                    "name": "stdout",
                    "output_type": "stream",
                    "text": [
                        "                   all        243        243      0.866      0.925      0.965      0.757\n"
                    ]
                },
                {
                    "name": "stderr",
                    "output_type": "stream",
                    "text": [
                        "\n"
                    ]
                },
                {
                    "name": "stdout",
                    "output_type": "stream",
                    "text": [
                        "\n",
                        "      Epoch    GPU_mem   box_loss   cls_loss   dfl_loss  Instances       Size\n"
                    ]
                },
                {
                    "name": "stderr",
                    "output_type": "stream",
                    "text": [
                        "      25/80      6.61G     0.8972     0.8709      1.206         11        640: 100%|██████████| 27/27 [00:11<00:00,  2.34it/s]\n",
                        "                 Class     Images  Instances      Box(P          R      mAP50  mAP50-95): 100%|██████████| 4/4 [00:01<00:00,  2.04it/s]"
                    ]
                },
                {
                    "name": "stdout",
                    "output_type": "stream",
                    "text": [
                        "                   all        243        243      0.827      0.905      0.959      0.761\n"
                    ]
                },
                {
                    "name": "stderr",
                    "output_type": "stream",
                    "text": [
                        "\n"
                    ]
                },
                {
                    "name": "stdout",
                    "output_type": "stream",
                    "text": [
                        "\n",
                        "      Epoch    GPU_mem   box_loss   cls_loss   dfl_loss  Instances       Size\n"
                    ]
                },
                {
                    "name": "stderr",
                    "output_type": "stream",
                    "text": [
                        "      26/80      6.68G     0.8966     0.8702      1.196          8        640: 100%|██████████| 27/27 [00:11<00:00,  2.32it/s]\n",
                        "                 Class     Images  Instances      Box(P          R      mAP50  mAP50-95): 100%|██████████| 4/4 [00:02<00:00,  1.97it/s]"
                    ]
                },
                {
                    "name": "stdout",
                    "output_type": "stream",
                    "text": [
                        "                   all        243        243      0.908      0.934      0.966      0.772\n"
                    ]
                },
                {
                    "name": "stderr",
                    "output_type": "stream",
                    "text": [
                        "\n"
                    ]
                },
                {
                    "name": "stdout",
                    "output_type": "stream",
                    "text": [
                        "\n",
                        "      Epoch    GPU_mem   box_loss   cls_loss   dfl_loss  Instances       Size\n"
                    ]
                },
                {
                    "name": "stderr",
                    "output_type": "stream",
                    "text": [
                        "      27/80      6.62G      0.868      0.839      1.184         11        640: 100%|██████████| 27/27 [00:11<00:00,  2.33it/s]\n",
                        "                 Class     Images  Instances      Box(P          R      mAP50  mAP50-95): 100%|██████████| 4/4 [00:02<00:00,  1.99it/s]"
                    ]
                },
                {
                    "name": "stdout",
                    "output_type": "stream",
                    "text": [
                        "                   all        243        243      0.932      0.924      0.968      0.781\n"
                    ]
                },
                {
                    "name": "stderr",
                    "output_type": "stream",
                    "text": [
                        "\n"
                    ]
                },
                {
                    "name": "stdout",
                    "output_type": "stream",
                    "text": [
                        "\n",
                        "      Epoch    GPU_mem   box_loss   cls_loss   dfl_loss  Instances       Size\n"
                    ]
                },
                {
                    "name": "stderr",
                    "output_type": "stream",
                    "text": [
                        "      28/80      6.68G     0.8902     0.8497      1.192         11        640: 100%|██████████| 27/27 [00:11<00:00,  2.29it/s]\n",
                        "                 Class     Images  Instances      Box(P          R      mAP50  mAP50-95): 100%|██████████| 4/4 [00:01<00:00,  2.03it/s]"
                    ]
                },
                {
                    "name": "stdout",
                    "output_type": "stream",
                    "text": [
                        "                   all        243        243      0.912      0.929      0.972      0.769\n"
                    ]
                },
                {
                    "name": "stderr",
                    "output_type": "stream",
                    "text": [
                        "\n"
                    ]
                },
                {
                    "name": "stdout",
                    "output_type": "stream",
                    "text": [
                        "\n",
                        "      Epoch    GPU_mem   box_loss   cls_loss   dfl_loss  Instances       Size\n"
                    ]
                },
                {
                    "name": "stderr",
                    "output_type": "stream",
                    "text": [
                        "      29/80      6.63G     0.8842      0.798      1.183         10        640: 100%|██████████| 27/27 [00:11<00:00,  2.39it/s]\n",
                        "                 Class     Images  Instances      Box(P          R      mAP50  mAP50-95): 100%|██████████| 4/4 [00:01<00:00,  2.04it/s]"
                    ]
                },
                {
                    "name": "stdout",
                    "output_type": "stream",
                    "text": [
                        "                   all        243        243      0.957      0.922      0.972      0.784\n"
                    ]
                },
                {
                    "name": "stderr",
                    "output_type": "stream",
                    "text": [
                        "\n"
                    ]
                },
                {
                    "name": "stdout",
                    "output_type": "stream",
                    "text": [
                        "\n",
                        "      Epoch    GPU_mem   box_loss   cls_loss   dfl_loss  Instances       Size\n"
                    ]
                },
                {
                    "name": "stderr",
                    "output_type": "stream",
                    "text": [
                        "      30/80      6.67G     0.8503     0.7996      1.171         11        640: 100%|██████████| 27/27 [00:11<00:00,  2.35it/s]\n",
                        "                 Class     Images  Instances      Box(P          R      mAP50  mAP50-95): 100%|██████████| 4/4 [00:01<00:00,  2.09it/s]"
                    ]
                },
                {
                    "name": "stdout",
                    "output_type": "stream",
                    "text": [
                        "                   all        243        243      0.918      0.923      0.979      0.794\n"
                    ]
                },
                {
                    "name": "stderr",
                    "output_type": "stream",
                    "text": [
                        "\n"
                    ]
                },
                {
                    "name": "stdout",
                    "output_type": "stream",
                    "text": [
                        "\n",
                        "      Epoch    GPU_mem   box_loss   cls_loss   dfl_loss  Instances       Size\n"
                    ]
                },
                {
                    "name": "stderr",
                    "output_type": "stream",
                    "text": [
                        "      31/80      6.61G     0.8233     0.7896      1.155          6        640: 100%|██████████| 27/27 [00:11<00:00,  2.37it/s]\n",
                        "                 Class     Images  Instances      Box(P          R      mAP50  mAP50-95): 100%|██████████| 4/4 [00:01<00:00,  2.07it/s]"
                    ]
                },
                {
                    "name": "stdout",
                    "output_type": "stream",
                    "text": [
                        "                   all        243        243       0.94      0.902      0.975        0.8\n"
                    ]
                },
                {
                    "name": "stderr",
                    "output_type": "stream",
                    "text": [
                        "\n"
                    ]
                },
                {
                    "name": "stdout",
                    "output_type": "stream",
                    "text": [
                        "\n",
                        "      Epoch    GPU_mem   box_loss   cls_loss   dfl_loss  Instances       Size\n"
                    ]
                },
                {
                    "name": "stderr",
                    "output_type": "stream",
                    "text": [
                        "      32/80      6.67G     0.8431     0.8068      1.177          8        640: 100%|██████████| 27/27 [00:11<00:00,  2.42it/s]\n",
                        "                 Class     Images  Instances      Box(P          R      mAP50  mAP50-95): 100%|██████████| 4/4 [00:01<00:00,  2.10it/s]"
                    ]
                },
                {
                    "name": "stdout",
                    "output_type": "stream",
                    "text": [
                        "                   all        243        243      0.813      0.837      0.933      0.741\n"
                    ]
                },
                {
                    "name": "stderr",
                    "output_type": "stream",
                    "text": [
                        "\n"
                    ]
                },
                {
                    "name": "stdout",
                    "output_type": "stream",
                    "text": [
                        "\n",
                        "      Epoch    GPU_mem   box_loss   cls_loss   dfl_loss  Instances       Size\n"
                    ]
                },
                {
                    "name": "stderr",
                    "output_type": "stream",
                    "text": [
                        "      33/80      6.62G     0.8512     0.7923      1.166         10        640: 100%|██████████| 27/27 [00:11<00:00,  2.35it/s]\n",
                        "                 Class     Images  Instances      Box(P          R      mAP50  mAP50-95): 100%|██████████| 4/4 [00:01<00:00,  2.08it/s]"
                    ]
                },
                {
                    "name": "stdout",
                    "output_type": "stream",
                    "text": [
                        "                   all        243        243      0.944      0.922      0.983      0.803\n"
                    ]
                },
                {
                    "name": "stderr",
                    "output_type": "stream",
                    "text": [
                        "\n"
                    ]
                },
                {
                    "name": "stdout",
                    "output_type": "stream",
                    "text": [
                        "\n",
                        "      Epoch    GPU_mem   box_loss   cls_loss   dfl_loss  Instances       Size\n"
                    ]
                },
                {
                    "name": "stderr",
                    "output_type": "stream",
                    "text": [
                        "      34/80      6.67G     0.7916     0.7265      1.141          9        640: 100%|██████████| 27/27 [00:11<00:00,  2.33it/s]\n",
                        "                 Class     Images  Instances      Box(P          R      mAP50  mAP50-95): 100%|██████████| 4/4 [00:01<00:00,  2.04it/s]"
                    ]
                },
                {
                    "name": "stdout",
                    "output_type": "stream",
                    "text": [
                        "                   all        243        243       0.95      0.918       0.97      0.782\n"
                    ]
                },
                {
                    "name": "stderr",
                    "output_type": "stream",
                    "text": [
                        "\n"
                    ]
                },
                {
                    "name": "stdout",
                    "output_type": "stream",
                    "text": [
                        "\n",
                        "      Epoch    GPU_mem   box_loss   cls_loss   dfl_loss  Instances       Size\n"
                    ]
                },
                {
                    "name": "stderr",
                    "output_type": "stream",
                    "text": [
                        "      35/80      6.61G     0.8323     0.7752       1.15          7        640: 100%|██████████| 27/27 [00:11<00:00,  2.31it/s]\n",
                        "                 Class     Images  Instances      Box(P          R      mAP50  mAP50-95): 100%|██████████| 4/4 [00:01<00:00,  2.05it/s]"
                    ]
                },
                {
                    "name": "stdout",
                    "output_type": "stream",
                    "text": [
                        "                   all        243        243      0.883      0.943       0.97      0.782\n"
                    ]
                },
                {
                    "name": "stderr",
                    "output_type": "stream",
                    "text": [
                        "\n"
                    ]
                },
                {
                    "name": "stdout",
                    "output_type": "stream",
                    "text": [
                        "\n",
                        "      Epoch    GPU_mem   box_loss   cls_loss   dfl_loss  Instances       Size\n"
                    ]
                },
                {
                    "name": "stderr",
                    "output_type": "stream",
                    "text": [
                        "      36/80      6.69G       0.82     0.7455      1.148         11        640: 100%|██████████| 27/27 [00:11<00:00,  2.34it/s]\n",
                        "                 Class     Images  Instances      Box(P          R      mAP50  mAP50-95): 100%|██████████| 4/4 [00:01<00:00,  2.07it/s]"
                    ]
                },
                {
                    "name": "stdout",
                    "output_type": "stream",
                    "text": [
                        "                   all        243        243      0.962      0.911      0.981      0.804\n"
                    ]
                },
                {
                    "name": "stderr",
                    "output_type": "stream",
                    "text": [
                        "\n"
                    ]
                },
                {
                    "name": "stdout",
                    "output_type": "stream",
                    "text": [
                        "\n",
                        "      Epoch    GPU_mem   box_loss   cls_loss   dfl_loss  Instances       Size\n"
                    ]
                },
                {
                    "name": "stderr",
                    "output_type": "stream",
                    "text": [
                        "      37/80      6.62G     0.8158       0.73      1.144         12        640: 100%|██████████| 27/27 [00:11<00:00,  2.34it/s]\n",
                        "                 Class     Images  Instances      Box(P          R      mAP50  mAP50-95): 100%|██████████| 4/4 [00:02<00:00,  1.95it/s]"
                    ]
                },
                {
                    "name": "stdout",
                    "output_type": "stream",
                    "text": [
                        "                   all        243        243      0.923      0.947      0.976      0.806\n"
                    ]
                },
                {
                    "name": "stderr",
                    "output_type": "stream",
                    "text": [
                        "\n"
                    ]
                },
                {
                    "name": "stdout",
                    "output_type": "stream",
                    "text": [
                        "\n",
                        "      Epoch    GPU_mem   box_loss   cls_loss   dfl_loss  Instances       Size\n"
                    ]
                },
                {
                    "name": "stderr",
                    "output_type": "stream",
                    "text": [
                        "      38/80      6.68G     0.8087     0.7131       1.15          7        640: 100%|██████████| 27/27 [00:11<00:00,  2.27it/s]\n",
                        "                 Class     Images  Instances      Box(P          R      mAP50  mAP50-95): 100%|██████████| 4/4 [00:01<00:00,  2.07it/s]"
                    ]
                },
                {
                    "name": "stdout",
                    "output_type": "stream",
                    "text": [
                        "                   all        243        243       0.92      0.935      0.973      0.796\n"
                    ]
                },
                {
                    "name": "stderr",
                    "output_type": "stream",
                    "text": [
                        "\n"
                    ]
                },
                {
                    "name": "stdout",
                    "output_type": "stream",
                    "text": [
                        "\n",
                        "      Epoch    GPU_mem   box_loss   cls_loss   dfl_loss  Instances       Size\n"
                    ]
                },
                {
                    "name": "stderr",
                    "output_type": "stream",
                    "text": [
                        "      39/80      6.62G     0.7771     0.6636      1.117         11        640: 100%|██████████| 27/27 [00:11<00:00,  2.35it/s]\n",
                        "                 Class     Images  Instances      Box(P          R      mAP50  mAP50-95): 100%|██████████| 4/4 [00:01<00:00,  2.04it/s]"
                    ]
                },
                {
                    "name": "stdout",
                    "output_type": "stream",
                    "text": [
                        "                   all        243        243       0.92      0.943      0.977      0.804\n"
                    ]
                },
                {
                    "name": "stderr",
                    "output_type": "stream",
                    "text": [
                        "\n"
                    ]
                },
                {
                    "name": "stdout",
                    "output_type": "stream",
                    "text": [
                        "\n",
                        "      Epoch    GPU_mem   box_loss   cls_loss   dfl_loss  Instances       Size\n"
                    ]
                },
                {
                    "name": "stderr",
                    "output_type": "stream",
                    "text": [
                        "      40/80      6.67G     0.7776     0.6958      1.127         11        640: 100%|██████████| 27/27 [00:11<00:00,  2.31it/s]\n",
                        "                 Class     Images  Instances      Box(P          R      mAP50  mAP50-95): 100%|██████████| 4/4 [00:01<00:00,  2.11it/s]"
                    ]
                },
                {
                    "name": "stdout",
                    "output_type": "stream",
                    "text": [
                        "                   all        243        243      0.956      0.931      0.987      0.816\n"
                    ]
                },
                {
                    "name": "stderr",
                    "output_type": "stream",
                    "text": [
                        "\n"
                    ]
                },
                {
                    "name": "stdout",
                    "output_type": "stream",
                    "text": [
                        "\n",
                        "      Epoch    GPU_mem   box_loss   cls_loss   dfl_loss  Instances       Size\n"
                    ]
                },
                {
                    "name": "stderr",
                    "output_type": "stream",
                    "text": [
                        "      41/80      6.61G     0.7604     0.6639      1.127          8        640: 100%|██████████| 27/27 [00:11<00:00,  2.38it/s]\n",
                        "                 Class     Images  Instances      Box(P          R      mAP50  mAP50-95): 100%|██████████| 4/4 [00:01<00:00,  2.10it/s]"
                    ]
                },
                {
                    "name": "stdout",
                    "output_type": "stream",
                    "text": [
                        "                   all        243        243      0.951      0.974      0.989      0.821\n"
                    ]
                },
                {
                    "name": "stderr",
                    "output_type": "stream",
                    "text": [
                        "\n"
                    ]
                },
                {
                    "name": "stdout",
                    "output_type": "stream",
                    "text": [
                        "\n",
                        "      Epoch    GPU_mem   box_loss   cls_loss   dfl_loss  Instances       Size\n"
                    ]
                },
                {
                    "name": "stderr",
                    "output_type": "stream",
                    "text": [
                        "      42/80      6.69G     0.7627     0.6715      1.113         13        640: 100%|██████████| 27/27 [00:11<00:00,  2.42it/s]\n",
                        "                 Class     Images  Instances      Box(P          R      mAP50  mAP50-95): 100%|██████████| 4/4 [00:01<00:00,  2.10it/s]"
                    ]
                },
                {
                    "name": "stdout",
                    "output_type": "stream",
                    "text": [
                        "                   all        243        243      0.958      0.962      0.988      0.811\n"
                    ]
                },
                {
                    "name": "stderr",
                    "output_type": "stream",
                    "text": [
                        "\n"
                    ]
                },
                {
                    "name": "stdout",
                    "output_type": "stream",
                    "text": [
                        "\n",
                        "      Epoch    GPU_mem   box_loss   cls_loss   dfl_loss  Instances       Size\n"
                    ]
                },
                {
                    "name": "stderr",
                    "output_type": "stream",
                    "text": [
                        "      43/80      6.61G     0.7425     0.6272      1.095         12        640: 100%|██████████| 27/27 [00:11<00:00,  2.41it/s]\n",
                        "                 Class     Images  Instances      Box(P          R      mAP50  mAP50-95): 100%|██████████| 4/4 [00:01<00:00,  2.13it/s]"
                    ]
                },
                {
                    "name": "stdout",
                    "output_type": "stream",
                    "text": [
                        "                   all        243        243      0.947      0.953      0.985      0.816\n"
                    ]
                },
                {
                    "name": "stderr",
                    "output_type": "stream",
                    "text": [
                        "\n"
                    ]
                },
                {
                    "name": "stdout",
                    "output_type": "stream",
                    "text": [
                        "\n",
                        "      Epoch    GPU_mem   box_loss   cls_loss   dfl_loss  Instances       Size\n"
                    ]
                },
                {
                    "name": "stderr",
                    "output_type": "stream",
                    "text": [
                        "      44/80      6.69G     0.7558     0.6422      1.114         11        640: 100%|██████████| 27/27 [00:11<00:00,  2.43it/s]\n",
                        "                 Class     Images  Instances      Box(P          R      mAP50  mAP50-95): 100%|██████████| 4/4 [00:01<00:00,  2.12it/s]"
                    ]
                },
                {
                    "name": "stdout",
                    "output_type": "stream",
                    "text": [
                        "                   all        243        243      0.948      0.952      0.988      0.807\n"
                    ]
                },
                {
                    "name": "stderr",
                    "output_type": "stream",
                    "text": [
                        "\n"
                    ]
                },
                {
                    "name": "stdout",
                    "output_type": "stream",
                    "text": [
                        "\n",
                        "      Epoch    GPU_mem   box_loss   cls_loss   dfl_loss  Instances       Size\n"
                    ]
                },
                {
                    "name": "stderr",
                    "output_type": "stream",
                    "text": [
                        "      45/80      6.61G     0.7492      0.632      1.115          9        640: 100%|██████████| 27/27 [00:11<00:00,  2.34it/s]\n",
                        "                 Class     Images  Instances      Box(P          R      mAP50  mAP50-95): 100%|██████████| 4/4 [00:02<00:00,  1.98it/s]"
                    ]
                },
                {
                    "name": "stdout",
                    "output_type": "stream",
                    "text": [
                        "                   all        243        243      0.956      0.949      0.987      0.806\n"
                    ]
                },
                {
                    "name": "stderr",
                    "output_type": "stream",
                    "text": [
                        "\n"
                    ]
                },
                {
                    "name": "stdout",
                    "output_type": "stream",
                    "text": [
                        "\n",
                        "      Epoch    GPU_mem   box_loss   cls_loss   dfl_loss  Instances       Size\n"
                    ]
                },
                {
                    "name": "stderr",
                    "output_type": "stream",
                    "text": [
                        "      46/80      6.67G     0.7297     0.6668      1.095         10        640: 100%|██████████| 27/27 [00:11<00:00,  2.33it/s]\n",
                        "                 Class     Images  Instances      Box(P          R      mAP50  mAP50-95): 100%|██████████| 4/4 [00:01<00:00,  2.10it/s]"
                    ]
                },
                {
                    "name": "stdout",
                    "output_type": "stream",
                    "text": [
                        "                   all        243        243      0.936      0.956      0.984       0.82\n"
                    ]
                },
                {
                    "name": "stderr",
                    "output_type": "stream",
                    "text": [
                        "\n"
                    ]
                },
                {
                    "name": "stdout",
                    "output_type": "stream",
                    "text": [
                        "\n",
                        "      Epoch    GPU_mem   box_loss   cls_loss   dfl_loss  Instances       Size\n"
                    ]
                },
                {
                    "name": "stderr",
                    "output_type": "stream",
                    "text": [
                        "      47/80      6.61G     0.7584      0.634      1.113         10        640: 100%|██████████| 27/27 [00:11<00:00,  2.31it/s]\n",
                        "                 Class     Images  Instances      Box(P          R      mAP50  mAP50-95): 100%|██████████| 4/4 [00:01<00:00,  2.04it/s]"
                    ]
                },
                {
                    "name": "stdout",
                    "output_type": "stream",
                    "text": [
                        "                   all        243        243      0.945      0.943      0.987      0.803\n"
                    ]
                },
                {
                    "name": "stderr",
                    "output_type": "stream",
                    "text": [
                        "\n"
                    ]
                },
                {
                    "name": "stdout",
                    "output_type": "stream",
                    "text": [
                        "\n",
                        "      Epoch    GPU_mem   box_loss   cls_loss   dfl_loss  Instances       Size\n"
                    ]
                },
                {
                    "name": "stderr",
                    "output_type": "stream",
                    "text": [
                        "      48/80      6.69G     0.7256     0.6087        1.1         11        640: 100%|██████████| 27/27 [00:11<00:00,  2.34it/s]\n",
                        "                 Class     Images  Instances      Box(P          R      mAP50  mAP50-95): 100%|██████████| 4/4 [00:01<00:00,  2.15it/s]"
                    ]
                },
                {
                    "name": "stdout",
                    "output_type": "stream",
                    "text": [
                        "                   all        243        243       0.95      0.948      0.988      0.817\n"
                    ]
                },
                {
                    "name": "stderr",
                    "output_type": "stream",
                    "text": [
                        "\n"
                    ]
                },
                {
                    "name": "stdout",
                    "output_type": "stream",
                    "text": [
                        "\n",
                        "      Epoch    GPU_mem   box_loss   cls_loss   dfl_loss  Instances       Size\n"
                    ]
                },
                {
                    "name": "stderr",
                    "output_type": "stream",
                    "text": [
                        "      49/80      6.61G     0.7178     0.6121       1.09          7        640: 100%|██████████| 27/27 [00:11<00:00,  2.32it/s]\n",
                        "                 Class     Images  Instances      Box(P          R      mAP50  mAP50-95): 100%|██████████| 4/4 [00:01<00:00,  2.12it/s]"
                    ]
                },
                {
                    "name": "stdout",
                    "output_type": "stream",
                    "text": [
                        "                   all        243        243      0.957      0.964      0.993      0.825\n"
                    ]
                },
                {
                    "name": "stderr",
                    "output_type": "stream",
                    "text": [
                        "\n"
                    ]
                },
                {
                    "name": "stdout",
                    "output_type": "stream",
                    "text": [
                        "\n",
                        "      Epoch    GPU_mem   box_loss   cls_loss   dfl_loss  Instances       Size\n"
                    ]
                },
                {
                    "name": "stderr",
                    "output_type": "stream",
                    "text": [
                        "      50/80      6.68G     0.6935     0.5815      1.081         12        640: 100%|██████████| 27/27 [00:11<00:00,  2.39it/s]\n",
                        "                 Class     Images  Instances      Box(P          R      mAP50  mAP50-95): 100%|██████████| 4/4 [00:01<00:00,  2.09it/s]"
                    ]
                },
                {
                    "name": "stdout",
                    "output_type": "stream",
                    "text": [
                        "                   all        243        243      0.943      0.967      0.993      0.823\n"
                    ]
                },
                {
                    "name": "stderr",
                    "output_type": "stream",
                    "text": [
                        "\n"
                    ]
                },
                {
                    "name": "stdout",
                    "output_type": "stream",
                    "text": [
                        "\n",
                        "      Epoch    GPU_mem   box_loss   cls_loss   dfl_loss  Instances       Size\n"
                    ]
                },
                {
                    "name": "stderr",
                    "output_type": "stream",
                    "text": [
                        "      51/80      6.62G     0.7042     0.5926      1.089          8        640: 100%|██████████| 27/27 [00:11<00:00,  2.35it/s]\n",
                        "                 Class     Images  Instances      Box(P          R      mAP50  mAP50-95): 100%|██████████| 4/4 [00:01<00:00,  2.04it/s]"
                    ]
                },
                {
                    "name": "stdout",
                    "output_type": "stream",
                    "text": [
                        "                   all        243        243      0.953       0.97      0.994      0.828\n"
                    ]
                },
                {
                    "name": "stderr",
                    "output_type": "stream",
                    "text": [
                        "\n"
                    ]
                },
                {
                    "name": "stdout",
                    "output_type": "stream",
                    "text": [
                        "\n",
                        "      Epoch    GPU_mem   box_loss   cls_loss   dfl_loss  Instances       Size\n"
                    ]
                },
                {
                    "name": "stderr",
                    "output_type": "stream",
                    "text": [
                        "      52/80      6.68G      0.693      0.581      1.079         11        640: 100%|██████████| 27/27 [00:11<00:00,  2.27it/s]\n",
                        "                 Class     Images  Instances      Box(P          R      mAP50  mAP50-95): 100%|██████████| 4/4 [00:02<00:00,  1.93it/s]"
                    ]
                },
                {
                    "name": "stdout",
                    "output_type": "stream",
                    "text": [
                        "                   all        243        243      0.963      0.962      0.993       0.83\n"
                    ]
                },
                {
                    "name": "stderr",
                    "output_type": "stream",
                    "text": [
                        "\n"
                    ]
                },
                {
                    "name": "stdout",
                    "output_type": "stream",
                    "text": [
                        "\n",
                        "      Epoch    GPU_mem   box_loss   cls_loss   dfl_loss  Instances       Size\n"
                    ]
                },
                {
                    "name": "stderr",
                    "output_type": "stream",
                    "text": [
                        "      53/80      6.62G      0.687      0.582       1.08         15        640: 100%|██████████| 27/27 [00:11<00:00,  2.30it/s]\n",
                        "                 Class     Images  Instances      Box(P          R      mAP50  mAP50-95): 100%|██████████| 4/4 [00:01<00:00,  2.17it/s]"
                    ]
                },
                {
                    "name": "stdout",
                    "output_type": "stream",
                    "text": [
                        "                   all        243        243      0.956      0.952      0.989      0.822\n"
                    ]
                },
                {
                    "name": "stderr",
                    "output_type": "stream",
                    "text": [
                        "\n"
                    ]
                },
                {
                    "name": "stdout",
                    "output_type": "stream",
                    "text": [
                        "\n",
                        "      Epoch    GPU_mem   box_loss   cls_loss   dfl_loss  Instances       Size\n"
                    ]
                },
                {
                    "name": "stderr",
                    "output_type": "stream",
                    "text": [
                        "      54/80      6.68G     0.6899      0.556      1.084         12        640: 100%|██████████| 27/27 [00:11<00:00,  2.33it/s]\n",
                        "                 Class     Images  Instances      Box(P          R      mAP50  mAP50-95): 100%|██████████| 4/4 [00:01<00:00,  2.06it/s]"
                    ]
                },
                {
                    "name": "stdout",
                    "output_type": "stream",
                    "text": [
                        "                   all        243        243      0.951      0.969       0.99      0.822\n"
                    ]
                },
                {
                    "name": "stderr",
                    "output_type": "stream",
                    "text": [
                        "\n"
                    ]
                },
                {
                    "name": "stdout",
                    "output_type": "stream",
                    "text": [
                        "\n",
                        "      Epoch    GPU_mem   box_loss   cls_loss   dfl_loss  Instances       Size\n"
                    ]
                },
                {
                    "name": "stderr",
                    "output_type": "stream",
                    "text": [
                        "      55/80      6.62G     0.6826     0.5467      1.069          9        640: 100%|██████████| 27/27 [00:11<00:00,  2.33it/s]\n",
                        "                 Class     Images  Instances      Box(P          R      mAP50  mAP50-95): 100%|██████████| 4/4 [00:01<00:00,  2.07it/s]"
                    ]
                },
                {
                    "name": "stdout",
                    "output_type": "stream",
                    "text": [
                        "                   all        243        243      0.979      0.978      0.994      0.825\n"
                    ]
                },
                {
                    "name": "stderr",
                    "output_type": "stream",
                    "text": [
                        "\n"
                    ]
                },
                {
                    "name": "stdout",
                    "output_type": "stream",
                    "text": [
                        "\n",
                        "      Epoch    GPU_mem   box_loss   cls_loss   dfl_loss  Instances       Size\n"
                    ]
                },
                {
                    "name": "stderr",
                    "output_type": "stream",
                    "text": [
                        "      56/80      6.68G     0.6475     0.5254       1.06         10        640: 100%|██████████| 27/27 [00:11<00:00,  2.33it/s]\n",
                        "                 Class     Images  Instances      Box(P          R      mAP50  mAP50-95): 100%|██████████| 4/4 [00:01<00:00,  2.04it/s]"
                    ]
                },
                {
                    "name": "stdout",
                    "output_type": "stream",
                    "text": [
                        "                   all        243        243      0.967      0.968      0.994      0.825\n"
                    ]
                },
                {
                    "name": "stderr",
                    "output_type": "stream",
                    "text": [
                        "\n"
                    ]
                },
                {
                    "name": "stdout",
                    "output_type": "stream",
                    "text": [
                        "\n",
                        "      Epoch    GPU_mem   box_loss   cls_loss   dfl_loss  Instances       Size\n"
                    ]
                },
                {
                    "name": "stderr",
                    "output_type": "stream",
                    "text": [
                        "      57/80      6.61G     0.6362     0.5256      1.042         14        640: 100%|██████████| 27/27 [00:11<00:00,  2.33it/s]\n",
                        "                 Class     Images  Instances      Box(P          R      mAP50  mAP50-95): 100%|██████████| 4/4 [00:01<00:00,  2.03it/s]"
                    ]
                },
                {
                    "name": "stdout",
                    "output_type": "stream",
                    "text": [
                        "                   all        243        243      0.933      0.957      0.991      0.821\n"
                    ]
                },
                {
                    "name": "stderr",
                    "output_type": "stream",
                    "text": [
                        "\n"
                    ]
                },
                {
                    "name": "stdout",
                    "output_type": "stream",
                    "text": [
                        "\n",
                        "      Epoch    GPU_mem   box_loss   cls_loss   dfl_loss  Instances       Size\n"
                    ]
                },
                {
                    "name": "stderr",
                    "output_type": "stream",
                    "text": [
                        "      58/80      6.68G     0.6835     0.5661      1.082          8        640: 100%|██████████| 27/27 [00:11<00:00,  2.32it/s]\n",
                        "                 Class     Images  Instances      Box(P          R      mAP50  mAP50-95): 100%|██████████| 4/4 [00:02<00:00,  1.89it/s]"
                    ]
                },
                {
                    "name": "stdout",
                    "output_type": "stream",
                    "text": [
                        "                   all        243        243      0.952      0.957      0.993      0.826\n"
                    ]
                },
                {
                    "name": "stderr",
                    "output_type": "stream",
                    "text": [
                        "\n"
                    ]
                },
                {
                    "name": "stdout",
                    "output_type": "stream",
                    "text": [
                        "\n",
                        "      Epoch    GPU_mem   box_loss   cls_loss   dfl_loss  Instances       Size\n"
                    ]
                },
                {
                    "name": "stderr",
                    "output_type": "stream",
                    "text": [
                        "      59/80      6.61G      0.637     0.5072      1.055          8        640: 100%|██████████| 27/27 [00:11<00:00,  2.25it/s]\n",
                        "                 Class     Images  Instances      Box(P          R      mAP50  mAP50-95): 100%|██████████| 4/4 [00:01<00:00,  2.07it/s]"
                    ]
                },
                {
                    "name": "stdout",
                    "output_type": "stream",
                    "text": [
                        "                   all        243        243      0.961      0.977      0.994      0.835\n"
                    ]
                },
                {
                    "name": "stderr",
                    "output_type": "stream",
                    "text": [
                        "\n"
                    ]
                },
                {
                    "name": "stdout",
                    "output_type": "stream",
                    "text": [
                        "\n",
                        "      Epoch    GPU_mem   box_loss   cls_loss   dfl_loss  Instances       Size\n"
                    ]
                },
                {
                    "name": "stderr",
                    "output_type": "stream",
                    "text": [
                        "      60/80       6.7G     0.6292     0.5108      1.042         10        640: 100%|██████████| 27/27 [00:11<00:00,  2.45it/s]\n",
                        "                 Class     Images  Instances      Box(P          R      mAP50  mAP50-95): 100%|██████████| 4/4 [00:01<00:00,  2.22it/s]"
                    ]
                },
                {
                    "name": "stdout",
                    "output_type": "stream",
                    "text": [
                        "                   all        243        243      0.958      0.976       0.99      0.841\n"
                    ]
                },
                {
                    "name": "stderr",
                    "output_type": "stream",
                    "text": [
                        "\n"
                    ]
                },
                {
                    "name": "stdout",
                    "output_type": "stream",
                    "text": [
                        "\n",
                        "      Epoch    GPU_mem   box_loss   cls_loss   dfl_loss  Instances       Size\n"
                    ]
                },
                {
                    "name": "stderr",
                    "output_type": "stream",
                    "text": [
                        "      61/80      6.62G     0.6302     0.5057      1.049         12        640: 100%|██████████| 27/27 [00:10<00:00,  2.51it/s]\n",
                        "                 Class     Images  Instances      Box(P          R      mAP50  mAP50-95): 100%|██████████| 4/4 [00:01<00:00,  2.25it/s]"
                    ]
                },
                {
                    "name": "stdout",
                    "output_type": "stream",
                    "text": [
                        "                   all        243        243      0.959      0.979      0.992      0.837\n"
                    ]
                },
                {
                    "name": "stderr",
                    "output_type": "stream",
                    "text": [
                        "\n"
                    ]
                },
                {
                    "name": "stdout",
                    "output_type": "stream",
                    "text": [
                        "\n",
                        "      Epoch    GPU_mem   box_loss   cls_loss   dfl_loss  Instances       Size\n"
                    ]
                },
                {
                    "name": "stderr",
                    "output_type": "stream",
                    "text": [
                        "      62/80      6.68G     0.6269     0.4942       1.05          5        640: 100%|██████████| 27/27 [00:10<00:00,  2.48it/s]\n",
                        "                 Class     Images  Instances      Box(P          R      mAP50  mAP50-95): 100%|██████████| 4/4 [00:01<00:00,  2.17it/s]"
                    ]
                },
                {
                    "name": "stdout",
                    "output_type": "stream",
                    "text": [
                        "                   all        243        243      0.953      0.964      0.987      0.821\n"
                    ]
                },
                {
                    "name": "stderr",
                    "output_type": "stream",
                    "text": [
                        "\n"
                    ]
                },
                {
                    "name": "stdout",
                    "output_type": "stream",
                    "text": [
                        "\n",
                        "      Epoch    GPU_mem   box_loss   cls_loss   dfl_loss  Instances       Size\n"
                    ]
                },
                {
                    "name": "stderr",
                    "output_type": "stream",
                    "text": [
                        "      63/80      6.62G     0.5988     0.4778      1.048          8        640: 100%|██████████| 27/27 [00:10<00:00,  2.50it/s]\n",
                        "                 Class     Images  Instances      Box(P          R      mAP50  mAP50-95): 100%|██████████| 4/4 [00:01<00:00,  2.27it/s]"
                    ]
                },
                {
                    "name": "stdout",
                    "output_type": "stream",
                    "text": [
                        "                   all        243        243       0.98      0.978      0.992       0.84\n"
                    ]
                },
                {
                    "name": "stderr",
                    "output_type": "stream",
                    "text": [
                        "\n"
                    ]
                },
                {
                    "name": "stdout",
                    "output_type": "stream",
                    "text": [
                        "\n",
                        "      Epoch    GPU_mem   box_loss   cls_loss   dfl_loss  Instances       Size\n"
                    ]
                },
                {
                    "name": "stderr",
                    "output_type": "stream",
                    "text": [
                        "      64/80      6.68G     0.6044     0.4775      1.034          7        640: 100%|██████████| 27/27 [00:10<00:00,  2.49it/s]\n",
                        "                 Class     Images  Instances      Box(P          R      mAP50  mAP50-95): 100%|██████████| 4/4 [00:01<00:00,  2.23it/s]"
                    ]
                },
                {
                    "name": "stdout",
                    "output_type": "stream",
                    "text": [
                        "                   all        243        243      0.979      0.977      0.992      0.836\n"
                    ]
                },
                {
                    "name": "stderr",
                    "output_type": "stream",
                    "text": [
                        "\n"
                    ]
                },
                {
                    "name": "stdout",
                    "output_type": "stream",
                    "text": [
                        "\n",
                        "      Epoch    GPU_mem   box_loss   cls_loss   dfl_loss  Instances       Size\n"
                    ]
                },
                {
                    "name": "stderr",
                    "output_type": "stream",
                    "text": [
                        "      65/80      6.61G     0.6052     0.4839       1.04         11        640: 100%|██████████| 27/27 [00:10<00:00,  2.47it/s]\n",
                        "                 Class     Images  Instances      Box(P          R      mAP50  mAP50-95): 100%|██████████| 4/4 [00:01<00:00,  2.27it/s]"
                    ]
                },
                {
                    "name": "stdout",
                    "output_type": "stream",
                    "text": [
                        "                   all        243        243      0.974      0.979      0.995      0.833\n"
                    ]
                },
                {
                    "name": "stderr",
                    "output_type": "stream",
                    "text": [
                        "\n"
                    ]
                },
                {
                    "name": "stdout",
                    "output_type": "stream",
                    "text": [
                        "\n",
                        "      Epoch    GPU_mem   box_loss   cls_loss   dfl_loss  Instances       Size\n"
                    ]
                },
                {
                    "name": "stderr",
                    "output_type": "stream",
                    "text": [
                        "      66/80      6.69G     0.5992     0.4704      1.032         12        640: 100%|██████████| 27/27 [00:10<00:00,  2.47it/s]\n",
                        "                 Class     Images  Instances      Box(P          R      mAP50  mAP50-95): 100%|██████████| 4/4 [00:01<00:00,  2.24it/s]"
                    ]
                },
                {
                    "name": "stdout",
                    "output_type": "stream",
                    "text": [
                        "                   all        243        243      0.963      0.983      0.993      0.837\n"
                    ]
                },
                {
                    "name": "stderr",
                    "output_type": "stream",
                    "text": [
                        "\n"
                    ]
                },
                {
                    "name": "stdout",
                    "output_type": "stream",
                    "text": [
                        "\n",
                        "      Epoch    GPU_mem   box_loss   cls_loss   dfl_loss  Instances       Size\n"
                    ]
                },
                {
                    "name": "stderr",
                    "output_type": "stream",
                    "text": [
                        "      67/80      6.61G     0.5789     0.4543      1.028         12        640: 100%|██████████| 27/27 [00:10<00:00,  2.50it/s]\n",
                        "                 Class     Images  Instances      Box(P          R      mAP50  mAP50-95): 100%|██████████| 4/4 [00:01<00:00,  2.26it/s]"
                    ]
                },
                {
                    "name": "stdout",
                    "output_type": "stream",
                    "text": [
                        "                   all        243        243      0.962      0.977      0.992      0.835\n"
                    ]
                },
                {
                    "name": "stderr",
                    "output_type": "stream",
                    "text": [
                        "\n"
                    ]
                },
                {
                    "name": "stdout",
                    "output_type": "stream",
                    "text": [
                        "\n",
                        "      Epoch    GPU_mem   box_loss   cls_loss   dfl_loss  Instances       Size\n"
                    ]
                },
                {
                    "name": "stderr",
                    "output_type": "stream",
                    "text": [
                        "      68/80      6.68G     0.6073     0.4824      1.047          9        640: 100%|██████████| 27/27 [00:10<00:00,  2.49it/s]\n",
                        "                 Class     Images  Instances      Box(P          R      mAP50  mAP50-95): 100%|██████████| 4/4 [00:01<00:00,  2.23it/s]"
                    ]
                },
                {
                    "name": "stdout",
                    "output_type": "stream",
                    "text": [
                        "                   all        243        243      0.975      0.969      0.993      0.837\n"
                    ]
                },
                {
                    "name": "stderr",
                    "output_type": "stream",
                    "text": [
                        "\n"
                    ]
                },
                {
                    "name": "stdout",
                    "output_type": "stream",
                    "text": [
                        "\n",
                        "      Epoch    GPU_mem   box_loss   cls_loss   dfl_loss  Instances       Size\n"
                    ]
                },
                {
                    "name": "stderr",
                    "output_type": "stream",
                    "text": [
                        "      69/80      6.61G     0.5703     0.4797      1.017          3        640: 100%|██████████| 27/27 [00:10<00:00,  2.51it/s]\n",
                        "                 Class     Images  Instances      Box(P          R      mAP50  mAP50-95): 100%|██████████| 4/4 [00:01<00:00,  2.24it/s]"
                    ]
                },
                {
                    "name": "stdout",
                    "output_type": "stream",
                    "text": [
                        "                   all        243        243      0.973      0.968      0.993      0.836\n"
                    ]
                },
                {
                    "name": "stderr",
                    "output_type": "stream",
                    "text": [
                        "\n"
                    ]
                },
                {
                    "name": "stdout",
                    "output_type": "stream",
                    "text": [
                        "\n",
                        "      Epoch    GPU_mem   box_loss   cls_loss   dfl_loss  Instances       Size\n"
                    ]
                },
                {
                    "name": "stderr",
                    "output_type": "stream",
                    "text": [
                        "      70/80      6.68G     0.5605     0.4257      1.021          9        640: 100%|██████████| 27/27 [00:10<00:00,  2.50it/s]\n",
                        "                 Class     Images  Instances      Box(P          R      mAP50  mAP50-95): 100%|██████████| 4/4 [00:01<00:00,  2.20it/s]"
                    ]
                },
                {
                    "name": "stdout",
                    "output_type": "stream",
                    "text": [
                        "                   all        243        243      0.972      0.966      0.993      0.838\n"
                    ]
                },
                {
                    "name": "stderr",
                    "output_type": "stream",
                    "text": [
                        "\n"
                    ]
                },
                {
                    "name": "stdout",
                    "output_type": "stream",
                    "text": [
                        "Closing dataloader mosaic\n",
                        "\n",
                        "      Epoch    GPU_mem   box_loss   cls_loss   dfl_loss  Instances       Size\n"
                    ]
                },
                {
                    "name": "stderr",
                    "output_type": "stream",
                    "text": [
                        "      71/80      6.61G       0.44     0.2643     0.9564          5        640: 100%|██████████| 27/27 [00:10<00:00,  2.50it/s]\n",
                        "                 Class     Images  Instances      Box(P          R      mAP50  mAP50-95): 100%|██████████| 4/4 [00:01<00:00,  2.23it/s]"
                    ]
                },
                {
                    "name": "stdout",
                    "output_type": "stream",
                    "text": [
                        "                   all        243        243      0.975      0.975      0.994      0.839\n"
                    ]
                },
                {
                    "name": "stderr",
                    "output_type": "stream",
                    "text": [
                        "\n"
                    ]
                },
                {
                    "name": "stdout",
                    "output_type": "stream",
                    "text": [
                        "\n",
                        "      Epoch    GPU_mem   box_loss   cls_loss   dfl_loss  Instances       Size\n"
                    ]
                },
                {
                    "name": "stderr",
                    "output_type": "stream",
                    "text": [
                        "      72/80      6.68G     0.4235     0.2532     0.9448          5        640: 100%|██████████| 27/27 [00:10<00:00,  2.47it/s]\n",
                        "                 Class     Images  Instances      Box(P          R      mAP50  mAP50-95): 100%|██████████| 4/4 [00:01<00:00,  2.13it/s]"
                    ]
                },
                {
                    "name": "stdout",
                    "output_type": "stream",
                    "text": [
                        "                   all        243        243      0.979      0.978      0.994      0.844\n"
                    ]
                },
                {
                    "name": "stderr",
                    "output_type": "stream",
                    "text": [
                        "\n"
                    ]
                },
                {
                    "name": "stdout",
                    "output_type": "stream",
                    "text": [
                        "\n",
                        "      Epoch    GPU_mem   box_loss   cls_loss   dfl_loss  Instances       Size\n"
                    ]
                },
                {
                    "name": "stderr",
                    "output_type": "stream",
                    "text": [
                        "      73/80      6.61G       0.41     0.2629     0.9317          5        640: 100%|██████████| 27/27 [00:10<00:00,  2.50it/s]\n",
                        "                 Class     Images  Instances      Box(P          R      mAP50  mAP50-95): 100%|██████████| 4/4 [00:01<00:00,  2.17it/s]"
                    ]
                },
                {
                    "name": "stdout",
                    "output_type": "stream",
                    "text": [
                        "                   all        243        243      0.976      0.973      0.994      0.844\n"
                    ]
                },
                {
                    "name": "stderr",
                    "output_type": "stream",
                    "text": [
                        "\n"
                    ]
                },
                {
                    "name": "stdout",
                    "output_type": "stream",
                    "text": [
                        "\n",
                        "      Epoch    GPU_mem   box_loss   cls_loss   dfl_loss  Instances       Size\n"
                    ]
                },
                {
                    "name": "stderr",
                    "output_type": "stream",
                    "text": [
                        "      74/80      6.68G     0.4036     0.2388     0.9317          5        640: 100%|██████████| 27/27 [00:10<00:00,  2.50it/s]\n",
                        "                 Class     Images  Instances      Box(P          R      mAP50  mAP50-95): 100%|██████████| 4/4 [00:01<00:00,  2.22it/s]"
                    ]
                },
                {
                    "name": "stdout",
                    "output_type": "stream",
                    "text": [
                        "                   all        243        243      0.983      0.982      0.994      0.842\n"
                    ]
                },
                {
                    "name": "stderr",
                    "output_type": "stream",
                    "text": [
                        "\n"
                    ]
                },
                {
                    "name": "stdout",
                    "output_type": "stream",
                    "text": [
                        "\n",
                        "      Epoch    GPU_mem   box_loss   cls_loss   dfl_loss  Instances       Size\n"
                    ]
                },
                {
                    "name": "stderr",
                    "output_type": "stream",
                    "text": [
                        "      75/80      6.62G     0.4074     0.2391      0.932          5        640: 100%|██████████| 27/27 [00:10<00:00,  2.48it/s]\n",
                        "                 Class     Images  Instances      Box(P          R      mAP50  mAP50-95): 100%|██████████| 4/4 [00:01<00:00,  2.26it/s]"
                    ]
                },
                {
                    "name": "stdout",
                    "output_type": "stream",
                    "text": [
                        "                   all        243        243      0.975      0.978      0.993      0.842\n"
                    ]
                },
                {
                    "name": "stderr",
                    "output_type": "stream",
                    "text": [
                        "\n"
                    ]
                },
                {
                    "name": "stdout",
                    "output_type": "stream",
                    "text": [
                        "\n",
                        "      Epoch    GPU_mem   box_loss   cls_loss   dfl_loss  Instances       Size\n"
                    ]
                },
                {
                    "name": "stderr",
                    "output_type": "stream",
                    "text": [
                        "      76/80      6.67G     0.3915     0.2299     0.9299          5        640: 100%|██████████| 27/27 [00:10<00:00,  2.47it/s]\n",
                        "                 Class     Images  Instances      Box(P          R      mAP50  mAP50-95): 100%|██████████| 4/4 [00:01<00:00,  2.18it/s]"
                    ]
                },
                {
                    "name": "stdout",
                    "output_type": "stream",
                    "text": [
                        "                   all        243        243       0.98      0.983      0.994       0.84\n"
                    ]
                },
                {
                    "name": "stderr",
                    "output_type": "stream",
                    "text": [
                        "\n"
                    ]
                },
                {
                    "name": "stdout",
                    "output_type": "stream",
                    "text": [
                        "\n",
                        "      Epoch    GPU_mem   box_loss   cls_loss   dfl_loss  Instances       Size\n"
                    ]
                },
                {
                    "name": "stderr",
                    "output_type": "stream",
                    "text": [
                        "      77/80      6.61G     0.3918     0.2314     0.9314          5        640: 100%|██████████| 27/27 [00:10<00:00,  2.49it/s]\n",
                        "                 Class     Images  Instances      Box(P          R      mAP50  mAP50-95): 100%|██████████| 4/4 [00:01<00:00,  2.21it/s]"
                    ]
                },
                {
                    "name": "stdout",
                    "output_type": "stream",
                    "text": [
                        "                   all        243        243      0.976      0.977      0.993       0.84\n"
                    ]
                },
                {
                    "name": "stderr",
                    "output_type": "stream",
                    "text": [
                        "\n"
                    ]
                },
                {
                    "name": "stdout",
                    "output_type": "stream",
                    "text": [
                        "\n",
                        "      Epoch    GPU_mem   box_loss   cls_loss   dfl_loss  Instances       Size\n"
                    ]
                },
                {
                    "name": "stderr",
                    "output_type": "stream",
                    "text": [
                        "      78/80      6.68G     0.3796     0.2209     0.9174          5        640: 100%|██████████| 27/27 [00:10<00:00,  2.49it/s]\n",
                        "                 Class     Images  Instances      Box(P          R      mAP50  mAP50-95): 100%|██████████| 4/4 [00:01<00:00,  2.22it/s]"
                    ]
                },
                {
                    "name": "stdout",
                    "output_type": "stream",
                    "text": [
                        "                   all        243        243      0.979      0.982      0.993      0.845\n"
                    ]
                },
                {
                    "name": "stderr",
                    "output_type": "stream",
                    "text": [
                        "\n"
                    ]
                },
                {
                    "name": "stdout",
                    "output_type": "stream",
                    "text": [
                        "\n",
                        "      Epoch    GPU_mem   box_loss   cls_loss   dfl_loss  Instances       Size\n"
                    ]
                },
                {
                    "name": "stderr",
                    "output_type": "stream",
                    "text": [
                        "      79/80      6.61G     0.3666     0.2148     0.9094          5        640: 100%|██████████| 27/27 [00:10<00:00,  2.49it/s]\n",
                        "                 Class     Images  Instances      Box(P          R      mAP50  mAP50-95): 100%|██████████| 4/4 [00:01<00:00,  2.25it/s]"
                    ]
                },
                {
                    "name": "stdout",
                    "output_type": "stream",
                    "text": [
                        "                   all        243        243      0.983      0.983      0.994      0.845\n"
                    ]
                },
                {
                    "name": "stderr",
                    "output_type": "stream",
                    "text": [
                        "\n"
                    ]
                },
                {
                    "name": "stdout",
                    "output_type": "stream",
                    "text": [
                        "\n",
                        "      Epoch    GPU_mem   box_loss   cls_loss   dfl_loss  Instances       Size\n"
                    ]
                },
                {
                    "name": "stderr",
                    "output_type": "stream",
                    "text": [
                        "      80/80      6.68G     0.3695     0.2225     0.9215          5        640: 100%|██████████| 27/27 [00:10<00:00,  2.49it/s]\n",
                        "                 Class     Images  Instances      Box(P          R      mAP50  mAP50-95): 100%|██████████| 4/4 [00:01<00:00,  2.16it/s]"
                    ]
                },
                {
                    "name": "stdout",
                    "output_type": "stream",
                    "text": [
                        "                   all        243        243      0.986      0.984      0.994      0.848\n"
                    ]
                },
                {
                    "name": "stderr",
                    "output_type": "stream",
                    "text": [
                        "\n"
                    ]
                },
                {
                    "name": "stdout",
                    "output_type": "stream",
                    "text": [
                        "\n",
                        "80 epochs completed in 0.318 hours.\n",
                        "Optimizer stripped from c:\\Users\\berna\\Documents\\Proyecto_ia_legua_se-as_2025\\runs\\detect\\train4\\weights\\last.pt, 22.5MB\n",
                        "Optimizer stripped from c:\\Users\\berna\\Documents\\Proyecto_ia_legua_se-as_2025\\runs\\detect\\train4\\weights\\best.pt, 22.5MB\n",
                        "\n",
                        "Validating c:\\Users\\berna\\Documents\\Proyecto_ia_legua_se-as_2025\\runs\\detect\\train4\\weights\\best.pt...\n",
                        "Ultralytics 8.3.181  Python-3.13.2 torch-2.8.0+cu126 CUDA:0 (NVIDIA GeForce RTX 4060, 8188MiB)\n",
                        "Model summary (fused): 72 layers, 11,136,033 parameters, 0 gradients, 28.5 GFLOPs\n"
                    ]
                },
                {
                    "name": "stderr",
                    "output_type": "stream",
                    "text": [
                        "                 Class     Images  Instances      Box(P          R      mAP50  mAP50-95): 100%|██████████| 4/4 [00:02<00:00,  1.85it/s]\n"
                    ]
                },
                {
                    "name": "stdout",
                    "output_type": "stream",
                    "text": [
                        "                   all        243        243      0.986      0.984      0.994      0.848\n",
                        "                     A         17         17          1      0.963      0.995      0.895\n",
                        "                     B         12         12      0.993          1      0.995      0.903\n",
                        "                     C         16         16      0.992          1      0.995      0.804\n",
                        "                     D          6          6      0.982          1      0.995      0.944\n",
                        "                     E         12         12      0.997          1      0.995      0.835\n",
                        "                   EYE          9          9      0.974          1      0.995      0.907\n",
                        "                     F          5          5      0.995          1      0.995      0.885\n",
                        "                     G          8          8          1      0.783      0.971      0.827\n",
                        "                     H          5          5      0.983          1      0.995      0.845\n",
                        "                     I          6          6      0.981          1      0.995      0.966\n",
                        "                     J          7          7      0.993          1      0.995      0.781\n",
                        "                     K          5          5      0.993          1      0.995      0.799\n",
                        "                     L         12         12      0.976          1      0.995      0.875\n",
                        "                     M         11         11      0.992          1      0.995      0.846\n",
                        "                     N          9          9          1      0.977      0.995      0.781\n",
                        "                     O          8          8      0.985          1      0.995      0.839\n",
                        "                     P          5          5      0.981          1      0.995      0.781\n",
                        "                     Q         10         10          1          1      0.995       0.75\n",
                        "                     R         17         17      0.996          1      0.995      0.896\n",
                        "                     S          7          7       0.98          1      0.995      0.875\n",
                        "                     T          9          9      0.945          1      0.995      0.805\n",
                        "                     U          7          7      0.983          1      0.995      0.892\n",
                        "                     V          9          9          1      0.904      0.995      0.813\n",
                        "                     W          6          6      0.975          1      0.995      0.867\n",
                        "                     X          6          6      0.948          1      0.995      0.816\n",
                        "                     Y          7          7      0.982          1      0.995      0.901\n",
                        "                     Z         12         12          1      0.931      0.995      0.769\n",
                        "Speed: 0.3ms preprocess, 3.6ms inference, 0.0ms loss, 1.6ms postprocess per image\n",
                        "Results saved to \u001b[1mc:\\Users\\berna\\Documents\\Proyecto_ia_legua_se-as_2025\\runs\\detect\\train4\u001b[0m\n"
                    ]
                },
                {
                    "data": {
                        "text/plain": [
                            "ultralytics.utils.metrics.DetMetrics object with attributes:\n",
                            "\n",
                            "ap_class_index: array([ 0,  1,  2,  3,  4,  5,  6,  7,  8,  9, 10, 11, 12, 13, 14, 15, 16, 17, 18, 19, 20, 21, 22, 23, 24, 25, 26])\n",
                            "box: ultralytics.utils.metrics.Metric object\n",
                            "confusion_matrix: <ultralytics.utils.metrics.ConfusionMatrix object at 0x000001E380638670>\n",
                            "curves: ['Precision-Recall(B)', 'F1-Confidence(B)', 'Precision-Confidence(B)', 'Recall-Confidence(B)']\n",
                            "curves_results: [[array([          0,    0.001001,    0.002002,    0.003003,    0.004004,    0.005005,    0.006006,    0.007007,    0.008008,    0.009009,     0.01001,    0.011011,    0.012012,    0.013013,    0.014014,    0.015015,    0.016016,    0.017017,    0.018018,    0.019019,     0.02002,    0.021021,    0.022022,    0.023023,\n",
                            "          0.024024,    0.025025,    0.026026,    0.027027,    0.028028,    0.029029,     0.03003,    0.031031,    0.032032,    0.033033,    0.034034,    0.035035,    0.036036,    0.037037,    0.038038,    0.039039,     0.04004,    0.041041,    0.042042,    0.043043,    0.044044,    0.045045,    0.046046,    0.047047,\n",
                            "          0.048048,    0.049049,     0.05005,    0.051051,    0.052052,    0.053053,    0.054054,    0.055055,    0.056056,    0.057057,    0.058058,    0.059059,     0.06006,    0.061061,    0.062062,    0.063063,    0.064064,    0.065065,    0.066066,    0.067067,    0.068068,    0.069069,     0.07007,    0.071071,\n",
                            "          0.072072,    0.073073,    0.074074,    0.075075,    0.076076,    0.077077,    0.078078,    0.079079,     0.08008,    0.081081,    0.082082,    0.083083,    0.084084,    0.085085,    0.086086,    0.087087,    0.088088,    0.089089,     0.09009,    0.091091,    0.092092,    0.093093,    0.094094,    0.095095,\n",
                            "          0.096096,    0.097097,    0.098098,    0.099099,      0.1001,      0.1011,      0.1021,      0.1031,      0.1041,     0.10511,     0.10611,     0.10711,     0.10811,     0.10911,     0.11011,     0.11111,     0.11211,     0.11311,     0.11411,     0.11512,     0.11612,     0.11712,     0.11812,     0.11912,\n",
                            "           0.12012,     0.12112,     0.12212,     0.12312,     0.12412,     0.12513,     0.12613,     0.12713,     0.12813,     0.12913,     0.13013,     0.13113,     0.13213,     0.13313,     0.13413,     0.13514,     0.13614,     0.13714,     0.13814,     0.13914,     0.14014,     0.14114,     0.14214,     0.14314,\n",
                            "           0.14414,     0.14515,     0.14615,     0.14715,     0.14815,     0.14915,     0.15015,     0.15115,     0.15215,     0.15315,     0.15415,     0.15516,     0.15616,     0.15716,     0.15816,     0.15916,     0.16016,     0.16116,     0.16216,     0.16316,     0.16416,     0.16517,     0.16617,     0.16717,\n",
                            "           0.16817,     0.16917,     0.17017,     0.17117,     0.17217,     0.17317,     0.17417,     0.17518,     0.17618,     0.17718,     0.17818,     0.17918,     0.18018,     0.18118,     0.18218,     0.18318,     0.18418,     0.18519,     0.18619,     0.18719,     0.18819,     0.18919,     0.19019,     0.19119,\n",
                            "           0.19219,     0.19319,     0.19419,      0.1952,      0.1962,      0.1972,      0.1982,      0.1992,      0.2002,      0.2012,      0.2022,      0.2032,      0.2042,     0.20521,     0.20621,     0.20721,     0.20821,     0.20921,     0.21021,     0.21121,     0.21221,     0.21321,     0.21421,     0.21522,\n",
                            "           0.21622,     0.21722,     0.21822,     0.21922,     0.22022,     0.22122,     0.22222,     0.22322,     0.22422,     0.22523,     0.22623,     0.22723,     0.22823,     0.22923,     0.23023,     0.23123,     0.23223,     0.23323,     0.23423,     0.23524,     0.23624,     0.23724,     0.23824,     0.23924,\n",
                            "           0.24024,     0.24124,     0.24224,     0.24324,     0.24424,     0.24525,     0.24625,     0.24725,     0.24825,     0.24925,     0.25025,     0.25125,     0.25225,     0.25325,     0.25425,     0.25526,     0.25626,     0.25726,     0.25826,     0.25926,     0.26026,     0.26126,     0.26226,     0.26326,\n",
                            "           0.26426,     0.26527,     0.26627,     0.26727,     0.26827,     0.26927,     0.27027,     0.27127,     0.27227,     0.27327,     0.27427,     0.27528,     0.27628,     0.27728,     0.27828,     0.27928,     0.28028,     0.28128,     0.28228,     0.28328,     0.28428,     0.28529,     0.28629,     0.28729,\n",
                            "           0.28829,     0.28929,     0.29029,     0.29129,     0.29229,     0.29329,     0.29429,      0.2953,      0.2963,      0.2973,      0.2983,      0.2993,      0.3003,      0.3013,      0.3023,      0.3033,      0.3043,     0.30531,     0.30631,     0.30731,     0.30831,     0.30931,     0.31031,     0.31131,\n",
                            "           0.31231,     0.31331,     0.31431,     0.31532,     0.31632,     0.31732,     0.31832,     0.31932,     0.32032,     0.32132,     0.32232,     0.32332,     0.32432,     0.32533,     0.32633,     0.32733,     0.32833,     0.32933,     0.33033,     0.33133,     0.33233,     0.33333,     0.33433,     0.33534,\n",
                            "           0.33634,     0.33734,     0.33834,     0.33934,     0.34034,     0.34134,     0.34234,     0.34334,     0.34434,     0.34535,     0.34635,     0.34735,     0.34835,     0.34935,     0.35035,     0.35135,     0.35235,     0.35335,     0.35435,     0.35536,     0.35636,     0.35736,     0.35836,     0.35936,\n",
                            "           0.36036,     0.36136,     0.36236,     0.36336,     0.36436,     0.36537,     0.36637,     0.36737,     0.36837,     0.36937,     0.37037,     0.37137,     0.37237,     0.37337,     0.37437,     0.37538,     0.37638,     0.37738,     0.37838,     0.37938,     0.38038,     0.38138,     0.38238,     0.38338,\n",
                            "           0.38438,     0.38539,     0.38639,     0.38739,     0.38839,     0.38939,     0.39039,     0.39139,     0.39239,     0.39339,     0.39439,      0.3954,      0.3964,      0.3974,      0.3984,      0.3994,      0.4004,      0.4014,      0.4024,      0.4034,      0.4044,     0.40541,     0.40641,     0.40741,\n",
                            "           0.40841,     0.40941,     0.41041,     0.41141,     0.41241,     0.41341,     0.41441,     0.41542,     0.41642,     0.41742,     0.41842,     0.41942,     0.42042,     0.42142,     0.42242,     0.42342,     0.42442,     0.42543,     0.42643,     0.42743,     0.42843,     0.42943,     0.43043,     0.43143,\n",
                            "           0.43243,     0.43343,     0.43443,     0.43544,     0.43644,     0.43744,     0.43844,     0.43944,     0.44044,     0.44144,     0.44244,     0.44344,     0.44444,     0.44545,     0.44645,     0.44745,     0.44845,     0.44945,     0.45045,     0.45145,     0.45245,     0.45345,     0.45445,     0.45546,\n",
                            "           0.45646,     0.45746,     0.45846,     0.45946,     0.46046,     0.46146,     0.46246,     0.46346,     0.46446,     0.46547,     0.46647,     0.46747,     0.46847,     0.46947,     0.47047,     0.47147,     0.47247,     0.47347,     0.47447,     0.47548,     0.47648,     0.47748,     0.47848,     0.47948,\n",
                            "           0.48048,     0.48148,     0.48248,     0.48348,     0.48448,     0.48549,     0.48649,     0.48749,     0.48849,     0.48949,     0.49049,     0.49149,     0.49249,     0.49349,     0.49449,      0.4955,      0.4965,      0.4975,      0.4985,      0.4995,      0.5005,      0.5015,      0.5025,      0.5035,\n",
                            "            0.5045,     0.50551,     0.50651,     0.50751,     0.50851,     0.50951,     0.51051,     0.51151,     0.51251,     0.51351,     0.51451,     0.51552,     0.51652,     0.51752,     0.51852,     0.51952,     0.52052,     0.52152,     0.52252,     0.52352,     0.52452,     0.52553,     0.52653,     0.52753,\n",
                            "           0.52853,     0.52953,     0.53053,     0.53153,     0.53253,     0.53353,     0.53453,     0.53554,     0.53654,     0.53754,     0.53854,     0.53954,     0.54054,     0.54154,     0.54254,     0.54354,     0.54454,     0.54555,     0.54655,     0.54755,     0.54855,     0.54955,     0.55055,     0.55155,\n",
                            "           0.55255,     0.55355,     0.55455,     0.55556,     0.55656,     0.55756,     0.55856,     0.55956,     0.56056,     0.56156,     0.56256,     0.56356,     0.56456,     0.56557,     0.56657,     0.56757,     0.56857,     0.56957,     0.57057,     0.57157,     0.57257,     0.57357,     0.57457,     0.57558,\n",
                            "           0.57658,     0.57758,     0.57858,     0.57958,     0.58058,     0.58158,     0.58258,     0.58358,     0.58458,     0.58559,     0.58659,     0.58759,     0.58859,     0.58959,     0.59059,     0.59159,     0.59259,     0.59359,     0.59459,      0.5956,      0.5966,      0.5976,      0.5986,      0.5996,\n",
                            "            0.6006,      0.6016,      0.6026,      0.6036,      0.6046,     0.60561,     0.60661,     0.60761,     0.60861,     0.60961,     0.61061,     0.61161,     0.61261,     0.61361,     0.61461,     0.61562,     0.61662,     0.61762,     0.61862,     0.61962,     0.62062,     0.62162,     0.62262,     0.62362,\n",
                            "           0.62462,     0.62563,     0.62663,     0.62763,     0.62863,     0.62963,     0.63063,     0.63163,     0.63263,     0.63363,     0.63463,     0.63564,     0.63664,     0.63764,     0.63864,     0.63964,     0.64064,     0.64164,     0.64264,     0.64364,     0.64464,     0.64565,     0.64665,     0.64765,\n",
                            "           0.64865,     0.64965,     0.65065,     0.65165,     0.65265,     0.65365,     0.65465,     0.65566,     0.65666,     0.65766,     0.65866,     0.65966,     0.66066,     0.66166,     0.66266,     0.66366,     0.66466,     0.66567,     0.66667,     0.66767,     0.66867,     0.66967,     0.67067,     0.67167,\n",
                            "           0.67267,     0.67367,     0.67467,     0.67568,     0.67668,     0.67768,     0.67868,     0.67968,     0.68068,     0.68168,     0.68268,     0.68368,     0.68468,     0.68569,     0.68669,     0.68769,     0.68869,     0.68969,     0.69069,     0.69169,     0.69269,     0.69369,     0.69469,      0.6957,\n",
                            "            0.6967,      0.6977,      0.6987,      0.6997,      0.7007,      0.7017,      0.7027,      0.7037,      0.7047,     0.70571,     0.70671,     0.70771,     0.70871,     0.70971,     0.71071,     0.71171,     0.71271,     0.71371,     0.71471,     0.71572,     0.71672,     0.71772,     0.71872,     0.71972,\n",
                            "           0.72072,     0.72172,     0.72272,     0.72372,     0.72472,     0.72573,     0.72673,     0.72773,     0.72873,     0.72973,     0.73073,     0.73173,     0.73273,     0.73373,     0.73473,     0.73574,     0.73674,     0.73774,     0.73874,     0.73974,     0.74074,     0.74174,     0.74274,     0.74374,\n",
                            "           0.74474,     0.74575,     0.74675,     0.74775,     0.74875,     0.74975,     0.75075,     0.75175,     0.75275,     0.75375,     0.75475,     0.75576,     0.75676,     0.75776,     0.75876,     0.75976,     0.76076,     0.76176,     0.76276,     0.76376,     0.76476,     0.76577,     0.76677,     0.76777,\n",
                            "           0.76877,     0.76977,     0.77077,     0.77177,     0.77277,     0.77377,     0.77477,     0.77578,     0.77678,     0.77778,     0.77878,     0.77978,     0.78078,     0.78178,     0.78278,     0.78378,     0.78478,     0.78579,     0.78679,     0.78779,     0.78879,     0.78979,     0.79079,     0.79179,\n",
                            "           0.79279,     0.79379,     0.79479,      0.7958,      0.7968,      0.7978,      0.7988,      0.7998,      0.8008,      0.8018,      0.8028,      0.8038,      0.8048,     0.80581,     0.80681,     0.80781,     0.80881,     0.80981,     0.81081,     0.81181,     0.81281,     0.81381,     0.81481,     0.81582,\n",
                            "           0.81682,     0.81782,     0.81882,     0.81982,     0.82082,     0.82182,     0.82282,     0.82382,     0.82482,     0.82583,     0.82683,     0.82783,     0.82883,     0.82983,     0.83083,     0.83183,     0.83283,     0.83383,     0.83483,     0.83584,     0.83684,     0.83784,     0.83884,     0.83984,\n",
                            "           0.84084,     0.84184,     0.84284,     0.84384,     0.84484,     0.84585,     0.84685,     0.84785,     0.84885,     0.84985,     0.85085,     0.85185,     0.85285,     0.85385,     0.85485,     0.85586,     0.85686,     0.85786,     0.85886,     0.85986,     0.86086,     0.86186,     0.86286,     0.86386,\n",
                            "           0.86486,     0.86587,     0.86687,     0.86787,     0.86887,     0.86987,     0.87087,     0.87187,     0.87287,     0.87387,     0.87487,     0.87588,     0.87688,     0.87788,     0.87888,     0.87988,     0.88088,     0.88188,     0.88288,     0.88388,     0.88488,     0.88589,     0.88689,     0.88789,\n",
                            "           0.88889,     0.88989,     0.89089,     0.89189,     0.89289,     0.89389,     0.89489,      0.8959,      0.8969,      0.8979,      0.8989,      0.8999,      0.9009,      0.9019,      0.9029,      0.9039,      0.9049,     0.90591,     0.90691,     0.90791,     0.90891,     0.90991,     0.91091,     0.91191,\n",
                            "           0.91291,     0.91391,     0.91491,     0.91592,     0.91692,     0.91792,     0.91892,     0.91992,     0.92092,     0.92192,     0.92292,     0.92392,     0.92492,     0.92593,     0.92693,     0.92793,     0.92893,     0.92993,     0.93093,     0.93193,     0.93293,     0.93393,     0.93493,     0.93594,\n",
                            "           0.93694,     0.93794,     0.93894,     0.93994,     0.94094,     0.94194,     0.94294,     0.94394,     0.94494,     0.94595,     0.94695,     0.94795,     0.94895,     0.94995,     0.95095,     0.95195,     0.95295,     0.95395,     0.95495,     0.95596,     0.95696,     0.95796,     0.95896,     0.95996,\n",
                            "           0.96096,     0.96196,     0.96296,     0.96396,     0.96496,     0.96597,     0.96697,     0.96797,     0.96897,     0.96997,     0.97097,     0.97197,     0.97297,     0.97397,     0.97497,     0.97598,     0.97698,     0.97798,     0.97898,     0.97998,     0.98098,     0.98198,     0.98298,     0.98398,\n",
                            "           0.98498,     0.98599,     0.98699,     0.98799,     0.98899,     0.98999,     0.99099,     0.99199,     0.99299,     0.99399,     0.99499,       0.996,       0.997,       0.998,       0.999,           1]), array([[          1,           1,           1, ...,           1,           1,           0],\n",
                            "       [          1,           1,           1, ...,           1,           1,           0],\n",
                            "       [          1,           1,           1, ...,           1,           1,           0],\n",
                            "       ...,\n",
                            "       [          1,           1,           1, ...,           1,           1,           0],\n",
                            "       [          1,           1,           1, ...,           1,           1,           0],\n",
                            "       [          1,           1,           1, ...,           1,           1,           0]], shape=(27, 1000)), 'Recall', 'Precision'], [array([          0,    0.001001,    0.002002,    0.003003,    0.004004,    0.005005,    0.006006,    0.007007,    0.008008,    0.009009,     0.01001,    0.011011,    0.012012,    0.013013,    0.014014,    0.015015,    0.016016,    0.017017,    0.018018,    0.019019,     0.02002,    0.021021,    0.022022,    0.023023,\n",
                            "          0.024024,    0.025025,    0.026026,    0.027027,    0.028028,    0.029029,     0.03003,    0.031031,    0.032032,    0.033033,    0.034034,    0.035035,    0.036036,    0.037037,    0.038038,    0.039039,     0.04004,    0.041041,    0.042042,    0.043043,    0.044044,    0.045045,    0.046046,    0.047047,\n",
                            "          0.048048,    0.049049,     0.05005,    0.051051,    0.052052,    0.053053,    0.054054,    0.055055,    0.056056,    0.057057,    0.058058,    0.059059,     0.06006,    0.061061,    0.062062,    0.063063,    0.064064,    0.065065,    0.066066,    0.067067,    0.068068,    0.069069,     0.07007,    0.071071,\n",
                            "          0.072072,    0.073073,    0.074074,    0.075075,    0.076076,    0.077077,    0.078078,    0.079079,     0.08008,    0.081081,    0.082082,    0.083083,    0.084084,    0.085085,    0.086086,    0.087087,    0.088088,    0.089089,     0.09009,    0.091091,    0.092092,    0.093093,    0.094094,    0.095095,\n",
                            "          0.096096,    0.097097,    0.098098,    0.099099,      0.1001,      0.1011,      0.1021,      0.1031,      0.1041,     0.10511,     0.10611,     0.10711,     0.10811,     0.10911,     0.11011,     0.11111,     0.11211,     0.11311,     0.11411,     0.11512,     0.11612,     0.11712,     0.11812,     0.11912,\n",
                            "           0.12012,     0.12112,     0.12212,     0.12312,     0.12412,     0.12513,     0.12613,     0.12713,     0.12813,     0.12913,     0.13013,     0.13113,     0.13213,     0.13313,     0.13413,     0.13514,     0.13614,     0.13714,     0.13814,     0.13914,     0.14014,     0.14114,     0.14214,     0.14314,\n",
                            "           0.14414,     0.14515,     0.14615,     0.14715,     0.14815,     0.14915,     0.15015,     0.15115,     0.15215,     0.15315,     0.15415,     0.15516,     0.15616,     0.15716,     0.15816,     0.15916,     0.16016,     0.16116,     0.16216,     0.16316,     0.16416,     0.16517,     0.16617,     0.16717,\n",
                            "           0.16817,     0.16917,     0.17017,     0.17117,     0.17217,     0.17317,     0.17417,     0.17518,     0.17618,     0.17718,     0.17818,     0.17918,     0.18018,     0.18118,     0.18218,     0.18318,     0.18418,     0.18519,     0.18619,     0.18719,     0.18819,     0.18919,     0.19019,     0.19119,\n",
                            "           0.19219,     0.19319,     0.19419,      0.1952,      0.1962,      0.1972,      0.1982,      0.1992,      0.2002,      0.2012,      0.2022,      0.2032,      0.2042,     0.20521,     0.20621,     0.20721,     0.20821,     0.20921,     0.21021,     0.21121,     0.21221,     0.21321,     0.21421,     0.21522,\n",
                            "           0.21622,     0.21722,     0.21822,     0.21922,     0.22022,     0.22122,     0.22222,     0.22322,     0.22422,     0.22523,     0.22623,     0.22723,     0.22823,     0.22923,     0.23023,     0.23123,     0.23223,     0.23323,     0.23423,     0.23524,     0.23624,     0.23724,     0.23824,     0.23924,\n",
                            "           0.24024,     0.24124,     0.24224,     0.24324,     0.24424,     0.24525,     0.24625,     0.24725,     0.24825,     0.24925,     0.25025,     0.25125,     0.25225,     0.25325,     0.25425,     0.25526,     0.25626,     0.25726,     0.25826,     0.25926,     0.26026,     0.26126,     0.26226,     0.26326,\n",
                            "           0.26426,     0.26527,     0.26627,     0.26727,     0.26827,     0.26927,     0.27027,     0.27127,     0.27227,     0.27327,     0.27427,     0.27528,     0.27628,     0.27728,     0.27828,     0.27928,     0.28028,     0.28128,     0.28228,     0.28328,     0.28428,     0.28529,     0.28629,     0.28729,\n",
                            "           0.28829,     0.28929,     0.29029,     0.29129,     0.29229,     0.29329,     0.29429,      0.2953,      0.2963,      0.2973,      0.2983,      0.2993,      0.3003,      0.3013,      0.3023,      0.3033,      0.3043,     0.30531,     0.30631,     0.30731,     0.30831,     0.30931,     0.31031,     0.31131,\n",
                            "           0.31231,     0.31331,     0.31431,     0.31532,     0.31632,     0.31732,     0.31832,     0.31932,     0.32032,     0.32132,     0.32232,     0.32332,     0.32432,     0.32533,     0.32633,     0.32733,     0.32833,     0.32933,     0.33033,     0.33133,     0.33233,     0.33333,     0.33433,     0.33534,\n",
                            "           0.33634,     0.33734,     0.33834,     0.33934,     0.34034,     0.34134,     0.34234,     0.34334,     0.34434,     0.34535,     0.34635,     0.34735,     0.34835,     0.34935,     0.35035,     0.35135,     0.35235,     0.35335,     0.35435,     0.35536,     0.35636,     0.35736,     0.35836,     0.35936,\n",
                            "           0.36036,     0.36136,     0.36236,     0.36336,     0.36436,     0.36537,     0.36637,     0.36737,     0.36837,     0.36937,     0.37037,     0.37137,     0.37237,     0.37337,     0.37437,     0.37538,     0.37638,     0.37738,     0.37838,     0.37938,     0.38038,     0.38138,     0.38238,     0.38338,\n",
                            "           0.38438,     0.38539,     0.38639,     0.38739,     0.38839,     0.38939,     0.39039,     0.39139,     0.39239,     0.39339,     0.39439,      0.3954,      0.3964,      0.3974,      0.3984,      0.3994,      0.4004,      0.4014,      0.4024,      0.4034,      0.4044,     0.40541,     0.40641,     0.40741,\n",
                            "           0.40841,     0.40941,     0.41041,     0.41141,     0.41241,     0.41341,     0.41441,     0.41542,     0.41642,     0.41742,     0.41842,     0.41942,     0.42042,     0.42142,     0.42242,     0.42342,     0.42442,     0.42543,     0.42643,     0.42743,     0.42843,     0.42943,     0.43043,     0.43143,\n",
                            "           0.43243,     0.43343,     0.43443,     0.43544,     0.43644,     0.43744,     0.43844,     0.43944,     0.44044,     0.44144,     0.44244,     0.44344,     0.44444,     0.44545,     0.44645,     0.44745,     0.44845,     0.44945,     0.45045,     0.45145,     0.45245,     0.45345,     0.45445,     0.45546,\n",
                            "           0.45646,     0.45746,     0.45846,     0.45946,     0.46046,     0.46146,     0.46246,     0.46346,     0.46446,     0.46547,     0.46647,     0.46747,     0.46847,     0.46947,     0.47047,     0.47147,     0.47247,     0.47347,     0.47447,     0.47548,     0.47648,     0.47748,     0.47848,     0.47948,\n",
                            "           0.48048,     0.48148,     0.48248,     0.48348,     0.48448,     0.48549,     0.48649,     0.48749,     0.48849,     0.48949,     0.49049,     0.49149,     0.49249,     0.49349,     0.49449,      0.4955,      0.4965,      0.4975,      0.4985,      0.4995,      0.5005,      0.5015,      0.5025,      0.5035,\n",
                            "            0.5045,     0.50551,     0.50651,     0.50751,     0.50851,     0.50951,     0.51051,     0.51151,     0.51251,     0.51351,     0.51451,     0.51552,     0.51652,     0.51752,     0.51852,     0.51952,     0.52052,     0.52152,     0.52252,     0.52352,     0.52452,     0.52553,     0.52653,     0.52753,\n",
                            "           0.52853,     0.52953,     0.53053,     0.53153,     0.53253,     0.53353,     0.53453,     0.53554,     0.53654,     0.53754,     0.53854,     0.53954,     0.54054,     0.54154,     0.54254,     0.54354,     0.54454,     0.54555,     0.54655,     0.54755,     0.54855,     0.54955,     0.55055,     0.55155,\n",
                            "           0.55255,     0.55355,     0.55455,     0.55556,     0.55656,     0.55756,     0.55856,     0.55956,     0.56056,     0.56156,     0.56256,     0.56356,     0.56456,     0.56557,     0.56657,     0.56757,     0.56857,     0.56957,     0.57057,     0.57157,     0.57257,     0.57357,     0.57457,     0.57558,\n",
                            "           0.57658,     0.57758,     0.57858,     0.57958,     0.58058,     0.58158,     0.58258,     0.58358,     0.58458,     0.58559,     0.58659,     0.58759,     0.58859,     0.58959,     0.59059,     0.59159,     0.59259,     0.59359,     0.59459,      0.5956,      0.5966,      0.5976,      0.5986,      0.5996,\n",
                            "            0.6006,      0.6016,      0.6026,      0.6036,      0.6046,     0.60561,     0.60661,     0.60761,     0.60861,     0.60961,     0.61061,     0.61161,     0.61261,     0.61361,     0.61461,     0.61562,     0.61662,     0.61762,     0.61862,     0.61962,     0.62062,     0.62162,     0.62262,     0.62362,\n",
                            "           0.62462,     0.62563,     0.62663,     0.62763,     0.62863,     0.62963,     0.63063,     0.63163,     0.63263,     0.63363,     0.63463,     0.63564,     0.63664,     0.63764,     0.63864,     0.63964,     0.64064,     0.64164,     0.64264,     0.64364,     0.64464,     0.64565,     0.64665,     0.64765,\n",
                            "           0.64865,     0.64965,     0.65065,     0.65165,     0.65265,     0.65365,     0.65465,     0.65566,     0.65666,     0.65766,     0.65866,     0.65966,     0.66066,     0.66166,     0.66266,     0.66366,     0.66466,     0.66567,     0.66667,     0.66767,     0.66867,     0.66967,     0.67067,     0.67167,\n",
                            "           0.67267,     0.67367,     0.67467,     0.67568,     0.67668,     0.67768,     0.67868,     0.67968,     0.68068,     0.68168,     0.68268,     0.68368,     0.68468,     0.68569,     0.68669,     0.68769,     0.68869,     0.68969,     0.69069,     0.69169,     0.69269,     0.69369,     0.69469,      0.6957,\n",
                            "            0.6967,      0.6977,      0.6987,      0.6997,      0.7007,      0.7017,      0.7027,      0.7037,      0.7047,     0.70571,     0.70671,     0.70771,     0.70871,     0.70971,     0.71071,     0.71171,     0.71271,     0.71371,     0.71471,     0.71572,     0.71672,     0.71772,     0.71872,     0.71972,\n",
                            "           0.72072,     0.72172,     0.72272,     0.72372,     0.72472,     0.72573,     0.72673,     0.72773,     0.72873,     0.72973,     0.73073,     0.73173,     0.73273,     0.73373,     0.73473,     0.73574,     0.73674,     0.73774,     0.73874,     0.73974,     0.74074,     0.74174,     0.74274,     0.74374,\n",
                            "           0.74474,     0.74575,     0.74675,     0.74775,     0.74875,     0.74975,     0.75075,     0.75175,     0.75275,     0.75375,     0.75475,     0.75576,     0.75676,     0.75776,     0.75876,     0.75976,     0.76076,     0.76176,     0.76276,     0.76376,     0.76476,     0.76577,     0.76677,     0.76777,\n",
                            "           0.76877,     0.76977,     0.77077,     0.77177,     0.77277,     0.77377,     0.77477,     0.77578,     0.77678,     0.77778,     0.77878,     0.77978,     0.78078,     0.78178,     0.78278,     0.78378,     0.78478,     0.78579,     0.78679,     0.78779,     0.78879,     0.78979,     0.79079,     0.79179,\n",
                            "           0.79279,     0.79379,     0.79479,      0.7958,      0.7968,      0.7978,      0.7988,      0.7998,      0.8008,      0.8018,      0.8028,      0.8038,      0.8048,     0.80581,     0.80681,     0.80781,     0.80881,     0.80981,     0.81081,     0.81181,     0.81281,     0.81381,     0.81481,     0.81582,\n",
                            "           0.81682,     0.81782,     0.81882,     0.81982,     0.82082,     0.82182,     0.82282,     0.82382,     0.82482,     0.82583,     0.82683,     0.82783,     0.82883,     0.82983,     0.83083,     0.83183,     0.83283,     0.83383,     0.83483,     0.83584,     0.83684,     0.83784,     0.83884,     0.83984,\n",
                            "           0.84084,     0.84184,     0.84284,     0.84384,     0.84484,     0.84585,     0.84685,     0.84785,     0.84885,     0.84985,     0.85085,     0.85185,     0.85285,     0.85385,     0.85485,     0.85586,     0.85686,     0.85786,     0.85886,     0.85986,     0.86086,     0.86186,     0.86286,     0.86386,\n",
                            "           0.86486,     0.86587,     0.86687,     0.86787,     0.86887,     0.86987,     0.87087,     0.87187,     0.87287,     0.87387,     0.87487,     0.87588,     0.87688,     0.87788,     0.87888,     0.87988,     0.88088,     0.88188,     0.88288,     0.88388,     0.88488,     0.88589,     0.88689,     0.88789,\n",
                            "           0.88889,     0.88989,     0.89089,     0.89189,     0.89289,     0.89389,     0.89489,      0.8959,      0.8969,      0.8979,      0.8989,      0.8999,      0.9009,      0.9019,      0.9029,      0.9039,      0.9049,     0.90591,     0.90691,     0.90791,     0.90891,     0.90991,     0.91091,     0.91191,\n",
                            "           0.91291,     0.91391,     0.91491,     0.91592,     0.91692,     0.91792,     0.91892,     0.91992,     0.92092,     0.92192,     0.92292,     0.92392,     0.92492,     0.92593,     0.92693,     0.92793,     0.92893,     0.92993,     0.93093,     0.93193,     0.93293,     0.93393,     0.93493,     0.93594,\n",
                            "           0.93694,     0.93794,     0.93894,     0.93994,     0.94094,     0.94194,     0.94294,     0.94394,     0.94494,     0.94595,     0.94695,     0.94795,     0.94895,     0.94995,     0.95095,     0.95195,     0.95295,     0.95395,     0.95495,     0.95596,     0.95696,     0.95796,     0.95896,     0.95996,\n",
                            "           0.96096,     0.96196,     0.96296,     0.96396,     0.96496,     0.96597,     0.96697,     0.96797,     0.96897,     0.96997,     0.97097,     0.97197,     0.97297,     0.97397,     0.97497,     0.97598,     0.97698,     0.97798,     0.97898,     0.97998,     0.98098,     0.98198,     0.98298,     0.98398,\n",
                            "           0.98498,     0.98599,     0.98699,     0.98799,     0.98899,     0.98999,     0.99099,     0.99199,     0.99299,     0.99399,     0.99499,       0.996,       0.997,       0.998,       0.999,           1]), array([[    0.65385,     0.65385,     0.81443, ...,           0,           0,           0],\n",
                            "       [    0.64865,     0.64865,     0.80657, ...,           0,           0,           0],\n",
                            "       [        0.4,         0.4,     0.61598, ...,           0,           0,           0],\n",
                            "       ...,\n",
                            "       [    0.42857,     0.42857,     0.57549, ...,           0,           0,           0],\n",
                            "       [     0.6087,      0.6087,     0.72016, ...,           0,           0,           0],\n",
                            "       [    0.33333,     0.33333,     0.58745, ...,           0,           0,           0]], shape=(27, 1000)), 'Confidence', 'F1'], [array([          0,    0.001001,    0.002002,    0.003003,    0.004004,    0.005005,    0.006006,    0.007007,    0.008008,    0.009009,     0.01001,    0.011011,    0.012012,    0.013013,    0.014014,    0.015015,    0.016016,    0.017017,    0.018018,    0.019019,     0.02002,    0.021021,    0.022022,    0.023023,\n",
                            "          0.024024,    0.025025,    0.026026,    0.027027,    0.028028,    0.029029,     0.03003,    0.031031,    0.032032,    0.033033,    0.034034,    0.035035,    0.036036,    0.037037,    0.038038,    0.039039,     0.04004,    0.041041,    0.042042,    0.043043,    0.044044,    0.045045,    0.046046,    0.047047,\n",
                            "          0.048048,    0.049049,     0.05005,    0.051051,    0.052052,    0.053053,    0.054054,    0.055055,    0.056056,    0.057057,    0.058058,    0.059059,     0.06006,    0.061061,    0.062062,    0.063063,    0.064064,    0.065065,    0.066066,    0.067067,    0.068068,    0.069069,     0.07007,    0.071071,\n",
                            "          0.072072,    0.073073,    0.074074,    0.075075,    0.076076,    0.077077,    0.078078,    0.079079,     0.08008,    0.081081,    0.082082,    0.083083,    0.084084,    0.085085,    0.086086,    0.087087,    0.088088,    0.089089,     0.09009,    0.091091,    0.092092,    0.093093,    0.094094,    0.095095,\n",
                            "          0.096096,    0.097097,    0.098098,    0.099099,      0.1001,      0.1011,      0.1021,      0.1031,      0.1041,     0.10511,     0.10611,     0.10711,     0.10811,     0.10911,     0.11011,     0.11111,     0.11211,     0.11311,     0.11411,     0.11512,     0.11612,     0.11712,     0.11812,     0.11912,\n",
                            "           0.12012,     0.12112,     0.12212,     0.12312,     0.12412,     0.12513,     0.12613,     0.12713,     0.12813,     0.12913,     0.13013,     0.13113,     0.13213,     0.13313,     0.13413,     0.13514,     0.13614,     0.13714,     0.13814,     0.13914,     0.14014,     0.14114,     0.14214,     0.14314,\n",
                            "           0.14414,     0.14515,     0.14615,     0.14715,     0.14815,     0.14915,     0.15015,     0.15115,     0.15215,     0.15315,     0.15415,     0.15516,     0.15616,     0.15716,     0.15816,     0.15916,     0.16016,     0.16116,     0.16216,     0.16316,     0.16416,     0.16517,     0.16617,     0.16717,\n",
                            "           0.16817,     0.16917,     0.17017,     0.17117,     0.17217,     0.17317,     0.17417,     0.17518,     0.17618,     0.17718,     0.17818,     0.17918,     0.18018,     0.18118,     0.18218,     0.18318,     0.18418,     0.18519,     0.18619,     0.18719,     0.18819,     0.18919,     0.19019,     0.19119,\n",
                            "           0.19219,     0.19319,     0.19419,      0.1952,      0.1962,      0.1972,      0.1982,      0.1992,      0.2002,      0.2012,      0.2022,      0.2032,      0.2042,     0.20521,     0.20621,     0.20721,     0.20821,     0.20921,     0.21021,     0.21121,     0.21221,     0.21321,     0.21421,     0.21522,\n",
                            "           0.21622,     0.21722,     0.21822,     0.21922,     0.22022,     0.22122,     0.22222,     0.22322,     0.22422,     0.22523,     0.22623,     0.22723,     0.22823,     0.22923,     0.23023,     0.23123,     0.23223,     0.23323,     0.23423,     0.23524,     0.23624,     0.23724,     0.23824,     0.23924,\n",
                            "           0.24024,     0.24124,     0.24224,     0.24324,     0.24424,     0.24525,     0.24625,     0.24725,     0.24825,     0.24925,     0.25025,     0.25125,     0.25225,     0.25325,     0.25425,     0.25526,     0.25626,     0.25726,     0.25826,     0.25926,     0.26026,     0.26126,     0.26226,     0.26326,\n",
                            "           0.26426,     0.26527,     0.26627,     0.26727,     0.26827,     0.26927,     0.27027,     0.27127,     0.27227,     0.27327,     0.27427,     0.27528,     0.27628,     0.27728,     0.27828,     0.27928,     0.28028,     0.28128,     0.28228,     0.28328,     0.28428,     0.28529,     0.28629,     0.28729,\n",
                            "           0.28829,     0.28929,     0.29029,     0.29129,     0.29229,     0.29329,     0.29429,      0.2953,      0.2963,      0.2973,      0.2983,      0.2993,      0.3003,      0.3013,      0.3023,      0.3033,      0.3043,     0.30531,     0.30631,     0.30731,     0.30831,     0.30931,     0.31031,     0.31131,\n",
                            "           0.31231,     0.31331,     0.31431,     0.31532,     0.31632,     0.31732,     0.31832,     0.31932,     0.32032,     0.32132,     0.32232,     0.32332,     0.32432,     0.32533,     0.32633,     0.32733,     0.32833,     0.32933,     0.33033,     0.33133,     0.33233,     0.33333,     0.33433,     0.33534,\n",
                            "           0.33634,     0.33734,     0.33834,     0.33934,     0.34034,     0.34134,     0.34234,     0.34334,     0.34434,     0.34535,     0.34635,     0.34735,     0.34835,     0.34935,     0.35035,     0.35135,     0.35235,     0.35335,     0.35435,     0.35536,     0.35636,     0.35736,     0.35836,     0.35936,\n",
                            "           0.36036,     0.36136,     0.36236,     0.36336,     0.36436,     0.36537,     0.36637,     0.36737,     0.36837,     0.36937,     0.37037,     0.37137,     0.37237,     0.37337,     0.37437,     0.37538,     0.37638,     0.37738,     0.37838,     0.37938,     0.38038,     0.38138,     0.38238,     0.38338,\n",
                            "           0.38438,     0.38539,     0.38639,     0.38739,     0.38839,     0.38939,     0.39039,     0.39139,     0.39239,     0.39339,     0.39439,      0.3954,      0.3964,      0.3974,      0.3984,      0.3994,      0.4004,      0.4014,      0.4024,      0.4034,      0.4044,     0.40541,     0.40641,     0.40741,\n",
                            "           0.40841,     0.40941,     0.41041,     0.41141,     0.41241,     0.41341,     0.41441,     0.41542,     0.41642,     0.41742,     0.41842,     0.41942,     0.42042,     0.42142,     0.42242,     0.42342,     0.42442,     0.42543,     0.42643,     0.42743,     0.42843,     0.42943,     0.43043,     0.43143,\n",
                            "           0.43243,     0.43343,     0.43443,     0.43544,     0.43644,     0.43744,     0.43844,     0.43944,     0.44044,     0.44144,     0.44244,     0.44344,     0.44444,     0.44545,     0.44645,     0.44745,     0.44845,     0.44945,     0.45045,     0.45145,     0.45245,     0.45345,     0.45445,     0.45546,\n",
                            "           0.45646,     0.45746,     0.45846,     0.45946,     0.46046,     0.46146,     0.46246,     0.46346,     0.46446,     0.46547,     0.46647,     0.46747,     0.46847,     0.46947,     0.47047,     0.47147,     0.47247,     0.47347,     0.47447,     0.47548,     0.47648,     0.47748,     0.47848,     0.47948,\n",
                            "           0.48048,     0.48148,     0.48248,     0.48348,     0.48448,     0.48549,     0.48649,     0.48749,     0.48849,     0.48949,     0.49049,     0.49149,     0.49249,     0.49349,     0.49449,      0.4955,      0.4965,      0.4975,      0.4985,      0.4995,      0.5005,      0.5015,      0.5025,      0.5035,\n",
                            "            0.5045,     0.50551,     0.50651,     0.50751,     0.50851,     0.50951,     0.51051,     0.51151,     0.51251,     0.51351,     0.51451,     0.51552,     0.51652,     0.51752,     0.51852,     0.51952,     0.52052,     0.52152,     0.52252,     0.52352,     0.52452,     0.52553,     0.52653,     0.52753,\n",
                            "           0.52853,     0.52953,     0.53053,     0.53153,     0.53253,     0.53353,     0.53453,     0.53554,     0.53654,     0.53754,     0.53854,     0.53954,     0.54054,     0.54154,     0.54254,     0.54354,     0.54454,     0.54555,     0.54655,     0.54755,     0.54855,     0.54955,     0.55055,     0.55155,\n",
                            "           0.55255,     0.55355,     0.55455,     0.55556,     0.55656,     0.55756,     0.55856,     0.55956,     0.56056,     0.56156,     0.56256,     0.56356,     0.56456,     0.56557,     0.56657,     0.56757,     0.56857,     0.56957,     0.57057,     0.57157,     0.57257,     0.57357,     0.57457,     0.57558,\n",
                            "           0.57658,     0.57758,     0.57858,     0.57958,     0.58058,     0.58158,     0.58258,     0.58358,     0.58458,     0.58559,     0.58659,     0.58759,     0.58859,     0.58959,     0.59059,     0.59159,     0.59259,     0.59359,     0.59459,      0.5956,      0.5966,      0.5976,      0.5986,      0.5996,\n",
                            "            0.6006,      0.6016,      0.6026,      0.6036,      0.6046,     0.60561,     0.60661,     0.60761,     0.60861,     0.60961,     0.61061,     0.61161,     0.61261,     0.61361,     0.61461,     0.61562,     0.61662,     0.61762,     0.61862,     0.61962,     0.62062,     0.62162,     0.62262,     0.62362,\n",
                            "           0.62462,     0.62563,     0.62663,     0.62763,     0.62863,     0.62963,     0.63063,     0.63163,     0.63263,     0.63363,     0.63463,     0.63564,     0.63664,     0.63764,     0.63864,     0.63964,     0.64064,     0.64164,     0.64264,     0.64364,     0.64464,     0.64565,     0.64665,     0.64765,\n",
                            "           0.64865,     0.64965,     0.65065,     0.65165,     0.65265,     0.65365,     0.65465,     0.65566,     0.65666,     0.65766,     0.65866,     0.65966,     0.66066,     0.66166,     0.66266,     0.66366,     0.66466,     0.66567,     0.66667,     0.66767,     0.66867,     0.66967,     0.67067,     0.67167,\n",
                            "           0.67267,     0.67367,     0.67467,     0.67568,     0.67668,     0.67768,     0.67868,     0.67968,     0.68068,     0.68168,     0.68268,     0.68368,     0.68468,     0.68569,     0.68669,     0.68769,     0.68869,     0.68969,     0.69069,     0.69169,     0.69269,     0.69369,     0.69469,      0.6957,\n",
                            "            0.6967,      0.6977,      0.6987,      0.6997,      0.7007,      0.7017,      0.7027,      0.7037,      0.7047,     0.70571,     0.70671,     0.70771,     0.70871,     0.70971,     0.71071,     0.71171,     0.71271,     0.71371,     0.71471,     0.71572,     0.71672,     0.71772,     0.71872,     0.71972,\n",
                            "           0.72072,     0.72172,     0.72272,     0.72372,     0.72472,     0.72573,     0.72673,     0.72773,     0.72873,     0.72973,     0.73073,     0.73173,     0.73273,     0.73373,     0.73473,     0.73574,     0.73674,     0.73774,     0.73874,     0.73974,     0.74074,     0.74174,     0.74274,     0.74374,\n",
                            "           0.74474,     0.74575,     0.74675,     0.74775,     0.74875,     0.74975,     0.75075,     0.75175,     0.75275,     0.75375,     0.75475,     0.75576,     0.75676,     0.75776,     0.75876,     0.75976,     0.76076,     0.76176,     0.76276,     0.76376,     0.76476,     0.76577,     0.76677,     0.76777,\n",
                            "           0.76877,     0.76977,     0.77077,     0.77177,     0.77277,     0.77377,     0.77477,     0.77578,     0.77678,     0.77778,     0.77878,     0.77978,     0.78078,     0.78178,     0.78278,     0.78378,     0.78478,     0.78579,     0.78679,     0.78779,     0.78879,     0.78979,     0.79079,     0.79179,\n",
                            "           0.79279,     0.79379,     0.79479,      0.7958,      0.7968,      0.7978,      0.7988,      0.7998,      0.8008,      0.8018,      0.8028,      0.8038,      0.8048,     0.80581,     0.80681,     0.80781,     0.80881,     0.80981,     0.81081,     0.81181,     0.81281,     0.81381,     0.81481,     0.81582,\n",
                            "           0.81682,     0.81782,     0.81882,     0.81982,     0.82082,     0.82182,     0.82282,     0.82382,     0.82482,     0.82583,     0.82683,     0.82783,     0.82883,     0.82983,     0.83083,     0.83183,     0.83283,     0.83383,     0.83483,     0.83584,     0.83684,     0.83784,     0.83884,     0.83984,\n",
                            "           0.84084,     0.84184,     0.84284,     0.84384,     0.84484,     0.84585,     0.84685,     0.84785,     0.84885,     0.84985,     0.85085,     0.85185,     0.85285,     0.85385,     0.85485,     0.85586,     0.85686,     0.85786,     0.85886,     0.85986,     0.86086,     0.86186,     0.86286,     0.86386,\n",
                            "           0.86486,     0.86587,     0.86687,     0.86787,     0.86887,     0.86987,     0.87087,     0.87187,     0.87287,     0.87387,     0.87487,     0.87588,     0.87688,     0.87788,     0.87888,     0.87988,     0.88088,     0.88188,     0.88288,     0.88388,     0.88488,     0.88589,     0.88689,     0.88789,\n",
                            "           0.88889,     0.88989,     0.89089,     0.89189,     0.89289,     0.89389,     0.89489,      0.8959,      0.8969,      0.8979,      0.8989,      0.8999,      0.9009,      0.9019,      0.9029,      0.9039,      0.9049,     0.90591,     0.90691,     0.90791,     0.90891,     0.90991,     0.91091,     0.91191,\n",
                            "           0.91291,     0.91391,     0.91491,     0.91592,     0.91692,     0.91792,     0.91892,     0.91992,     0.92092,     0.92192,     0.92292,     0.92392,     0.92492,     0.92593,     0.92693,     0.92793,     0.92893,     0.92993,     0.93093,     0.93193,     0.93293,     0.93393,     0.93493,     0.93594,\n",
                            "           0.93694,     0.93794,     0.93894,     0.93994,     0.94094,     0.94194,     0.94294,     0.94394,     0.94494,     0.94595,     0.94695,     0.94795,     0.94895,     0.94995,     0.95095,     0.95195,     0.95295,     0.95395,     0.95495,     0.95596,     0.95696,     0.95796,     0.95896,     0.95996,\n",
                            "           0.96096,     0.96196,     0.96296,     0.96396,     0.96496,     0.96597,     0.96697,     0.96797,     0.96897,     0.96997,     0.97097,     0.97197,     0.97297,     0.97397,     0.97497,     0.97598,     0.97698,     0.97798,     0.97898,     0.97998,     0.98098,     0.98198,     0.98298,     0.98398,\n",
                            "           0.98498,     0.98599,     0.98699,     0.98799,     0.98899,     0.98999,     0.99099,     0.99199,     0.99299,     0.99399,     0.99499,       0.996,       0.997,       0.998,       0.999,           1]), array([[    0.48571,     0.48571,     0.68695, ...,           1,           1,           1],\n",
                            "       [       0.48,        0.48,     0.67584, ...,           1,           1,           1],\n",
                            "       [       0.25,        0.25,     0.44506, ...,           1,           1,           1],\n",
                            "       ...,\n",
                            "       [    0.27273,     0.27273,     0.40399, ...,           1,           1,           1],\n",
                            "       [     0.4375,      0.4375,      0.5627, ...,           1,           1,           1],\n",
                            "       [        0.2,         0.2,     0.41588, ...,           1,           1,           1]], shape=(27, 1000)), 'Confidence', 'Precision'], [array([          0,    0.001001,    0.002002,    0.003003,    0.004004,    0.005005,    0.006006,    0.007007,    0.008008,    0.009009,     0.01001,    0.011011,    0.012012,    0.013013,    0.014014,    0.015015,    0.016016,    0.017017,    0.018018,    0.019019,     0.02002,    0.021021,    0.022022,    0.023023,\n",
                            "          0.024024,    0.025025,    0.026026,    0.027027,    0.028028,    0.029029,     0.03003,    0.031031,    0.032032,    0.033033,    0.034034,    0.035035,    0.036036,    0.037037,    0.038038,    0.039039,     0.04004,    0.041041,    0.042042,    0.043043,    0.044044,    0.045045,    0.046046,    0.047047,\n",
                            "          0.048048,    0.049049,     0.05005,    0.051051,    0.052052,    0.053053,    0.054054,    0.055055,    0.056056,    0.057057,    0.058058,    0.059059,     0.06006,    0.061061,    0.062062,    0.063063,    0.064064,    0.065065,    0.066066,    0.067067,    0.068068,    0.069069,     0.07007,    0.071071,\n",
                            "          0.072072,    0.073073,    0.074074,    0.075075,    0.076076,    0.077077,    0.078078,    0.079079,     0.08008,    0.081081,    0.082082,    0.083083,    0.084084,    0.085085,    0.086086,    0.087087,    0.088088,    0.089089,     0.09009,    0.091091,    0.092092,    0.093093,    0.094094,    0.095095,\n",
                            "          0.096096,    0.097097,    0.098098,    0.099099,      0.1001,      0.1011,      0.1021,      0.1031,      0.1041,     0.10511,     0.10611,     0.10711,     0.10811,     0.10911,     0.11011,     0.11111,     0.11211,     0.11311,     0.11411,     0.11512,     0.11612,     0.11712,     0.11812,     0.11912,\n",
                            "           0.12012,     0.12112,     0.12212,     0.12312,     0.12412,     0.12513,     0.12613,     0.12713,     0.12813,     0.12913,     0.13013,     0.13113,     0.13213,     0.13313,     0.13413,     0.13514,     0.13614,     0.13714,     0.13814,     0.13914,     0.14014,     0.14114,     0.14214,     0.14314,\n",
                            "           0.14414,     0.14515,     0.14615,     0.14715,     0.14815,     0.14915,     0.15015,     0.15115,     0.15215,     0.15315,     0.15415,     0.15516,     0.15616,     0.15716,     0.15816,     0.15916,     0.16016,     0.16116,     0.16216,     0.16316,     0.16416,     0.16517,     0.16617,     0.16717,\n",
                            "           0.16817,     0.16917,     0.17017,     0.17117,     0.17217,     0.17317,     0.17417,     0.17518,     0.17618,     0.17718,     0.17818,     0.17918,     0.18018,     0.18118,     0.18218,     0.18318,     0.18418,     0.18519,     0.18619,     0.18719,     0.18819,     0.18919,     0.19019,     0.19119,\n",
                            "           0.19219,     0.19319,     0.19419,      0.1952,      0.1962,      0.1972,      0.1982,      0.1992,      0.2002,      0.2012,      0.2022,      0.2032,      0.2042,     0.20521,     0.20621,     0.20721,     0.20821,     0.20921,     0.21021,     0.21121,     0.21221,     0.21321,     0.21421,     0.21522,\n",
                            "           0.21622,     0.21722,     0.21822,     0.21922,     0.22022,     0.22122,     0.22222,     0.22322,     0.22422,     0.22523,     0.22623,     0.22723,     0.22823,     0.22923,     0.23023,     0.23123,     0.23223,     0.23323,     0.23423,     0.23524,     0.23624,     0.23724,     0.23824,     0.23924,\n",
                            "           0.24024,     0.24124,     0.24224,     0.24324,     0.24424,     0.24525,     0.24625,     0.24725,     0.24825,     0.24925,     0.25025,     0.25125,     0.25225,     0.25325,     0.25425,     0.25526,     0.25626,     0.25726,     0.25826,     0.25926,     0.26026,     0.26126,     0.26226,     0.26326,\n",
                            "           0.26426,     0.26527,     0.26627,     0.26727,     0.26827,     0.26927,     0.27027,     0.27127,     0.27227,     0.27327,     0.27427,     0.27528,     0.27628,     0.27728,     0.27828,     0.27928,     0.28028,     0.28128,     0.28228,     0.28328,     0.28428,     0.28529,     0.28629,     0.28729,\n",
                            "           0.28829,     0.28929,     0.29029,     0.29129,     0.29229,     0.29329,     0.29429,      0.2953,      0.2963,      0.2973,      0.2983,      0.2993,      0.3003,      0.3013,      0.3023,      0.3033,      0.3043,     0.30531,     0.30631,     0.30731,     0.30831,     0.30931,     0.31031,     0.31131,\n",
                            "           0.31231,     0.31331,     0.31431,     0.31532,     0.31632,     0.31732,     0.31832,     0.31932,     0.32032,     0.32132,     0.32232,     0.32332,     0.32432,     0.32533,     0.32633,     0.32733,     0.32833,     0.32933,     0.33033,     0.33133,     0.33233,     0.33333,     0.33433,     0.33534,\n",
                            "           0.33634,     0.33734,     0.33834,     0.33934,     0.34034,     0.34134,     0.34234,     0.34334,     0.34434,     0.34535,     0.34635,     0.34735,     0.34835,     0.34935,     0.35035,     0.35135,     0.35235,     0.35335,     0.35435,     0.35536,     0.35636,     0.35736,     0.35836,     0.35936,\n",
                            "           0.36036,     0.36136,     0.36236,     0.36336,     0.36436,     0.36537,     0.36637,     0.36737,     0.36837,     0.36937,     0.37037,     0.37137,     0.37237,     0.37337,     0.37437,     0.37538,     0.37638,     0.37738,     0.37838,     0.37938,     0.38038,     0.38138,     0.38238,     0.38338,\n",
                            "           0.38438,     0.38539,     0.38639,     0.38739,     0.38839,     0.38939,     0.39039,     0.39139,     0.39239,     0.39339,     0.39439,      0.3954,      0.3964,      0.3974,      0.3984,      0.3994,      0.4004,      0.4014,      0.4024,      0.4034,      0.4044,     0.40541,     0.40641,     0.40741,\n",
                            "           0.40841,     0.40941,     0.41041,     0.41141,     0.41241,     0.41341,     0.41441,     0.41542,     0.41642,     0.41742,     0.41842,     0.41942,     0.42042,     0.42142,     0.42242,     0.42342,     0.42442,     0.42543,     0.42643,     0.42743,     0.42843,     0.42943,     0.43043,     0.43143,\n",
                            "           0.43243,     0.43343,     0.43443,     0.43544,     0.43644,     0.43744,     0.43844,     0.43944,     0.44044,     0.44144,     0.44244,     0.44344,     0.44444,     0.44545,     0.44645,     0.44745,     0.44845,     0.44945,     0.45045,     0.45145,     0.45245,     0.45345,     0.45445,     0.45546,\n",
                            "           0.45646,     0.45746,     0.45846,     0.45946,     0.46046,     0.46146,     0.46246,     0.46346,     0.46446,     0.46547,     0.46647,     0.46747,     0.46847,     0.46947,     0.47047,     0.47147,     0.47247,     0.47347,     0.47447,     0.47548,     0.47648,     0.47748,     0.47848,     0.47948,\n",
                            "           0.48048,     0.48148,     0.48248,     0.48348,     0.48448,     0.48549,     0.48649,     0.48749,     0.48849,     0.48949,     0.49049,     0.49149,     0.49249,     0.49349,     0.49449,      0.4955,      0.4965,      0.4975,      0.4985,      0.4995,      0.5005,      0.5015,      0.5025,      0.5035,\n",
                            "            0.5045,     0.50551,     0.50651,     0.50751,     0.50851,     0.50951,     0.51051,     0.51151,     0.51251,     0.51351,     0.51451,     0.51552,     0.51652,     0.51752,     0.51852,     0.51952,     0.52052,     0.52152,     0.52252,     0.52352,     0.52452,     0.52553,     0.52653,     0.52753,\n",
                            "           0.52853,     0.52953,     0.53053,     0.53153,     0.53253,     0.53353,     0.53453,     0.53554,     0.53654,     0.53754,     0.53854,     0.53954,     0.54054,     0.54154,     0.54254,     0.54354,     0.54454,     0.54555,     0.54655,     0.54755,     0.54855,     0.54955,     0.55055,     0.55155,\n",
                            "           0.55255,     0.55355,     0.55455,     0.55556,     0.55656,     0.55756,     0.55856,     0.55956,     0.56056,     0.56156,     0.56256,     0.56356,     0.56456,     0.56557,     0.56657,     0.56757,     0.56857,     0.56957,     0.57057,     0.57157,     0.57257,     0.57357,     0.57457,     0.57558,\n",
                            "           0.57658,     0.57758,     0.57858,     0.57958,     0.58058,     0.58158,     0.58258,     0.58358,     0.58458,     0.58559,     0.58659,     0.58759,     0.58859,     0.58959,     0.59059,     0.59159,     0.59259,     0.59359,     0.59459,      0.5956,      0.5966,      0.5976,      0.5986,      0.5996,\n",
                            "            0.6006,      0.6016,      0.6026,      0.6036,      0.6046,     0.60561,     0.60661,     0.60761,     0.60861,     0.60961,     0.61061,     0.61161,     0.61261,     0.61361,     0.61461,     0.61562,     0.61662,     0.61762,     0.61862,     0.61962,     0.62062,     0.62162,     0.62262,     0.62362,\n",
                            "           0.62462,     0.62563,     0.62663,     0.62763,     0.62863,     0.62963,     0.63063,     0.63163,     0.63263,     0.63363,     0.63463,     0.63564,     0.63664,     0.63764,     0.63864,     0.63964,     0.64064,     0.64164,     0.64264,     0.64364,     0.64464,     0.64565,     0.64665,     0.64765,\n",
                            "           0.64865,     0.64965,     0.65065,     0.65165,     0.65265,     0.65365,     0.65465,     0.65566,     0.65666,     0.65766,     0.65866,     0.65966,     0.66066,     0.66166,     0.66266,     0.66366,     0.66466,     0.66567,     0.66667,     0.66767,     0.66867,     0.66967,     0.67067,     0.67167,\n",
                            "           0.67267,     0.67367,     0.67467,     0.67568,     0.67668,     0.67768,     0.67868,     0.67968,     0.68068,     0.68168,     0.68268,     0.68368,     0.68468,     0.68569,     0.68669,     0.68769,     0.68869,     0.68969,     0.69069,     0.69169,     0.69269,     0.69369,     0.69469,      0.6957,\n",
                            "            0.6967,      0.6977,      0.6987,      0.6997,      0.7007,      0.7017,      0.7027,      0.7037,      0.7047,     0.70571,     0.70671,     0.70771,     0.70871,     0.70971,     0.71071,     0.71171,     0.71271,     0.71371,     0.71471,     0.71572,     0.71672,     0.71772,     0.71872,     0.71972,\n",
                            "           0.72072,     0.72172,     0.72272,     0.72372,     0.72472,     0.72573,     0.72673,     0.72773,     0.72873,     0.72973,     0.73073,     0.73173,     0.73273,     0.73373,     0.73473,     0.73574,     0.73674,     0.73774,     0.73874,     0.73974,     0.74074,     0.74174,     0.74274,     0.74374,\n",
                            "           0.74474,     0.74575,     0.74675,     0.74775,     0.74875,     0.74975,     0.75075,     0.75175,     0.75275,     0.75375,     0.75475,     0.75576,     0.75676,     0.75776,     0.75876,     0.75976,     0.76076,     0.76176,     0.76276,     0.76376,     0.76476,     0.76577,     0.76677,     0.76777,\n",
                            "           0.76877,     0.76977,     0.77077,     0.77177,     0.77277,     0.77377,     0.77477,     0.77578,     0.77678,     0.77778,     0.77878,     0.77978,     0.78078,     0.78178,     0.78278,     0.78378,     0.78478,     0.78579,     0.78679,     0.78779,     0.78879,     0.78979,     0.79079,     0.79179,\n",
                            "           0.79279,     0.79379,     0.79479,      0.7958,      0.7968,      0.7978,      0.7988,      0.7998,      0.8008,      0.8018,      0.8028,      0.8038,      0.8048,     0.80581,     0.80681,     0.80781,     0.80881,     0.80981,     0.81081,     0.81181,     0.81281,     0.81381,     0.81481,     0.81582,\n",
                            "           0.81682,     0.81782,     0.81882,     0.81982,     0.82082,     0.82182,     0.82282,     0.82382,     0.82482,     0.82583,     0.82683,     0.82783,     0.82883,     0.82983,     0.83083,     0.83183,     0.83283,     0.83383,     0.83483,     0.83584,     0.83684,     0.83784,     0.83884,     0.83984,\n",
                            "           0.84084,     0.84184,     0.84284,     0.84384,     0.84484,     0.84585,     0.84685,     0.84785,     0.84885,     0.84985,     0.85085,     0.85185,     0.85285,     0.85385,     0.85485,     0.85586,     0.85686,     0.85786,     0.85886,     0.85986,     0.86086,     0.86186,     0.86286,     0.86386,\n",
                            "           0.86486,     0.86587,     0.86687,     0.86787,     0.86887,     0.86987,     0.87087,     0.87187,     0.87287,     0.87387,     0.87487,     0.87588,     0.87688,     0.87788,     0.87888,     0.87988,     0.88088,     0.88188,     0.88288,     0.88388,     0.88488,     0.88589,     0.88689,     0.88789,\n",
                            "           0.88889,     0.88989,     0.89089,     0.89189,     0.89289,     0.89389,     0.89489,      0.8959,      0.8969,      0.8979,      0.8989,      0.8999,      0.9009,      0.9019,      0.9029,      0.9039,      0.9049,     0.90591,     0.90691,     0.90791,     0.90891,     0.90991,     0.91091,     0.91191,\n",
                            "           0.91291,     0.91391,     0.91491,     0.91592,     0.91692,     0.91792,     0.91892,     0.91992,     0.92092,     0.92192,     0.92292,     0.92392,     0.92492,     0.92593,     0.92693,     0.92793,     0.92893,     0.92993,     0.93093,     0.93193,     0.93293,     0.93393,     0.93493,     0.93594,\n",
                            "           0.93694,     0.93794,     0.93894,     0.93994,     0.94094,     0.94194,     0.94294,     0.94394,     0.94494,     0.94595,     0.94695,     0.94795,     0.94895,     0.94995,     0.95095,     0.95195,     0.95295,     0.95395,     0.95495,     0.95596,     0.95696,     0.95796,     0.95896,     0.95996,\n",
                            "           0.96096,     0.96196,     0.96296,     0.96396,     0.96496,     0.96597,     0.96697,     0.96797,     0.96897,     0.96997,     0.97097,     0.97197,     0.97297,     0.97397,     0.97497,     0.97598,     0.97698,     0.97798,     0.97898,     0.97998,     0.98098,     0.98198,     0.98298,     0.98398,\n",
                            "           0.98498,     0.98599,     0.98699,     0.98799,     0.98899,     0.98999,     0.99099,     0.99199,     0.99299,     0.99399,     0.99499,       0.996,       0.997,       0.998,       0.999,           1]), array([[          1,           1,           1, ...,           0,           0,           0],\n",
                            "       [          1,           1,           1, ...,           0,           0,           0],\n",
                            "       [          1,           1,           1, ...,           0,           0,           0],\n",
                            "       ...,\n",
                            "       [          1,           1,           1, ...,           0,           0,           0],\n",
                            "       [          1,           1,           1, ...,           0,           0,           0],\n",
                            "       [          1,           1,           1, ...,           0,           0,           0]], shape=(27, 1000)), 'Confidence', 'Recall']]\n",
                            "fitness: np.float64(0.8626553710626347)\n",
                            "keys: ['metrics/precision(B)', 'metrics/recall(B)', 'metrics/mAP50(B)', 'metrics/mAP50-95(B)']\n",
                            "maps: array([    0.89545,     0.90313,     0.80377,     0.94379,     0.83491,     0.90687,      0.8853,      0.8267,     0.84458,     0.96622,     0.78136,     0.79878,     0.87531,     0.84562,     0.78122,     0.83874,     0.78089,     0.75013,     0.89589,     0.87489,     0.80544,     0.89199,     0.81253,     0.86744,\n",
                            "           0.81642,     0.90079,     0.76917])\n",
                            "names: {0: 'A', 1: 'B', 2: 'C', 3: 'D', 4: 'E', 5: 'EYE', 6: 'F', 7: 'G', 8: 'H', 9: 'I', 10: 'J', 11: 'K', 12: 'L', 13: 'M', 14: 'N', 15: 'O', 16: 'P', 17: 'Q', 18: 'R', 19: 'S', 20: 'T', 21: 'U', 22: 'V', 23: 'W', 24: 'X', 25: 'Y', 26: 'Z'}\n",
                            "nt_per_class: array([17, 12, 16,  6, 12,  9,  5,  8,  5,  6,  7,  5, 12, 11,  9,  8,  5, 10, 17,  7,  9,  7,  9,  6,  6,  7, 12])\n",
                            "nt_per_image: array([17, 12, 16,  6, 12,  9,  5,  8,  5,  6,  7,  5, 12, 11,  9,  8,  5, 10, 17,  7,  9,  7,  9,  6,  6,  7, 12])\n",
                            "results_dict: {'metrics/precision(B)': np.float64(0.9862304209692977), 'metrics/recall(B)': np.float64(0.9835827186812709), 'metrics/mAP50(B)': np.float64(0.9941111111111113), 'metrics/mAP50-95(B)': np.float64(0.8480491777239151), 'fitness': np.float64(0.8626553710626347)}\n",
                            "save_dir: WindowsPath('c:/Users/berna/Documents/Proyecto_ia_legua_se-as_2025/runs/detect/train4')\n",
                            "speed: {'preprocess': 0.34677818929680737, 'inference': 3.5897588477307814, 'loss': 0.00014567899878458753, 'postprocess': 1.559173251023919}\n",
                            "stats: {'tp': [], 'conf': [], 'pred_cls': [], 'target_cls': [], 'target_img': []}\n",
                            "task: 'detect'"
                        ]
                    },
                    "execution_count": 2,
                    "metadata": {},
                    "output_type": "execute_result"
                }
            ],
            "source": [
                "# Cargar un modelo pequeño preentrenado\n",
                "model = YOLO(\"yolov8s.pt\")\n",
                "\n",
                "# Entrenar (ajusta epochs, imgsz, batch según tu máquina)\n",
                "model.train(\n",
                "    data=\"dataset3/data.yaml\",   # dataset en formato YOLO\n",
                "    epochs=80,          # número de épocas ajustado a dataset pequeño\n",
                "    imgsz=640,          # tamaño estándar\n",
                "    batch=32,           # tu GPU 4060 debería soportar este batch\n",
                "    lr0=0.01,           # learning rate inicial\n",
                "    optimizer=\"SGD\",    # optimizador base\n",
                "    device=0,           # usa GPU\n",
                "    patience=20         # early stopping (corta si 20 epochs sin mejorar)\n",
                ")"
            ]
        },
        {
            "cell_type": "code",
            "execution_count": null,
            "id": "d4f64464",
            "metadata": {},
            "outputs": [],
            "source": [
                "# Evaluar desempeño\n",
                "model.val()"
            ]
        },
        {
            "cell_type": "code",
            "execution_count": null,
            "id": "c9c895dd",
            "metadata": {},
            "outputs": [
                {
                    "name": "stdout",
                    "output_type": "stream",
                    "text": [
                        "\n",
                        "1/1: 0... Success  (inf frames of shape 640x480 at 30.00 FPS)\n",
                        "\n",
                        "WARNING \n",
                        "inference results will accumulate in RAM unless `stream=True` is passed, causing potential out-of-memory\n",
                        "errors for large sources or long-running streams and videos. See https://docs.ultralytics.com/modes/predict/ for help.\n",
                        "\n",
                        "Example:\n",
                        "    results = model(source=..., stream=True)  # generator of Results objects\n",
                        "    for r in results:\n",
                        "        boxes = r.boxes  # Boxes object for bbox outputs\n",
                        "        masks = r.masks  # Masks object for segment masks outputs\n",
                        "        probs = r.probs  # Class probabilities for classification outputs\n",
                        "\n",
                        "0: 320x416 (no detections), 85.9ms\n",
                        "0: 320x416 (no detections), 32.4ms\n",
                        "0: 320x416 (no detections), 33.4ms\n",
                        "0: 320x416 (no detections), 29.4ms\n",
                        "0: 320x416 (no detections), 29.4ms\n",
                        "0: 320x416 (no detections), 36.6ms\n",
                        "0: 320x416 (no detections), 28.3ms\n",
                        "0: 320x416 (no detections), 28.9ms\n",
                        "0: 320x416 (no detections), 28.2ms\n",
                        "0: 320x416 (no detections), 32.8ms\n",
                        "0: 320x416 (no detections), 31.1ms\n",
                        "0: 320x416 (no detections), 31.4ms\n",
                        "0: 320x416 (no detections), 36.4ms\n",
                        "0: 320x416 (no detections), 41.0ms\n",
                        "0: 320x416 (no detections), 35.5ms\n",
                        "0: 320x416 (no detections), 41.6ms\n",
                        "0: 320x416 (no detections), 43.0ms\n",
                        "0: 320x416 (no detections), 40.3ms\n",
                        "0: 320x416 (no detections), 45.2ms\n",
                        "0: 320x416 (no detections), 37.5ms\n",
                        "0: 320x416 (no detections), 40.2ms\n",
                        "0: 320x416 (no detections), 35.3ms\n",
                        "0: 320x416 (no detections), 27.5ms\n",
                        "0: 320x416 (no detections), 33.5ms\n",
                        "0: 320x416 (no detections), 45.5ms\n",
                        "0: 320x416 (no detections), 32.1ms\n",
                        "0: 320x416 (no detections), 28.2ms\n",
                        "0: 320x416 (no detections), 28.7ms\n",
                        "0: 320x416 (no detections), 38.3ms\n",
                        "0: 320x416 (no detections), 30.1ms\n",
                        "0: 320x416 (no detections), 34.2ms\n",
                        "0: 320x416 (no detections), 48.0ms\n",
                        "0: 320x416 (no detections), 32.3ms\n",
                        "0: 320x416 (no detections), 28.4ms\n",
                        "0: 320x416 (no detections), 25.8ms\n",
                        "0: 320x416 (no detections), 32.1ms\n",
                        "0: 320x416 (no detections), 28.2ms\n",
                        "0: 320x416 (no detections), 35.0ms\n",
                        "0: 320x416 (no detections), 30.6ms\n",
                        "0: 320x416 (no detections), 33.6ms\n",
                        "0: 320x416 (no detections), 35.2ms\n",
                        "0: 320x416 (no detections), 30.6ms\n",
                        "0: 320x416 (no detections), 28.0ms\n",
                        "0: 320x416 (no detections), 28.6ms\n",
                        "0: 320x416 (no detections), 33.7ms\n",
                        "0: 320x416 (no detections), 37.7ms\n",
                        "0: 320x416 (no detections), 38.8ms\n",
                        "0: 320x416 (no detections), 49.0ms\n",
                        "0: 320x416 (no detections), 58.4ms\n",
                        "0: 320x416 (no detections), 41.9ms\n",
                        "0: 320x416 (no detections), 26.9ms\n",
                        "0: 320x416 (no detections), 27.3ms\n",
                        "0: 320x416 (no detections), 34.2ms\n",
                        "0: 320x416 (no detections), 29.9ms\n",
                        "0: 320x416 (no detections), 24.8ms\n",
                        "0: 320x416 (no detections), 28.4ms\n",
                        "0: 320x416 (no detections), 26.7ms\n",
                        "0: 320x416 (no detections), 26.8ms\n",
                        "0: 320x416 (no detections), 31.2ms\n",
                        "0: 320x416 1 B, 26.5ms\n",
                        "0: 320x416 (no detections), 27.9ms\n",
                        "0: 320x416 1 B, 25.4ms\n",
                        "0: 320x416 1 B, 24.9ms\n",
                        "0: 320x416 1 B, 27.3ms\n",
                        "0: 320x416 1 B, 26.1ms\n",
                        "0: 320x416 1 B, 24.4ms\n",
                        "0: 320x416 1 B, 28.5ms\n",
                        "0: 320x416 1 B, 25.8ms\n",
                        "0: 320x416 1 B, 29.0ms\n",
                        "0: 320x416 1 B, 26.5ms\n",
                        "0: 320x416 1 B, 28.3ms\n",
                        "0: 320x416 1 B, 26.0ms\n",
                        "0: 320x416 1 B, 27.8ms\n",
                        "0: 320x416 1 B, 30.7ms\n",
                        "0: 320x416 1 B, 29.6ms\n",
                        "0: 320x416 1 B, 28.2ms\n",
                        "0: 320x416 1 B, 25.5ms\n",
                        "0: 320x416 1 B, 30.1ms\n",
                        "0: 320x416 (no detections), 26.1ms\n",
                        "0: 320x416 (no detections), 27.7ms\n",
                        "0: 320x416 (no detections), 36.1ms\n",
                        "0: 320x416 (no detections), 38.1ms\n",
                        "0: 320x416 (no detections), 34.7ms\n",
                        "0: 320x416 (no detections), 27.6ms\n",
                        "0: 320x416 (no detections), 32.9ms\n",
                        "0: 320x416 1 E, 33.6ms\n",
                        "0: 320x416 (no detections), 28.5ms\n",
                        "0: 320x416 (no detections), 25.6ms\n",
                        "0: 320x416 (no detections), 35.6ms\n",
                        "0: 320x416 (no detections), 23.4ms\n",
                        "0: 320x416 (no detections), 26.8ms\n",
                        "0: 320x416 (no detections), 26.6ms\n",
                        "0: 320x416 (no detections), 25.2ms\n",
                        "0: 320x416 (no detections), 27.6ms\n",
                        "0: 320x416 (no detections), 25.1ms\n",
                        "0: 320x416 (no detections), 24.2ms\n",
                        "0: 320x416 (no detections), 27.1ms\n",
                        "0: 320x416 (no detections), 26.7ms\n",
                        "0: 320x416 (no detections), 26.9ms\n",
                        "0: 320x416 (no detections), 26.4ms\n",
                        "0: 320x416 (no detections), 28.1ms\n",
                        "0: 320x416 (no detections), 27.1ms\n",
                        "0: 320x416 (no detections), 27.5ms\n",
                        "0: 320x416 (no detections), 24.9ms\n",
                        "0: 320x416 (no detections), 25.6ms\n",
                        "0: 320x416 (no detections), 26.4ms\n",
                        "0: 320x416 (no detections), 25.9ms\n",
                        "0: 320x416 (no detections), 27.6ms\n",
                        "0: 320x416 (no detections), 33.0ms\n",
                        "0: 320x416 (no detections), 33.1ms\n",
                        "0: 320x416 (no detections), 37.1ms\n",
                        "0: 320x416 (no detections), 30.4ms\n",
                        "0: 320x416 (no detections), 32.5ms\n",
                        "0: 320x416 (no detections), 31.7ms\n",
                        "0: 320x416 (no detections), 33.8ms\n",
                        "0: 320x416 (no detections), 32.0ms\n",
                        "0: 320x416 1 W, 31.4ms\n",
                        "0: 320x416 (no detections), 33.9ms\n",
                        "0: 320x416 1 W, 32.9ms\n",
                        "0: 320x416 (no detections), 36.1ms\n",
                        "0: 320x416 1 W, 34.0ms\n",
                        "0: 320x416 1 U, 31.9ms\n",
                        "0: 320x416 1 W, 29.9ms\n",
                        "0: 320x416 1 W, 28.5ms\n",
                        "0: 320x416 (no detections), 24.6ms\n",
                        "0: 320x416 (no detections), 24.8ms\n",
                        "0: 320x416 (no detections), 28.1ms\n",
                        "0: 320x416 (no detections), 25.6ms\n",
                        "0: 320x416 1 W, 26.3ms\n",
                        "0: 320x416 1 W, 25.0ms\n",
                        "0: 320x416 (no detections), 25.0ms\n",
                        "0: 320x416 1 W, 26.5ms\n",
                        "0: 320x416 1 W, 26.6ms\n",
                        "0: 320x416 1 W, 29.1ms\n",
                        "0: 320x416 (no detections), 24.7ms\n",
                        "0: 320x416 (no detections), 24.5ms\n",
                        "0: 320x416 (no detections), 23.2ms\n",
                        "0: 320x416 1 W, 26.8ms\n",
                        "0: 320x416 (no detections), 22.3ms\n",
                        "0: 320x416 (no detections), 26.7ms\n",
                        "0: 320x416 1 B, 27.3ms\n",
                        "0: 320x416 (no detections), 28.5ms\n",
                        "0: 320x416 1 W, 26.7ms\n",
                        "0: 320x416 1 W, 29.1ms\n",
                        "0: 320x416 1 B, 30.4ms\n",
                        "0: 320x416 1 W, 42.6ms\n",
                        "0: 320x416 1 W, 42.6ms\n",
                        "0: 320x416 (no detections), 39.3ms\n",
                        "0: 320x416 (no detections), 36.2ms\n",
                        "0: 320x416 (no detections), 38.6ms\n",
                        "0: 320x416 (no detections), 42.7ms\n",
                        "0: 320x416 (no detections), 44.7ms\n",
                        "0: 320x416 (no detections), 31.4ms\n",
                        "0: 320x416 (no detections), 46.4ms\n",
                        "0: 320x416 (no detections), 30.8ms\n",
                        "0: 320x416 (no detections), 29.9ms\n",
                        "0: 320x416 (no detections), 27.5ms\n",
                        "0: 320x416 (no detections), 27.7ms\n",
                        "0: 320x416 (no detections), 28.6ms\n",
                        "0: 320x416 (no detections), 31.3ms\n",
                        "0: 320x416 (no detections), 38.2ms\n",
                        "0: 320x416 (no detections), 26.7ms\n",
                        "0: 320x416 (no detections), 26.7ms\n",
                        "0: 320x416 (no detections), 29.5ms\n",
                        "0: 320x416 (no detections), 31.3ms\n",
                        "0: 320x416 (no detections), 26.0ms\n",
                        "0: 320x416 (no detections), 26.2ms\n",
                        "0: 320x416 (no detections), 40.7ms\n",
                        "0: 320x416 (no detections), 30.2ms\n",
                        "0: 320x416 (no detections), 57.3ms\n",
                        "0: 320x416 (no detections), 67.9ms\n",
                        "0: 320x416 (no detections), 46.2ms\n",
                        "0: 320x416 (no detections), 37.2ms\n",
                        "0: 320x416 (no detections), 42.3ms\n",
                        "0: 320x416 (no detections), 53.8ms\n",
                        "0: 320x416 (no detections), 49.4ms\n",
                        "0: 320x416 (no detections), 44.2ms\n",
                        "0: 320x416 (no detections), 41.4ms\n",
                        "0: 320x416 (no detections), 56.1ms\n",
                        "0: 320x416 (no detections), 34.4ms\n",
                        "0: 320x416 (no detections), 31.3ms\n",
                        "0: 320x416 (no detections), 30.7ms\n",
                        "0: 320x416 (no detections), 25.1ms\n",
                        "0: 320x416 (no detections), 26.2ms\n",
                        "0: 320x416 (no detections), 52.1ms\n",
                        "0: 320x416 (no detections), 104.5ms\n",
                        "0: 320x416 (no detections), 44.8ms\n",
                        "0: 320x416 (no detections), 53.4ms\n",
                        "0: 320x416 (no detections), 53.4ms\n",
                        "0: 320x416 (no detections), 54.4ms\n",
                        "0: 320x416 1 B, 62.8ms\n",
                        "0: 320x416 (no detections), 55.2ms\n",
                        "0: 320x416 1 B, 49.4ms\n",
                        "0: 320x416 1 B, 45.7ms\n",
                        "0: 320x416 (no detections), 37.7ms\n",
                        "0: 320x416 (no detections), 31.9ms\n",
                        "0: 320x416 1 B, 33.7ms\n",
                        "0: 320x416 1 B, 37.0ms\n",
                        "0: 320x416 (no detections), 37.2ms\n",
                        "0: 320x416 (no detections), 36.7ms\n",
                        "0: 320x416 (no detections), 37.6ms\n",
                        "0: 320x416 (no detections), 35.8ms\n",
                        "0: 320x416 1 B, 35.3ms\n",
                        "0: 320x416 (no detections), 42.0ms\n",
                        "0: 320x416 1 B, 39.5ms\n",
                        "0: 320x416 (no detections), 36.8ms\n",
                        "0: 320x416 (no detections), 36.1ms\n",
                        "0: 320x416 (no detections), 38.4ms\n",
                        "0: 320x416 1 B, 27.4ms\n",
                        "0: 320x416 1 B, 26.8ms\n",
                        "0: 320x416 1 B, 25.0ms\n",
                        "0: 320x416 (no detections), 31.5ms\n",
                        "0: 320x416 1 B, 34.1ms\n",
                        "0: 320x416 (no detections), 40.8ms\n",
                        "0: 320x416 (no detections), 57.1ms\n",
                        "0: 320x416 1 B, 43.6ms\n",
                        "0: 320x416 (no detections), 44.3ms\n",
                        "0: 320x416 1 B, 45.7ms\n",
                        "0: 320x416 (no detections), 46.0ms\n",
                        "0: 320x416 (no detections), 57.4ms\n",
                        "0: 320x416 1 B, 41.4ms\n",
                        "0: 320x416 1 B, 29.7ms\n",
                        "0: 320x416 1 B, 33.3ms\n",
                        "0: 320x416 1 B, 30.4ms\n",
                        "0: 320x416 1 B, 43.5ms\n",
                        "0: 320x416 1 B, 41.2ms\n",
                        "0: 320x416 1 B, 42.4ms\n",
                        "0: 320x416 1 B, 39.3ms\n",
                        "0: 320x416 1 B, 110.9ms\n",
                        "0: 320x416 1 B, 1 W, 66.6ms\n",
                        "0: 320x416 1 B, 40.2ms\n",
                        "0: 320x416 1 B, 1 W, 37.2ms\n",
                        "0: 320x416 1 B, 61.5ms\n",
                        "0: 320x416 1 B, 36.8ms\n",
                        "0: 320x416 1 B, 33.4ms\n",
                        "0: 320x416 1 B, 28.8ms\n",
                        "0: 320x416 1 B, 43.1ms\n",
                        "0: 320x416 1 B, 41.9ms\n",
                        "0: 320x416 1 B, 50.5ms\n",
                        "0: 320x416 1 B, 100.5ms\n",
                        "0: 320x416 1 B, 136.3ms\n",
                        "0: 320x416 1 B, 94.6ms\n",
                        "0: 320x416 1 B, 57.8ms\n",
                        "0: 320x416 1 B, 45.1ms\n",
                        "0: 320x416 1 B, 46.8ms\n",
                        "0: 320x416 1 B, 41.0ms\n",
                        "0: 320x416 (no detections), 51.2ms\n",
                        "0: 320x416 1 B, 73.0ms\n",
                        "0: 320x416 1 B, 70.6ms\n",
                        "0: 320x416 1 B, 65.5ms\n",
                        "0: 320x416 1 B, 39.9ms\n",
                        "0: 320x416 1 B, 49.9ms\n",
                        "0: 320x416 1 B, 56.2ms\n",
                        "0: 320x416 1 W, 64.4ms\n",
                        "0: 320x416 1 B, 1 W, 46.2ms\n",
                        "0: 320x416 1 W, 40.3ms\n",
                        "0: 320x416 1 W, 36.4ms\n",
                        "0: 320x416 1 W, 35.1ms\n",
                        "0: 320x416 1 W, 102.1ms\n",
                        "0: 320x416 1 B, 1 W, 53.2ms\n",
                        "0: 320x416 1 W, 45.1ms\n",
                        "0: 320x416 1 B, 57.2ms\n",
                        "0: 320x416 1 B, 50.0ms\n",
                        "0: 320x416 1 B, 59.2ms\n",
                        "0: 320x416 1 B, 95.8ms\n",
                        "0: 320x416 1 B, 71.3ms\n",
                        "0: 320x416 1 B, 52.7ms\n",
                        "0: 320x416 1 B, 54.7ms\n",
                        "0: 320x416 1 B, 53.2ms\n",
                        "0: 320x416 1 B, 43.2ms\n",
                        "0: 320x416 1 B, 41.2ms\n",
                        "0: 320x416 1 B, 35.0ms\n",
                        "0: 320x416 1 B, 1 W, 38.3ms\n",
                        "0: 320x416 1 B, 33.7ms\n",
                        "0: 320x416 1 B, 1 W, 37.9ms\n",
                        "0: 320x416 1 B, 41.7ms\n",
                        "0: 320x416 1 B, 49.8ms\n",
                        "0: 320x416 1 B, 1 W, 33.9ms\n",
                        "0: 320x416 1 B, 41.4ms\n",
                        "0: 320x416 1 B, 58.7ms\n",
                        "0: 320x416 1 B, 76.9ms\n",
                        "0: 320x416 1 B, 56.3ms\n",
                        "0: 320x416 (no detections), 40.1ms\n",
                        "0: 320x416 1 B, 43.7ms\n",
                        "0: 320x416 1 B, 76.2ms\n",
                        "0: 320x416 1 B, 92.2ms\n",
                        "0: 320x416 1 B, 42.5ms\n",
                        "0: 320x416 1 W, 41.0ms\n",
                        "0: 320x416 1 W, 32.3ms\n",
                        "0: 320x416 1 W, 35.4ms\n",
                        "0: 320x416 1 W, 34.6ms\n",
                        "0: 320x416 (no detections), 37.0ms\n",
                        "0: 320x416 (no detections), 54.0ms\n",
                        "0: 320x416 1 W, 42.4ms\n",
                        "0: 320x416 (no detections), 40.5ms\n",
                        "0: 320x416 1 W, 34.0ms\n",
                        "0: 320x416 1 W, 39.5ms\n",
                        "0: 320x416 1 W, 37.4ms\n",
                        "0: 320x416 1 B, 45.6ms\n",
                        "0: 320x416 1 W, 47.5ms\n",
                        "0: 320x416 1 W, 31.6ms\n",
                        "0: 320x416 (no detections), 33.8ms\n",
                        "0: 320x416 1 B, 46.2ms\n",
                        "0: 320x416 1 B, 58.3ms\n",
                        "0: 320x416 1 B, 37.7ms\n",
                        "0: 320x416 1 B, 44.0ms\n",
                        "0: 320x416 1 B, 139.9ms\n",
                        "0: 320x416 1 B, 61.3ms\n",
                        "0: 320x416 1 B, 48.8ms\n",
                        "0: 320x416 1 B, 42.8ms\n",
                        "0: 320x416 1 B, 36.8ms\n",
                        "0: 320x416 1 B, 40.9ms\n",
                        "0: 320x416 1 B, 34.7ms\n",
                        "0: 320x416 1 B, 31.5ms\n",
                        "0: 320x416 1 B, 34.9ms\n",
                        "0: 320x416 1 B, 74.1ms\n",
                        "0: 320x416 1 B, 72.8ms\n",
                        "0: 320x416 1 B, 49.4ms\n",
                        "0: 320x416 1 B, 48.4ms\n",
                        "0: 320x416 1 B, 37.4ms\n",
                        "0: 320x416 1 B, 46.1ms\n",
                        "0: 320x416 1 B, 39.0ms\n",
                        "0: 320x416 1 B, 41.5ms\n",
                        "0: 320x416 1 B, 54.9ms\n",
                        "0: 320x416 1 B, 35.0ms\n",
                        "0: 320x416 1 B, 32.7ms\n",
                        "0: 320x416 1 B, 33.1ms\n",
                        "0: 320x416 1 B, 36.0ms\n",
                        "0: 320x416 1 B, 32.7ms\n",
                        "0: 320x416 1 B, 52.5ms\n",
                        "0: 320x416 1 B, 36.5ms\n",
                        "0: 320x416 1 B, 36.2ms\n",
                        "0: 320x416 1 B, 41.1ms\n",
                        "0: 320x416 1 B, 46.6ms\n",
                        "0: 320x416 1 B, 43.2ms\n",
                        "0: 320x416 1 B, 48.9ms\n",
                        "0: 320x416 (no detections), 54.5ms\n",
                        "0: 320x416 1 B, 45.1ms\n",
                        "0: 320x416 1 B, 43.4ms\n",
                        "0: 320x416 1 B, 40.4ms\n",
                        "0: 320x416 1 B, 29.8ms\n",
                        "0: 320x416 1 B, 31.8ms\n",
                        "0: 320x416 1 B, 57.4ms\n",
                        "0: 320x416 1 B, 109.6ms\n",
                        "0: 320x416 1 B, 48.4ms\n",
                        "0: 320x416 1 B, 45.8ms\n",
                        "0: 320x416 1 B, 38.9ms\n",
                        "0: 320x416 1 B, 39.3ms\n",
                        "0: 320x416 1 B, 40.9ms\n",
                        "0: 320x416 (no detections), 36.6ms\n",
                        "0: 320x416 1 B, 44.1ms\n",
                        "0: 320x416 1 B, 65.7ms\n",
                        "0: 320x416 (no detections), 64.4ms\n",
                        "0: 320x416 1 B, 61.5ms\n",
                        "0: 320x416 1 B, 55.8ms\n",
                        "0: 320x416 1 B, 45.5ms\n",
                        "0: 320x416 1 B, 40.5ms\n",
                        "0: 320x416 1 B, 34.0ms\n",
                        "0: 320x416 1 B, 32.5ms\n",
                        "0: 320x416 1 B, 35.3ms\n",
                        "0: 320x416 1 B, 37.8ms\n",
                        "0: 320x416 1 B, 32.0ms\n",
                        "0: 320x416 (no detections), 33.9ms\n",
                        "0: 320x416 (no detections), 33.1ms\n",
                        "0: 320x416 (no detections), 43.2ms\n",
                        "0: 320x416 (no detections), 39.2ms\n",
                        "0: 320x416 (no detections), 40.0ms\n",
                        "0: 320x416 (no detections), 42.1ms\n",
                        "0: 320x416 (no detections), 58.0ms\n",
                        "0: 320x416 (no detections), 57.1ms\n",
                        "0: 320x416 (no detections), 50.5ms\n",
                        "0: 320x416 (no detections), 43.2ms\n",
                        "0: 320x416 (no detections), 32.0ms\n",
                        "0: 320x416 (no detections), 31.7ms\n",
                        "0: 320x416 (no detections), 37.1ms\n",
                        "0: 320x416 (no detections), 41.0ms\n",
                        "0: 320x416 (no detections), 61.7ms\n",
                        "0: 320x416 (no detections), 93.8ms\n",
                        "0: 320x416 (no detections), 71.2ms\n",
                        "0: 320x416 (no detections), 60.5ms\n",
                        "0: 320x416 (no detections), 183.8ms\n",
                        "0: 320x416 (no detections), 55.0ms\n",
                        "0: 320x416 (no detections), 50.1ms\n",
                        "0: 320x416 1 E, 44.9ms\n",
                        "0: 320x416 1 E, 38.7ms\n",
                        "0: 320x416 1 E, 39.1ms\n",
                        "0: 320x416 1 E, 31.2ms\n",
                        "0: 320x416 1 E, 41.2ms\n",
                        "0: 320x416 1 E, 36.1ms\n",
                        "0: 320x416 1 E, 35.2ms\n",
                        "0: 320x416 1 E, 36.7ms\n",
                        "0: 320x416 (no detections), 36.6ms\n",
                        "0: 320x416 1 E, 35.0ms\n",
                        "0: 320x416 (no detections), 38.3ms\n",
                        "0: 320x416 1 A, 33.5ms\n",
                        "0: 320x416 (no detections), 32.1ms\n",
                        "0: 320x416 (no detections), 29.8ms\n",
                        "0: 320x416 (no detections), 28.3ms\n",
                        "0: 320x416 (no detections), 24.8ms\n",
                        "0: 320x416 (no detections), 29.0ms\n",
                        "0: 320x416 (no detections), 32.2ms\n",
                        "0: 320x416 1 E, 27.9ms\n",
                        "0: 320x416 1 E, 27.7ms\n",
                        "0: 320x416 1 E, 42.0ms\n",
                        "0: 320x416 1 E, 26.9ms\n",
                        "0: 320x416 1 E, 34.4ms\n",
                        "0: 320x416 1 E, 32.4ms\n",
                        "0: 320x416 1 E, 33.7ms\n",
                        "0: 320x416 1 E, 26.3ms\n",
                        "0: 320x416 (no detections), 31.4ms\n",
                        "0: 320x416 (no detections), 37.8ms\n",
                        "0: 320x416 1 E, 37.3ms\n",
                        "0: 320x416 1 E, 37.8ms\n",
                        "0: 320x416 1 E, 40.1ms\n",
                        "0: 320x416 1 E, 33.8ms\n",
                        "0: 320x416 1 E, 36.3ms\n",
                        "0: 320x416 (no detections), 32.6ms\n",
                        "0: 320x416 (no detections), 30.1ms\n",
                        "0: 320x416 (no detections), 30.9ms\n",
                        "0: 320x416 (no detections), 36.7ms\n",
                        "0: 320x416 (no detections), 29.4ms\n",
                        "0: 320x416 (no detections), 29.8ms\n",
                        "0: 320x416 (no detections), 32.9ms\n",
                        "0: 320x416 (no detections), 32.8ms\n",
                        "0: 320x416 (no detections), 36.3ms\n",
                        "0: 320x416 (no detections), 39.1ms\n",
                        "0: 320x416 (no detections), 36.2ms\n",
                        "0: 320x416 (no detections), 35.6ms\n",
                        "0: 320x416 (no detections), 28.4ms\n",
                        "0: 320x416 (no detections), 36.4ms\n",
                        "0: 320x416 1 E, 28.4ms\n",
                        "0: 320x416 1 E, 26.9ms\n",
                        "0: 320x416 1 E, 27.3ms\n",
                        "0: 320x416 1 E, 36.6ms\n",
                        "0: 320x416 1 E, 35.3ms\n",
                        "0: 320x416 1 E, 37.8ms\n",
                        "0: 320x416 1 A, 36.8ms\n",
                        "0: 320x416 1 A, 30.0ms\n",
                        "0: 320x416 1 A, 33.9ms\n",
                        "0: 320x416 1 E, 35.6ms\n",
                        "0: 320x416 1 E, 37.5ms\n",
                        "0: 320x416 1 E, 36.2ms\n",
                        "0: 320x416 1 E, 34.1ms\n",
                        "0: 320x416 1 E, 30.4ms\n",
                        "0: 320x416 1 E, 39.4ms\n",
                        "0: 320x416 1 E, 33.5ms\n",
                        "0: 320x416 1 E, 35.5ms\n",
                        "0: 320x416 1 E, 29.2ms\n",
                        "0: 320x416 1 E, 34.8ms\n",
                        "0: 320x416 1 E, 27.0ms\n",
                        "0: 320x416 1 E, 38.2ms\n",
                        "0: 320x416 1 E, 44.9ms\n",
                        "0: 320x416 1 E, 59.8ms\n",
                        "0: 320x416 1 E, 36.9ms\n",
                        "0: 320x416 1 E, 38.7ms\n",
                        "0: 320x416 1 E, 31.5ms\n",
                        "0: 320x416 1 E, 33.1ms\n",
                        "0: 320x416 1 E, 31.9ms\n",
                        "0: 320x416 1 E, 33.9ms\n",
                        "0: 320x416 1 E, 30.7ms\n",
                        "0: 320x416 1 E, 39.4ms\n",
                        "0: 320x416 1 E, 38.8ms\n",
                        "0: 320x416 1 E, 37.9ms\n",
                        "0: 320x416 1 E, 34.5ms\n",
                        "0: 320x416 1 E, 37.2ms\n",
                        "0: 320x416 1 E, 33.7ms\n",
                        "0: 320x416 1 E, 36.3ms\n",
                        "0: 320x416 1 E, 37.4ms\n",
                        "0: 320x416 1 E, 35.6ms\n",
                        "0: 320x416 1 E, 36.2ms\n",
                        "0: 320x416 1 E, 40.2ms\n",
                        "0: 320x416 1 E, 35.0ms\n",
                        "0: 320x416 1 E, 42.5ms\n",
                        "0: 320x416 1 E, 43.1ms\n",
                        "0: 320x416 1 E, 36.9ms\n",
                        "0: 320x416 1 E, 34.3ms\n",
                        "0: 320x416 1 E, 27.8ms\n",
                        "0: 320x416 1 E, 29.6ms\n",
                        "0: 320x416 1 E, 28.3ms\n",
                        "0: 320x416 (no detections), 27.2ms\n",
                        "0: 320x416 (no detections), 29.1ms\n",
                        "0: 320x416 1 E, 27.2ms\n",
                        "0: 320x416 1 E, 27.5ms\n",
                        "0: 320x416 1 E, 26.8ms\n",
                        "0: 320x416 1 E, 27.9ms\n",
                        "0: 320x416 1 E, 29.7ms\n",
                        "0: 320x416 1 E, 29.4ms\n",
                        "0: 320x416 1 E, 28.0ms\n",
                        "0: 320x416 1 E, 27.6ms\n",
                        "0: 320x416 1 E, 28.1ms\n",
                        "0: 320x416 1 E, 30.9ms\n",
                        "0: 320x416 1 E, 31.9ms\n",
                        "0: 320x416 1 E, 33.8ms\n",
                        "0: 320x416 1 E, 28.8ms\n",
                        "0: 320x416 1 E, 28.3ms\n",
                        "0: 320x416 1 E, 23.9ms\n",
                        "0: 320x416 1 E, 27.5ms\n",
                        "0: 320x416 1 E, 26.3ms\n",
                        "0: 320x416 1 E, 28.0ms\n",
                        "0: 320x416 1 E, 27.8ms\n",
                        "0: 320x416 1 E, 27.6ms\n",
                        "0: 320x416 1 E, 26.3ms\n",
                        "0: 320x416 1 E, 28.0ms\n",
                        "0: 320x416 1 E, 27.8ms\n",
                        "0: 320x416 1 E, 28.9ms\n",
                        "0: 320x416 1 E, 28.4ms\n",
                        "0: 320x416 1 E, 28.8ms\n",
                        "0: 320x416 1 E, 28.3ms\n",
                        "0: 320x416 1 E, 29.1ms\n",
                        "0: 320x416 1 E, 27.1ms\n",
                        "0: 320x416 1 E, 27.4ms\n",
                        "0: 320x416 1 E, 28.0ms\n",
                        "0: 320x416 1 E, 29.4ms\n",
                        "0: 320x416 1 E, 26.1ms\n",
                        "0: 320x416 1 E, 25.6ms\n",
                        "0: 320x416 1 E, 26.3ms\n",
                        "0: 320x416 1 E, 27.3ms\n",
                        "0: 320x416 1 E, 36.7ms\n",
                        "0: 320x416 1 E, 30.2ms\n",
                        "0: 320x416 1 E, 31.7ms\n",
                        "0: 320x416 1 E, 29.5ms\n",
                        "0: 320x416 1 E, 28.3ms\n",
                        "0: 320x416 1 E, 33.4ms\n",
                        "0: 320x416 1 E, 31.9ms\n",
                        "0: 320x416 1 E, 29.5ms\n",
                        "0: 320x416 1 E, 31.5ms\n",
                        "0: 320x416 1 E, 31.5ms\n",
                        "0: 320x416 1 E, 30.0ms\n",
                        "0: 320x416 1 E, 33.7ms\n",
                        "0: 320x416 1 E, 34.1ms\n",
                        "0: 320x416 1 E, 34.9ms\n",
                        "0: 320x416 1 E, 30.8ms\n",
                        "0: 320x416 1 E, 29.8ms\n",
                        "0: 320x416 1 E, 33.3ms\n",
                        "0: 320x416 1 E, 30.3ms\n",
                        "0: 320x416 1 E, 35.9ms\n",
                        "0: 320x416 1 E, 32.1ms\n",
                        "0: 320x416 1 E, 27.8ms\n",
                        "0: 320x416 1 E, 28.6ms\n",
                        "0: 320x416 1 E, 28.1ms\n",
                        "0: 320x416 1 E, 26.9ms\n",
                        "0: 320x416 1 E, 29.3ms\n",
                        "0: 320x416 1 E, 30.9ms\n",
                        "0: 320x416 1 E, 28.2ms\n",
                        "0: 320x416 1 E, 35.9ms\n",
                        "0: 320x416 1 E, 41.7ms\n",
                        "0: 320x416 1 E, 32.9ms\n",
                        "0: 320x416 1 E, 31.6ms\n",
                        "0: 320x416 1 E, 35.7ms\n",
                        "0: 320x416 1 E, 32.5ms\n",
                        "0: 320x416 1 E, 25.8ms\n",
                        "0: 320x416 1 E, 29.3ms\n",
                        "0: 320x416 1 E, 29.3ms\n",
                        "0: 320x416 1 E, 27.0ms\n",
                        "0: 320x416 1 E, 29.2ms\n",
                        "0: 320x416 1 E, 29.7ms\n",
                        "0: 320x416 1 E, 27.1ms\n",
                        "0: 320x416 1 E, 27.5ms\n",
                        "0: 320x416 1 E, 31.0ms\n",
                        "0: 320x416 1 E, 27.8ms\n",
                        "0: 320x416 1 E, 27.6ms\n",
                        "0: 320x416 1 E, 29.0ms\n",
                        "0: 320x416 1 E, 31.0ms\n",
                        "0: 320x416 1 E, 28.3ms\n",
                        "0: 320x416 1 E, 27.3ms\n",
                        "0: 320x416 1 E, 30.3ms\n",
                        "0: 320x416 1 E, 29.7ms\n",
                        "0: 320x416 1 E, 25.2ms\n",
                        "0: 320x416 1 E, 31.0ms\n",
                        "0: 320x416 1 E, 31.0ms\n",
                        "0: 320x416 1 E, 30.4ms\n",
                        "0: 320x416 1 E, 28.2ms\n",
                        "0: 320x416 1 E, 29.5ms\n",
                        "0: 320x416 1 E, 26.2ms\n",
                        "0: 320x416 1 E, 28.6ms\n",
                        "0: 320x416 1 E, 28.8ms\n",
                        "0: 320x416 1 E, 26.0ms\n",
                        "0: 320x416 1 E, 26.0ms\n",
                        "0: 320x416 (no detections), 26.0ms\n",
                        "0: 320x416 1 E, 28.7ms\n",
                        "0: 320x416 1 E, 28.4ms\n",
                        "0: 320x416 1 E, 25.1ms\n",
                        "0: 320x416 1 A, 1 E, 26.5ms\n",
                        "0: 320x416 1 E, 28.6ms\n",
                        "0: 320x416 1 E, 28.3ms\n",
                        "0: 320x416 1 E, 30.1ms\n",
                        "0: 320x416 1 E, 29.5ms\n",
                        "0: 320x416 1 E, 26.3ms\n",
                        "0: 320x416 1 E, 27.2ms\n",
                        "0: 320x416 1 E, 40.8ms\n",
                        "0: 320x416 1 E, 27.1ms\n",
                        "0: 320x416 1 E, 25.6ms\n",
                        "0: 320x416 1 A, 1 E, 25.8ms\n",
                        "0: 320x416 1 E, 26.3ms\n",
                        "0: 320x416 1 E, 28.2ms\n",
                        "0: 320x416 1 A, 27.7ms\n",
                        "0: 320x416 1 A, 1 E, 26.0ms\n",
                        "0: 320x416 1 A, 28.4ms\n",
                        "0: 320x416 1 E, 28.5ms\n",
                        "0: 320x416 1 A, 1 E, 29.0ms\n",
                        "0: 320x416 1 A, 50.1ms\n",
                        "0: 320x416 1 A, 1 E, 42.9ms\n",
                        "0: 320x416 1 E, 27.5ms\n",
                        "0: 320x416 1 A, 26.5ms\n",
                        "0: 320x416 1 A, 1 E, 29.5ms\n",
                        "0: 320x416 1 A, 1 E, 27.6ms\n",
                        "0: 320x416 1 A, 1 E, 28.5ms\n",
                        "0: 320x416 1 A, 1 E, 26.8ms\n",
                        "0: 320x416 1 E, 27.8ms\n",
                        "0: 320x416 1 A, 1 E, 27.9ms\n",
                        "0: 320x416 1 E, 29.6ms\n",
                        "0: 320x416 1 A, 26.9ms\n",
                        "0: 320x416 1 A, 30.2ms\n",
                        "0: 320x416 1 A, 27.6ms\n",
                        "0: 320x416 1 A, 25.2ms\n",
                        "0: 320x416 1 A, 25.6ms\n",
                        "0: 320x416 1 A, 29.3ms\n",
                        "0: 320x416 1 A, 32.8ms\n",
                        "0: 320x416 1 A, 32.7ms\n",
                        "0: 320x416 1 A, 27.9ms\n",
                        "0: 320x416 1 A, 25.4ms\n",
                        "0: 320x416 1 A, 28.5ms\n",
                        "0: 320x416 1 A, 32.3ms\n",
                        "0: 320x416 1 A, 29.7ms\n",
                        "0: 320x416 1 A, 25.9ms\n",
                        "0: 320x416 1 A, 26.9ms\n",
                        "0: 320x416 1 A, 27.4ms\n",
                        "0: 320x416 1 A, 27.9ms\n",
                        "0: 320x416 1 A, 32.5ms\n",
                        "0: 320x416 1 A, 27.2ms\n",
                        "0: 320x416 1 A, 27.1ms\n",
                        "0: 320x416 1 A, 25.1ms\n",
                        "0: 320x416 1 A, 27.4ms\n",
                        "0: 320x416 1 A, 31.2ms\n",
                        "0: 320x416 1 A, 32.9ms\n",
                        "0: 320x416 1 A, 38.7ms\n",
                        "0: 320x416 1 A, 34.0ms\n",
                        "0: 320x416 1 A, 33.5ms\n",
                        "0: 320x416 1 A, 31.0ms\n",
                        "0: 320x416 1 A, 26.8ms\n",
                        "0: 320x416 1 A, 28.1ms\n",
                        "0: 320x416 1 A, 29.0ms\n",
                        "0: 320x416 1 A, 27.9ms\n",
                        "0: 320x416 1 A, 34.7ms\n",
                        "0: 320x416 1 A, 30.7ms\n",
                        "0: 320x416 1 A, 27.3ms\n",
                        "0: 320x416 1 A, 28.3ms\n",
                        "0: 320x416 1 A, 28.9ms\n",
                        "0: 320x416 1 A, 27.9ms\n",
                        "0: 320x416 1 A, 27.5ms\n",
                        "0: 320x416 1 A, 30.3ms\n",
                        "0: 320x416 1 A, 29.8ms\n",
                        "0: 320x416 1 A, 27.0ms\n",
                        "0: 320x416 1 A, 27.8ms\n",
                        "0: 320x416 1 A, 31.1ms\n",
                        "0: 320x416 1 A, 27.1ms\n",
                        "0: 320x416 1 A, 28.9ms\n",
                        "0: 320x416 1 A, 29.3ms\n",
                        "0: 320x416 1 A, 28.0ms\n",
                        "0: 320x416 1 A, 29.9ms\n",
                        "0: 320x416 1 A, 30.5ms\n",
                        "0: 320x416 1 A, 35.1ms\n",
                        "0: 320x416 1 A, 28.6ms\n",
                        "0: 320x416 1 A, 26.8ms\n",
                        "0: 320x416 1 A, 26.0ms\n",
                        "0: 320x416 1 A, 31.2ms\n",
                        "0: 320x416 1 A, 26.0ms\n",
                        "0: 320x416 1 A, 29.8ms\n",
                        "0: 320x416 1 A, 28.7ms\n",
                        "0: 320x416 1 A, 27.3ms\n",
                        "0: 320x416 1 A, 28.2ms\n",
                        "0: 320x416 1 A, 36.2ms\n",
                        "0: 320x416 1 A, 31.3ms\n",
                        "0: 320x416 1 A, 30.1ms\n",
                        "0: 320x416 1 A, 27.9ms\n",
                        "0: 320x416 1 A, 27.0ms\n",
                        "0: 320x416 1 A, 29.9ms\n",
                        "0: 320x416 1 A, 26.5ms\n",
                        "0: 320x416 1 A, 28.1ms\n",
                        "0: 320x416 1 A, 30.8ms\n",
                        "0: 320x416 1 A, 27.4ms\n",
                        "0: 320x416 1 A, 28.3ms\n",
                        "0: 320x416 1 A, 30.1ms\n",
                        "0: 320x416 1 A, 34.4ms\n",
                        "0: 320x416 1 A, 32.6ms\n",
                        "0: 320x416 1 A, 30.1ms\n",
                        "0: 320x416 1 A, 30.1ms\n",
                        "0: 320x416 1 A, 37.5ms\n",
                        "0: 320x416 1 A, 33.9ms\n",
                        "0: 320x416 1 A, 33.0ms\n",
                        "0: 320x416 1 A, 31.0ms\n",
                        "0: 320x416 1 A, 29.3ms\n",
                        "0: 320x416 1 A, 30.0ms\n",
                        "0: 320x416 1 A, 25.2ms\n",
                        "0: 320x416 1 A, 30.2ms\n",
                        "0: 320x416 1 A, 30.7ms\n",
                        "0: 320x416 1 A, 27.2ms\n",
                        "0: 320x416 1 A, 27.6ms\n",
                        "0: 320x416 1 A, 26.2ms\n",
                        "0: 320x416 1 A, 28.1ms\n",
                        "0: 320x416 1 A, 26.3ms\n",
                        "0: 320x416 1 A, 26.0ms\n",
                        "0: 320x416 1 A, 29.9ms\n",
                        "0: 320x416 1 A, 29.4ms\n",
                        "0: 320x416 1 A, 26.8ms\n",
                        "0: 320x416 1 A, 27.4ms\n",
                        "0: 320x416 1 A, 26.9ms\n",
                        "0: 320x416 1 A, 32.0ms\n",
                        "0: 320x416 1 A, 28.2ms\n",
                        "0: 320x416 1 A, 28.9ms\n",
                        "0: 320x416 1 A, 28.5ms\n",
                        "0: 320x416 1 A, 30.1ms\n",
                        "0: 320x416 1 A, 27.3ms\n",
                        "0: 320x416 1 A, 30.0ms\n",
                        "0: 320x416 1 A, 27.1ms\n",
                        "0: 320x416 1 A, 28.5ms\n",
                        "0: 320x416 1 A, 29.3ms\n",
                        "0: 320x416 1 A, 30.8ms\n",
                        "0: 320x416 (no detections), 25.3ms\n",
                        "0: 320x416 (no detections), 27.2ms\n",
                        "0: 320x416 1 U, 28.0ms\n",
                        "0: 320x416 (no detections), 26.8ms\n",
                        "0: 320x416 (no detections), 26.3ms\n",
                        "0: 320x416 1 A, 28.2ms\n",
                        "0: 320x416 (no detections), 25.0ms\n",
                        "0: 320x416 (no detections), 27.9ms\n",
                        "0: 320x416 (no detections), 23.3ms\n",
                        "0: 320x416 (no detections), 27.7ms\n",
                        "0: 320x416 (no detections), 25.6ms\n",
                        "0: 320x416 (no detections), 27.8ms\n",
                        "0: 320x416 1 U, 27.5ms\n",
                        "0: 320x416 1 U, 30.8ms\n",
                        "0: 320x416 1 U, 28.8ms\n",
                        "0: 320x416 1 U, 31.6ms\n",
                        "0: 320x416 1 U, 29.4ms\n",
                        "0: 320x416 1 U, 28.3ms\n",
                        "0: 320x416 1 U, 39.1ms\n",
                        "0: 320x416 (no detections), 34.4ms\n",
                        "0: 320x416 1 U, 34.6ms\n",
                        "0: 320x416 1 U, 27.2ms\n",
                        "0: 320x416 (no detections), 27.9ms\n",
                        "0: 320x416 1 U, 32.3ms\n",
                        "0: 320x416 1 U, 28.3ms\n",
                        "0: 320x416 1 U, 27.6ms\n",
                        "0: 320x416 1 U, 28.7ms\n",
                        "0: 320x416 1 U, 26.7ms\n",
                        "0: 320x416 (no detections), 26.1ms\n",
                        "0: 320x416 (no detections), 31.2ms\n",
                        "0: 320x416 (no detections), 27.9ms\n",
                        "0: 320x416 1 L, 28.6ms\n",
                        "0: 320x416 (no detections), 31.0ms\n",
                        "0: 320x416 1 L, 27.7ms\n",
                        "0: 320x416 1 L, 26.5ms\n",
                        "0: 320x416 1 L, 31.8ms\n",
                        "0: 320x416 1 L, 27.0ms\n",
                        "0: 320x416 1 L, 52.0ms\n",
                        "0: 320x416 (no detections), 48.2ms\n",
                        "0: 320x416 1 L, 27.4ms\n",
                        "0: 320x416 1 L, 29.6ms\n",
                        "0: 320x416 1 L, 31.6ms\n",
                        "0: 320x416 1 L, 32.7ms\n",
                        "0: 320x416 1 L, 27.6ms\n",
                        "0: 320x416 1 L, 28.6ms\n",
                        "0: 320x416 1 L, 26.2ms\n",
                        "0: 320x416 1 L, 29.5ms\n",
                        "0: 320x416 1 L, 28.0ms\n",
                        "0: 320x416 1 L, 27.6ms\n",
                        "0: 320x416 1 L, 25.3ms\n",
                        "0: 320x416 1 L, 24.2ms\n",
                        "0: 320x416 (no detections), 25.8ms\n",
                        "0: 320x416 (no detections), 24.5ms\n",
                        "0: 320x416 (no detections), 26.9ms\n",
                        "0: 320x416 (no detections), 25.8ms\n",
                        "0: 320x416 1 L, 28.5ms\n",
                        "0: 320x416 1 L, 26.3ms\n",
                        "0: 320x416 1 L, 29.6ms\n",
                        "0: 320x416 (no detections), 30.3ms\n",
                        "0: 320x416 1 L, 27.8ms\n",
                        "0: 320x416 (no detections), 26.9ms\n",
                        "0: 320x416 (no detections), 28.1ms\n",
                        "0: 320x416 (no detections), 25.8ms\n",
                        "0: 320x416 (no detections), 26.5ms\n",
                        "0: 320x416 1 E, 28.6ms\n",
                        "0: 320x416 1 E, 27.6ms\n",
                        "0: 320x416 1 E, 30.2ms\n",
                        "0: 320x416 (no detections), 29.1ms\n",
                        "0: 320x416 (no detections), 25.7ms\n",
                        "0: 320x416 1 A, 28.7ms\n",
                        "0: 320x416 1 A, 36.5ms\n",
                        "0: 320x416 1 A, 27.1ms\n",
                        "0: 320x416 1 A, 30.0ms\n",
                        "0: 320x416 1 A, 27.7ms\n",
                        "0: 320x416 1 E, 25.9ms\n",
                        "0: 320x416 1 E, 30.2ms\n",
                        "0: 320x416 1 E, 27.7ms\n",
                        "0: 320x416 1 E, 29.4ms\n",
                        "0: 320x416 1 E, 28.3ms\n",
                        "0: 320x416 1 E, 27.6ms\n",
                        "0: 320x416 1 E, 23.5ms\n",
                        "0: 320x416 1 A, 27.5ms\n",
                        "0: 320x416 1 E, 28.6ms\n",
                        "0: 320x416 (no detections), 29.5ms\n",
                        "0: 320x416 1 L, 28.5ms\n",
                        "0: 320x416 1 L, 26.9ms\n",
                        "0: 320x416 1 L, 28.0ms\n",
                        "0: 320x416 1 L, 29.0ms\n",
                        "0: 320x416 1 L, 28.7ms\n",
                        "0: 320x416 1 L, 30.1ms\n",
                        "0: 320x416 1 L, 28.1ms\n",
                        "0: 320x416 1 L, 27.5ms\n",
                        "0: 320x416 1 L, 26.4ms\n",
                        "0: 320x416 1 L, 29.7ms\n",
                        "0: 320x416 1 L, 28.8ms\n",
                        "0: 320x416 1 L, 29.6ms\n",
                        "0: 320x416 1 L, 30.7ms\n",
                        "0: 320x416 1 L, 27.8ms\n",
                        "0: 320x416 1 L, 27.8ms\n",
                        "0: 320x416 1 L, 27.9ms\n",
                        "0: 320x416 1 L, 27.2ms\n",
                        "0: 320x416 1 L, 30.9ms\n",
                        "0: 320x416 1 L, 28.8ms\n",
                        "0: 320x416 1 L, 28.7ms\n",
                        "0: 320x416 1 L, 28.6ms\n",
                        "0: 320x416 1 L, 27.7ms\n",
                        "0: 320x416 1 L, 27.1ms\n",
                        "0: 320x416 1 L, 34.8ms\n",
                        "0: 320x416 1 L, 30.9ms\n",
                        "0: 320x416 1 L, 29.2ms\n",
                        "0: 320x416 1 L, 31.7ms\n",
                        "0: 320x416 1 L, 33.9ms\n",
                        "0: 320x416 1 L, 36.7ms\n",
                        "0: 320x416 1 L, 32.6ms\n",
                        "0: 320x416 1 L, 1 U, 37.6ms\n",
                        "0: 320x416 1 U, 28.2ms\n",
                        "0: 320x416 1 L, 1 U, 28.4ms\n",
                        "0: 320x416 1 L, 1 U, 30.5ms\n",
                        "0: 320x416 1 L, 29.9ms\n",
                        "0: 320x416 1 L, 28.2ms\n",
                        "0: 320x416 1 L, 27.8ms\n",
                        "0: 320x416 1 L, 27.6ms\n",
                        "0: 320x416 1 L, 28.0ms\n",
                        "0: 320x416 1 L, 26.7ms\n",
                        "0: 320x416 1 L, 25.5ms\n",
                        "0: 320x416 1 L, 31.1ms\n",
                        "0: 320x416 1 L, 27.6ms\n",
                        "0: 320x416 1 L, 97.6ms\n",
                        "0: 320x416 1 L, 46.5ms\n",
                        "0: 320x416 (no detections), 25.1ms\n",
                        "0: 320x416 (no detections), 30.5ms\n",
                        "0: 320x416 (no detections), 27.7ms\n",
                        "0: 320x416 1 L, 27.8ms\n",
                        "0: 320x416 1 L, 32.0ms\n",
                        "0: 320x416 1 L, 28.4ms\n",
                        "0: 320x416 1 L, 26.6ms\n",
                        "0: 320x416 1 L, 30.2ms\n",
                        "0: 320x416 1 L, 24.4ms\n",
                        "0: 320x416 1 L, 28.0ms\n",
                        "0: 320x416 1 L, 26.7ms\n",
                        "0: 320x416 1 L, 30.6ms\n",
                        "0: 320x416 1 L, 28.7ms\n",
                        "0: 320x416 1 L, 26.3ms\n",
                        "0: 320x416 1 L, 35.9ms\n",
                        "0: 320x416 1 L, 29.3ms\n",
                        "0: 320x416 (no detections), 29.0ms\n",
                        "0: 320x416 (no detections), 29.7ms\n",
                        "0: 320x416 (no detections), 30.4ms\n",
                        "0: 320x416 (no detections), 28.5ms\n",
                        "0: 320x416 (no detections), 31.3ms\n",
                        "0: 320x416 (no detections), 34.7ms\n",
                        "0: 320x416 (no detections), 27.9ms\n",
                        "0: 320x416 1 U, 30.1ms\n",
                        "0: 320x416 1 U, 27.8ms\n",
                        "0: 320x416 1 U, 29.6ms\n",
                        "0: 320x416 (no detections), 27.0ms\n",
                        "0: 320x416 (no detections), 29.6ms\n",
                        "0: 320x416 (no detections), 31.1ms\n",
                        "0: 320x416 (no detections), 27.5ms\n",
                        "0: 320x416 (no detections), 25.8ms\n",
                        "0: 320x416 (no detections), 29.1ms\n",
                        "0: 320x416 (no detections), 27.4ms\n",
                        "0: 320x416 (no detections), 28.6ms\n",
                        "0: 320x416 (no detections), 31.9ms\n",
                        "0: 320x416 (no detections), 28.4ms\n",
                        "0: 320x416 (no detections), 29.3ms\n",
                        "0: 320x416 1 Y, 28.2ms\n",
                        "0: 320x416 (no detections), 26.5ms\n",
                        "0: 320x416 (no detections), 30.1ms\n",
                        "0: 320x416 (no detections), 30.0ms\n",
                        "0: 320x416 (no detections), 28.0ms\n",
                        "0: 320x416 1 L, 27.4ms\n",
                        "0: 320x416 1 L, 27.2ms\n",
                        "0: 320x416 1 L, 24.4ms\n",
                        "0: 320x416 1 L, 22.6ms\n",
                        "0: 320x416 1 L, 25.5ms\n",
                        "0: 320x416 1 L, 27.8ms\n",
                        "0: 320x416 1 L, 26.1ms\n",
                        "0: 320x416 1 L, 30.6ms\n",
                        "0: 320x416 1 L, 29.3ms\n",
                        "0: 320x416 1 L, 28.8ms\n",
                        "0: 320x416 1 L, 28.4ms\n",
                        "0: 320x416 1 L, 29.5ms\n",
                        "0: 320x416 1 L, 28.5ms\n",
                        "0: 320x416 1 L, 26.5ms\n",
                        "0: 320x416 1 L, 29.0ms\n",
                        "0: 320x416 1 L, 25.2ms\n",
                        "0: 320x416 1 L, 28.8ms\n",
                        "0: 320x416 1 L, 37.9ms\n",
                        "0: 320x416 (no detections), 51.1ms\n",
                        "0: 320x416 1 U, 33.7ms\n",
                        "0: 320x416 1 U, 27.8ms\n",
                        "0: 320x416 (no detections), 27.0ms\n",
                        "0: 320x416 1 U, 24.1ms\n",
                        "0: 320x416 1 U, 28.1ms\n",
                        "0: 320x416 1 U, 30.6ms\n",
                        "0: 320x416 1 U, 27.6ms\n",
                        "0: 320x416 1 U, 27.1ms\n",
                        "0: 320x416 1 U, 27.7ms\n",
                        "0: 320x416 1 U, 27.2ms\n",
                        "0: 320x416 1 U, 29.1ms\n",
                        "0: 320x416 1 U, 32.4ms\n",
                        "0: 320x416 1 U, 27.1ms\n",
                        "0: 320x416 1 U, 29.2ms\n",
                        "0: 320x416 1 U, 25.5ms\n",
                        "0: 320x416 1 U, 25.0ms\n",
                        "0: 320x416 1 U, 27.3ms\n",
                        "0: 320x416 (no detections), 28.1ms\n",
                        "0: 320x416 (no detections), 28.4ms\n",
                        "0: 320x416 (no detections), 30.2ms\n",
                        "0: 320x416 (no detections), 22.8ms\n",
                        "0: 320x416 (no detections), 36.0ms\n",
                        "0: 320x416 (no detections), 27.7ms\n",
                        "0: 320x416 (no detections), 27.8ms\n",
                        "0: 320x416 1 U, 28.9ms\n",
                        "0: 320x416 (no detections), 29.9ms\n",
                        "0: 320x416 (no detections), 27.3ms\n",
                        "0: 320x416 (no detections), 32.3ms\n",
                        "0: 320x416 1 A, 27.7ms\n",
                        "0: 320x416 1 A, 29.1ms\n",
                        "0: 320x416 (no detections), 25.2ms\n",
                        "0: 320x416 (no detections), 26.9ms\n",
                        "0: 320x416 (no detections), 29.1ms\n",
                        "0: 320x416 (no detections), 31.3ms\n",
                        "0: 320x416 (no detections), 30.3ms\n",
                        "0: 320x416 1 A, 25.0ms\n",
                        "0: 320x416 (no detections), 27.8ms\n",
                        "0: 320x416 1 A, 29.1ms\n",
                        "0: 320x416 1 A, 28.6ms\n",
                        "0: 320x416 1 A, 29.0ms\n",
                        "0: 320x416 (no detections), 28.6ms\n",
                        "0: 320x416 (no detections), 32.6ms\n",
                        "0: 320x416 (no detections), 26.8ms\n",
                        "0: 320x416 (no detections), 28.3ms\n",
                        "0: 320x416 (no detections), 31.0ms\n",
                        "0: 320x416 (no detections), 26.7ms\n",
                        "0: 320x416 (no detections), 29.2ms\n",
                        "0: 320x416 (no detections), 27.7ms\n",
                        "0: 320x416 1 R, 28.8ms\n",
                        "0: 320x416 1 B, 1 R, 29.4ms\n",
                        "0: 320x416 1 B, 33.0ms\n",
                        "0: 320x416 1 B, 29.4ms\n",
                        "0: 320x416 1 B, 28.8ms\n",
                        "0: 320x416 1 R, 27.5ms\n",
                        "0: 320x416 (no detections), 29.8ms\n",
                        "0: 320x416 (no detections), 30.1ms\n",
                        "0: 320x416 1 B, 29.4ms\n",
                        "0: 320x416 (no detections), 31.0ms\n",
                        "0: 320x416 (no detections), 37.8ms\n",
                        "0: 320x416 (no detections), 36.9ms\n",
                        "0: 320x416 (no detections), 38.2ms\n",
                        "0: 320x416 1 E, 37.3ms\n",
                        "0: 320x416 (no detections), 35.2ms\n",
                        "0: 320x416 (no detections), 33.7ms\n",
                        "0: 320x416 (no detections), 32.0ms\n",
                        "0: 320x416 (no detections), 27.8ms\n",
                        "0: 320x416 (no detections), 31.4ms\n",
                        "0: 320x416 (no detections), 30.5ms\n",
                        "0: 320x416 (no detections), 27.0ms\n",
                        "0: 320x416 (no detections), 27.0ms\n",
                        "0: 320x416 (no detections), 26.7ms\n",
                        "0: 320x416 (no detections), 29.5ms\n",
                        "0: 320x416 (no detections), 27.3ms\n",
                        "0: 320x416 (no detections), 26.4ms\n",
                        "0: 320x416 (no detections), 30.3ms\n",
                        "0: 320x416 (no detections), 27.8ms\n",
                        "0: 320x416 (no detections), 28.0ms\n",
                        "0: 320x416 (no detections), 30.3ms\n",
                        "0: 320x416 (no detections), 28.7ms\n",
                        "0: 320x416 (no detections), 25.9ms\n",
                        "0: 320x416 (no detections), 28.0ms\n",
                        "0: 320x416 (no detections), 31.2ms\n",
                        "0: 320x416 (no detections), 28.7ms\n",
                        "0: 320x416 (no detections), 28.1ms\n",
                        "0: 320x416 (no detections), 25.2ms\n",
                        "0: 320x416 (no detections), 28.3ms\n",
                        "0: 320x416 1 W, 28.7ms\n",
                        "0: 320x416 1 B, 27.4ms\n",
                        "0: 320x416 1 B, 1 W, 29.4ms\n",
                        "0: 320x416 1 B, 30.0ms\n",
                        "0: 320x416 1 B, 40.0ms\n",
                        "0: 320x416 1 B, 38.0ms\n",
                        "0: 320x416 1 B, 33.6ms\n",
                        "0: 320x416 1 B, 26.3ms\n",
                        "0: 320x416 (no detections), 29.0ms\n",
                        "0: 320x416 (no detections), 26.2ms\n",
                        "0: 320x416 (no detections), 30.8ms\n",
                        "0: 320x416 (no detections), 26.3ms\n",
                        "0: 320x416 (no detections), 28.7ms\n",
                        "0: 320x416 1 B, 29.7ms\n",
                        "0: 320x416 1 B, 27.1ms\n",
                        "0: 320x416 1 B, 27.1ms\n",
                        "0: 320x416 1 B, 25.7ms\n",
                        "0: 320x416 1 B, 28.0ms\n",
                        "0: 320x416 1 B, 27.0ms\n",
                        "0: 320x416 1 B, 29.8ms\n",
                        "0: 320x416 1 U, 27.6ms\n",
                        "0: 320x416 1 U, 26.8ms\n",
                        "0: 320x416 1 U, 27.3ms\n",
                        "0: 320x416 1 U, 29.0ms\n",
                        "0: 320x416 1 U, 27.6ms\n",
                        "0: 320x416 1 U, 23.1ms\n",
                        "0: 320x416 1 U, 23.6ms\n",
                        "0: 320x416 1 U, 27.5ms\n",
                        "0: 320x416 (no detections), 32.0ms\n",
                        "0: 320x416 (no detections), 26.8ms\n",
                        "0: 320x416 (no detections), 28.3ms\n",
                        "0: 320x416 (no detections), 26.9ms\n",
                        "0: 320x416 (no detections), 27.0ms\n",
                        "0: 320x416 (no detections), 29.8ms\n",
                        "0: 320x416 (no detections), 33.0ms\n",
                        "0: 320x416 (no detections), 30.6ms\n",
                        "0: 320x416 (no detections), 27.8ms\n",
                        "0: 320x416 (no detections), 29.1ms\n",
                        "0: 320x416 (no detections), 33.5ms\n",
                        "0: 320x416 (no detections), 50.7ms\n",
                        "0: 320x416 (no detections), 39.1ms\n",
                        "0: 320x416 (no detections), 27.1ms\n",
                        "0: 320x416 (no detections), 28.0ms\n",
                        "0: 320x416 1 R, 23.5ms\n",
                        "0: 320x416 1 R, 32.2ms\n",
                        "0: 320x416 1 R, 26.2ms\n",
                        "0: 320x416 1 U, 26.7ms\n",
                        "0: 320x416 1 U, 29.1ms\n",
                        "0: 320x416 (no detections), 27.9ms\n",
                        "0: 320x416 (no detections), 26.5ms\n",
                        "0: 320x416 (no detections), 29.4ms\n",
                        "0: 320x416 (no detections), 28.9ms\n",
                        "0: 320x416 (no detections), 27.3ms\n",
                        "0: 320x416 (no detections), 28.9ms\n",
                        "0: 320x416 1 U, 1 Y, 29.6ms\n",
                        "0: 320x416 (no detections), 28.7ms\n",
                        "0: 320x416 1 U, 33.1ms\n",
                        "0: 320x416 1 U, 34.9ms\n",
                        "0: 320x416 (no detections), 32.0ms\n",
                        "0: 320x416 (no detections), 28.4ms\n",
                        "0: 320x416 (no detections), 28.9ms\n",
                        "0: 320x416 (no detections), 30.0ms\n",
                        "0: 320x416 (no detections), 29.9ms\n",
                        "0: 320x416 (no detections), 26.6ms\n",
                        "0: 320x416 1 I, 29.1ms\n",
                        "0: 320x416 (no detections), 30.1ms\n",
                        "0: 320x416 1 K, 33.4ms\n",
                        "0: 320x416 (no detections), 28.1ms\n",
                        "0: 320x416 1 F, 29.3ms\n",
                        "0: 320x416 1 F, 28.4ms\n",
                        "0: 320x416 1 F, 28.2ms\n",
                        "WARNING Waiting for stream 0\n",
                        "0: 320x416 1 F, 24.2ms\n",
                        "0: 320x416 1 F, 1 K, 28.4ms\n",
                        "0: 320x416 1 K, 31.1ms\n",
                        "0: 320x416 1 F, 1 K, 29.0ms\n",
                        "0: 320x416 1 F, 28.9ms\n",
                        "0: 320x416 1 F, 1 K, 30.7ms\n",
                        "0: 320x416 1 F, 30.1ms\n",
                        "0: 320x416 1 F, 26.4ms\n",
                        "0: 320x416 1 F, 28.1ms\n",
                        "0: 320x416 1 K, 26.3ms\n",
                        "0: 320x416 (no detections), 25.5ms\n",
                        "0: 320x416 1 F, 27.4ms\n",
                        "0: 320x416 1 F, 25.2ms\n",
                        "0: 320x416 1 F, 27.0ms\n",
                        "0: 320x416 (no detections), 26.4ms\n",
                        "0: 320x416 1 F, 26.9ms\n",
                        "0: 320x416 1 F, 37.9ms\n",
                        "0: 320x416 1 F, 32.1ms\n",
                        "0: 320x416 1 F, 30.4ms\n",
                        "0: 320x416 1 F, 30.6ms\n",
                        "0: 320x416 1 F, 25.5ms\n",
                        "0: 320x416 1 F, 27.6ms\n",
                        "0: 320x416 1 F, 34.4ms\n",
                        "0: 320x416 1 F, 30.8ms\n",
                        "0: 320x416 1 F, 28.3ms\n",
                        "0: 320x416 1 F, 28.8ms\n",
                        "0: 320x416 1 F, 27.2ms\n",
                        "0: 320x416 1 F, 23.4ms\n",
                        "0: 320x416 1 F, 30.5ms\n",
                        "0: 320x416 1 F, 27.8ms\n",
                        "0: 320x416 1 F, 26.5ms\n",
                        "0: 320x416 1 F, 28.1ms\n",
                        "0: 320x416 1 F, 28.2ms\n",
                        "0: 320x416 1 F, 27.4ms\n",
                        "0: 320x416 1 F, 33.4ms\n",
                        "0: 320x416 1 F, 30.9ms\n",
                        "0: 320x416 1 F, 32.4ms\n",
                        "0: 320x416 1 F, 28.6ms\n",
                        "0: 320x416 1 F, 25.2ms\n",
                        "0: 320x416 1 F, 34.8ms\n",
                        "0: 320x416 1 F, 25.8ms\n",
                        "0: 320x416 1 F, 35.9ms\n",
                        "0: 320x416 1 F, 28.7ms\n",
                        "0: 320x416 (no detections), 27.5ms\n",
                        "0: 320x416 1 F, 27.2ms\n",
                        "0: 320x416 1 F, 28.6ms\n",
                        "0: 320x416 1 F, 25.5ms\n",
                        "0: 320x416 1 F, 26.6ms\n",
                        "0: 320x416 1 F, 29.2ms\n",
                        "0: 320x416 1 F, 27.6ms\n",
                        "0: 320x416 1 F, 25.2ms\n",
                        "0: 320x416 1 F, 31.2ms\n",
                        "0: 320x416 1 F, 29.8ms\n",
                        "0: 320x416 1 F, 30.2ms\n",
                        "0: 320x416 1 F, 30.9ms\n",
                        "0: 320x416 1 F, 25.3ms\n",
                        "0: 320x416 1 F, 29.0ms\n",
                        "0: 320x416 1 F, 32.4ms\n",
                        "0: 320x416 1 F, 25.8ms\n",
                        "0: 320x416 1 F, 27.6ms\n",
                        "0: 320x416 1 F, 28.6ms\n",
                        "0: 320x416 1 F, 27.8ms\n",
                        "0: 320x416 1 F, 25.8ms\n",
                        "0: 320x416 1 F, 28.9ms\n",
                        "0: 320x416 1 F, 29.0ms\n",
                        "0: 320x416 1 F, 28.7ms\n",
                        "0: 320x416 1 F, 27.5ms\n",
                        "0: 320x416 1 F, 28.5ms\n",
                        "0: 320x416 1 F, 29.0ms\n",
                        "0: 320x416 1 F, 27.5ms\n",
                        "0: 320x416 1 F, 31.8ms\n",
                        "0: 320x416 1 F, 32.5ms\n",
                        "0: 320x416 1 F, 28.7ms\n",
                        "0: 320x416 1 F, 27.7ms\n",
                        "0: 320x416 1 F, 31.3ms\n",
                        "0: 320x416 1 F, 33.8ms\n",
                        "0: 320x416 1 F, 29.5ms\n",
                        "0: 320x416 1 F, 28.6ms\n",
                        "0: 320x416 1 F, 30.9ms\n",
                        "0: 320x416 1 F, 28.5ms\n",
                        "0: 320x416 1 F, 31.0ms\n",
                        "0: 320x416 1 F, 29.9ms\n",
                        "0: 320x416 1 F, 27.6ms\n",
                        "0: 320x416 1 F, 27.0ms\n",
                        "0: 320x416 1 F, 29.6ms\n",
                        "0: 320x416 (no detections), 30.2ms\n",
                        "0: 320x416 (no detections), 36.1ms\n",
                        "0: 320x416 1 F, 31.1ms\n",
                        "0: 320x416 1 F, 32.0ms\n",
                        "0: 320x416 1 F, 49.3ms\n",
                        "0: 320x416 1 F, 49.2ms\n",
                        "0: 320x416 1 F, 34.9ms\n",
                        "0: 320x416 1 F, 28.8ms\n",
                        "0: 320x416 1 F, 29.1ms\n",
                        "0: 320x416 (no detections), 27.4ms\n",
                        "0: 320x416 1 F, 32.2ms\n",
                        "0: 320x416 1 F, 39.2ms\n",
                        "0: 320x416 1 F, 32.3ms\n",
                        "0: 320x416 1 F, 26.8ms\n",
                        "0: 320x416 1 F, 28.3ms\n",
                        "0: 320x416 1 F, 33.4ms\n",
                        "0: 320x416 (no detections), 30.7ms\n",
                        "0: 320x416 1 F, 28.5ms\n",
                        "0: 320x416 1 F, 27.5ms\n",
                        "0: 320x416 1 F, 28.8ms\n",
                        "0: 320x416 1 F, 31.7ms\n",
                        "0: 320x416 1 F, 31.3ms\n",
                        "0: 320x416 1 F, 27.6ms\n",
                        "0: 320x416 1 F, 28.9ms\n",
                        "0: 320x416 1 F, 31.2ms\n",
                        "0: 320x416 1 F, 29.0ms\n",
                        "0: 320x416 1 F, 37.0ms\n",
                        "0: 320x416 1 F, 30.5ms\n",
                        "0: 320x416 1 F, 29.8ms\n",
                        "0: 320x416 1 F, 34.0ms\n",
                        "0: 320x416 1 F, 33.0ms\n",
                        "0: 320x416 1 F, 29.8ms\n",
                        "0: 320x416 1 F, 28.4ms\n",
                        "0: 320x416 1 F, 30.9ms\n",
                        "0: 320x416 1 F, 28.8ms\n",
                        "0: 320x416 (no detections), 30.2ms\n",
                        "0: 320x416 (no detections), 31.3ms\n",
                        "0: 320x416 1 B, 28.8ms\n",
                        "0: 320x416 1 B, 34.8ms\n",
                        "0: 320x416 (no detections), 34.2ms\n",
                        "0: 320x416 1 B, 27.1ms\n",
                        "0: 320x416 (no detections), 30.6ms\n",
                        "0: 320x416 1 B, 28.2ms\n",
                        "0: 320x416 1 B, 27.7ms\n",
                        "0: 320x416 1 B, 30.8ms\n",
                        "0: 320x416 1 B, 27.4ms\n",
                        "0: 320x416 1 B, 27.6ms\n",
                        "0: 320x416 1 B, 32.4ms\n",
                        "0: 320x416 1 B, 27.2ms\n",
                        "0: 320x416 1 B, 28.4ms\n",
                        "0: 320x416 1 B, 30.4ms\n",
                        "0: 320x416 1 B, 28.1ms\n",
                        "0: 320x416 1 B, 28.6ms\n",
                        "0: 320x416 1 B, 28.2ms\n",
                        "0: 320x416 1 B, 27.4ms\n",
                        "0: 320x416 1 B, 31.1ms\n",
                        "0: 320x416 1 B, 30.3ms\n",
                        "0: 320x416 1 B, 26.7ms\n",
                        "0: 320x416 1 B, 29.1ms\n",
                        "0: 320x416 1 B, 30.8ms\n",
                        "0: 320x416 1 B, 29.5ms\n",
                        "0: 320x416 1 B, 31.4ms\n",
                        "0: 320x416 1 B, 37.0ms\n",
                        "0: 320x416 1 B, 30.4ms\n",
                        "0: 320x416 1 B, 32.9ms\n",
                        "0: 320x416 1 B, 29.6ms\n",
                        "0: 320x416 1 B, 27.2ms\n",
                        "0: 320x416 1 B, 31.0ms\n",
                        "0: 320x416 1 B, 30.9ms\n",
                        "0: 320x416 1 B, 38.4ms\n",
                        "0: 320x416 1 B, 30.1ms\n",
                        "0: 320x416 1 B, 29.0ms\n",
                        "0: 320x416 1 B, 27.7ms\n",
                        "0: 320x416 1 B, 29.4ms\n",
                        "0: 320x416 1 B, 31.2ms\n",
                        "0: 320x416 1 B, 30.4ms\n",
                        "0: 320x416 1 B, 26.6ms\n",
                        "0: 320x416 1 B, 30.4ms\n",
                        "0: 320x416 1 B, 28.2ms\n",
                        "0: 320x416 1 B, 26.5ms\n",
                        "0: 320x416 1 B, 32.9ms\n",
                        "0: 320x416 1 B, 31.7ms\n",
                        "0: 320x416 1 B, 31.8ms\n",
                        "0: 320x416 1 B, 31.2ms\n",
                        "0: 320x416 1 B, 35.8ms\n",
                        "0: 320x416 1 B, 34.3ms\n",
                        "0: 320x416 1 B, 35.9ms\n",
                        "0: 320x416 1 B, 41.8ms\n",
                        "0: 320x416 1 B, 42.4ms\n",
                        "0: 320x416 1 B, 43.0ms\n",
                        "0: 320x416 1 B, 34.2ms\n",
                        "0: 320x416 (no detections), 46.0ms\n",
                        "0: 320x416 (no detections), 34.3ms\n",
                        "0: 320x416 1 R, 40.6ms\n",
                        "0: 320x416 1 R, 37.8ms\n",
                        "0: 320x416 (no detections), 35.7ms\n",
                        "0: 320x416 (no detections), 30.8ms\n",
                        "0: 320x416 (no detections), 33.0ms\n",
                        "0: 320x416 (no detections), 29.3ms\n",
                        "0: 320x416 1 U, 34.2ms\n",
                        "0: 320x416 1 U, 38.6ms\n",
                        "0: 320x416 1 U, 42.8ms\n",
                        "0: 320x416 1 U, 35.8ms\n",
                        "0: 320x416 1 U, 34.1ms\n",
                        "0: 320x416 1 U, 29.3ms\n",
                        "0: 320x416 1 U, 43.3ms\n",
                        "0: 320x416 1 U, 48.6ms\n",
                        "0: 320x416 (no detections), 39.4ms\n",
                        "0: 320x416 (no detections), 38.9ms\n",
                        "0: 320x416 (no detections), 33.0ms\n",
                        "0: 320x416 (no detections), 38.3ms\n",
                        "0: 320x416 (no detections), 32.7ms\n",
                        "0: 320x416 (no detections), 38.3ms\n",
                        "0: 320x416 (no detections), 38.9ms\n",
                        "0: 320x416 (no detections), 29.5ms\n",
                        "0: 320x416 (no detections), 34.5ms\n",
                        "0: 320x416 (no detections), 38.0ms\n",
                        "0: 320x416 1 E, 37.1ms\n",
                        "0: 320x416 (no detections), 33.8ms\n",
                        "0: 320x416 (no detections), 39.7ms\n",
                        "0: 320x416 (no detections), 32.8ms\n",
                        "0: 320x416 (no detections), 37.3ms\n",
                        "0: 320x416 (no detections), 37.0ms\n",
                        "0: 320x416 (no detections), 43.7ms\n",
                        "0: 320x416 (no detections), 49.5ms\n",
                        "0: 320x416 (no detections), 46.6ms\n",
                        "0: 320x416 (no detections), 31.4ms\n",
                        "0: 320x416 (no detections), 29.4ms\n",
                        "0: 320x416 (no detections), 28.2ms\n",
                        "0: 320x416 (no detections), 28.7ms\n",
                        "0: 320x416 (no detections), 29.1ms\n",
                        "0: 320x416 (no detections), 29.6ms\n",
                        "0: 320x416 (no detections), 27.3ms\n",
                        "0: 320x416 (no detections), 26.9ms\n",
                        "0: 320x416 (no detections), 29.9ms\n",
                        "0: 320x416 (no detections), 29.5ms\n",
                        "0: 320x416 (no detections), 25.6ms\n",
                        "0: 320x416 (no detections), 30.0ms\n",
                        "0: 320x416 (no detections), 30.6ms\n",
                        "0: 320x416 (no detections), 32.5ms\n",
                        "0: 320x416 (no detections), 33.1ms\n",
                        "0: 320x416 (no detections), 120.0ms\n",
                        "0: 320x416 (no detections), 50.9ms\n",
                        "0: 320x416 1 E, 30.7ms\n",
                        "0: 320x416 1 E, 26.1ms\n",
                        "0: 320x416 1 E, 31.4ms\n",
                        "0: 320x416 (no detections), 31.4ms\n",
                        "0: 320x416 (no detections), 29.7ms\n",
                        "0: 320x416 (no detections), 31.5ms\n",
                        "0: 320x416 (no detections), 36.7ms\n",
                        "0: 320x416 (no detections), 36.1ms\n",
                        "0: 320x416 (no detections), 36.9ms\n",
                        "0: 320x416 (no detections), 35.8ms\n",
                        "0: 320x416 (no detections), 34.4ms\n",
                        "0: 320x416 (no detections), 33.8ms\n",
                        "0: 320x416 (no detections), 33.7ms\n",
                        "0: 320x416 (no detections), 30.3ms\n",
                        "0: 320x416 (no detections), 36.7ms\n",
                        "0: 320x416 (no detections), 27.6ms\n",
                        "0: 320x416 (no detections), 32.3ms\n",
                        "0: 320x416 (no detections), 31.0ms\n",
                        "0: 320x416 1 N, 35.0ms\n",
                        "0: 320x416 (no detections), 34.9ms\n",
                        "0: 320x416 (no detections), 29.1ms\n",
                        "0: 320x416 (no detections), 30.6ms\n",
                        "0: 320x416 (no detections), 31.4ms\n",
                        "0: 320x416 1 C, 29.7ms\n",
                        "0: 320x416 1 C, 29.5ms\n",
                        "0: 320x416 1 C, 29.4ms\n",
                        "0: 320x416 1 C, 31.1ms\n",
                        "0: 320x416 1 C, 32.9ms\n",
                        "0: 320x416 1 C, 31.6ms\n",
                        "0: 320x416 1 C, 28.7ms\n",
                        "0: 320x416 1 C, 28.2ms\n",
                        "0: 320x416 1 C, 28.7ms\n",
                        "0: 320x416 1 C, 30.0ms\n",
                        "0: 320x416 1 C, 33.0ms\n",
                        "0: 320x416 1 C, 32.9ms\n",
                        "0: 320x416 1 C, 28.4ms\n",
                        "0: 320x416 1 C, 31.5ms\n",
                        "0: 320x416 1 C, 29.5ms\n",
                        "0: 320x416 1 C, 29.2ms\n",
                        "0: 320x416 1 C, 29.4ms\n",
                        "0: 320x416 1 C, 29.8ms\n",
                        "0: 320x416 1 C, 27.1ms\n",
                        "0: 320x416 1 C, 31.4ms\n",
                        "0: 320x416 1 C, 32.2ms\n",
                        "0: 320x416 1 C, 31.8ms\n",
                        "0: 320x416 1 C, 29.2ms\n",
                        "0: 320x416 1 C, 30.8ms\n",
                        "0: 320x416 1 C, 36.3ms\n",
                        "0: 320x416 1 C, 30.3ms\n",
                        "0: 320x416 1 C, 29.5ms\n",
                        "0: 320x416 (no detections), 31.8ms\n",
                        "0: 320x416 1 C, 26.0ms\n",
                        "0: 320x416 1 C, 28.5ms\n",
                        "0: 320x416 1 C, 32.4ms\n",
                        "0: 320x416 1 C, 32.6ms\n",
                        "0: 320x416 1 C, 33.8ms\n",
                        "0: 320x416 1 C, 27.8ms\n",
                        "0: 320x416 1 C, 33.0ms\n",
                        "0: 320x416 1 C, 29.8ms\n",
                        "0: 320x416 1 C, 29.8ms\n",
                        "0: 320x416 1 C, 34.0ms\n",
                        "0: 320x416 1 C, 32.8ms\n",
                        "0: 320x416 1 C, 29.8ms\n",
                        "0: 320x416 1 C, 31.0ms\n",
                        "0: 320x416 1 C, 28.7ms\n",
                        "0: 320x416 1 C, 36.8ms\n",
                        "0: 320x416 1 C, 31.6ms\n",
                        "0: 320x416 1 C, 29.9ms\n",
                        "0: 320x416 1 C, 30.5ms\n",
                        "0: 320x416 1 C, 29.5ms\n",
                        "0: 320x416 (no detections), 28.7ms\n",
                        "0: 320x416 1 C, 30.7ms\n",
                        "0: 320x416 1 C, 29.0ms\n",
                        "0: 320x416 (no detections), 30.0ms\n",
                        "0: 320x416 1 C, 26.4ms\n",
                        "0: 320x416 1 C, 30.4ms\n",
                        "0: 320x416 1 C, 27.4ms\n",
                        "0: 320x416 1 C, 27.2ms\n",
                        "0: 320x416 1 C, 31.3ms\n",
                        "0: 320x416 1 C, 29.9ms\n",
                        "0: 320x416 1 C, 38.1ms\n",
                        "0: 320x416 1 C, 39.1ms\n",
                        "0: 320x416 1 C, 37.1ms\n",
                        "0: 320x416 1 C, 37.5ms\n",
                        "0: 320x416 1 C, 36.4ms\n",
                        "0: 320x416 1 C, 35.5ms\n",
                        "0: 320x416 1 C, 35.0ms\n",
                        "0: 320x416 1 C, 34.9ms\n",
                        "0: 320x416 (no detections), 39.9ms\n",
                        "0: 320x416 (no detections), 31.1ms\n",
                        "0: 320x416 (no detections), 29.1ms\n",
                        "0: 320x416 1 E, 28.2ms\n",
                        "0: 320x416 1 E, 31.2ms\n",
                        "0: 320x416 1 E, 30.1ms\n",
                        "0: 320x416 (no detections), 28.4ms\n",
                        "0: 320x416 1 A, 34.5ms\n",
                        "0: 320x416 (no detections), 29.0ms\n",
                        "0: 320x416 (no detections), 27.4ms\n",
                        "0: 320x416 (no detections), 33.4ms\n",
                        "0: 320x416 1 A, 32.5ms\n",
                        "0: 320x416 1 E, 47.4ms\n",
                        "0: 320x416 1 A, 43.4ms\n",
                        "0: 320x416 1 A, 30.7ms\n",
                        "0: 320x416 1 E, 34.0ms\n",
                        "0: 320x416 1 A, 1 E, 35.2ms\n",
                        "0: 320x416 1 A, 30.7ms\n",
                        "0: 320x416 (no detections), 34.9ms\n",
                        "0: 320x416 (no detections), 33.0ms\n",
                        "0: 320x416 1 E, 31.6ms\n",
                        "0: 320x416 (no detections), 42.0ms\n",
                        "0: 320x416 (no detections), 28.3ms\n",
                        "0: 320x416 1 E, 30.7ms\n",
                        "0: 320x416 1 E, 27.4ms\n",
                        "0: 320x416 1 E, 33.4ms\n",
                        "0: 320x416 1 E, 32.4ms\n",
                        "0: 320x416 1 E, 28.9ms\n",
                        "0: 320x416 (no detections), 28.7ms\n",
                        "0: 320x416 1 E, 31.5ms\n",
                        "0: 320x416 (no detections), 29.5ms\n",
                        "0: 320x416 1 E, 29.0ms\n",
                        "0: 320x416 1 E, 28.7ms\n",
                        "0: 320x416 (no detections), 29.6ms\n",
                        "0: 320x416 1 E, 27.1ms\n",
                        "0: 320x416 (no detections), 30.0ms\n",
                        "0: 320x416 1 A, 33.8ms\n",
                        "0: 320x416 1 E, 31.8ms\n",
                        "0: 320x416 (no detections), 26.5ms\n",
                        "0: 320x416 1 E, 31.9ms\n",
                        "0: 320x416 1 E, 33.4ms\n",
                        "0: 320x416 (no detections), 32.2ms\n",
                        "0: 320x416 1 E, 33.4ms\n",
                        "0: 320x416 (no detections), 32.9ms\n",
                        "0: 320x416 1 E, 31.2ms\n",
                        "0: 320x416 1 E, 32.5ms\n",
                        "0: 320x416 1 A, 28.8ms\n",
                        "0: 320x416 (no detections), 30.1ms\n",
                        "0: 320x416 1 A, 32.6ms\n",
                        "0: 320x416 (no detections), 29.4ms\n",
                        "0: 320x416 (no detections), 25.6ms\n",
                        "0: 320x416 1 A, 29.0ms\n",
                        "0: 320x416 1 A, 31.5ms\n",
                        "0: 320x416 1 A, 30.4ms\n",
                        "0: 320x416 1 E, 27.8ms\n",
                        "0: 320x416 1 A, 30.6ms\n",
                        "0: 320x416 (no detections), 28.4ms\n",
                        "0: 320x416 (no detections), 28.0ms\n",
                        "0: 320x416 1 A, 31.3ms\n",
                        "0: 320x416 1 A, 28.9ms\n",
                        "0: 320x416 (no detections), 25.9ms\n",
                        "0: 320x416 (no detections), 27.2ms\n",
                        "0: 320x416 1 A, 32.5ms\n",
                        "0: 320x416 1 A, 27.5ms\n",
                        "0: 320x416 1 A, 39.2ms\n",
                        "0: 320x416 1 A, 35.2ms\n",
                        "0: 320x416 (no detections), 31.6ms\n",
                        "0: 320x416 1 A, 34.3ms\n",
                        "0: 320x416 1 A, 34.6ms\n",
                        "0: 320x416 1 A, 31.1ms\n",
                        "0: 320x416 1 A, 32.2ms\n",
                        "0: 320x416 (no detections), 29.4ms\n",
                        "0: 320x416 1 A, 36.1ms\n",
                        "0: 320x416 1 A, 31.6ms\n",
                        "0: 320x416 1 A, 29.4ms\n",
                        "0: 320x416 (no detections), 30.4ms\n",
                        "0: 320x416 1 A, 28.8ms\n",
                        "0: 320x416 (no detections), 31.8ms\n",
                        "0: 320x416 1 A, 31.2ms\n",
                        "0: 320x416 (no detections), 28.9ms\n",
                        "0: 320x416 (no detections), 28.0ms\n",
                        "0: 320x416 (no detections), 31.9ms\n",
                        "0: 320x416 1 A, 28.3ms\n",
                        "0: 320x416 1 A, 26.6ms\n",
                        "0: 320x416 (no detections), 31.2ms\n",
                        "0: 320x416 (no detections), 28.8ms\n",
                        "0: 320x416 1 A, 29.4ms\n",
                        "0: 320x416 1 A, 27.1ms\n",
                        "0: 320x416 1 A, 30.1ms\n",
                        "0: 320x416 (no detections), 34.1ms\n",
                        "0: 320x416 1 A, 35.0ms\n",
                        "0: 320x416 1 A, 38.3ms\n",
                        "0: 320x416 1 A, 43.7ms\n",
                        "0: 320x416 1 A, 36.6ms\n",
                        "0: 320x416 (no detections), 32.5ms\n",
                        "0: 320x416 (no detections), 32.4ms\n",
                        "0: 320x416 (no detections), 31.0ms\n",
                        "0: 320x416 1 A, 32.6ms\n",
                        "0: 320x416 1 A, 29.0ms\n",
                        "0: 320x416 (no detections), 32.7ms\n",
                        "0: 320x416 (no detections), 32.3ms\n",
                        "0: 320x416 (no detections), 28.7ms\n",
                        "0: 320x416 (no detections), 29.4ms\n",
                        "0: 320x416 (no detections), 30.7ms\n",
                        "0: 320x416 (no detections), 30.6ms\n",
                        "0: 320x416 1 E, 29.3ms\n",
                        "0: 320x416 (no detections), 29.3ms\n",
                        "0: 320x416 1 A, 38.0ms\n",
                        "0: 320x416 (no detections), 31.4ms\n",
                        "0: 320x416 (no detections), 31.4ms\n",
                        "0: 320x416 (no detections), 45.5ms\n",
                        "0: 320x416 1 A, 32.8ms\n",
                        "0: 320x416 (no detections), 27.0ms\n",
                        "0: 320x416 (no detections), 32.6ms\n",
                        "0: 320x416 (no detections), 35.7ms\n",
                        "0: 320x416 (no detections), 34.7ms\n",
                        "0: 320x416 (no detections), 34.1ms\n",
                        "0: 320x416 (no detections), 30.1ms\n",
                        "0: 320x416 (no detections), 32.6ms\n",
                        "0: 320x416 (no detections), 34.9ms\n",
                        "0: 320x416 1 A, 27.7ms\n",
                        "0: 320x416 (no detections), 30.3ms\n",
                        "0: 320x416 (no detections), 38.1ms\n",
                        "0: 320x416 (no detections), 47.8ms\n",
                        "0: 320x416 1 E, 65.3ms\n",
                        "0: 320x416 (no detections), 56.3ms\n",
                        "0: 320x416 1 L, 47.3ms\n",
                        "0: 320x416 1 L, 31.9ms\n",
                        "0: 320x416 1 L, 49.3ms\n",
                        "0: 320x416 1 L, 53.3ms\n",
                        "0: 320x416 1 L, 45.6ms\n",
                        "0: 320x416 1 L, 33.7ms\n",
                        "0: 320x416 1 L, 39.0ms\n",
                        "0: 320x416 1 L, 34.0ms\n",
                        "0: 320x416 1 L, 33.5ms\n",
                        "0: 320x416 1 L, 47.0ms\n",
                        "0: 320x416 1 L, 42.2ms\n",
                        "0: 320x416 1 L, 33.7ms\n",
                        "0: 320x416 1 L, 38.3ms\n",
                        "0: 320x416 1 L, 40.9ms\n",
                        "0: 320x416 1 L, 33.3ms\n",
                        "0: 320x416 1 L, 31.3ms\n",
                        "0: 320x416 1 L, 33.5ms\n",
                        "0: 320x416 1 L, 32.5ms\n",
                        "0: 320x416 1 L, 41.6ms\n",
                        "0: 320x416 1 L, 36.9ms\n",
                        "0: 320x416 1 L, 41.1ms\n",
                        "0: 320x416 1 L, 36.3ms\n",
                        "0: 320x416 1 L, 44.1ms\n",
                        "0: 320x416 1 L, 33.5ms\n",
                        "0: 320x416 1 L, 38.5ms\n",
                        "0: 320x416 1 L, 45.5ms\n",
                        "0: 320x416 1 L, 35.1ms\n",
                        "0: 320x416 1 L, 38.9ms\n",
                        "0: 320x416 1 L, 37.7ms\n",
                        "0: 320x416 1 L, 37.7ms\n",
                        "0: 320x416 1 L, 35.9ms\n",
                        "0: 320x416 1 L, 43.4ms\n",
                        "0: 320x416 1 L, 39.8ms\n",
                        "0: 320x416 1 L, 36.0ms\n",
                        "0: 320x416 1 L, 35.7ms\n",
                        "0: 320x416 1 L, 33.6ms\n",
                        "0: 320x416 1 L, 32.8ms\n",
                        "0: 320x416 1 L, 40.8ms\n",
                        "0: 320x416 1 L, 38.3ms\n",
                        "0: 320x416 1 L, 36.8ms\n",
                        "0: 320x416 1 L, 41.7ms\n",
                        "0: 320x416 1 L, 31.7ms\n",
                        "0: 320x416 1 L, 42.6ms\n",
                        "0: 320x416 1 L, 38.4ms\n",
                        "0: 320x416 1 L, 34.4ms\n",
                        "0: 320x416 1 L, 39.8ms\n",
                        "0: 320x416 1 E, 36.6ms\n",
                        "0: 320x416 1 L, 41.4ms\n",
                        "0: 320x416 1 L, 36.2ms\n",
                        "0: 320x416 (no detections), 40.7ms\n",
                        "0: 320x416 (no detections), 33.4ms\n",
                        "0: 320x416 1 B, 33.9ms\n",
                        "0: 320x416 1 B, 37.1ms\n",
                        "0: 320x416 1 B, 39.5ms\n",
                        "0: 320x416 (no detections), 42.2ms\n",
                        "0: 320x416 (no detections), 40.4ms\n",
                        "0: 320x416 1 B, 31.4ms\n",
                        "0: 320x416 1 B, 32.7ms\n",
                        "0: 320x416 1 B, 43.0ms\n",
                        "0: 320x416 (no detections), 33.8ms\n",
                        "0: 320x416 1 B, 30.0ms\n",
                        "0: 320x416 1 B, 40.2ms\n",
                        "0: 320x416 1 B, 45.4ms\n",
                        "0: 320x416 1 B, 34.2ms\n",
                        "0: 320x416 1 B, 35.7ms\n",
                        "0: 320x416 1 B, 31.8ms\n",
                        "0: 320x416 (no detections), 32.9ms\n",
                        "0: 320x416 (no detections), 31.9ms\n",
                        "0: 320x416 1 E, 29.4ms\n",
                        "0: 320x416 (no detections), 29.4ms\n",
                        "0: 320x416 1 E, 34.0ms\n",
                        "0: 320x416 1 E, 36.5ms\n",
                        "0: 320x416 (no detections), 33.4ms\n",
                        "0: 320x416 1 E, 34.0ms\n",
                        "0: 320x416 1 E, 35.1ms\n",
                        "0: 320x416 1 E, 31.7ms\n",
                        "0: 320x416 1 E, 36.1ms\n",
                        "0: 320x416 1 E, 33.7ms\n",
                        "0: 320x416 1 E, 30.2ms\n",
                        "0: 320x416 1 E, 51.4ms\n",
                        "0: 320x416 (no detections), 57.9ms\n",
                        "0: 320x416 (no detections), 39.9ms\n",
                        "0: 320x416 1 E, 42.8ms\n",
                        "0: 320x416 1 E, 41.9ms\n",
                        "0: 320x416 (no detections), 38.4ms\n",
                        "0: 320x416 (no detections), 43.5ms\n",
                        "0: 320x416 (no detections), 40.7ms\n",
                        "0: 320x416 (no detections), 27.8ms\n",
                        "0: 320x416 (no detections), 30.0ms\n",
                        "0: 320x416 (no detections), 29.9ms\n",
                        "0: 320x416 1 W, 26.5ms\n",
                        "0: 320x416 1 W, 28.0ms\n",
                        "0: 320x416 1 W, 28.6ms\n",
                        "0: 320x416 1 W, 32.2ms\n",
                        "0: 320x416 (no detections), 27.5ms\n",
                        "0: 320x416 (no detections), 31.5ms\n",
                        "0: 320x416 (no detections), 28.4ms\n",
                        "0: 320x416 (no detections), 28.6ms\n",
                        "0: 320x416 (no detections), 30.1ms\n",
                        "0: 320x416 (no detections), 28.5ms\n",
                        "0: 320x416 1 W, 26.7ms\n",
                        "0: 320x416 (no detections), 38.8ms\n",
                        "0: 320x416 (no detections), 28.7ms\n",
                        "0: 320x416 (no detections), 31.5ms\n",
                        "0: 320x416 (no detections), 28.6ms\n",
                        "0: 320x416 (no detections), 25.7ms\n",
                        "0: 320x416 (no detections), 27.0ms\n",
                        "0: 320x416 (no detections), 33.9ms\n",
                        "0: 320x416 1 W, 28.3ms\n",
                        "0: 320x416 (no detections), 27.9ms\n",
                        "0: 320x416 (no detections), 28.3ms\n",
                        "0: 320x416 1 W, 53.2ms\n",
                        "0: 320x416 (no detections), 49.9ms\n",
                        "0: 320x416 (no detections), 47.7ms\n",
                        "0: 320x416 (no detections), 38.2ms\n",
                        "0: 320x416 (no detections), 37.2ms\n",
                        "0: 320x416 1 R, 60.1ms\n",
                        "0: 320x416 (no detections), 62.0ms\n",
                        "0: 320x416 (no detections), 55.2ms\n",
                        "0: 320x416 (no detections), 63.6ms\n",
                        "0: 320x416 1 R, 60.8ms\n",
                        "0: 320x416 (no detections), 58.6ms\n",
                        "0: 320x416 (no detections), 52.7ms\n",
                        "0: 320x416 (no detections), 53.5ms\n",
                        "0: 320x416 (no detections), 51.2ms\n",
                        "0: 320x416 (no detections), 47.6ms\n",
                        "0: 320x416 (no detections), 40.6ms\n",
                        "0: 320x416 (no detections), 38.4ms\n",
                        "0: 320x416 (no detections), 37.6ms\n",
                        "0: 320x416 (no detections), 36.1ms\n",
                        "0: 320x416 (no detections), 37.3ms\n",
                        "0: 320x416 (no detections), 31.9ms\n",
                        "0: 320x416 (no detections), 41.8ms\n",
                        "0: 320x416 (no detections), 47.0ms\n",
                        "0: 320x416 (no detections), 37.2ms\n",
                        "0: 320x416 (no detections), 39.1ms\n",
                        "0: 320x416 (no detections), 30.8ms\n",
                        "0: 320x416 (no detections), 34.2ms\n",
                        "0: 320x416 (no detections), 30.9ms\n",
                        "0: 320x416 (no detections), 38.0ms\n",
                        "0: 320x416 (no detections), 38.9ms\n",
                        "0: 320x416 (no detections), 39.3ms\n",
                        "0: 320x416 (no detections), 37.3ms\n",
                        "0: 320x416 (no detections), 38.3ms\n",
                        "0: 320x416 (no detections), 43.2ms\n",
                        "0: 320x416 (no detections), 40.7ms\n",
                        "0: 320x416 (no detections), 35.4ms\n",
                        "0: 320x416 (no detections), 33.6ms\n",
                        "0: 320x416 (no detections), 45.2ms\n",
                        "0: 320x416 (no detections), 37.3ms\n",
                        "0: 320x416 (no detections), 36.4ms\n",
                        "0: 320x416 (no detections), 28.6ms\n",
                        "0: 320x416 (no detections), 33.2ms\n",
                        "0: 320x416 (no detections), 34.2ms\n",
                        "0: 320x416 (no detections), 30.7ms\n",
                        "0: 320x416 (no detections), 33.8ms\n",
                        "0: 320x416 (no detections), 28.1ms\n",
                        "0: 320x416 (no detections), 25.5ms\n",
                        "0: 320x416 (no detections), 32.0ms\n",
                        "0: 320x416 (no detections), 34.2ms\n",
                        "0: 320x416 (no detections), 40.0ms\n",
                        "0: 320x416 (no detections), 38.9ms\n",
                        "0: 320x416 (no detections), 38.7ms\n",
                        "0: 320x416 (no detections), 60.0ms\n",
                        "0: 320x416 (no detections), 84.4ms\n",
                        "0: 320x416 (no detections), 52.8ms\n",
                        "0: 320x416 (no detections), 92.6ms\n",
                        "0: 320x416 (no detections), 144.2ms\n",
                        "0: 320x416 (no detections), 176.5ms\n",
                        "0: 320x416 (no detections), 69.1ms\n",
                        "0: 320x416 (no detections), 47.7ms\n",
                        "0: 320x416 (no detections), 48.4ms\n",
                        "0: 320x416 (no detections), 56.8ms\n",
                        "0: 320x416 (no detections), 40.8ms\n",
                        "0: 320x416 (no detections), 50.1ms\n",
                        "0: 320x416 (no detections), 41.6ms\n",
                        "0: 320x416 (no detections), 35.4ms\n",
                        "0: 320x416 (no detections), 48.8ms\n",
                        "0: 320x416 (no detections), 39.2ms\n",
                        "0: 320x416 (no detections), 33.7ms\n",
                        "0: 320x416 (no detections), 40.1ms\n",
                        "0: 320x416 (no detections), 39.0ms\n",
                        "0: 320x416 (no detections), 58.3ms\n",
                        "0: 320x416 (no detections), 45.3ms\n",
                        "0: 320x416 (no detections), 37.4ms\n",
                        "0: 320x416 (no detections), 47.1ms\n",
                        "0: 320x416 (no detections), 46.0ms\n",
                        "0: 320x416 (no detections), 66.9ms\n",
                        "0: 320x416 (no detections), 93.8ms\n",
                        "0: 320x416 (no detections), 126.3ms\n",
                        "0: 320x416 (no detections), 142.8ms\n",
                        "0: 320x416 (no detections), 88.7ms\n",
                        "0: 320x416 (no detections), 116.4ms\n",
                        "0: 320x416 (no detections), 75.8ms\n",
                        "0: 320x416 (no detections), 83.1ms\n",
                        "0: 320x416 (no detections), 53.6ms\n",
                        "0: 320x416 (no detections), 59.0ms\n",
                        "0: 320x416 (no detections), 136.6ms\n",
                        "0: 320x416 (no detections), 143.8ms\n",
                        "0: 320x416 (no detections), 69.5ms\n",
                        "0: 320x416 (no detections), 92.7ms\n",
                        "0: 320x416 (no detections), 57.7ms\n",
                        "0: 320x416 (no detections), 42.1ms\n",
                        "0: 320x416 (no detections), 54.2ms\n",
                        "0: 320x416 (no detections), 103.4ms\n",
                        "0: 320x416 (no detections), 126.6ms\n",
                        "0: 320x416 (no detections), 94.7ms\n",
                        "0: 320x416 (no detections), 82.4ms\n",
                        "0: 320x416 (no detections), 63.2ms\n",
                        "0: 320x416 (no detections), 49.0ms\n",
                        "0: 320x416 (no detections), 50.1ms\n",
                        "0: 320x416 (no detections), 60.1ms\n",
                        "0: 320x416 (no detections), 57.7ms\n",
                        "0: 320x416 (no detections), 92.1ms\n",
                        "0: 320x416 (no detections), 75.6ms\n",
                        "0: 320x416 (no detections), 60.0ms\n",
                        "0: 320x416 (no detections), 57.6ms\n",
                        "0: 320x416 (no detections), 79.6ms\n",
                        "0: 320x416 (no detections), 71.0ms\n",
                        "0: 320x416 (no detections), 56.1ms\n",
                        "0: 320x416 (no detections), 51.0ms\n",
                        "0: 320x416 (no detections), 33.4ms\n",
                        "0: 320x416 (no detections), 38.1ms\n",
                        "0: 320x416 (no detections), 39.2ms\n",
                        "0: 320x416 (no detections), 49.9ms\n",
                        "0: 320x416 (no detections), 39.2ms\n",
                        "0: 320x416 (no detections), 94.0ms\n",
                        "0: 320x416 (no detections), 63.9ms\n",
                        "0: 320x416 (no detections), 37.5ms\n",
                        "0: 320x416 (no detections), 39.2ms\n",
                        "0: 320x416 (no detections), 45.5ms\n",
                        "0: 320x416 (no detections), 44.6ms\n",
                        "0: 320x416 (no detections), 42.7ms\n",
                        "0: 320x416 (no detections), 49.1ms\n",
                        "0: 320x416 (no detections), 51.4ms\n",
                        "0: 320x416 (no detections), 51.9ms\n",
                        "0: 320x416 (no detections), 35.3ms\n",
                        "0: 320x416 (no detections), 46.2ms\n",
                        "0: 320x416 (no detections), 43.3ms\n",
                        "0: 320x416 (no detections), 35.3ms\n",
                        "0: 320x416 (no detections), 34.9ms\n",
                        "0: 320x416 (no detections), 34.3ms\n",
                        "0: 320x416 (no detections), 34.5ms\n",
                        "0: 320x416 (no detections), 35.4ms\n",
                        "0: 320x416 (no detections), 33.0ms\n",
                        "0: 320x416 (no detections), 42.0ms\n",
                        "0: 320x416 (no detections), 37.6ms\n",
                        "0: 320x416 (no detections), 32.6ms\n",
                        "0: 320x416 (no detections), 37.7ms\n",
                        "0: 320x416 (no detections), 53.6ms\n",
                        "0: 320x416 (no detections), 32.0ms\n",
                        "0: 320x416 (no detections), 33.7ms\n",
                        "0: 320x416 (no detections), 32.6ms\n",
                        "0: 320x416 (no detections), 32.4ms\n",
                        "0: 320x416 (no detections), 32.9ms\n",
                        "0: 320x416 (no detections), 36.5ms\n",
                        "0: 320x416 (no detections), 35.9ms\n",
                        "0: 320x416 (no detections), 33.8ms\n",
                        "0: 320x416 (no detections), 29.9ms\n",
                        "0: 320x416 (no detections), 32.8ms\n",
                        "0: 320x416 (no detections), 36.6ms\n",
                        "0: 320x416 (no detections), 37.9ms\n",
                        "0: 320x416 (no detections), 34.7ms\n",
                        "0: 320x416 (no detections), 31.7ms\n",
                        "0: 320x416 (no detections), 35.3ms\n",
                        "0: 320x416 (no detections), 38.2ms\n",
                        "0: 320x416 (no detections), 32.6ms\n",
                        "0: 320x416 (no detections), 33.2ms\n",
                        "0: 320x416 (no detections), 34.6ms\n",
                        "0: 320x416 (no detections), 34.0ms\n",
                        "0: 320x416 (no detections), 34.5ms\n",
                        "0: 320x416 (no detections), 40.6ms\n",
                        "0: 320x416 (no detections), 44.2ms\n",
                        "0: 320x416 (no detections), 38.1ms\n",
                        "0: 320x416 (no detections), 33.6ms\n",
                        "0: 320x416 (no detections), 40.2ms\n",
                        "0: 320x416 (no detections), 35.9ms\n",
                        "0: 320x416 (no detections), 54.1ms\n",
                        "0: 320x416 (no detections), 41.8ms\n",
                        "0: 320x416 (no detections), 43.2ms\n",
                        "0: 320x416 (no detections), 44.8ms\n",
                        "0: 320x416 (no detections), 33.5ms\n",
                        "0: 320x416 (no detections), 36.6ms\n",
                        "0: 320x416 (no detections), 49.7ms\n",
                        "0: 320x416 (no detections), 38.5ms\n",
                        "0: 320x416 (no detections), 29.1ms\n",
                        "0: 320x416 (no detections), 37.0ms\n",
                        "0: 320x416 (no detections), 41.6ms\n",
                        "0: 320x416 (no detections), 39.3ms\n",
                        "0: 320x416 (no detections), 32.6ms\n",
                        "0: 320x416 (no detections), 41.4ms\n",
                        "0: 320x416 (no detections), 38.5ms\n",
                        "0: 320x416 (no detections), 34.2ms\n",
                        "0: 320x416 (no detections), 43.9ms\n",
                        "0: 320x416 (no detections), 35.5ms\n",
                        "0: 320x416 (no detections), 39.3ms\n",
                        "0: 320x416 (no detections), 33.7ms\n",
                        "0: 320x416 (no detections), 40.6ms\n",
                        "0: 320x416 (no detections), 43.6ms\n",
                        "0: 320x416 (no detections), 34.9ms\n",
                        "0: 320x416 (no detections), 37.4ms\n",
                        "0: 320x416 (no detections), 41.3ms\n",
                        "0: 320x416 (no detections), 38.4ms\n",
                        "0: 320x416 (no detections), 39.5ms\n",
                        "0: 320x416 (no detections), 89.3ms\n",
                        "0: 320x416 (no detections), 104.0ms\n",
                        "0: 320x416 (no detections), 56.3ms\n",
                        "0: 320x416 (no detections), 73.7ms\n",
                        "0: 320x416 (no detections), 71.1ms\n",
                        "0: 320x416 (no detections), 46.8ms\n",
                        "0: 320x416 (no detections), 65.2ms\n",
                        "0: 320x416 (no detections), 67.8ms\n",
                        "0: 320x416 (no detections), 45.6ms\n",
                        "0: 320x416 (no detections), 42.2ms\n",
                        "0: 320x416 (no detections), 38.1ms\n",
                        "0: 320x416 (no detections), 31.4ms\n",
                        "0: 320x416 (no detections), 41.4ms\n",
                        "0: 320x416 (no detections), 61.9ms\n",
                        "0: 320x416 (no detections), 39.5ms\n",
                        "0: 320x416 (no detections), 97.7ms\n",
                        "0: 320x416 (no detections), 101.1ms\n",
                        "0: 320x416 (no detections), 42.8ms\n",
                        "0: 320x416 (no detections), 35.9ms\n",
                        "0: 320x416 (no detections), 47.1ms\n",
                        "0: 320x416 (no detections), 153.1ms\n",
                        "0: 320x416 (no detections), 67.0ms\n",
                        "0: 320x416 (no detections), 53.3ms\n",
                        "0: 320x416 (no detections), 44.4ms\n",
                        "0: 320x416 (no detections), 50.1ms\n",
                        "0: 320x416 (no detections), 46.3ms\n",
                        "0: 320x416 (no detections), 59.7ms\n",
                        "0: 320x416 (no detections), 44.7ms\n",
                        "0: 320x416 (no detections), 48.4ms\n",
                        "0: 320x416 (no detections), 50.4ms\n",
                        "0: 320x416 (no detections), 44.0ms\n",
                        "0: 320x416 (no detections), 39.7ms\n",
                        "0: 320x416 (no detections), 41.5ms\n",
                        "0: 320x416 (no detections), 36.8ms\n",
                        "0: 320x416 (no detections), 40.5ms\n",
                        "0: 320x416 (no detections), 29.4ms\n",
                        "0: 320x416 (no detections), 37.4ms\n",
                        "0: 320x416 (no detections), 39.3ms\n",
                        "0: 320x416 (no detections), 49.7ms\n",
                        "0: 320x416 (no detections), 35.7ms\n",
                        "0: 320x416 (no detections), 44.4ms\n",
                        "0: 320x416 (no detections), 43.6ms\n",
                        "0: 320x416 (no detections), 34.8ms\n",
                        "0: 320x416 (no detections), 39.2ms\n",
                        "0: 320x416 (no detections), 29.3ms\n",
                        "0: 320x416 (no detections), 40.8ms\n",
                        "0: 320x416 (no detections), 33.1ms\n",
                        "0: 320x416 (no detections), 44.9ms\n",
                        "0: 320x416 (no detections), 32.7ms\n",
                        "0: 320x416 (no detections), 32.3ms\n",
                        "0: 320x416 (no detections), 31.6ms\n",
                        "0: 320x416 (no detections), 32.1ms\n",
                        "0: 320x416 (no detections), 34.0ms\n",
                        "0: 320x416 (no detections), 33.8ms\n",
                        "0: 320x416 (no detections), 34.3ms\n",
                        "0: 320x416 (no detections), 27.3ms\n",
                        "0: 320x416 (no detections), 30.4ms\n",
                        "0: 320x416 (no detections), 31.0ms\n",
                        "0: 320x416 (no detections), 27.0ms\n",
                        "0: 320x416 (no detections), 36.0ms\n",
                        "0: 320x416 (no detections), 36.2ms\n",
                        "0: 320x416 (no detections), 30.0ms\n",
                        "0: 320x416 (no detections), 35.5ms\n",
                        "0: 320x416 (no detections), 40.0ms\n",
                        "0: 320x416 (no detections), 47.7ms\n",
                        "0: 320x416 (no detections), 41.5ms\n",
                        "0: 320x416 (no detections), 34.0ms\n",
                        "0: 320x416 (no detections), 38.4ms\n",
                        "0: 320x416 (no detections), 34.9ms\n",
                        "0: 320x416 (no detections), 39.4ms\n",
                        "0: 320x416 (no detections), 35.3ms\n",
                        "0: 320x416 (no detections), 35.2ms\n",
                        "0: 320x416 (no detections), 33.7ms\n",
                        "0: 320x416 (no detections), 28.0ms\n",
                        "0: 320x416 (no detections), 106.1ms\n",
                        "0: 320x416 (no detections), 55.7ms\n",
                        "0: 320x416 (no detections), 30.9ms\n",
                        "0: 320x416 (no detections), 29.3ms\n",
                        "0: 320x416 (no detections), 28.1ms\n",
                        "0: 320x416 (no detections), 41.9ms\n",
                        "0: 320x416 (no detections), 44.8ms\n",
                        "0: 320x416 (no detections), 49.5ms\n",
                        "0: 320x416 (no detections), 47.5ms\n",
                        "0: 320x416 (no detections), 30.1ms\n",
                        "0: 320x416 (no detections), 30.0ms\n",
                        "0: 320x416 (no detections), 31.3ms\n",
                        "0: 320x416 (no detections), 34.0ms\n",
                        "0: 320x416 (no detections), 34.6ms\n",
                        "0: 320x416 (no detections), 33.0ms\n",
                        "0: 320x416 (no detections), 38.5ms\n",
                        "0: 320x416 (no detections), 33.0ms\n",
                        "0: 320x416 (no detections), 33.7ms\n",
                        "0: 320x416 (no detections), 29.2ms\n",
                        "0: 320x416 (no detections), 36.1ms\n",
                        "0: 320x416 (no detections), 31.6ms\n",
                        "0: 320x416 (no detections), 29.5ms\n",
                        "0: 320x416 (no detections), 27.9ms\n",
                        "0: 320x416 (no detections), 43.8ms\n"
                    ]
                },
                {
                    "ename": "KeyboardInterrupt",
                    "evalue": "",
                    "output_type": "error",
                    "traceback": [
                        "\u001b[31m---------------------------------------------------------------------------\u001b[39m",
                        "\u001b[31mKeyboardInterrupt\u001b[39m                         Traceback (most recent call last)",
                        "\u001b[36mCell\u001b[39m\u001b[36m \u001b[39m\u001b[32mIn[4]\u001b[39m\u001b[32m, line 4\u001b[39m\n\u001b[32m      1\u001b[39m model = YOLO(\u001b[33m\"\u001b[39m\u001b[33mruns/detect/train3/weights/best.pt\u001b[39m\u001b[33m\"\u001b[39m)\n\u001b[32m      3\u001b[39m \u001b[38;5;66;03m# 2. Usar la cámara (source=0 es la webcam principal)\u001b[39;00m\n\u001b[32m----> \u001b[39m\u001b[32m4\u001b[39m \u001b[43mmodel\u001b[49m\u001b[43m.\u001b[49m\u001b[43mpredict\u001b[49m\u001b[43m(\u001b[49m\n\u001b[32m      5\u001b[39m \u001b[43m    \u001b[49m\u001b[43msource\u001b[49m\u001b[43m=\u001b[49m\u001b[32;43m0\u001b[39;49m\u001b[43m,\u001b[49m\u001b[43m        \u001b[49m\u001b[38;5;66;43;03m# webcam\u001b[39;49;00m\n\u001b[32m      6\u001b[39m \u001b[43m    \u001b[49m\u001b[43mshow\u001b[49m\u001b[43m=\u001b[49m\u001b[38;5;28;43;01mTrue\u001b[39;49;00m\u001b[43m,\u001b[49m\u001b[43m       \u001b[49m\u001b[38;5;66;43;03m# mostrar ventana en tiempo real\u001b[39;49;00m\n\u001b[32m      7\u001b[39m \u001b[43m    \u001b[49m\u001b[43mconf\u001b[49m\u001b[43m=\u001b[49m\u001b[32;43m0.5\u001b[39;49m\u001b[43m,\u001b[49m\u001b[43m        \u001b[49m\u001b[38;5;66;43;03m# confianza mínima (ajústala si detecta de más o de menos)\u001b[39;49;00m\n\u001b[32m      8\u001b[39m \u001b[43m    \u001b[49m\u001b[43msave\u001b[49m\u001b[43m=\u001b[49m\u001b[38;5;28;43;01mFalse\u001b[39;49;00m\u001b[43m       \u001b[49m\u001b[38;5;66;43;03m# si quieres guardar el video, pon True\u001b[39;49;00m\n\u001b[32m      9\u001b[39m \u001b[43m)\u001b[49m\n",
                        "\u001b[36mFile \u001b[39m\u001b[32mc:\\Users\\xg645\\Downloads\\adadada\\Proyecto_ia_legua_se-as_2025-1\\.venv\\Lib\\site-packages\\ultralytics\\engine\\model.py:555\u001b[39m, in \u001b[36mModel.predict\u001b[39m\u001b[34m(self, source, stream, predictor, **kwargs)\u001b[39m\n\u001b[32m    553\u001b[39m \u001b[38;5;28;01mif\u001b[39;00m prompts \u001b[38;5;129;01mand\u001b[39;00m \u001b[38;5;28mhasattr\u001b[39m(\u001b[38;5;28mself\u001b[39m.predictor, \u001b[33m\"\u001b[39m\u001b[33mset_prompts\u001b[39m\u001b[33m\"\u001b[39m):  \u001b[38;5;66;03m# for SAM-type models\u001b[39;00m\n\u001b[32m    554\u001b[39m     \u001b[38;5;28mself\u001b[39m.predictor.set_prompts(prompts)\n\u001b[32m--> \u001b[39m\u001b[32m555\u001b[39m \u001b[38;5;28;01mreturn\u001b[39;00m \u001b[38;5;28mself\u001b[39m.predictor.predict_cli(source=source) \u001b[38;5;28;01mif\u001b[39;00m is_cli \u001b[38;5;28;01melse\u001b[39;00m \u001b[38;5;28;43mself\u001b[39;49m\u001b[43m.\u001b[49m\u001b[43mpredictor\u001b[49m\u001b[43m(\u001b[49m\u001b[43msource\u001b[49m\u001b[43m=\u001b[49m\u001b[43msource\u001b[49m\u001b[43m,\u001b[49m\u001b[43m \u001b[49m\u001b[43mstream\u001b[49m\u001b[43m=\u001b[49m\u001b[43mstream\u001b[49m\u001b[43m)\u001b[49m\n",
                        "\u001b[36mFile \u001b[39m\u001b[32mc:\\Users\\xg645\\Downloads\\adadada\\Proyecto_ia_legua_se-as_2025-1\\.venv\\Lib\\site-packages\\ultralytics\\engine\\predictor.py:227\u001b[39m, in \u001b[36mBasePredictor.__call__\u001b[39m\u001b[34m(self, source, model, stream, *args, **kwargs)\u001b[39m\n\u001b[32m    225\u001b[39m     \u001b[38;5;28;01mreturn\u001b[39;00m \u001b[38;5;28mself\u001b[39m.stream_inference(source, model, *args, **kwargs)\n\u001b[32m    226\u001b[39m \u001b[38;5;28;01melse\u001b[39;00m:\n\u001b[32m--> \u001b[39m\u001b[32m227\u001b[39m     \u001b[38;5;28;01mreturn\u001b[39;00m \u001b[38;5;28;43mlist\u001b[39;49m\u001b[43m(\u001b[49m\u001b[38;5;28;43mself\u001b[39;49m\u001b[43m.\u001b[49m\u001b[43mstream_inference\u001b[49m\u001b[43m(\u001b[49m\u001b[43msource\u001b[49m\u001b[43m,\u001b[49m\u001b[43m \u001b[49m\u001b[43mmodel\u001b[49m\u001b[43m,\u001b[49m\u001b[43m \u001b[49m\u001b[43m*\u001b[49m\u001b[43margs\u001b[49m\u001b[43m,\u001b[49m\u001b[43m \u001b[49m\u001b[43m*\u001b[49m\u001b[43m*\u001b[49m\u001b[43mkwargs\u001b[49m\u001b[43m)\u001b[49m\u001b[43m)\u001b[49m\n",
                        "\u001b[36mFile \u001b[39m\u001b[32mc:\\Users\\xg645\\Downloads\\adadada\\Proyecto_ia_legua_se-as_2025-1\\.venv\\Lib\\site-packages\\torch\\utils\\_contextlib.py:59\u001b[39m, in \u001b[36m_wrap_generator.<locals>.generator_context\u001b[39m\u001b[34m(*args, **kwargs)\u001b[39m\n\u001b[32m     56\u001b[39m         \u001b[38;5;28;01melse\u001b[39;00m:\n\u001b[32m     57\u001b[39m             \u001b[38;5;66;03m# Pass the last request to the generator and get its response\u001b[39;00m\n\u001b[32m     58\u001b[39m             \u001b[38;5;28;01mwith\u001b[39;00m ctx_factory():\n\u001b[32m---> \u001b[39m\u001b[32m59\u001b[39m                 response = gen.send(request)\n\u001b[32m     61\u001b[39m \u001b[38;5;66;03m# We let the exceptions raised above by the generator's `.throw` or\u001b[39;00m\n\u001b[32m     62\u001b[39m \u001b[38;5;66;03m# `.send` methods bubble up to our caller, except for StopIteration\u001b[39;00m\n\u001b[32m     63\u001b[39m \u001b[38;5;28;01mexcept\u001b[39;00m \u001b[38;5;167;01mStopIteration\u001b[39;00m \u001b[38;5;28;01mas\u001b[39;00m e:\n\u001b[32m     64\u001b[39m     \u001b[38;5;66;03m# The generator informed us that it is done: take whatever its\u001b[39;00m\n\u001b[32m     65\u001b[39m     \u001b[38;5;66;03m# returned value (if any) was and indicate that we're done too\u001b[39;00m\n\u001b[32m     66\u001b[39m     \u001b[38;5;66;03m# by returning it (see docs for python's return-statement).\u001b[39;00m\n",
                        "\u001b[36mFile \u001b[39m\u001b[32mc:\\Users\\xg645\\Downloads\\adadada\\Proyecto_ia_legua_se-as_2025-1\\.venv\\Lib\\site-packages\\ultralytics\\engine\\predictor.py:330\u001b[39m, in \u001b[36mBasePredictor.stream_inference\u001b[39m\u001b[34m(self, source, model, *args, **kwargs)\u001b[39m\n\u001b[32m    328\u001b[39m \u001b[38;5;66;03m# Inference\u001b[39;00m\n\u001b[32m    329\u001b[39m \u001b[38;5;28;01mwith\u001b[39;00m profilers[\u001b[32m1\u001b[39m]:\n\u001b[32m--> \u001b[39m\u001b[32m330\u001b[39m     preds = \u001b[38;5;28;43mself\u001b[39;49m\u001b[43m.\u001b[49m\u001b[43minference\u001b[49m\u001b[43m(\u001b[49m\u001b[43mim\u001b[49m\u001b[43m,\u001b[49m\u001b[43m \u001b[49m\u001b[43m*\u001b[49m\u001b[43margs\u001b[49m\u001b[43m,\u001b[49m\u001b[43m \u001b[49m\u001b[43m*\u001b[49m\u001b[43m*\u001b[49m\u001b[43mkwargs\u001b[49m\u001b[43m)\u001b[49m\n\u001b[32m    331\u001b[39m     \u001b[38;5;28;01mif\u001b[39;00m \u001b[38;5;28mself\u001b[39m.args.embed:\n\u001b[32m    332\u001b[39m         \u001b[38;5;28;01myield from\u001b[39;00m [preds] \u001b[38;5;28;01mif\u001b[39;00m \u001b[38;5;28misinstance\u001b[39m(preds, torch.Tensor) \u001b[38;5;28;01melse\u001b[39;00m preds  \u001b[38;5;66;03m# yield embedding tensors\u001b[39;00m\n",
                        "\u001b[36mFile \u001b[39m\u001b[32mc:\\Users\\xg645\\Downloads\\adadada\\Proyecto_ia_legua_se-as_2025-1\\.venv\\Lib\\site-packages\\ultralytics\\engine\\predictor.py:182\u001b[39m, in \u001b[36mBasePredictor.inference\u001b[39m\u001b[34m(self, im, *args, **kwargs)\u001b[39m\n\u001b[32m    176\u001b[39m \u001b[38;5;250m\u001b[39m\u001b[33;03m\"\"\"Run inference on a given image using the specified model and arguments.\"\"\"\u001b[39;00m\n\u001b[32m    177\u001b[39m visualize = (\n\u001b[32m    178\u001b[39m     increment_path(\u001b[38;5;28mself\u001b[39m.save_dir / Path(\u001b[38;5;28mself\u001b[39m.batch[\u001b[32m0\u001b[39m][\u001b[32m0\u001b[39m]).stem, mkdir=\u001b[38;5;28;01mTrue\u001b[39;00m)\n\u001b[32m    179\u001b[39m     \u001b[38;5;28;01mif\u001b[39;00m \u001b[38;5;28mself\u001b[39m.args.visualize \u001b[38;5;129;01mand\u001b[39;00m (\u001b[38;5;129;01mnot\u001b[39;00m \u001b[38;5;28mself\u001b[39m.source_type.tensor)\n\u001b[32m    180\u001b[39m     \u001b[38;5;28;01melse\u001b[39;00m \u001b[38;5;28;01mFalse\u001b[39;00m\n\u001b[32m    181\u001b[39m )\n\u001b[32m--> \u001b[39m\u001b[32m182\u001b[39m \u001b[38;5;28;01mreturn\u001b[39;00m \u001b[38;5;28;43mself\u001b[39;49m\u001b[43m.\u001b[49m\u001b[43mmodel\u001b[49m\u001b[43m(\u001b[49m\u001b[43mim\u001b[49m\u001b[43m,\u001b[49m\u001b[43m \u001b[49m\u001b[43maugment\u001b[49m\u001b[43m=\u001b[49m\u001b[38;5;28;43mself\u001b[39;49m\u001b[43m.\u001b[49m\u001b[43margs\u001b[49m\u001b[43m.\u001b[49m\u001b[43maugment\u001b[49m\u001b[43m,\u001b[49m\u001b[43m \u001b[49m\u001b[43mvisualize\u001b[49m\u001b[43m=\u001b[49m\u001b[43mvisualize\u001b[49m\u001b[43m,\u001b[49m\u001b[43m \u001b[49m\u001b[43membed\u001b[49m\u001b[43m=\u001b[49m\u001b[38;5;28;43mself\u001b[39;49m\u001b[43m.\u001b[49m\u001b[43margs\u001b[49m\u001b[43m.\u001b[49m\u001b[43membed\u001b[49m\u001b[43m,\u001b[49m\u001b[43m \u001b[49m\u001b[43m*\u001b[49m\u001b[43margs\u001b[49m\u001b[43m,\u001b[49m\u001b[43m \u001b[49m\u001b[43m*\u001b[49m\u001b[43m*\u001b[49m\u001b[43mkwargs\u001b[49m\u001b[43m)\u001b[49m\n",
                        "\u001b[36mFile \u001b[39m\u001b[32mc:\\Users\\xg645\\Downloads\\adadada\\Proyecto_ia_legua_se-as_2025-1\\.venv\\Lib\\site-packages\\torch\\nn\\modules\\module.py:1773\u001b[39m, in \u001b[36mModule._wrapped_call_impl\u001b[39m\u001b[34m(self, *args, **kwargs)\u001b[39m\n\u001b[32m   1771\u001b[39m     \u001b[38;5;28;01mreturn\u001b[39;00m \u001b[38;5;28mself\u001b[39m._compiled_call_impl(*args, **kwargs)  \u001b[38;5;66;03m# type: ignore[misc]\u001b[39;00m\n\u001b[32m   1772\u001b[39m \u001b[38;5;28;01melse\u001b[39;00m:\n\u001b[32m-> \u001b[39m\u001b[32m1773\u001b[39m     \u001b[38;5;28;01mreturn\u001b[39;00m \u001b[38;5;28;43mself\u001b[39;49m\u001b[43m.\u001b[49m\u001b[43m_call_impl\u001b[49m\u001b[43m(\u001b[49m\u001b[43m*\u001b[49m\u001b[43margs\u001b[49m\u001b[43m,\u001b[49m\u001b[43m \u001b[49m\u001b[43m*\u001b[49m\u001b[43m*\u001b[49m\u001b[43mkwargs\u001b[49m\u001b[43m)\u001b[49m\n",
                        "\u001b[36mFile \u001b[39m\u001b[32mc:\\Users\\xg645\\Downloads\\adadada\\Proyecto_ia_legua_se-as_2025-1\\.venv\\Lib\\site-packages\\torch\\nn\\modules\\module.py:1784\u001b[39m, in \u001b[36mModule._call_impl\u001b[39m\u001b[34m(self, *args, **kwargs)\u001b[39m\n\u001b[32m   1779\u001b[39m \u001b[38;5;66;03m# If we don't have any hooks, we want to skip the rest of the logic in\u001b[39;00m\n\u001b[32m   1780\u001b[39m \u001b[38;5;66;03m# this function, and just call forward.\u001b[39;00m\n\u001b[32m   1781\u001b[39m \u001b[38;5;28;01mif\u001b[39;00m \u001b[38;5;129;01mnot\u001b[39;00m (\u001b[38;5;28mself\u001b[39m._backward_hooks \u001b[38;5;129;01mor\u001b[39;00m \u001b[38;5;28mself\u001b[39m._backward_pre_hooks \u001b[38;5;129;01mor\u001b[39;00m \u001b[38;5;28mself\u001b[39m._forward_hooks \u001b[38;5;129;01mor\u001b[39;00m \u001b[38;5;28mself\u001b[39m._forward_pre_hooks\n\u001b[32m   1782\u001b[39m         \u001b[38;5;129;01mor\u001b[39;00m _global_backward_pre_hooks \u001b[38;5;129;01mor\u001b[39;00m _global_backward_hooks\n\u001b[32m   1783\u001b[39m         \u001b[38;5;129;01mor\u001b[39;00m _global_forward_hooks \u001b[38;5;129;01mor\u001b[39;00m _global_forward_pre_hooks):\n\u001b[32m-> \u001b[39m\u001b[32m1784\u001b[39m     \u001b[38;5;28;01mreturn\u001b[39;00m \u001b[43mforward_call\u001b[49m\u001b[43m(\u001b[49m\u001b[43m*\u001b[49m\u001b[43margs\u001b[49m\u001b[43m,\u001b[49m\u001b[43m \u001b[49m\u001b[43m*\u001b[49m\u001b[43m*\u001b[49m\u001b[43mkwargs\u001b[49m\u001b[43m)\u001b[49m\n\u001b[32m   1786\u001b[39m result = \u001b[38;5;28;01mNone\u001b[39;00m\n\u001b[32m   1787\u001b[39m called_always_called_hooks = \u001b[38;5;28mset\u001b[39m()\n",
                        "\u001b[36mFile \u001b[39m\u001b[32mc:\\Users\\xg645\\Downloads\\adadada\\Proyecto_ia_legua_se-as_2025-1\\.venv\\Lib\\site-packages\\ultralytics\\nn\\autobackend.py:644\u001b[39m, in \u001b[36mAutoBackend.forward\u001b[39m\u001b[34m(self, im, augment, visualize, embed, **kwargs)\u001b[39m\n\u001b[32m    642\u001b[39m \u001b[38;5;66;03m# PyTorch\u001b[39;00m\n\u001b[32m    643\u001b[39m \u001b[38;5;28;01mif\u001b[39;00m \u001b[38;5;28mself\u001b[39m.pt \u001b[38;5;129;01mor\u001b[39;00m \u001b[38;5;28mself\u001b[39m.nn_module:\n\u001b[32m--> \u001b[39m\u001b[32m644\u001b[39m     y = \u001b[38;5;28;43mself\u001b[39;49m\u001b[43m.\u001b[49m\u001b[43mmodel\u001b[49m\u001b[43m(\u001b[49m\u001b[43mim\u001b[49m\u001b[43m,\u001b[49m\u001b[43m \u001b[49m\u001b[43maugment\u001b[49m\u001b[43m=\u001b[49m\u001b[43maugment\u001b[49m\u001b[43m,\u001b[49m\u001b[43m \u001b[49m\u001b[43mvisualize\u001b[49m\u001b[43m=\u001b[49m\u001b[43mvisualize\u001b[49m\u001b[43m,\u001b[49m\u001b[43m \u001b[49m\u001b[43membed\u001b[49m\u001b[43m=\u001b[49m\u001b[43membed\u001b[49m\u001b[43m,\u001b[49m\u001b[43m \u001b[49m\u001b[43m*\u001b[49m\u001b[43m*\u001b[49m\u001b[43mkwargs\u001b[49m\u001b[43m)\u001b[49m\n\u001b[32m    646\u001b[39m \u001b[38;5;66;03m# TorchScript\u001b[39;00m\n\u001b[32m    647\u001b[39m \u001b[38;5;28;01melif\u001b[39;00m \u001b[38;5;28mself\u001b[39m.jit:\n",
                        "\u001b[36mFile \u001b[39m\u001b[32mc:\\Users\\xg645\\Downloads\\adadada\\Proyecto_ia_legua_se-as_2025-1\\.venv\\Lib\\site-packages\\torch\\nn\\modules\\module.py:1773\u001b[39m, in \u001b[36mModule._wrapped_call_impl\u001b[39m\u001b[34m(self, *args, **kwargs)\u001b[39m\n\u001b[32m   1771\u001b[39m     \u001b[38;5;28;01mreturn\u001b[39;00m \u001b[38;5;28mself\u001b[39m._compiled_call_impl(*args, **kwargs)  \u001b[38;5;66;03m# type: ignore[misc]\u001b[39;00m\n\u001b[32m   1772\u001b[39m \u001b[38;5;28;01melse\u001b[39;00m:\n\u001b[32m-> \u001b[39m\u001b[32m1773\u001b[39m     \u001b[38;5;28;01mreturn\u001b[39;00m \u001b[38;5;28;43mself\u001b[39;49m\u001b[43m.\u001b[49m\u001b[43m_call_impl\u001b[49m\u001b[43m(\u001b[49m\u001b[43m*\u001b[49m\u001b[43margs\u001b[49m\u001b[43m,\u001b[49m\u001b[43m \u001b[49m\u001b[43m*\u001b[49m\u001b[43m*\u001b[49m\u001b[43mkwargs\u001b[49m\u001b[43m)\u001b[49m\n",
                        "\u001b[36mFile \u001b[39m\u001b[32mc:\\Users\\xg645\\Downloads\\adadada\\Proyecto_ia_legua_se-as_2025-1\\.venv\\Lib\\site-packages\\torch\\nn\\modules\\module.py:1784\u001b[39m, in \u001b[36mModule._call_impl\u001b[39m\u001b[34m(self, *args, **kwargs)\u001b[39m\n\u001b[32m   1779\u001b[39m \u001b[38;5;66;03m# If we don't have any hooks, we want to skip the rest of the logic in\u001b[39;00m\n\u001b[32m   1780\u001b[39m \u001b[38;5;66;03m# this function, and just call forward.\u001b[39;00m\n\u001b[32m   1781\u001b[39m \u001b[38;5;28;01mif\u001b[39;00m \u001b[38;5;129;01mnot\u001b[39;00m (\u001b[38;5;28mself\u001b[39m._backward_hooks \u001b[38;5;129;01mor\u001b[39;00m \u001b[38;5;28mself\u001b[39m._backward_pre_hooks \u001b[38;5;129;01mor\u001b[39;00m \u001b[38;5;28mself\u001b[39m._forward_hooks \u001b[38;5;129;01mor\u001b[39;00m \u001b[38;5;28mself\u001b[39m._forward_pre_hooks\n\u001b[32m   1782\u001b[39m         \u001b[38;5;129;01mor\u001b[39;00m _global_backward_pre_hooks \u001b[38;5;129;01mor\u001b[39;00m _global_backward_hooks\n\u001b[32m   1783\u001b[39m         \u001b[38;5;129;01mor\u001b[39;00m _global_forward_hooks \u001b[38;5;129;01mor\u001b[39;00m _global_forward_pre_hooks):\n\u001b[32m-> \u001b[39m\u001b[32m1784\u001b[39m     \u001b[38;5;28;01mreturn\u001b[39;00m \u001b[43mforward_call\u001b[49m\u001b[43m(\u001b[49m\u001b[43m*\u001b[49m\u001b[43margs\u001b[49m\u001b[43m,\u001b[49m\u001b[43m \u001b[49m\u001b[43m*\u001b[49m\u001b[43m*\u001b[49m\u001b[43mkwargs\u001b[49m\u001b[43m)\u001b[49m\n\u001b[32m   1786\u001b[39m result = \u001b[38;5;28;01mNone\u001b[39;00m\n\u001b[32m   1787\u001b[39m called_always_called_hooks = \u001b[38;5;28mset\u001b[39m()\n",
                        "\u001b[36mFile \u001b[39m\u001b[32mc:\\Users\\xg645\\Downloads\\adadada\\Proyecto_ia_legua_se-as_2025-1\\.venv\\Lib\\site-packages\\ultralytics\\nn\\tasks.py:139\u001b[39m, in \u001b[36mBaseModel.forward\u001b[39m\u001b[34m(self, x, *args, **kwargs)\u001b[39m\n\u001b[32m    137\u001b[39m \u001b[38;5;28;01mif\u001b[39;00m \u001b[38;5;28misinstance\u001b[39m(x, \u001b[38;5;28mdict\u001b[39m):  \u001b[38;5;66;03m# for cases of training and validating while training.\u001b[39;00m\n\u001b[32m    138\u001b[39m     \u001b[38;5;28;01mreturn\u001b[39;00m \u001b[38;5;28mself\u001b[39m.loss(x, *args, **kwargs)\n\u001b[32m--> \u001b[39m\u001b[32m139\u001b[39m \u001b[38;5;28;01mreturn\u001b[39;00m \u001b[38;5;28;43mself\u001b[39;49m\u001b[43m.\u001b[49m\u001b[43mpredict\u001b[49m\u001b[43m(\u001b[49m\u001b[43mx\u001b[49m\u001b[43m,\u001b[49m\u001b[43m \u001b[49m\u001b[43m*\u001b[49m\u001b[43margs\u001b[49m\u001b[43m,\u001b[49m\u001b[43m \u001b[49m\u001b[43m*\u001b[49m\u001b[43m*\u001b[49m\u001b[43mkwargs\u001b[49m\u001b[43m)\u001b[49m\n",
                        "\u001b[36mFile \u001b[39m\u001b[32mc:\\Users\\xg645\\Downloads\\adadada\\Proyecto_ia_legua_se-as_2025-1\\.venv\\Lib\\site-packages\\ultralytics\\nn\\tasks.py:157\u001b[39m, in \u001b[36mBaseModel.predict\u001b[39m\u001b[34m(self, x, profile, visualize, augment, embed)\u001b[39m\n\u001b[32m    155\u001b[39m \u001b[38;5;28;01mif\u001b[39;00m augment:\n\u001b[32m    156\u001b[39m     \u001b[38;5;28;01mreturn\u001b[39;00m \u001b[38;5;28mself\u001b[39m._predict_augment(x)\n\u001b[32m--> \u001b[39m\u001b[32m157\u001b[39m \u001b[38;5;28;01mreturn\u001b[39;00m \u001b[38;5;28;43mself\u001b[39;49m\u001b[43m.\u001b[49m\u001b[43m_predict_once\u001b[49m\u001b[43m(\u001b[49m\u001b[43mx\u001b[49m\u001b[43m,\u001b[49m\u001b[43m \u001b[49m\u001b[43mprofile\u001b[49m\u001b[43m,\u001b[49m\u001b[43m \u001b[49m\u001b[43mvisualize\u001b[49m\u001b[43m,\u001b[49m\u001b[43m \u001b[49m\u001b[43membed\u001b[49m\u001b[43m)\u001b[49m\n",
                        "\u001b[36mFile \u001b[39m\u001b[32mc:\\Users\\xg645\\Downloads\\adadada\\Proyecto_ia_legua_se-as_2025-1\\.venv\\Lib\\site-packages\\ultralytics\\nn\\tasks.py:180\u001b[39m, in \u001b[36mBaseModel._predict_once\u001b[39m\u001b[34m(self, x, profile, visualize, embed)\u001b[39m\n\u001b[32m    178\u001b[39m \u001b[38;5;28;01mif\u001b[39;00m profile:\n\u001b[32m    179\u001b[39m     \u001b[38;5;28mself\u001b[39m._profile_one_layer(m, x, dt)\n\u001b[32m--> \u001b[39m\u001b[32m180\u001b[39m x = \u001b[43mm\u001b[49m\u001b[43m(\u001b[49m\u001b[43mx\u001b[49m\u001b[43m)\u001b[49m  \u001b[38;5;66;03m# run\u001b[39;00m\n\u001b[32m    181\u001b[39m y.append(x \u001b[38;5;28;01mif\u001b[39;00m m.i \u001b[38;5;129;01min\u001b[39;00m \u001b[38;5;28mself\u001b[39m.save \u001b[38;5;28;01melse\u001b[39;00m \u001b[38;5;28;01mNone\u001b[39;00m)  \u001b[38;5;66;03m# save output\u001b[39;00m\n\u001b[32m    182\u001b[39m \u001b[38;5;28;01mif\u001b[39;00m visualize:\n",
                        "\u001b[36mFile \u001b[39m\u001b[32mc:\\Users\\xg645\\Downloads\\adadada\\Proyecto_ia_legua_se-as_2025-1\\.venv\\Lib\\site-packages\\torch\\nn\\modules\\module.py:1773\u001b[39m, in \u001b[36mModule._wrapped_call_impl\u001b[39m\u001b[34m(self, *args, **kwargs)\u001b[39m\n\u001b[32m   1771\u001b[39m     \u001b[38;5;28;01mreturn\u001b[39;00m \u001b[38;5;28mself\u001b[39m._compiled_call_impl(*args, **kwargs)  \u001b[38;5;66;03m# type: ignore[misc]\u001b[39;00m\n\u001b[32m   1772\u001b[39m \u001b[38;5;28;01melse\u001b[39;00m:\n\u001b[32m-> \u001b[39m\u001b[32m1773\u001b[39m     \u001b[38;5;28;01mreturn\u001b[39;00m \u001b[38;5;28;43mself\u001b[39;49m\u001b[43m.\u001b[49m\u001b[43m_call_impl\u001b[49m\u001b[43m(\u001b[49m\u001b[43m*\u001b[49m\u001b[43margs\u001b[49m\u001b[43m,\u001b[49m\u001b[43m \u001b[49m\u001b[43m*\u001b[49m\u001b[43m*\u001b[49m\u001b[43mkwargs\u001b[49m\u001b[43m)\u001b[49m\n",
                        "\u001b[36mFile \u001b[39m\u001b[32mc:\\Users\\xg645\\Downloads\\adadada\\Proyecto_ia_legua_se-as_2025-1\\.venv\\Lib\\site-packages\\torch\\nn\\modules\\module.py:1784\u001b[39m, in \u001b[36mModule._call_impl\u001b[39m\u001b[34m(self, *args, **kwargs)\u001b[39m\n\u001b[32m   1779\u001b[39m \u001b[38;5;66;03m# If we don't have any hooks, we want to skip the rest of the logic in\u001b[39;00m\n\u001b[32m   1780\u001b[39m \u001b[38;5;66;03m# this function, and just call forward.\u001b[39;00m\n\u001b[32m   1781\u001b[39m \u001b[38;5;28;01mif\u001b[39;00m \u001b[38;5;129;01mnot\u001b[39;00m (\u001b[38;5;28mself\u001b[39m._backward_hooks \u001b[38;5;129;01mor\u001b[39;00m \u001b[38;5;28mself\u001b[39m._backward_pre_hooks \u001b[38;5;129;01mor\u001b[39;00m \u001b[38;5;28mself\u001b[39m._forward_hooks \u001b[38;5;129;01mor\u001b[39;00m \u001b[38;5;28mself\u001b[39m._forward_pre_hooks\n\u001b[32m   1782\u001b[39m         \u001b[38;5;129;01mor\u001b[39;00m _global_backward_pre_hooks \u001b[38;5;129;01mor\u001b[39;00m _global_backward_hooks\n\u001b[32m   1783\u001b[39m         \u001b[38;5;129;01mor\u001b[39;00m _global_forward_hooks \u001b[38;5;129;01mor\u001b[39;00m _global_forward_pre_hooks):\n\u001b[32m-> \u001b[39m\u001b[32m1784\u001b[39m     \u001b[38;5;28;01mreturn\u001b[39;00m \u001b[43mforward_call\u001b[49m\u001b[43m(\u001b[49m\u001b[43m*\u001b[49m\u001b[43margs\u001b[49m\u001b[43m,\u001b[49m\u001b[43m \u001b[49m\u001b[43m*\u001b[49m\u001b[43m*\u001b[49m\u001b[43mkwargs\u001b[49m\u001b[43m)\u001b[49m\n\u001b[32m   1786\u001b[39m result = \u001b[38;5;28;01mNone\u001b[39;00m\n\u001b[32m   1787\u001b[39m called_always_called_hooks = \u001b[38;5;28mset\u001b[39m()\n",
                        "\u001b[36mFile \u001b[39m\u001b[32mc:\\Users\\xg645\\Downloads\\adadada\\Proyecto_ia_legua_se-as_2025-1\\.venv\\Lib\\site-packages\\ultralytics\\nn\\modules\\block.py:318\u001b[39m, in \u001b[36mC2f.forward\u001b[39m\u001b[34m(self, x)\u001b[39m\n\u001b[32m    316\u001b[39m \u001b[38;5;250m\u001b[39m\u001b[33;03m\"\"\"Forward pass through C2f layer.\"\"\"\u001b[39;00m\n\u001b[32m    317\u001b[39m y = \u001b[38;5;28mlist\u001b[39m(\u001b[38;5;28mself\u001b[39m.cv1(x).chunk(\u001b[32m2\u001b[39m, \u001b[32m1\u001b[39m))\n\u001b[32m--> \u001b[39m\u001b[32m318\u001b[39m y.extend(m(y[-\u001b[32m1\u001b[39m]) \u001b[38;5;28;01mfor\u001b[39;00m m \u001b[38;5;129;01min\u001b[39;00m \u001b[38;5;28mself\u001b[39m.m)\n\u001b[32m    319\u001b[39m \u001b[38;5;28;01mreturn\u001b[39;00m \u001b[38;5;28mself\u001b[39m.cv2(torch.cat(y, \u001b[32m1\u001b[39m))\n",
                        "\u001b[36mFile \u001b[39m\u001b[32mc:\\Users\\xg645\\Downloads\\adadada\\Proyecto_ia_legua_se-as_2025-1\\.venv\\Lib\\site-packages\\ultralytics\\nn\\modules\\block.py:318\u001b[39m, in \u001b[36m<genexpr>\u001b[39m\u001b[34m(.0)\u001b[39m\n\u001b[32m    316\u001b[39m \u001b[38;5;250m\u001b[39m\u001b[33;03m\"\"\"Forward pass through C2f layer.\"\"\"\u001b[39;00m\n\u001b[32m    317\u001b[39m y = \u001b[38;5;28mlist\u001b[39m(\u001b[38;5;28mself\u001b[39m.cv1(x).chunk(\u001b[32m2\u001b[39m, \u001b[32m1\u001b[39m))\n\u001b[32m--> \u001b[39m\u001b[32m318\u001b[39m y.extend(\u001b[43mm\u001b[49m\u001b[43m(\u001b[49m\u001b[43my\u001b[49m\u001b[43m[\u001b[49m\u001b[43m-\u001b[49m\u001b[32;43m1\u001b[39;49m\u001b[43m]\u001b[49m\u001b[43m)\u001b[49m \u001b[38;5;28;01mfor\u001b[39;00m m \u001b[38;5;129;01min\u001b[39;00m \u001b[38;5;28mself\u001b[39m.m)\n\u001b[32m    319\u001b[39m \u001b[38;5;28;01mreturn\u001b[39;00m \u001b[38;5;28mself\u001b[39m.cv2(torch.cat(y, \u001b[32m1\u001b[39m))\n",
                        "\u001b[36mFile \u001b[39m\u001b[32mc:\\Users\\xg645\\Downloads\\adadada\\Proyecto_ia_legua_se-as_2025-1\\.venv\\Lib\\site-packages\\torch\\nn\\modules\\module.py:1773\u001b[39m, in \u001b[36mModule._wrapped_call_impl\u001b[39m\u001b[34m(self, *args, **kwargs)\u001b[39m\n\u001b[32m   1771\u001b[39m     \u001b[38;5;28;01mreturn\u001b[39;00m \u001b[38;5;28mself\u001b[39m._compiled_call_impl(*args, **kwargs)  \u001b[38;5;66;03m# type: ignore[misc]\u001b[39;00m\n\u001b[32m   1772\u001b[39m \u001b[38;5;28;01melse\u001b[39;00m:\n\u001b[32m-> \u001b[39m\u001b[32m1773\u001b[39m     \u001b[38;5;28;01mreturn\u001b[39;00m \u001b[38;5;28;43mself\u001b[39;49m\u001b[43m.\u001b[49m\u001b[43m_call_impl\u001b[49m\u001b[43m(\u001b[49m\u001b[43m*\u001b[49m\u001b[43margs\u001b[49m\u001b[43m,\u001b[49m\u001b[43m \u001b[49m\u001b[43m*\u001b[49m\u001b[43m*\u001b[49m\u001b[43mkwargs\u001b[49m\u001b[43m)\u001b[49m\n",
                        "\u001b[36mFile \u001b[39m\u001b[32mc:\\Users\\xg645\\Downloads\\adadada\\Proyecto_ia_legua_se-as_2025-1\\.venv\\Lib\\site-packages\\torch\\nn\\modules\\module.py:1784\u001b[39m, in \u001b[36mModule._call_impl\u001b[39m\u001b[34m(self, *args, **kwargs)\u001b[39m\n\u001b[32m   1779\u001b[39m \u001b[38;5;66;03m# If we don't have any hooks, we want to skip the rest of the logic in\u001b[39;00m\n\u001b[32m   1780\u001b[39m \u001b[38;5;66;03m# this function, and just call forward.\u001b[39;00m\n\u001b[32m   1781\u001b[39m \u001b[38;5;28;01mif\u001b[39;00m \u001b[38;5;129;01mnot\u001b[39;00m (\u001b[38;5;28mself\u001b[39m._backward_hooks \u001b[38;5;129;01mor\u001b[39;00m \u001b[38;5;28mself\u001b[39m._backward_pre_hooks \u001b[38;5;129;01mor\u001b[39;00m \u001b[38;5;28mself\u001b[39m._forward_hooks \u001b[38;5;129;01mor\u001b[39;00m \u001b[38;5;28mself\u001b[39m._forward_pre_hooks\n\u001b[32m   1782\u001b[39m         \u001b[38;5;129;01mor\u001b[39;00m _global_backward_pre_hooks \u001b[38;5;129;01mor\u001b[39;00m _global_backward_hooks\n\u001b[32m   1783\u001b[39m         \u001b[38;5;129;01mor\u001b[39;00m _global_forward_hooks \u001b[38;5;129;01mor\u001b[39;00m _global_forward_pre_hooks):\n\u001b[32m-> \u001b[39m\u001b[32m1784\u001b[39m     \u001b[38;5;28;01mreturn\u001b[39;00m \u001b[43mforward_call\u001b[49m\u001b[43m(\u001b[49m\u001b[43m*\u001b[49m\u001b[43margs\u001b[49m\u001b[43m,\u001b[49m\u001b[43m \u001b[49m\u001b[43m*\u001b[49m\u001b[43m*\u001b[49m\u001b[43mkwargs\u001b[49m\u001b[43m)\u001b[49m\n\u001b[32m   1786\u001b[39m result = \u001b[38;5;28;01mNone\u001b[39;00m\n\u001b[32m   1787\u001b[39m called_always_called_hooks = \u001b[38;5;28mset\u001b[39m()\n",
                        "\u001b[36mFile \u001b[39m\u001b[32mc:\\Users\\xg645\\Downloads\\adadada\\Proyecto_ia_legua_se-as_2025-1\\.venv\\Lib\\site-packages\\ultralytics\\nn\\modules\\block.py:495\u001b[39m, in \u001b[36mBottleneck.forward\u001b[39m\u001b[34m(self, x)\u001b[39m\n\u001b[32m    493\u001b[39m \u001b[38;5;28;01mdef\u001b[39;00m\u001b[38;5;250m \u001b[39m\u001b[34mforward\u001b[39m(\u001b[38;5;28mself\u001b[39m, x: torch.Tensor) -> torch.Tensor:\n\u001b[32m    494\u001b[39m \u001b[38;5;250m    \u001b[39m\u001b[33;03m\"\"\"Apply bottleneck with optional shortcut connection.\"\"\"\u001b[39;00m\n\u001b[32m--> \u001b[39m\u001b[32m495\u001b[39m     \u001b[38;5;28;01mreturn\u001b[39;00m x + \u001b[38;5;28mself\u001b[39m.cv2(\u001b[38;5;28mself\u001b[39m.cv1(x)) \u001b[38;5;28;01mif\u001b[39;00m \u001b[38;5;28mself\u001b[39m.add \u001b[38;5;28;01melse\u001b[39;00m \u001b[38;5;28mself\u001b[39m.cv2(\u001b[38;5;28;43mself\u001b[39;49m\u001b[43m.\u001b[49m\u001b[43mcv1\u001b[49m\u001b[43m(\u001b[49m\u001b[43mx\u001b[49m\u001b[43m)\u001b[49m)\n",
                        "\u001b[36mFile \u001b[39m\u001b[32mc:\\Users\\xg645\\Downloads\\adadada\\Proyecto_ia_legua_se-as_2025-1\\.venv\\Lib\\site-packages\\torch\\nn\\modules\\module.py:1773\u001b[39m, in \u001b[36mModule._wrapped_call_impl\u001b[39m\u001b[34m(self, *args, **kwargs)\u001b[39m\n\u001b[32m   1771\u001b[39m     \u001b[38;5;28;01mreturn\u001b[39;00m \u001b[38;5;28mself\u001b[39m._compiled_call_impl(*args, **kwargs)  \u001b[38;5;66;03m# type: ignore[misc]\u001b[39;00m\n\u001b[32m   1772\u001b[39m \u001b[38;5;28;01melse\u001b[39;00m:\n\u001b[32m-> \u001b[39m\u001b[32m1773\u001b[39m     \u001b[38;5;28;01mreturn\u001b[39;00m \u001b[38;5;28;43mself\u001b[39;49m\u001b[43m.\u001b[49m\u001b[43m_call_impl\u001b[49m\u001b[43m(\u001b[49m\u001b[43m*\u001b[49m\u001b[43margs\u001b[49m\u001b[43m,\u001b[49m\u001b[43m \u001b[49m\u001b[43m*\u001b[49m\u001b[43m*\u001b[49m\u001b[43mkwargs\u001b[49m\u001b[43m)\u001b[49m\n",
                        "\u001b[36mFile \u001b[39m\u001b[32mc:\\Users\\xg645\\Downloads\\adadada\\Proyecto_ia_legua_se-as_2025-1\\.venv\\Lib\\site-packages\\torch\\nn\\modules\\module.py:1784\u001b[39m, in \u001b[36mModule._call_impl\u001b[39m\u001b[34m(self, *args, **kwargs)\u001b[39m\n\u001b[32m   1779\u001b[39m \u001b[38;5;66;03m# If we don't have any hooks, we want to skip the rest of the logic in\u001b[39;00m\n\u001b[32m   1780\u001b[39m \u001b[38;5;66;03m# this function, and just call forward.\u001b[39;00m\n\u001b[32m   1781\u001b[39m \u001b[38;5;28;01mif\u001b[39;00m \u001b[38;5;129;01mnot\u001b[39;00m (\u001b[38;5;28mself\u001b[39m._backward_hooks \u001b[38;5;129;01mor\u001b[39;00m \u001b[38;5;28mself\u001b[39m._backward_pre_hooks \u001b[38;5;129;01mor\u001b[39;00m \u001b[38;5;28mself\u001b[39m._forward_hooks \u001b[38;5;129;01mor\u001b[39;00m \u001b[38;5;28mself\u001b[39m._forward_pre_hooks\n\u001b[32m   1782\u001b[39m         \u001b[38;5;129;01mor\u001b[39;00m _global_backward_pre_hooks \u001b[38;5;129;01mor\u001b[39;00m _global_backward_hooks\n\u001b[32m   1783\u001b[39m         \u001b[38;5;129;01mor\u001b[39;00m _global_forward_hooks \u001b[38;5;129;01mor\u001b[39;00m _global_forward_pre_hooks):\n\u001b[32m-> \u001b[39m\u001b[32m1784\u001b[39m     \u001b[38;5;28;01mreturn\u001b[39;00m \u001b[43mforward_call\u001b[49m\u001b[43m(\u001b[49m\u001b[43m*\u001b[49m\u001b[43margs\u001b[49m\u001b[43m,\u001b[49m\u001b[43m \u001b[49m\u001b[43m*\u001b[49m\u001b[43m*\u001b[49m\u001b[43mkwargs\u001b[49m\u001b[43m)\u001b[49m\n\u001b[32m   1786\u001b[39m result = \u001b[38;5;28;01mNone\u001b[39;00m\n\u001b[32m   1787\u001b[39m called_always_called_hooks = \u001b[38;5;28mset\u001b[39m()\n",
                        "\u001b[36mFile \u001b[39m\u001b[32mc:\\Users\\xg645\\Downloads\\adadada\\Proyecto_ia_legua_se-as_2025-1\\.venv\\Lib\\site-packages\\ultralytics\\nn\\modules\\conv.py:92\u001b[39m, in \u001b[36mConv.forward_fuse\u001b[39m\u001b[34m(self, x)\u001b[39m\n\u001b[32m     82\u001b[39m \u001b[38;5;28;01mdef\u001b[39;00m\u001b[38;5;250m \u001b[39m\u001b[34mforward_fuse\u001b[39m(\u001b[38;5;28mself\u001b[39m, x):\n\u001b[32m     83\u001b[39m \u001b[38;5;250m    \u001b[39m\u001b[33;03m\"\"\"\u001b[39;00m\n\u001b[32m     84\u001b[39m \u001b[33;03m    Apply convolution and activation without batch normalization.\u001b[39;00m\n\u001b[32m     85\u001b[39m \n\u001b[32m   (...)\u001b[39m\u001b[32m     90\u001b[39m \u001b[33;03m        (torch.Tensor): Output tensor.\u001b[39;00m\n\u001b[32m     91\u001b[39m \u001b[33;03m    \"\"\"\u001b[39;00m\n\u001b[32m---> \u001b[39m\u001b[32m92\u001b[39m     \u001b[38;5;28;01mreturn\u001b[39;00m \u001b[38;5;28mself\u001b[39m.act(\u001b[38;5;28;43mself\u001b[39;49m\u001b[43m.\u001b[49m\u001b[43mconv\u001b[49m\u001b[43m(\u001b[49m\u001b[43mx\u001b[49m\u001b[43m)\u001b[49m)\n",
                        "\u001b[36mFile \u001b[39m\u001b[32mc:\\Users\\xg645\\Downloads\\adadada\\Proyecto_ia_legua_se-as_2025-1\\.venv\\Lib\\site-packages\\torch\\nn\\modules\\module.py:1773\u001b[39m, in \u001b[36mModule._wrapped_call_impl\u001b[39m\u001b[34m(self, *args, **kwargs)\u001b[39m\n\u001b[32m   1771\u001b[39m     \u001b[38;5;28;01mreturn\u001b[39;00m \u001b[38;5;28mself\u001b[39m._compiled_call_impl(*args, **kwargs)  \u001b[38;5;66;03m# type: ignore[misc]\u001b[39;00m\n\u001b[32m   1772\u001b[39m \u001b[38;5;28;01melse\u001b[39;00m:\n\u001b[32m-> \u001b[39m\u001b[32m1773\u001b[39m     \u001b[38;5;28;01mreturn\u001b[39;00m \u001b[38;5;28;43mself\u001b[39;49m\u001b[43m.\u001b[49m\u001b[43m_call_impl\u001b[49m\u001b[43m(\u001b[49m\u001b[43m*\u001b[49m\u001b[43margs\u001b[49m\u001b[43m,\u001b[49m\u001b[43m \u001b[49m\u001b[43m*\u001b[49m\u001b[43m*\u001b[49m\u001b[43mkwargs\u001b[49m\u001b[43m)\u001b[49m\n",
                        "\u001b[36mFile \u001b[39m\u001b[32mc:\\Users\\xg645\\Downloads\\adadada\\Proyecto_ia_legua_se-as_2025-1\\.venv\\Lib\\site-packages\\torch\\nn\\modules\\module.py:1784\u001b[39m, in \u001b[36mModule._call_impl\u001b[39m\u001b[34m(self, *args, **kwargs)\u001b[39m\n\u001b[32m   1779\u001b[39m \u001b[38;5;66;03m# If we don't have any hooks, we want to skip the rest of the logic in\u001b[39;00m\n\u001b[32m   1780\u001b[39m \u001b[38;5;66;03m# this function, and just call forward.\u001b[39;00m\n\u001b[32m   1781\u001b[39m \u001b[38;5;28;01mif\u001b[39;00m \u001b[38;5;129;01mnot\u001b[39;00m (\u001b[38;5;28mself\u001b[39m._backward_hooks \u001b[38;5;129;01mor\u001b[39;00m \u001b[38;5;28mself\u001b[39m._backward_pre_hooks \u001b[38;5;129;01mor\u001b[39;00m \u001b[38;5;28mself\u001b[39m._forward_hooks \u001b[38;5;129;01mor\u001b[39;00m \u001b[38;5;28mself\u001b[39m._forward_pre_hooks\n\u001b[32m   1782\u001b[39m         \u001b[38;5;129;01mor\u001b[39;00m _global_backward_pre_hooks \u001b[38;5;129;01mor\u001b[39;00m _global_backward_hooks\n\u001b[32m   1783\u001b[39m         \u001b[38;5;129;01mor\u001b[39;00m _global_forward_hooks \u001b[38;5;129;01mor\u001b[39;00m _global_forward_pre_hooks):\n\u001b[32m-> \u001b[39m\u001b[32m1784\u001b[39m     \u001b[38;5;28;01mreturn\u001b[39;00m \u001b[43mforward_call\u001b[49m\u001b[43m(\u001b[49m\u001b[43m*\u001b[49m\u001b[43margs\u001b[49m\u001b[43m,\u001b[49m\u001b[43m \u001b[49m\u001b[43m*\u001b[49m\u001b[43m*\u001b[49m\u001b[43mkwargs\u001b[49m\u001b[43m)\u001b[49m\n\u001b[32m   1786\u001b[39m result = \u001b[38;5;28;01mNone\u001b[39;00m\n\u001b[32m   1787\u001b[39m called_always_called_hooks = \u001b[38;5;28mset\u001b[39m()\n",
                        "\u001b[36mFile \u001b[39m\u001b[32mc:\\Users\\xg645\\Downloads\\adadada\\Proyecto_ia_legua_se-as_2025-1\\.venv\\Lib\\site-packages\\torch\\nn\\modules\\conv.py:548\u001b[39m, in \u001b[36mConv2d.forward\u001b[39m\u001b[34m(self, input)\u001b[39m\n\u001b[32m    547\u001b[39m \u001b[38;5;28;01mdef\u001b[39;00m\u001b[38;5;250m \u001b[39m\u001b[34mforward\u001b[39m(\u001b[38;5;28mself\u001b[39m, \u001b[38;5;28minput\u001b[39m: Tensor) -> Tensor:\n\u001b[32m--> \u001b[39m\u001b[32m548\u001b[39m     \u001b[38;5;28;01mreturn\u001b[39;00m \u001b[38;5;28;43mself\u001b[39;49m\u001b[43m.\u001b[49m\u001b[43m_conv_forward\u001b[49m\u001b[43m(\u001b[49m\u001b[38;5;28;43minput\u001b[39;49m\u001b[43m,\u001b[49m\u001b[43m \u001b[49m\u001b[38;5;28;43mself\u001b[39;49m\u001b[43m.\u001b[49m\u001b[43mweight\u001b[49m\u001b[43m,\u001b[49m\u001b[43m \u001b[49m\u001b[38;5;28;43mself\u001b[39;49m\u001b[43m.\u001b[49m\u001b[43mbias\u001b[49m\u001b[43m)\u001b[49m\n",
                        "\u001b[36mFile \u001b[39m\u001b[32mc:\\Users\\xg645\\Downloads\\adadada\\Proyecto_ia_legua_se-as_2025-1\\.venv\\Lib\\site-packages\\torch\\nn\\modules\\conv.py:543\u001b[39m, in \u001b[36mConv2d._conv_forward\u001b[39m\u001b[34m(self, input, weight, bias)\u001b[39m\n\u001b[32m    531\u001b[39m \u001b[38;5;28;01mif\u001b[39;00m \u001b[38;5;28mself\u001b[39m.padding_mode != \u001b[33m\"\u001b[39m\u001b[33mzeros\u001b[39m\u001b[33m\"\u001b[39m:\n\u001b[32m    532\u001b[39m     \u001b[38;5;28;01mreturn\u001b[39;00m F.conv2d(\n\u001b[32m    533\u001b[39m         F.pad(\n\u001b[32m    534\u001b[39m             \u001b[38;5;28minput\u001b[39m, \u001b[38;5;28mself\u001b[39m._reversed_padding_repeated_twice, mode=\u001b[38;5;28mself\u001b[39m.padding_mode\n\u001b[32m   (...)\u001b[39m\u001b[32m    541\u001b[39m         \u001b[38;5;28mself\u001b[39m.groups,\n\u001b[32m    542\u001b[39m     )\n\u001b[32m--> \u001b[39m\u001b[32m543\u001b[39m \u001b[38;5;28;01mreturn\u001b[39;00m \u001b[43mF\u001b[49m\u001b[43m.\u001b[49m\u001b[43mconv2d\u001b[49m\u001b[43m(\u001b[49m\n\u001b[32m    544\u001b[39m \u001b[43m    \u001b[49m\u001b[38;5;28;43minput\u001b[39;49m\u001b[43m,\u001b[49m\u001b[43m \u001b[49m\u001b[43mweight\u001b[49m\u001b[43m,\u001b[49m\u001b[43m \u001b[49m\u001b[43mbias\u001b[49m\u001b[43m,\u001b[49m\u001b[43m \u001b[49m\u001b[38;5;28;43mself\u001b[39;49m\u001b[43m.\u001b[49m\u001b[43mstride\u001b[49m\u001b[43m,\u001b[49m\u001b[43m \u001b[49m\u001b[38;5;28;43mself\u001b[39;49m\u001b[43m.\u001b[49m\u001b[43mpadding\u001b[49m\u001b[43m,\u001b[49m\u001b[43m \u001b[49m\u001b[38;5;28;43mself\u001b[39;49m\u001b[43m.\u001b[49m\u001b[43mdilation\u001b[49m\u001b[43m,\u001b[49m\u001b[43m \u001b[49m\u001b[38;5;28;43mself\u001b[39;49m\u001b[43m.\u001b[49m\u001b[43mgroups\u001b[49m\n\u001b[32m    545\u001b[39m \u001b[43m\u001b[49m\u001b[43m)\u001b[49m\n",
                        "\u001b[31mKeyboardInterrupt\u001b[39m: "
                    ]
                },
                {
                    "ename": "",
                    "evalue": "",
                    "output_type": "error",
                    "traceback": [
                        "\u001b[1;31mThe Kernel crashed while executing code in the current cell or a previous cell. \n",
                        "\u001b[1;31mPlease review the code in the cell(s) to identify a possible cause of the failure. \n",
                        "\u001b[1;31mClick <a href='https://aka.ms/vscodeJupyterKernelCrash'>here</a> for more info. \n",
                        "\u001b[1;31mView Jupyter <a href='command:jupyter.viewOutput'>log</a> for further details."
                    ]
                }
            ],
            "source": [
                "import cv2\n",
                "import numpy as np\n",
                "import mediapipe as mp\n",
                "from collections import deque\n",
                "from ultralytics import YOLO\n",
                "\n",
                "# Cargar el modelo YOLO entrenado\n",
                "model = YOLO(\"runs/detect/train3/weights/best.pt\")\n",
                "\n",
                "# Configurar MediaPipe para suavizado (usando Drawing Utils para interpolación)\n",
                "mp_drawing = mp.solutions.drawing_utils\n",
                "mp_hands = mp.solutions.hands\n",
                "\n",
                "# Clase para suavizar las detecciones usando interpolación\n",
                "class DetectionSmoother:\n",
                "    def __init__(self, window_size=5):\n",
                "        self.window_size = window_size\n",
                "        self.detection_history = deque(maxlen=window_size)\n",
                "    \n",
                "    def smooth_detections(self, detections):\n",
                "        \"\"\"Suaviza las detecciones usando promedio móvil\"\"\"\n",
                "        self.detection_history.append(detections)\n",
                "        \n",
                "        if len(self.detection_history) < 2:\n",
                "            return detections\n",
                "        \n",
                "        # Promedio de las coordenadas de las últimas detecciones\n",
                "        smoothed_detections = []\n",
                "        \n",
                "        for i, current_det in enumerate(detections):\n",
                "            if current_det is not None:\n",
                "                # Recopilar coordenadas históricas para esta detección\n",
                "                historical_coords = []\n",
                "                \n",
                "                for hist_frame in self.detection_history:\n",
                "                    if len(hist_frame) > i and hist_frame[i] is not None:\n",
                "                        historical_coords.append(hist_frame[i])\n",
                "                \n",
                "                if len(historical_coords) > 1:\n",
                "                    # Calcular promedio de coordenadas\n",
                "                    avg_coords = np.mean(historical_coords, axis=0)\n",
                "                    smoothed_detections.append(avg_coords)\n",
                "                else:\n",
                "                    smoothed_detections.append(current_det)\n",
                "            else:\n",
                "                smoothed_detections.append(None)\n",
                "        \n",
                "        return smoothed_detections\n",
                "\n",
                "# Inicializar el suavizador\n",
                "smoother = DetectionSmoother(window_size=5)\n",
                "\n",
                "# Inicializar la cámara\n",
                "cap = cv2.VideoCapture(0)\n",
                "cap.set(cv2.CAP_PROP_FRAME_WIDTH, 640)\n",
                "cap.set(cv2.CAP_PROP_FRAME_HEIGHT, 480)\n",
                "\n",
                "print(\"Presiona 'q' para salir...\")\n",
                "\n",
                "while True:\n",
                "    ret, frame = cap.read()\n",
                "    if not ret:\n",
                "        break\n",
                "    \n",
                "    # Detección con YOLO\n",
                "    results = model(frame, conf=0.5, verbose=False)\n",
                "    \n",
                "    # Extraer coordenadas de las detecciones\n",
                "    current_detections = []\n",
                "    \n",
                "    for result in results:\n",
                "        if result.boxes is not None:\n",
                "            for box in result.boxes:\n",
                "                # Extraer coordenadas del bounding box\n",
                "                x1, y1, x2, y2 = box.xyxy[0].cpu().numpy()\n",
                "                confidence = box.conf[0].cpu().numpy()\n",
                "                class_id = int(box.cls[0].cpu().numpy())\n",
                "                \n",
                "                current_detections.append([x1, y1, x2, y2, confidence, class_id])\n",
                "    \n",
                "    # Aplicar suavizado con MediaPipe-inspired interpolation\n",
                "    if current_detections:\n",
                "        smoothed_detections = smoother.smooth_detections(current_detections)\n",
                "        \n",
                "        # Dibujar las detecciones suavizadas\n",
                "        for detection in smoothed_detections:\n",
                "            if detection is not None:\n",
                "                x1, y1, x2, y2, conf, cls_id = detection\n",
                "                \n",
                "                # Obtener el nombre de la clase\n",
                "                class_name = model.names[int(cls_id)]\n",
                "                \n",
                "                # Dibujar bounding box suavizado\n",
                "                cv2.rectangle(frame, (int(x1), int(y1)), (int(x2), int(y2)), (0, 255, 0), 2)\n",
                "                \n",
                "                # Agregar texto con interpolación suave\n",
                "                label = f\"{class_name}: {conf:.2f}\"\n",
                "                cv2.putText(frame, label, (int(x1), int(y1-10)), \n",
                "                           cv2.FONT_HERSHEY_SIMPLEX, 0.5, (0, 255, 0), 2)\n",
                "                \n",
                "                # Agregar punto central para mejor tracking\n",
                "                center_x = int((x1 + x2) / 2)\n",
                "                center_y = int((y1 + y2) / 2)\n",
                "                cv2.circle(frame, (center_x, center_y), 3, (255, 0, 0), -1)\n",
                "    \n",
                "    # Mostrar el frame\n",
                "    cv2.imshow('YOLO + MediaPipe Interpolation', frame)\n",
                "    \n",
                "    # Salir con 'q'\n",
                "    if cv2.waitKey(1) & 0xFF == ord('q'):\n",
                "        break\n",
                "\n",
                "# Limpiar recursos\n",
                "cap.release()\n",
                "cv2.destroyAllWindows()\n",
                "print(\"Detección terminada\")"
            ]
        },
        {
            "cell_type": "code",
            "execution_count": null,
            "id": "aabe1a70",
            "metadata": {},
            "outputs": [],
            "source": [
                "# Versión simplificada con model.predict() y MediaPipe interpolation\n",
                "import cv2\n",
                "import numpy as np\n",
                "import mediapipe as mp\n",
                "from ultralytics import YOLO\n",
                "from collections import deque\n",
                "\n",
                "# Cargar el modelo YOLO entrenado\n",
                "model = YOLO(\"runs/detect/train3/weights/best.pt\")\n",
                "\n",
                "# Configurar MediaPipe para interpolación suave\n",
                "mp_drawing = mp.solutions.drawing_utils\n",
                "\n",
                "class YOLOMediaPipeInterpolator:\n",
                "    def __init__(self, smoothing_factor=0.3):\n",
                "        self.smoothing_factor = smoothing_factor\n",
                "        self.previous_detections = []\n",
                "        \n",
                "    def interpolate_detections(self, current_detections):\n",
                "        \"\"\"Interpola entre detecciones actuales y previas usando MediaPipe style smoothing\"\"\"\n",
                "        if not self.previous_detections:\n",
                "            self.previous_detections = current_detections\n",
                "            return current_detections\n",
                "        \n",
                "        interpolated = []\n",
                "        \n",
                "        for i, curr_det in enumerate(current_detections):\n",
                "            if i < len(self.previous_detections):\n",
                "                prev_det = self.previous_detections[i]\n",
                "                \n",
                "                # Interpolación suave entre detección anterior y actual\n",
                "                interpolated_det = {}\n",
                "                interpolated_det['bbox'] = [\n",
                "                    curr_det['bbox'][0] * self.smoothing_factor + prev_det['bbox'][0] * (1 - self.smoothing_factor),\n",
                "                    curr_det['bbox'][1] * self.smoothing_factor + prev_det['bbox'][1] * (1 - self.smoothing_factor),\n",
                "                    curr_det['bbox'][2] * self.smoothing_factor + prev_det['bbox'][2] * (1 - self.smoothing_factor),\n",
                "                    curr_det['bbox'][3] * self.smoothing_factor + prev_det['bbox'][3] * (1 - self.smoothing_factor)\n",
                "                ]\n",
                "                interpolated_det['confidence'] = curr_det['confidence']\n",
                "                interpolated_det['class'] = curr_det['class']\n",
                "                interpolated_det['name'] = curr_det['name']\n",
                "                \n",
                "                interpolated.append(interpolated_det)\n",
                "            else:\n",
                "                interpolated.append(curr_det)\n",
                "        \n",
                "        self.previous_detections = interpolated\n",
                "        return interpolated\n",
                "\n",
                "# Inicializar interpolador\n",
                "interpolator = YOLOMediaPipeInterpolator(smoothing_factor=0.4)\n",
                "\n",
                "# Función para procesar frame por frame\n",
                "def process_frame_with_interpolation(frame):\n",
                "    # Ejecutar YOLO\n",
                "    results = model(frame, conf=0.5, verbose=False)\n",
                "    \n",
                "    # Extraer detecciones\n",
                "    current_detections = []\n",
                "    \n",
                "    for result in results:\n",
                "        if result.boxes is not None:\n",
                "            for box in result.boxes:\n",
                "                x1, y1, x2, y2 = box.xyxy[0].cpu().numpy()\n",
                "                confidence = box.conf[0].cpu().numpy()\n",
                "                class_id = int(box.cls[0].cpu().numpy())\n",
                "                class_name = model.names[class_id]\n",
                "                \n",
                "                detection = {\n",
                "                    'bbox': [float(x1), float(y1), float(x2), float(y2)],\n",
                "                    'confidence': float(confidence),\n",
                "                    'class': class_id,\n",
                "                    'name': class_name\n",
                "                }\n",
                "                current_detections.append(detection)\n",
                "    \n",
                "    # Aplicar interpolación MediaPipe\n",
                "    smoothed_detections = interpolator.interpolate_detections(current_detections)\n",
                "    \n",
                "    # Dibujar detecciones suavizadas\n",
                "    for detection in smoothed_detections:\n",
                "        x1, y1, x2, y2 = detection['bbox']\n",
                "        confidence = detection['confidence']\n",
                "        class_name = detection['name']\n",
                "        \n",
                "        # Dibujar bounding box suavizado\n",
                "        cv2.rectangle(frame, (int(x1), int(y1)), (int(x2), int(y2)), (0, 255, 0), 2)\n",
                "        \n",
                "        # Texto con confianza\n",
                "        label = f\"{class_name}: {confidence:.2f}\"\n",
                "        cv2.putText(frame, label, (int(x1), int(y1-10)), \n",
                "                   cv2.FONT_HERSHEY_SIMPLEX, 0.5, (0, 255, 0), 2)\n",
                "        \n",
                "        # Punto central interpolado\n",
                "        center_x = int((x1 + x2) / 2)\n",
                "        center_y = int((y1 + y2) / 2)\n",
                "        cv2.circle(frame, (center_x, center_y), 5, (255, 0, 0), -1)\n",
                "    \n",
                "    return frame\n",
                "\n",
                "# Inicializar cámara\n",
                "cap = cv2.VideoCapture(0)\n",
                "cap.set(cv2.CAP_PROP_FRAME_WIDTH, 640)\n",
                "cap.set(cv2.CAP_PROP_FRAME_HEIGHT, 480)\n",
                "\n",
                "print(\"Detección YOLO + MediaPipe Interpolation iniciada\")\n",
                "print(\"Presiona 'q' para salir...\")\n",
                "\n",
                "try:\n",
                "    while True:\n",
                "        ret, frame = cap.read()\n",
                "        if not ret:\n",
                "            print(\"No se pudo capturar frame de la cámara\")\n",
                "            break\n",
                "        \n",
                "        # Procesar frame con interpolación\n",
                "        processed_frame = process_frame_with_interpolation(frame)\n",
                "        \n",
                "        # Mostrar resultado\n",
                "        cv2.imshow('YOLO + MediaPipe Smooth Detection', processed_frame)\n",
                "        \n",
                "        # Salir con 'q'\n",
                "        if cv2.waitKey(1) & 0xFF == ord('q'):\n",
                "            break\n",
                "\n",
                "except KeyboardInterrupt:\n",
                "    print(\"Detección interrumpida por el usuario\")\n",
                "\n",
                "finally:\n",
                "    # Limpiar recursos\n",
                "    cap.release()\n",
                "    cv2.destroyAllWindows()\n",
                "    print(\"Detección terminada\")"
            ]
        },
        {
            "cell_type": "code",
            "execution_count": null,
            "id": "8cf643c2",
            "metadata": {},
            "outputs": [],
            "source": [
                "# Versión usando model.predict() directo con MediaPipe para interpolación\n",
                "from ultralytics import YOLO\n",
                "import cv2\n",
                "import numpy as np\n",
                "import mediapipe as mp\n",
                "\n",
                "# Cargar el modelo YOLO entrenado\n",
                "model = YOLO(\"runs/detect/train3/weights/best.pt\")\n",
                "\n",
                "# Clase para interpolación MediaPipe style\n",
                "class MediaPipeInterpolator:\n",
                "    def __init__(self, alpha=0.7):\n",
                "        self.alpha = alpha  # Factor de suavizado\n",
                "        self.prev_boxes = []\n",
                "        \n",
                "    def smooth_boxes(self, current_boxes):\n",
                "        \"\"\"Aplica interpolación exponencial como MediaPipe\"\"\"\n",
                "        if not self.prev_boxes:\n",
                "            self.prev_boxes = current_boxes\n",
                "            return current_boxes\n",
                "            \n",
                "        smoothed = []\n",
                "        for i, curr in enumerate(current_boxes):\n",
                "            if i < len(self.prev_boxes):\n",
                "                prev = self.prev_boxes[i]\n",
                "                # Interpolación exponencial\n",
                "                smooth_box = [\n",
                "                    self.alpha * curr[0] + (1 - self.alpha) * prev[0],\n",
                "                    self.alpha * curr[1] + (1 - self.alpha) * prev[1], \n",
                "                    self.alpha * curr[2] + (1 - self.alpha) * prev[2],\n",
                "                    self.alpha * curr[3] + (1 - self.alpha) * prev[3]\n",
                "                ]\n",
                "                smoothed.append(smooth_box)\n",
                "            else:\n",
                "                smoothed.append(curr)\n",
                "                \n",
                "        self.prev_boxes = smoothed\n",
                "        return smoothed\n",
                "\n",
                "# Inicializar interpolador\n",
                "interpolator = MediaPipeInterpolator(alpha=0.6)\n",
                "\n",
                "print(\"Usando YOLO + MediaPipe interpolation\")\n",
                "print(\"Presiona 'q' en la ventana de video para salir\")\n",
                "\n",
                "# Usar la cámara (source=0 es la webcam principal) \n",
                "# Pero procesaremos frame por frame para aplicar interpolación\n",
                "cap = cv2.VideoCapture(0)\n",
                "\n",
                "while True:\n",
                "    ret, frame = cap.read()\n",
                "    if not ret:\n",
                "        break\n",
                "        \n",
                "    # Detección YOLO\n",
                "    results = model(frame, conf=0.5, verbose=False)\n",
                "    \n",
                "    # Extraer bounding boxes\n",
                "    current_boxes = []\n",
                "    for result in results:\n",
                "        if result.boxes is not None:\n",
                "            for box in result.boxes:\n",
                "                x1, y1, x2, y2 = box.xyxy[0].cpu().numpy()\n",
                "                current_boxes.append([x1, y1, x2, y2])\n",
                "    \n",
                "    # Aplicar interpolación MediaPipe\n",
                "    if current_boxes:\n",
                "        smoothed_boxes = interpolator.smooth_boxes(current_boxes)\n",
                "        \n",
                "        # Dibujar boxes suavizados\n",
                "        for i, (x1, y1, x2, y2) in enumerate(smoothed_boxes):\n",
                "            # Obtener info adicional del resultado original\n",
                "            if i < len(results[0].boxes):\n",
                "                conf = results[0].boxes[i].conf[0].cpu().numpy()\n",
                "                cls = int(results[0].boxes[i].cls[0].cpu().numpy())\n",
                "                class_name = model.names[cls]\n",
                "                \n",
                "                # Dibujar box suavizado\n",
                "                cv2.rectangle(frame, (int(x1), int(y1)), (int(x2), int(y2)), (0, 255, 0), 2)\n",
                "                \n",
                "                # Etiqueta\n",
                "                label = f\"{class_name}: {conf:.2f}\"\n",
                "                cv2.putText(frame, label, (int(x1), int(y1-10)), \n",
                "                           cv2.FONT_HERSHEY_SIMPLEX, 0.5, (0, 255, 0), 2)\n",
                "    \n",
                "    # Mostrar frame\n",
                "    cv2.imshow('YOLO + MediaPipe Interpolated', frame)\n",
                "    \n",
                "    if cv2.waitKey(1) & 0xFF == ord('q'):\n",
                "        break\n",
                "\n",
                "cap.release()\n",
                "cv2.destroyAllWindows()\n",
                "print(\"Detección terminada\")"
            ]
        },
        {
            "cell_type": "code",
            "execution_count": null,
            "id": "c67d744d",
            "metadata": {},
            "outputs": [],
            "source": [
                "# VERSIÓN MEJORADA: Muestra claramente la LETRA y el PORCENTAJE\n",
                "from ultralytics import YOLO\n",
                "import cv2\n",
                "import numpy as np\n",
                "import mediapipe as mp\n",
                "\n",
                "# Cargar el modelo YOLO entrenado\n",
                "model = YOLO(\"runs/detect/train3/weights/best.pt\")\n",
                "\n",
                "# Clase para interpolación MediaPipe\n",
                "class MediaPipeInterpolator:\n",
                "    def __init__(self, alpha=0.6):\n",
                "        self.alpha = alpha  # Factor de suavizado\n",
                "        self.prev_boxes = []\n",
                "        \n",
                "    def smooth_boxes(self, current_boxes):\n",
                "        \"\"\"Aplica interpolación exponencial como MediaPipe\"\"\"\n",
                "        if not self.prev_boxes:\n",
                "            self.prev_boxes = current_boxes\n",
                "            return current_boxes\n",
                "            \n",
                "        smoothed = []\n",
                "        for i, curr in enumerate(current_boxes):\n",
                "            if i < len(self.prev_boxes):\n",
                "                prev = self.prev_boxes[i]\n",
                "                # Interpolación exponencial\n",
                "                smooth_box = [\n",
                "                    self.alpha * curr[0] + (1 - self.alpha) * prev[0],\n",
                "                    self.alpha * curr[1] + (1 - self.alpha) * prev[1], \n",
                "                    self.alpha * curr[2] + (1 - self.alpha) * prev[2],\n",
                "                    self.alpha * curr[3] + (1 - self.alpha) * prev[3]\n",
                "                ]\n",
                "                smoothed.append(smooth_box)\n",
                "            else:\n",
                "                smoothed.append(curr)\n",
                "                \n",
                "        self.prev_boxes = smoothed\n",
                "        return smoothed\n",
                "\n",
                "# Inicializar interpolador\n",
                "interpolator = MediaPipeInterpolator(alpha=0.6)\n",
                "\n",
                "print(\"🤟 DETECTOR DE LENGUAJE DE SEÑAS 🤟\")\n",
                "print(\"Muestra tu mano para detectar la letra y ver el porcentaje de confianza\")\n",
                "print(\"Presiona 'q' para salir\")\n",
                "\n",
                "# Inicializar cámara\n",
                "cap = cv2.VideoCapture(0)\n",
                "cap.set(cv2.CAP_PROP_FRAME_WIDTH, 1280)  # Resolución más alta\n",
                "cap.set(cv2.CAP_PROP_FRAME_HEIGHT, 720)\n",
                "\n",
                "while True:\n",
                "    ret, frame = cap.read()\n",
                "    if not ret:\n",
                "        break\n",
                "    \n",
                "    # Voltear frame horizontalmente para efecto espejo\n",
                "    frame = cv2.flip(frame, 1)\n",
                "    \n",
                "    # Detección YOLO\n",
                "    results = model(frame, conf=0.3, verbose=False)  # Confianza más baja para detectar más\n",
                "    \n",
                "    # Extraer bounding boxes\n",
                "    current_boxes = []\n",
                "    detections_info = []\n",
                "    \n",
                "    for result in results:\n",
                "        if result.boxes is not None:\n",
                "            for box in result.boxes:\n",
                "                x1, y1, x2, y2 = box.xyxy[0].cpu().numpy()\n",
                "                conf = box.conf[0].cpu().numpy()\n",
                "                cls = int(box.cls[0].cpu().numpy())\n",
                "                class_name = model.names[cls]\n",
                "                \n",
                "                current_boxes.append([x1, y1, x2, y2])\n",
                "                detections_info.append({\n",
                "                    'confidence': conf,\n",
                "                    'class_name': class_name,\n",
                "                    'percentage': int(conf * 100)\n",
                "                })\n",
                "    \n",
                "    # Aplicar interpolación MediaPipe\n",
                "    if current_boxes:\n",
                "        smoothed_boxes = interpolator.smooth_boxes(current_boxes)\n",
                "        \n",
                "        # Dibujar detecciones con información clara\n",
                "        for i, (x1, y1, x2, y2) in enumerate(smoothed_boxes):\n",
                "            if i < len(detections_info):\n",
                "                info = detections_info[i]\n",
                "                letter = info['class_name']\n",
                "                percentage = info['percentage']\n",
                "                \n",
                "                # Colores según confianza\n",
                "                if percentage >= 70:\n",
                "                    color = (0, 255, 0)  # Verde para alta confianza\n",
                "                elif percentage >= 50:\n",
                "                    color = (0, 255, 255)  # Amarillo para confianza media\n",
                "                else:\n",
                "                    color = (0, 165, 255)  # Naranja para baja confianza\n",
                "                \n",
                "                # Dibujar bounding box más grueso\n",
                "                cv2.rectangle(frame, (int(x1), int(y1)), (int(x2), int(y2)), color, 3)\n",
                "                \n",
                "                # MOSTRAR LETRA Y PORCENTAJE MUY VISIBLE\n",
                "                letra_texto = f\"LETRA: {letter.upper()}\"\n",
                "                porcentaje_texto = f\"{percentage}%\"\n",
                "                \n",
                "                # Texto de la letra (más grande)\n",
                "                cv2.putText(frame, letra_texto, (int(x1), int(y1-40)), \n",
                "                           cv2.FONT_HERSHEY_SIMPLEX, 1.2, color, 3)\n",
                "                \n",
                "                # Texto del porcentaje (más grande)\n",
                "                cv2.putText(frame, porcentaje_texto, (int(x1), int(y1-10)), \n",
                "                           cv2.FONT_HERSHEY_SIMPLEX, 1.0, color, 3)\n",
                "                \n",
                "                # Punto central\n",
                "                center_x = int((x1 + x2) / 2)\n",
                "                center_y = int((y1 + y2) / 2)\n",
                "                cv2.circle(frame, (center_x, center_y), 5, color, -1)\n",
                "    \n",
                "    # Agregar información en la pantalla\n",
                "    cv2.putText(frame, \"DETECTOR DE LENGUAJE DE SEÑAS\", (10, 30), \n",
                "               cv2.FONT_HERSHEY_SIMPLEX, 1, (255, 255, 255), 2)\n",
                "    \n",
                "    cv2.putText(frame, \"Presiona 'q' para salir\", (10, 70), \n",
                "               cv2.FONT_HERSHEY_SIMPLEX, 0.7, (255, 255, 255), 2)\n",
                "    \n",
                "    # Mostrar frame\n",
                "    cv2.imshow('🤟 Detector de Señas - LETRA y %', frame)\n",
                "    \n",
                "    if cv2.waitKey(1) & 0xFF == ord('q'):\n",
                "        break\n",
                "\n",
                "cap.release()\n",
                "cv2.destroyAllWindows()\n",
                "print(\"✅ Detección de señas terminada\")"
            ]
        },
        {
            "cell_type": "code",
            "execution_count": null,
            "id": "1c988afa",
            "metadata": {},
            "outputs": [
                {
                    "ename": "AttributeError",
                    "evalue": "module 'google.protobuf.message_factory' has no attribute 'GetMessageClass'",
                    "output_type": "error",
                    "traceback": [
                        "\u001b[31m---------------------------------------------------------------------------\u001b[39m",
                        "\u001b[31mAttributeError\u001b[39m                            Traceback (most recent call last)",
                        "\u001b[36mCell\u001b[39m\u001b[36m \u001b[39m\u001b[32mIn[1]\u001b[39m\u001b[32m, line 75\u001b[39m\n\u001b[32m     72\u001b[39m     \u001b[38;5;28;01mcontinue\u001b[39;00m\n\u001b[32m     74\u001b[39m hand_region_rgb = cv2.cvtColor(hand_region, cv2.COLOR_BGR2RGB)\n\u001b[32m---> \u001b[39m\u001b[32m75\u001b[39m results_hands = \u001b[43mhands\u001b[49m\u001b[43m.\u001b[49m\u001b[43mprocess\u001b[49m\u001b[43m(\u001b[49m\u001b[43mhand_region_rgb\u001b[49m\u001b[43m)\u001b[49m\n\u001b[32m     77\u001b[39m valid = \u001b[38;5;28;01mFalse\u001b[39;00m\n\u001b[32m     78\u001b[39m \u001b[38;5;28;01mif\u001b[39;00m results_hands.multi_hand_landmarks:\n",
                        "\u001b[36mFile \u001b[39m\u001b[32mc:\\Users\\xg645\\Downloads\\adadada\\Proyecto_ia_legua_se-as_2025-1\\.venv\\Lib\\site-packages\\mediapipe\\python\\solutions\\hands.py:153\u001b[39m, in \u001b[36mHands.process\u001b[39m\u001b[34m(self, image)\u001b[39m\n\u001b[32m    132\u001b[39m \u001b[38;5;28;01mdef\u001b[39;00m\u001b[38;5;250m \u001b[39m\u001b[34mprocess\u001b[39m(\u001b[38;5;28mself\u001b[39m, image: np.ndarray) -> NamedTuple:\n\u001b[32m    133\u001b[39m \u001b[38;5;250m  \u001b[39m\u001b[33;03m\"\"\"Processes an RGB image and returns the hand landmarks and handedness of each detected hand.\u001b[39;00m\n\u001b[32m    134\u001b[39m \n\u001b[32m    135\u001b[39m \u001b[33;03m  Args:\u001b[39;00m\n\u001b[32m   (...)\u001b[39m\u001b[32m    150\u001b[39m \u001b[33;03m         right hand) of the detected hand.\u001b[39;00m\n\u001b[32m    151\u001b[39m \u001b[33;03m  \"\"\"\u001b[39;00m\n\u001b[32m--> \u001b[39m\u001b[32m153\u001b[39m   \u001b[38;5;28;01mreturn\u001b[39;00m \u001b[38;5;28;43msuper\u001b[39;49m\u001b[43m(\u001b[49m\u001b[43m)\u001b[49m\u001b[43m.\u001b[49m\u001b[43mprocess\u001b[49m\u001b[43m(\u001b[49m\u001b[43minput_data\u001b[49m\u001b[43m=\u001b[49m\u001b[43m{\u001b[49m\u001b[33;43m'\u001b[39;49m\u001b[33;43mimage\u001b[39;49m\u001b[33;43m'\u001b[39;49m\u001b[43m:\u001b[49m\u001b[43m \u001b[49m\u001b[43mimage\u001b[49m\u001b[43m}\u001b[49m\u001b[43m)\u001b[49m\n",
                        "\u001b[36mFile \u001b[39m\u001b[32mc:\\Users\\xg645\\Downloads\\adadada\\Proyecto_ia_legua_se-as_2025-1\\.venv\\Lib\\site-packages\\mediapipe\\python\\solution_base.py:351\u001b[39m, in \u001b[36mSolutionBase.process\u001b[39m\u001b[34m(self, input_data)\u001b[39m\n\u001b[32m    347\u001b[39m \u001b[38;5;28;01mfor\u001b[39;00m stream_name \u001b[38;5;129;01min\u001b[39;00m \u001b[38;5;28mself\u001b[39m._output_stream_type_info.keys():\n\u001b[32m    348\u001b[39m   \u001b[38;5;28;01mif\u001b[39;00m stream_name \u001b[38;5;129;01min\u001b[39;00m \u001b[38;5;28mself\u001b[39m._graph_outputs:\n\u001b[32m    349\u001b[39m     \u001b[38;5;28msetattr\u001b[39m(\n\u001b[32m    350\u001b[39m         solution_outputs, stream_name,\n\u001b[32m--> \u001b[39m\u001b[32m351\u001b[39m         \u001b[38;5;28;43mself\u001b[39;49m\u001b[43m.\u001b[49m\u001b[43m_get_packet_content\u001b[49m\u001b[43m(\u001b[49m\u001b[38;5;28;43mself\u001b[39;49m\u001b[43m.\u001b[49m\u001b[43m_output_stream_type_info\u001b[49m\u001b[43m[\u001b[49m\u001b[43mstream_name\u001b[49m\u001b[43m]\u001b[49m\u001b[43m,\u001b[49m\n\u001b[32m    352\u001b[39m \u001b[43m                                 \u001b[49m\u001b[38;5;28;43mself\u001b[39;49m\u001b[43m.\u001b[49m\u001b[43m_graph_outputs\u001b[49m\u001b[43m[\u001b[49m\u001b[43mstream_name\u001b[49m\u001b[43m]\u001b[49m\u001b[43m)\u001b[49m)\n\u001b[32m    353\u001b[39m   \u001b[38;5;28;01melse\u001b[39;00m:\n\u001b[32m    354\u001b[39m     \u001b[38;5;28msetattr\u001b[39m(solution_outputs, stream_name, \u001b[38;5;28;01mNone\u001b[39;00m)\n",
                        "\u001b[36mFile \u001b[39m\u001b[32mc:\\Users\\xg645\\Downloads\\adadada\\Proyecto_ia_legua_se-as_2025-1\\.venv\\Lib\\site-packages\\mediapipe\\python\\solution_base.py:595\u001b[39m, in \u001b[36mSolutionBase._get_packet_content\u001b[39m\u001b[34m(self, packet_data_type, output_packet)\u001b[39m\n\u001b[32m    592\u001b[39m   \u001b[38;5;28;01mreturn\u001b[39;00m \u001b[38;5;28mgetattr\u001b[39m(packet_getter, \u001b[33m'\u001b[39m\u001b[33mget_\u001b[39m\u001b[33m'\u001b[39m +\n\u001b[32m    593\u001b[39m                  packet_data_type.value)(output_packet).numpy_view()\n\u001b[32m    594\u001b[39m \u001b[38;5;28;01melse\u001b[39;00m:\n\u001b[32m--> \u001b[39m\u001b[32m595\u001b[39m   \u001b[38;5;28;01mreturn\u001b[39;00m \u001b[38;5;28;43mgetattr\u001b[39;49m\u001b[43m(\u001b[49m\u001b[43mpacket_getter\u001b[49m\u001b[43m,\u001b[49m\u001b[43m \u001b[49m\u001b[33;43m'\u001b[39;49m\u001b[33;43mget_\u001b[39;49m\u001b[33;43m'\u001b[39;49m\u001b[43m \u001b[49m\u001b[43m+\u001b[49m\u001b[43m \u001b[49m\u001b[43mpacket_data_type\u001b[49m\u001b[43m.\u001b[49m\u001b[43mvalue\u001b[49m\u001b[43m)\u001b[49m\u001b[43m(\u001b[49m\n\u001b[32m    596\u001b[39m \u001b[43m      \u001b[49m\u001b[43moutput_packet\u001b[49m\u001b[43m)\u001b[49m\n",
                        "\u001b[36mFile \u001b[39m\u001b[32mc:\\Users\\xg645\\Downloads\\adadada\\Proyecto_ia_legua_se-as_2025-1\\.venv\\Lib\\site-packages\\mediapipe\\python\\packet_getter.py:111\u001b[39m, in \u001b[36mget_proto_list\u001b[39m\u001b[34m(packet)\u001b[39m\n\u001b[32m    108\u001b[39m \u001b[38;5;28;01mexcept\u001b[39;00m \u001b[38;5;167;01mKeyError\u001b[39;00m:\n\u001b[32m    109\u001b[39m   \u001b[38;5;28;01mraise\u001b[39;00m \u001b[38;5;167;01mTypeError\u001b[39;00m(\u001b[33m'\u001b[39m\u001b[33mCan not find message descriptor by type name: \u001b[39m\u001b[38;5;132;01m%s\u001b[39;00m\u001b[33m'\u001b[39m %\n\u001b[32m    110\u001b[39m                   proto_type_name)\n\u001b[32m--> \u001b[39m\u001b[32m111\u001b[39m message_class = \u001b[43mmessage_factory\u001b[49m\u001b[43m.\u001b[49m\u001b[43mGetMessageClass\u001b[49m(descriptor)\n\u001b[32m    112\u001b[39m \u001b[38;5;66;03m# pylint:disable=protected-access\u001b[39;00m\n\u001b[32m    113\u001b[39m serialized_protos = _packet_getter._get_serialized_proto_list(packet)\n",
                        "\u001b[31mAttributeError\u001b[39m: module 'google.protobuf.message_factory' has no attribute 'GetMessageClass'"
                    ]
                },
                {
                    "ename": "",
                    "evalue": "",
                    "output_type": "error",
                    "traceback": [
                        "\u001b[1;31mThe Kernel crashed while executing code in the current cell or a previous cell. \n",
                        "\u001b[1;31mPlease review the code in the cell(s) to identify a possible cause of the failure. \n",
                        "\u001b[1;31mClick <a href='https://aka.ms/vscodeJupyterKernelCrash'>here</a> for more info. \n",
                        "\u001b[1;31mView Jupyter <a href='command:jupyter.viewOutput'>log</a> for further details."
                    ]
                }
            ],
            "source": [
                "import cv2\n",
                "import mediapipe as mp\n",
                "from ultralytics import YOLO\n",
                "from collections import deque, Counter\n",
                "import numpy as np\n",
                "\n",
                "# ------------------------------\n",
                "# 1. Cargar YOLO\n",
                "# ------------------------------\n",
                "model = YOLO(\"runs/detect/train7/weights/best.pt\")\n",
                "\n",
                "# ------------------------------\n",
                "# 2. Inicializar MediaPipe\n",
                "# ------------------------------\n",
                "mp_hands = mp.solutions.hands\n",
                "hands = mp_hands.Hands(\n",
                "    static_image_mode=False,\n",
                "    max_num_hands=1,\n",
                "    min_detection_confidence=0.5,\n",
                "    min_tracking_confidence=0.5\n",
                ")\n",
                "mp_drawing = mp.solutions.drawing_utils\n",
                "\n",
                "# ------------------------------\n",
                "# 3. Diccionario de clases YOLO\n",
                "# ------------------------------\n",
                "class_names = {\n",
                "    0: \"A\", 1: \"B\", 2: \"C\", 3: \"D\", 4: \"E\", 5: \"F\", 6: \"G\", 7: \"H\", 8: \"I\", 9: \"J\",\n",
                "    10: \"K\", 11: \"L\", 12: \"M\", 13: \"N\", 14: \"O\", 15: \"P\", 16: \"Q\", 17: \"R\", 18: \"S\",\n",
                "    19: \"T\", 20: \"U\", 21: \"V\", 22: \"W\", 23: \"X\", 24: \"Y\", 25: \"Z\"\n",
                "}\n",
                "\n",
                "# ------------------------------\n",
                "# 4. Historial para suavizado\n",
                "# ------------------------------\n",
                "history = deque(maxlen=5)\n",
                "\n",
                "# ------------------------------\n",
                "# 5. Webcam\n",
                "# ------------------------------\n",
                "cap = cv2.VideoCapture(0)\n",
                "\n",
                "while cap.isOpened():\n",
                "    ret, frame = cap.read()\n",
                "    if not ret:\n",
                "        break\n",
                "\n",
                "    # Copia para anotaciones\n",
                "    output_frame = frame.copy()\n",
                "\n",
                "    # --------------------------\n",
                "    # YOLO detección\n",
                "    # --------------------------\n",
                "    results = model.predict(source=frame, conf=0.5, show=False, verbose=False)\n",
                "\n",
                "    for result in results:\n",
                "        for box in result.boxes:\n",
                "            # Coordenadas del bounding box\n",
                "            x1, y1, x2, y2 = map(int, box.xyxy[0])\n",
                "            cv2.rectangle(output_frame, (x1, y1), (x2, y2), (0, 255, 0), 2)\n",
                "\n",
                "            # Clase y confianza YOLO\n",
                "            class_id = int(box.cls[0])\n",
                "            confidence = float(box.conf[0]) * 100\n",
                "            letter = class_names.get(class_id, \"?\")\n",
                "\n",
                "            # --------------------------\n",
                "            # Recorte para Mediapipe\n",
                "            # --------------------------\n",
                "            hand_region = frame[y1:y2, x1:x2]\n",
                "            if hand_region.size == 0:\n",
                "                continue\n",
                "\n",
                "            hand_region_rgb = cv2.cvtColor(hand_region, cv2.COLOR_BGR2RGB)\n",
                "            results_hands = hands.process(hand_region_rgb)\n",
                "\n",
                "            valid = False\n",
                "            if results_hands.multi_hand_landmarks:\n",
                "                valid = True\n",
                "                for hand_landmarks in results_hands.multi_hand_landmarks:\n",
                "                    mp_drawing.draw_landmarks(\n",
                "                        hand_region, hand_landmarks, mp_hands.HAND_CONNECTIONS\n",
                "                    )\n",
                "\n",
                "            # --------------------------\n",
                "            # Validación con Mediapipe\n",
                "            # --------------------------\n",
                "            if valid:\n",
                "                history.append(letter)\n",
                "            else:\n",
                "                # si no hay landmarks, ignorar este frame\n",
                "                continue\n",
                "\n",
                "            # --------------------------\n",
                "            # Suavizado temporal\n",
                "            # --------------------------\n",
                "            most_common = Counter(history).most_common(1)[0][0]\n",
                "\n",
                "            # Mostrar en pantalla\n",
                "            text = f\"{most_common} ({confidence:.1f}%)\"\n",
                "            cv2.putText(output_frame, text, (x1, y1 - 10),\n",
                "                        cv2.FONT_HERSHEY_SIMPLEX, 1, (255, 0, 0), 2)\n",
                "\n",
                "    # --------------------------\n",
                "    # Mostrar frame\n",
                "    # --------------------------\n",
                "    cv2.imshow(\"YOLO + Mediapipe\", output_frame)\n",
                "\n",
                "    if cv2.waitKey(1) & 0xFF == ord('q'):\n",
                "        break\n",
                "\n",
                "cap.release()\n",
                "cv2.destroyAllWindows()\n"
            ]
        }
    ],
    "metadata": {
        "kernelspec": {
            "display_name": ".venv",
            "language": "python",
            "name": "python3"
        },
        "language_info": {
            "codemirror_mode": {
                "name": "ipython",
                "version": 3
            },
            "file_extension": ".py",
            "mimetype": "text/x-python",
            "name": "python",
            "nbconvert_exporter": "python",
            "pygments_lexer": "ipython3",
            "version": "3.11.9"
        }
    },
    "nbformat": 4,
    "nbformat_minor": 5
}
